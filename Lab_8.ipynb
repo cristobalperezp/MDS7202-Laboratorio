{
  "cells": [
    {
      "attachments": {},
      "cell_type": "markdown",
      "metadata": {
        "colab_type": "text",
        "id": "view-in-github"
      },
      "source": [
        "<a href=\"https://colab.research.google.com/github/cristobalperezp/MDS7202-Laboratorio/blob/main/Lab_8.ipynb\" target=\"_parent\"><img src=\"https://colab.research.google.com/assets/colab-badge.svg\" alt=\"Open In Colab\"/></a>"
      ]
    },
    {
      "attachments": {},
      "cell_type": "markdown",
      "metadata": {
        "cell_id": "e651654461c3474fb2b0d36de22a6c14",
        "deepnote_cell_height": 103.53334045410156,
        "deepnote_cell_type": "markdown",
        "id": "XUZ1dFPHzAHl"
      },
      "source": [
        "<h1><center>Laboratorio 8: Aprendizaje Supervisado 🔮</center></h1>\n",
        "\n",
        "<center><strong>MDS7202: Laboratorio de Programación Científica para Ciencia de Datos</strong></center>"
      ]
    },
    {
      "attachments": {},
      "cell_type": "markdown",
      "metadata": {
        "cell_id": "7a6943958920482eb851e608d1efb6ac",
        "deepnote_cell_type": "markdown",
        "id": "UD8X1uhGzAHq"
      },
      "source": [
        "### Cuerpo Docente:\n",
        "\n",
        "- Profesor: Pablo Badilla y Ignacio Meza\n",
        "- Auxiliar: Sebastián Tinoco\n",
        "- Ayudante: Felipe Arias y Diego Cortez"
      ]
    },
    {
      "attachments": {},
      "cell_type": "markdown",
      "metadata": {
        "cell_id": "0202c4ed94184a289e51ca5325b8afba",
        "deepnote_cell_height": 139.5,
        "deepnote_cell_type": "markdown",
        "id": "tXflExjqzAHr"
      },
      "source": [
        "### Equipo: SUPER IMPORTANTE - notebooks sin nombre no serán revisados\n",
        "\n",
        "- Nombre de alumno 1: Cristóbal Pérez\n",
        "- Nombre de alumno 2: Patricio Pérez\n"
      ]
    },
    {
      "attachments": {},
      "cell_type": "markdown",
      "metadata": {
        "cell_id": "ce180f8cd3f3485fabbe6c0959a648db",
        "deepnote_cell_height": 61.28334045410156,
        "deepnote_cell_type": "markdown",
        "id": "AD-V0bbZzAHr"
      },
      "source": [
        "### **Link de repositorio de GitHub:** `https://github.com/cristobalperezp/MDS7202-Laboratorio/tree/main`"
      ]
    },
    {
      "attachments": {},
      "cell_type": "markdown",
      "metadata": {
        "cell_id": "df3ab193db4a4f09ac25dbe605e3a83a",
        "deepnote_cell_height": 603.8499755859375,
        "deepnote_cell_type": "markdown",
        "id": "6uBLPj1PzAHs"
      },
      "source": [
        "## Temas a tratar\n",
        "\n",
        "- Aprendizaje Supervisado\n",
        "- Flujos de datos a través de `Pipelines`.\n",
        "\n",
        "## Reglas\n",
        "\n",
        "- **Grupos de 2 personas**\n",
        "- Asistencia **obligatoria** a instrucciones del lab (viernes 16.15). Luego, pueden quedarse trabajando en las salas o irse.\n",
        "- **No se revisarán entregas de personas ausentes**. \n",
        "- Cualquier duda fuera del horario de clases al foro. Mensajes al equipo docente serán respondidos por este medio.\n",
        "- Prohibidas las copias. \n",
        "- Pueden usar cualquer matrial del curso que estimen conveniente.\n",
        "\n",
        "## Objetivos principales del laboratorio\n",
        "\n",
        "- Comprender el funcionamiento de clasificadores/regresores.\n",
        "- Generar múltiples modelos predictivos.\n",
        "- Comprender las ventajas de crear modelos en pipeline vs hacer las operaciones a mano.\n",
        "\n",
        "El laboratorio deberá ser desarrollado sin el uso indiscriminado de iteradores nativos de python (aka \"for\", \"while\"). La idea es que aprendan a exprimir al máximo las funciones optimizadas que nos entrega `pandas`, las cuales vale mencionar, son bastante más eficientes que los iteradores nativos sobre `DataFrames`."
      ]
    },
    {
      "attachments": {},
      "cell_type": "markdown",
      "metadata": {
        "cell_id": "ad2df18de2544420960174a3f424bc5c",
        "deepnote_cell_height": 61.133331298828125,
        "deepnote_cell_type": "markdown",
        "id": "MhISwri4zAHy"
      },
      "source": [
        "### Importamos librerias utiles 😸"
      ]
    },
    {
      "cell_type": "code",
      "execution_count": 248,
      "metadata": {
        "ExecuteTime": {
          "end_time": "2021-03-29T00:08:16.884674Z",
          "start_time": "2021-03-29T00:08:16.349846Z"
        },
        "cell_id": "c99537db269c4b04970732c3cccac0c9",
        "colab": {
          "base_uri": "https://localhost:8080/"
        },
        "deepnote_cell_type": "code",
        "deepnote_to_be_reexecuted": false,
        "execution_millis": 7630,
        "execution_start": 1636741163382,
        "id": "uyc33dKdzAHy",
        "outputId": "b2823fe1-9eac-4f38-cbbb-eb6e9a3e4386",
        "owner_user_id": "badcc427-fd3d-4615-9296-faa43ec69cfb",
        "source_hash": "cb3614e"
      },
      "outputs": [],
      "source": [
        "# Libreria Core del lab.\n",
        "import numpy as np\n",
        "import pandas as pd\n",
        "from sklearn.pipeline import Pipeline\n",
        "from sklearn.compose import ColumnTransformer\n",
        "from sklearn.model_selection import train_test_split \n",
        "\n",
        "# Pre-procesamiento\n",
        "from sklearn.preprocessing import MinMaxScaler\n",
        "from sklearn.preprocessing import StandardScaler\n",
        "from sklearn.preprocessing import FunctionTransformer\n",
        "from sklearn.preprocessing import PowerTransformer\n",
        "from sklearn.preprocessing import OneHotEncoder\n",
        "from sklearn.tree import DecisionTreeClassifier\n",
        "\n",
        "# Metricas de evaluación\n",
        "from sklearn.metrics import classification_report\n",
        "from sklearn.metrics import accuracy_score\n",
        "from sklearn.metrics import f1_score\n",
        "from sklearn.metrics import cohen_kappa_score\n",
        "\n",
        "#Libreria para plotear\n",
        "#!pip install --upgrade plotly\n",
        "import plotly.express as px\n",
        "from plotly.subplots import make_subplots\n",
        "import plotly.graph_objects as go"
      ]
    },
    {
      "attachments": {},
      "cell_type": "markdown",
      "metadata": {
        "cell_id": "3960faa7a101458896294c72b4b0758c",
        "deepnote_cell_height": 51.53334045410156,
        "deepnote_cell_type": "markdown",
        "id": "5FTGE74b3FBU"
      },
      "source": [
        "https://www.kaggle.com/antoinekrajnc/soccer-players-statistics"
      ]
    },
    {
      "attachments": {},
      "cell_type": "markdown",
      "metadata": {
        "cell_id": "f9e9147f05744f749e29d4134157f1f3",
        "deepnote_cell_height": 305.933349609375,
        "deepnote_cell_type": "markdown",
        "id": "xpOTbQcxbSiy"
      },
      "source": [
        "# 1. Predicciones Futboleras\n",
        "\n",
        "<p align=\"center\">\n",
        "  <img src=\"https://drive.google.com/uc?export=view&id=1BnO4tyh3vM2P199Ec9s3JjngQ4qQ9seP\"\n",
        "\" width=\"300\">\n",
        "</p>\n",
        "\n",
        "\n",
        "Tras el trágico despido de la mítica mascota de Maipú, Renacín decide adentrarse como consultor en el mercado futbolero, el cuál (para variar...) está cargado en especulaciones. \n",
        "\n",
        "Como su principal tarea será asesorar a los directivos de los clubes sobre cuál jugador comprar y cuál no, Renacín desea generar modelos predictivos que evaluén distintas características de los jugadores; todo con el fin de tomar decisiones concretas basadas en los datos.\n",
        "\n",
        "Sin embargo, su condición de corporeo le impidió tomar la versión anterior de MDS7202, por lo que este motivo Renacín contrata a su equipo para lograr su objetivo final. Dado que aún tiene fuertes vínculos con la dirección de deportes de la municipalidad, el corporeo le entrega base de datos con las estadísticas de cada jugador para que su equipo empieze a trabajar ya con un dataset listo para ser usado.\n"
      ]
    },
    {
      "attachments": {},
      "cell_type": "markdown",
      "metadata": {
        "cell_id": "5b831ae5e73547a1ae5f96b453f1ab2d",
        "deepnote_cell_height": 169.13333129882812,
        "deepnote_cell_type": "markdown",
        "id": "jnmZfFpxTTYX"
      },
      "source": [
        "**Los Datos**\n",
        "\n",
        "Para este laboratorio deberán trabajar con los csv `statsplayers.csv` y `salarios.pickle`, donde deberán aplicar algoritmos de de aprendizaje supervisado (clasificación y regresión) en base a características que describen de jugadores de futbol.\n",
        "\n",
        "Para comenzar cargue el dataset señalado y a continuación vea el reporte **`Player_Stats_Report.html`** (adjunto en la carpeta del enunciado) que describe las características principales del `DataFrame`."
      ]
    },
    {
      "cell_type": "code",
      "execution_count": 249,
      "metadata": {
        "cell_id": "9b9505acaf3f4906bbfc1950b04d9dca",
        "deepnote_cell_type": "code",
        "deepnote_to_be_reexecuted": false,
        "execution_millis": 7,
        "execution_start": 1636741171022,
        "id": "Jqq-s010Iwl1",
        "source_hash": "c60dc4a7"
      },
      "outputs": [],
      "source": [
        "# Si usted está utilizando Colabolatory le puede ser útil este código para cargar los archivos.\n",
        "#try:\n",
        "#    from google.colab import drive\n",
        "#    drive.mount(\"/content/drive\")\n",
        "#    path = 'Dirección donde tiene los archivos en el Drive'\n",
        "#except: \n",
        "#    print('Ignorando conexión drive-colab')"
      ]
    },
    {
      "cell_type": "code",
      "execution_count": 250,
      "metadata": {
        "cell_id": "bbd60dabcba44542826c491f69c1f53c",
        "colab": {
          "base_uri": "https://localhost:8080/",
          "height": 661
        },
        "deepnote_cell_type": "code",
        "deepnote_to_be_reexecuted": false,
        "execution_millis": 184,
        "execution_start": 1636742947300,
        "id": "bED3w3tDbSCf",
        "outputId": "cb4961d7-92c4-474a-cf7c-276f784df320",
        "source_hash": "65944a94"
      },
      "outputs": [
        {
          "data": {
            "text/html": [
              "<div>\n",
              "<style scoped>\n",
              "    .dataframe tbody tr th:only-of-type {\n",
              "        vertical-align: middle;\n",
              "    }\n",
              "\n",
              "    .dataframe tbody tr th {\n",
              "        vertical-align: top;\n",
              "    }\n",
              "\n",
              "    .dataframe thead th {\n",
              "        text-align: right;\n",
              "    }\n",
              "</style>\n",
              "<table border=\"1\" class=\"dataframe\">\n",
              "  <thead>\n",
              "    <tr style=\"text-align: right;\">\n",
              "      <th></th>\n",
              "      <th>Name</th>\n",
              "      <th>Nationality</th>\n",
              "      <th>National_Position</th>\n",
              "      <th>Club_Position</th>\n",
              "      <th>Height</th>\n",
              "      <th>Weight</th>\n",
              "      <th>Preffered_Foot</th>\n",
              "      <th>Age</th>\n",
              "      <th>Work_Rate</th>\n",
              "      <th>Weak_foot</th>\n",
              "      <th>...</th>\n",
              "      <th>Agility</th>\n",
              "      <th>Jumping</th>\n",
              "      <th>Heading</th>\n",
              "      <th>Shot_Power</th>\n",
              "      <th>Finishing</th>\n",
              "      <th>Long_Shots</th>\n",
              "      <th>Curve</th>\n",
              "      <th>Freekick_Accuracy</th>\n",
              "      <th>Penalties</th>\n",
              "      <th>Volleys</th>\n",
              "    </tr>\n",
              "  </thead>\n",
              "  <tbody>\n",
              "    <tr>\n",
              "      <th>0</th>\n",
              "      <td>Cristiano Ronaldo</td>\n",
              "      <td>Portugal</td>\n",
              "      <td>LS</td>\n",
              "      <td>LW</td>\n",
              "      <td>185</td>\n",
              "      <td>80</td>\n",
              "      <td>Right</td>\n",
              "      <td>32</td>\n",
              "      <td>High / Low</td>\n",
              "      <td>4</td>\n",
              "      <td>...</td>\n",
              "      <td>90</td>\n",
              "      <td>95</td>\n",
              "      <td>85</td>\n",
              "      <td>92</td>\n",
              "      <td>93</td>\n",
              "      <td>90</td>\n",
              "      <td>81</td>\n",
              "      <td>76</td>\n",
              "      <td>85</td>\n",
              "      <td>88</td>\n",
              "    </tr>\n",
              "    <tr>\n",
              "      <th>1</th>\n",
              "      <td>Lionel Messi</td>\n",
              "      <td>Argentina</td>\n",
              "      <td>RW</td>\n",
              "      <td>RW</td>\n",
              "      <td>170</td>\n",
              "      <td>72</td>\n",
              "      <td>Left</td>\n",
              "      <td>29</td>\n",
              "      <td>Medium / Medium</td>\n",
              "      <td>4</td>\n",
              "      <td>...</td>\n",
              "      <td>90</td>\n",
              "      <td>68</td>\n",
              "      <td>71</td>\n",
              "      <td>85</td>\n",
              "      <td>95</td>\n",
              "      <td>88</td>\n",
              "      <td>89</td>\n",
              "      <td>90</td>\n",
              "      <td>74</td>\n",
              "      <td>85</td>\n",
              "    </tr>\n",
              "    <tr>\n",
              "      <th>2</th>\n",
              "      <td>Neymar</td>\n",
              "      <td>Brazil</td>\n",
              "      <td>LW</td>\n",
              "      <td>LW</td>\n",
              "      <td>174</td>\n",
              "      <td>68</td>\n",
              "      <td>Right</td>\n",
              "      <td>25</td>\n",
              "      <td>High / Medium</td>\n",
              "      <td>5</td>\n",
              "      <td>...</td>\n",
              "      <td>96</td>\n",
              "      <td>61</td>\n",
              "      <td>62</td>\n",
              "      <td>78</td>\n",
              "      <td>89</td>\n",
              "      <td>77</td>\n",
              "      <td>79</td>\n",
              "      <td>84</td>\n",
              "      <td>81</td>\n",
              "      <td>83</td>\n",
              "    </tr>\n",
              "    <tr>\n",
              "      <th>3</th>\n",
              "      <td>Luis Suárez</td>\n",
              "      <td>Uruguay</td>\n",
              "      <td>LS</td>\n",
              "      <td>ST</td>\n",
              "      <td>182</td>\n",
              "      <td>85</td>\n",
              "      <td>Right</td>\n",
              "      <td>30</td>\n",
              "      <td>High / Medium</td>\n",
              "      <td>4</td>\n",
              "      <td>...</td>\n",
              "      <td>86</td>\n",
              "      <td>69</td>\n",
              "      <td>77</td>\n",
              "      <td>87</td>\n",
              "      <td>94</td>\n",
              "      <td>86</td>\n",
              "      <td>86</td>\n",
              "      <td>84</td>\n",
              "      <td>85</td>\n",
              "      <td>88</td>\n",
              "    </tr>\n",
              "    <tr>\n",
              "      <th>4</th>\n",
              "      <td>Manuel Neuer</td>\n",
              "      <td>Germany</td>\n",
              "      <td>GK</td>\n",
              "      <td>GK</td>\n",
              "      <td>193</td>\n",
              "      <td>92</td>\n",
              "      <td>Right</td>\n",
              "      <td>31</td>\n",
              "      <td>Medium / Medium</td>\n",
              "      <td>4</td>\n",
              "      <td>...</td>\n",
              "      <td>52</td>\n",
              "      <td>78</td>\n",
              "      <td>25</td>\n",
              "      <td>25</td>\n",
              "      <td>13</td>\n",
              "      <td>16</td>\n",
              "      <td>14</td>\n",
              "      <td>11</td>\n",
              "      <td>47</td>\n",
              "      <td>11</td>\n",
              "    </tr>\n",
              "    <tr>\n",
              "      <th>...</th>\n",
              "      <td>...</td>\n",
              "      <td>...</td>\n",
              "      <td>...</td>\n",
              "      <td>...</td>\n",
              "      <td>...</td>\n",
              "      <td>...</td>\n",
              "      <td>...</td>\n",
              "      <td>...</td>\n",
              "      <td>...</td>\n",
              "      <td>...</td>\n",
              "      <td>...</td>\n",
              "      <td>...</td>\n",
              "      <td>...</td>\n",
              "      <td>...</td>\n",
              "      <td>...</td>\n",
              "      <td>...</td>\n",
              "      <td>...</td>\n",
              "      <td>...</td>\n",
              "      <td>...</td>\n",
              "      <td>...</td>\n",
              "      <td>...</td>\n",
              "    </tr>\n",
              "    <tr>\n",
              "      <th>17583</th>\n",
              "      <td>Adam Dunbar</td>\n",
              "      <td>Republic of Ireland</td>\n",
              "      <td>NaN</td>\n",
              "      <td>Sub</td>\n",
              "      <td>183</td>\n",
              "      <td>82</td>\n",
              "      <td>Right</td>\n",
              "      <td>19</td>\n",
              "      <td>Medium / Medium</td>\n",
              "      <td>1</td>\n",
              "      <td>...</td>\n",
              "      <td>27</td>\n",
              "      <td>56</td>\n",
              "      <td>14</td>\n",
              "      <td>16</td>\n",
              "      <td>13</td>\n",
              "      <td>13</td>\n",
              "      <td>11</td>\n",
              "      <td>13</td>\n",
              "      <td>15</td>\n",
              "      <td>12</td>\n",
              "    </tr>\n",
              "    <tr>\n",
              "      <th>17584</th>\n",
              "      <td>Dylan McGoey</td>\n",
              "      <td>Republic of Ireland</td>\n",
              "      <td>NaN</td>\n",
              "      <td>Sub</td>\n",
              "      <td>185</td>\n",
              "      <td>80</td>\n",
              "      <td>Right</td>\n",
              "      <td>19</td>\n",
              "      <td>Medium / Medium</td>\n",
              "      <td>2</td>\n",
              "      <td>...</td>\n",
              "      <td>28</td>\n",
              "      <td>53</td>\n",
              "      <td>12</td>\n",
              "      <td>17</td>\n",
              "      <td>12</td>\n",
              "      <td>11</td>\n",
              "      <td>12</td>\n",
              "      <td>13</td>\n",
              "      <td>16</td>\n",
              "      <td>12</td>\n",
              "    </tr>\n",
              "    <tr>\n",
              "      <th>17585</th>\n",
              "      <td>Tommy Ouldridge</td>\n",
              "      <td>England</td>\n",
              "      <td>NaN</td>\n",
              "      <td>Res</td>\n",
              "      <td>173</td>\n",
              "      <td>61</td>\n",
              "      <td>Right</td>\n",
              "      <td>18</td>\n",
              "      <td>High / Medium</td>\n",
              "      <td>2</td>\n",
              "      <td>...</td>\n",
              "      <td>54</td>\n",
              "      <td>61</td>\n",
              "      <td>41</td>\n",
              "      <td>44</td>\n",
              "      <td>28</td>\n",
              "      <td>42</td>\n",
              "      <td>35</td>\n",
              "      <td>36</td>\n",
              "      <td>42</td>\n",
              "      <td>37</td>\n",
              "    </tr>\n",
              "    <tr>\n",
              "      <th>17586</th>\n",
              "      <td>Mark Foden</td>\n",
              "      <td>Scotland</td>\n",
              "      <td>NaN</td>\n",
              "      <td>Sub</td>\n",
              "      <td>180</td>\n",
              "      <td>80</td>\n",
              "      <td>Right</td>\n",
              "      <td>21</td>\n",
              "      <td>Medium / Medium</td>\n",
              "      <td>3</td>\n",
              "      <td>...</td>\n",
              "      <td>34</td>\n",
              "      <td>48</td>\n",
              "      <td>15</td>\n",
              "      <td>23</td>\n",
              "      <td>14</td>\n",
              "      <td>12</td>\n",
              "      <td>13</td>\n",
              "      <td>12</td>\n",
              "      <td>24</td>\n",
              "      <td>12</td>\n",
              "    </tr>\n",
              "    <tr>\n",
              "      <th>17587</th>\n",
              "      <td>Barry Richardson</td>\n",
              "      <td>England</td>\n",
              "      <td>NaN</td>\n",
              "      <td>Sub</td>\n",
              "      <td>185</td>\n",
              "      <td>77</td>\n",
              "      <td>Right</td>\n",
              "      <td>47</td>\n",
              "      <td>Medium / Medium</td>\n",
              "      <td>2</td>\n",
              "      <td>...</td>\n",
              "      <td>38</td>\n",
              "      <td>51</td>\n",
              "      <td>12</td>\n",
              "      <td>13</td>\n",
              "      <td>11</td>\n",
              "      <td>16</td>\n",
              "      <td>12</td>\n",
              "      <td>11</td>\n",
              "      <td>22</td>\n",
              "      <td>12</td>\n",
              "    </tr>\n",
              "  </tbody>\n",
              "</table>\n",
              "<p>17588 rows × 39 columns</p>\n",
              "</div>"
            ],
            "text/plain": [
              "                    Name          Nationality National_Position Club_Position   \n",
              "0      Cristiano Ronaldo             Portugal                LS            LW  \\\n",
              "1           Lionel Messi            Argentina                RW            RW   \n",
              "2                 Neymar               Brazil                LW            LW   \n",
              "3            Luis Suárez              Uruguay                LS            ST   \n",
              "4           Manuel Neuer              Germany                GK            GK   \n",
              "...                  ...                  ...               ...           ...   \n",
              "17583        Adam Dunbar  Republic of Ireland               NaN           Sub   \n",
              "17584       Dylan McGoey  Republic of Ireland               NaN           Sub   \n",
              "17585    Tommy Ouldridge              England               NaN           Res   \n",
              "17586         Mark Foden             Scotland               NaN           Sub   \n",
              "17587   Barry Richardson              England               NaN           Sub   \n",
              "\n",
              "       Height  Weight Preffered_Foot  Age        Work_Rate  Weak_foot  ...   \n",
              "0         185      80          Right   32       High / Low          4  ...  \\\n",
              "1         170      72           Left   29  Medium / Medium          4  ...   \n",
              "2         174      68          Right   25    High / Medium          5  ...   \n",
              "3         182      85          Right   30    High / Medium          4  ...   \n",
              "4         193      92          Right   31  Medium / Medium          4  ...   \n",
              "...       ...     ...            ...  ...              ...        ...  ...   \n",
              "17583     183      82          Right   19  Medium / Medium          1  ...   \n",
              "17584     185      80          Right   19  Medium / Medium          2  ...   \n",
              "17585     173      61          Right   18    High / Medium          2  ...   \n",
              "17586     180      80          Right   21  Medium / Medium          3  ...   \n",
              "17587     185      77          Right   47  Medium / Medium          2  ...   \n",
              "\n",
              "       Agility  Jumping  Heading  Shot_Power  Finishing  Long_Shots  Curve   \n",
              "0           90       95       85          92         93          90     81  \\\n",
              "1           90       68       71          85         95          88     89   \n",
              "2           96       61       62          78         89          77     79   \n",
              "3           86       69       77          87         94          86     86   \n",
              "4           52       78       25          25         13          16     14   \n",
              "...        ...      ...      ...         ...        ...         ...    ...   \n",
              "17583       27       56       14          16         13          13     11   \n",
              "17584       28       53       12          17         12          11     12   \n",
              "17585       54       61       41          44         28          42     35   \n",
              "17586       34       48       15          23         14          12     13   \n",
              "17587       38       51       12          13         11          16     12   \n",
              "\n",
              "       Freekick_Accuracy  Penalties  Volleys  \n",
              "0                     76         85       88  \n",
              "1                     90         74       85  \n",
              "2                     84         81       83  \n",
              "3                     84         85       88  \n",
              "4                     11         47       11  \n",
              "...                  ...        ...      ...  \n",
              "17583                 13         15       12  \n",
              "17584                 13         16       12  \n",
              "17585                 36         42       37  \n",
              "17586                 12         24       12  \n",
              "17587                 11         22       12  \n",
              "\n",
              "[17588 rows x 39 columns]"
            ]
          },
          "execution_count": 250,
          "metadata": {},
          "output_type": "execute_result"
        }
      ],
      "source": [
        "df_players = pd.read_csv('https://raw.githubusercontent.com/cristobalperezp/MDS7202-Laboratorio/main/stats_players.csv')\n",
        "df_players"
      ]
    },
    {
      "cell_type": "code",
      "execution_count": 251,
      "metadata": {
        "id": "3hskTuCTtx6U"
      },
      "outputs": [],
      "source": [
        "#https://raw.githubusercontent.com/cristobalperezp/MDS7202-Laboratorio/main/salarios.csv"
      ]
    },
    {
      "attachments": {},
      "cell_type": "markdown",
      "metadata": {
        "cell_id": "9e9e7d5dbc2f420ba40afb038a3c7b37",
        "deepnote_cell_height": 169.93333435058594,
        "deepnote_cell_type": "markdown",
        "id": "2R3b7Qe501t5",
        "owner_user_id": "d50c3174-babb-4861-9c71-7e3af66458b8"
      },
      "source": [
        "## 1.1 Predicción de Seleccionados Nacionales \n",
        "\n",
        "Como primera tarea, Renacín, intrigado por la posibilidad de saber qué tan reconocido es un jugador, le consulta a su equipo si es posible predecir si un jugador será o no seleccionado nacional a partir de sus estadísticas en el juego. \n",
        "\n",
        "<p align=\"center\">\n",
        "  <img src=\"https://thumbs.gfycat.com/ThornyFrankFoxhound-size_restricted.gif\" width=\"500\">\n",
        "</p>"
      ]
    },
    {
      "attachments": {},
      "cell_type": "markdown",
      "metadata": {
        "cell_id": "4fd0ec6793474c6e8dd304827ef35c74",
        "deepnote_cell_height": 158.3333282470703,
        "deepnote_cell_type": "markdown",
        "id": "PIe_Ha58pQRC"
      },
      "source": [
        "### 1.1.1 Generación de Labels para la Clasificación [Sin Puntaje]\n",
        "\n",
        "\n",
        "Primero comience generando las labels para la clasificación. Para esto, trabaje sobre el atributo ```National_Position``` suponiendo que los valores nulos son jugadores no seleccionados para representar a su país. \n",
        "\n",
        "Hecho esto, ¿Cuantos ejemplos por cada clase se tienen? Comente lo que observa.\n",
        "\n"
      ]
    },
    {
      "attachments": {},
      "cell_type": "markdown",
      "metadata": {
        "cell_id": "4bafb6f1da424f84be4eceb20d100d91",
        "deepnote_cell_height": 51.53334045410156,
        "deepnote_cell_type": "markdown",
        "id": "Z6lRZ5vTj96a",
        "tags": []
      },
      "source": [
        "**Respuesta:**"
      ]
    },
    {
      "cell_type": "code",
      "execution_count": 252,
      "metadata": {
        "id": "Nv7XwQ6WwGDt"
      },
      "outputs": [],
      "source": [
        "df_players['Seleccionado'] = ~df_players.loc[:,'National_Position'].isna()*1"
      ]
    },
    {
      "cell_type": "code",
      "execution_count": 253,
      "metadata": {
        "colab": {
          "base_uri": "https://localhost:8080/"
        },
        "id": "4F7pWOZWwezK",
        "outputId": "e0a0b202-d3bb-4ee9-fedc-17a02e152743"
      },
      "outputs": [
        {
          "data": {
            "text/plain": [
              "Seleccionado\n",
              "0    16513\n",
              "1     1075\n",
              "Name: count, dtype: int64"
            ]
          },
          "execution_count": 253,
          "metadata": {},
          "output_type": "execute_result"
        }
      ],
      "source": [
        "df_players['Seleccionado'].value_counts()"
      ]
    },
    {
      "attachments": {},
      "cell_type": "markdown",
      "metadata": {
        "id": "kkrvhCvIxUsa"
      },
      "source": [
        "Asumiendo un equipo de 23 jugadores por equipo, entonces:"
      ]
    },
    {
      "cell_type": "code",
      "execution_count": 254,
      "metadata": {
        "colab": {
          "base_uri": "https://localhost:8080/"
        },
        "id": "oSqrUoAexTnV",
        "outputId": "6c363bad-c88d-4521-d3e1-908436a30631"
      },
      "outputs": [
        {
          "data": {
            "text/plain": [
              "46"
            ]
          },
          "execution_count": 254,
          "metadata": {},
          "output_type": "execute_result"
        }
      ],
      "source": [
        "1075//23"
      ]
    },
    {
      "attachments": {},
      "cell_type": "markdown",
      "metadata": {
        "id": "7wx_VVMhylw0"
      },
      "source": [
        "Existirían 46 selecciones nacionales en este dataset, lo que hace sentido considerando una base con 17588 jugadores, daría:"
      ]
    },
    {
      "cell_type": "code",
      "execution_count": 255,
      "metadata": {
        "colab": {
          "base_uri": "https://localhost:8080/"
        },
        "id": "g8GRjYefylO2",
        "outputId": "44983451-e958-40d8-dd9c-67c38eb17e79"
      },
      "outputs": [
        {
          "data": {
            "text/plain": [
              "381"
            ]
          },
          "execution_count": 255,
          "metadata": {},
          "output_type": "execute_result"
        }
      ],
      "source": [
        "17558//46"
      ]
    },
    {
      "attachments": {},
      "cell_type": "markdown",
      "metadata": {
        "id": "AP-h3WSgzBUv"
      },
      "source": [
        "Casi 381 jugadores seleccionables para cada combinado nacional."
      ]
    },
    {
      "attachments": {},
      "cell_type": "markdown",
      "metadata": {
        "cell_id": "882716f31dd4415983e3ed8e403ddcf0",
        "deepnote_cell_height": 678.1500244140625,
        "deepnote_cell_type": "markdown",
        "id": "0F70XPRFpWH9"
      },
      "source": [
        "### 1.1.2 Camino a la clasificación [1 punto]\n",
        "\n",
        "<p align=\"center\">\n",
        "  <img src=\"https://c.tenor.com/SoXZJHWnhKAAAAAC/pitbull-medel.gif\" width=\"500\">\n",
        "</p>\n",
        "\n",
        "Para preprocesar el dataset, genere un `ColumnTransformer` en donde especifique las transformaciones que hay que realizar para cada columna (por ejemplo StandarScaler, MinMaxScaler, OneHotEncoder, etc...) para que puedan ser utilizadas correctamente por el modelo predictivo y guardelo en algúna variable.\n",
        "\n",
        "Luego, comente y justifique las transformaciones elegidas sobre cada una de las variables (para esto utilice el material ```Player_Stats_Report.html``` que viene en el zip del lab), al igual que las transformaciones aplicadas.\n",
        "\n",
        "Hecho lo anterior, **defina al menos 3 pipelines para la clasificación**, en donde utilice el mismo ColumnTransformer definido anteriormente, pero que varie entre cada pipeline los clasificadores. \n",
        "\n",
        "Para seleccionar los clasificadores más adecuados, utilice la siguiente guía:\n",
        "\n",
        "<p align=\"center\">\n",
        "  <img src=\"https://scikit-learn.org/stable/_static/ml_map.png\" width=\"500\">\n",
        "</p>\n",
        "\n",
        "<br/>\n",
        "\n",
        "Con ella, comente y justifique cada una de las decisiones tomadas al momento de desarrollar su pipeline.\n",
        "\n",
        "**Nota:** Si tiene problemas al utilizar OneHotEncoder puede utilizar el parámetro handle_unknown='ignore'. Esto hace que en la codificación se omitan las categorias que no aparecen en el entrenamiento. Pregunta dudosa (no tiene puntaje), ¿esto tiene sentido a nivel de modelos?.\n",
        "\n",
        "**To-Do:**\n",
        "\n",
        "- [ ] Genere un ```ColumnTransformer``` enfocado en preprocesar los datos.\n",
        "- [ ] Indicar y Justificar que preprocesamiento utiliza sobre cada columna.\n",
        "- [ ] Crear 3 ``pipelines`` con diferentes clasificadores.\n",
        "- [ ] Para seleccionar los clasificadores base sus decisiones en la siguiente [guía](https://scikit-learn.org/stable/tutorial/machine_learning_map/index.html)\n",
        "- [ ] No entrenar los ``pipelines`` aún.\n",
        "\n",
        "**Nota:** No es necesario entrenar los clasificadores aún."
      ]
    },
    {
      "cell_type": "code",
      "execution_count": 256,
      "metadata": {
        "colab": {
          "base_uri": "https://localhost:8080/"
        },
        "id": "Tr_HWFiTcpB3",
        "outputId": "29b8a3de-c490-4b2e-cb7a-a6c16a7bf9d5"
      },
      "outputs": [
        {
          "data": {
            "text/plain": [
              "(17588, 40)"
            ]
          },
          "execution_count": 256,
          "metadata": {},
          "output_type": "execute_result"
        }
      ],
      "source": [
        "df_players.shape"
      ]
    },
    {
      "cell_type": "code",
      "execution_count": 257,
      "metadata": {
        "colab": {
          "base_uri": "https://localhost:8080/"
        },
        "id": "akwg9cplWa6A",
        "outputId": "a1c140ef-7cba-42d6-d4e5-debce24f53bf"
      },
      "outputs": [
        {
          "data": {
            "text/plain": [
              "Name                 object\n",
              "Nationality          object\n",
              "National_Position    object\n",
              "Club_Position        object\n",
              "Height                int64\n",
              "Weight                int64\n",
              "Preffered_Foot       object\n",
              "Age                   int64\n",
              "Work_Rate            object\n",
              "Weak_foot             int64\n",
              "Skill_Moves           int64\n",
              "Ball_Control          int64\n",
              "Dribbling             int64\n",
              "Marking               int64\n",
              "Sliding_Tackle        int64\n",
              "Standing_Tackle       int64\n",
              "Aggression            int64\n",
              "Reactions             int64\n",
              "Interceptions         int64\n",
              "Vision                int64\n",
              "Composure             int64\n",
              "Crossing              int64\n",
              "Short_Pass            int64\n",
              "Long_Pass             int64\n",
              "Acceleration          int64\n",
              "Speed                 int64\n",
              "Stamina               int64\n",
              "Strength              int64\n",
              "Balance               int64\n",
              "Agility               int64\n",
              "Jumping               int64\n",
              "Heading               int64\n",
              "Shot_Power            int64\n",
              "Finishing             int64\n",
              "Long_Shots            int64\n",
              "Curve                 int64\n",
              "Freekick_Accuracy     int64\n",
              "Penalties             int64\n",
              "Volleys               int64\n",
              "Seleccionado          int32\n",
              "dtype: object"
            ]
          },
          "execution_count": 257,
          "metadata": {},
          "output_type": "execute_result"
        }
      ],
      "source": [
        "df_players.dtypes"
      ]
    },
    {
      "cell_type": "code",
      "execution_count": 258,
      "metadata": {
        "colab": {
          "base_uri": "https://localhost:8080/"
        },
        "id": "c0yiIY8UXUkr",
        "outputId": "b7a16250-df3d-4054-f383-97e8fc039c14"
      },
      "outputs": [
        {
          "data": {
            "text/plain": [
              "Index(['Name', 'Nationality', 'National_Position', 'Club_Position', 'Height',\n",
              "       'Weight', 'Preffered_Foot', 'Age', 'Work_Rate', 'Weak_foot',\n",
              "       'Skill_Moves', 'Ball_Control', 'Dribbling', 'Marking', 'Sliding_Tackle',\n",
              "       'Standing_Tackle', 'Aggression', 'Reactions', 'Interceptions', 'Vision',\n",
              "       'Composure', 'Crossing', 'Short_Pass', 'Long_Pass', 'Acceleration',\n",
              "       'Speed', 'Stamina', 'Strength', 'Balance', 'Agility', 'Jumping',\n",
              "       'Heading', 'Shot_Power', 'Finishing', 'Long_Shots', 'Curve',\n",
              "       'Freekick_Accuracy', 'Penalties', 'Volleys', 'Seleccionado'],\n",
              "      dtype='object')"
            ]
          },
          "execution_count": 258,
          "metadata": {},
          "output_type": "execute_result"
        }
      ],
      "source": [
        "df_players.columns"
      ]
    },
    {
      "cell_type": "code",
      "execution_count": 259,
      "metadata": {
        "colab": {
          "base_uri": "https://localhost:8080/"
        },
        "id": "9SsqZYaxYYLj",
        "outputId": "2df6b297-cd08-40ae-9503-94d5160a5d90"
      },
      "outputs": [
        {
          "data": {
            "text/plain": [
              "Name\n",
              "Felipe              6\n",
              "Danilo              5\n",
              "Gabriel             5\n",
              "Carlos Rodríguez    4\n",
              "Roberto             4\n",
              "                   ..\n",
              "Adam Frączczak      1\n",
              "Renaud Ripart       1\n",
              "Mateusz Matras      1\n",
              "Mustafa Saymak      1\n",
              "Barry Richardson    1\n",
              "Name: count, Length: 17341, dtype: int64"
            ]
          },
          "execution_count": 259,
          "metadata": {},
          "output_type": "execute_result"
        }
      ],
      "source": [
        "df_players['Name'].value_counts()"
      ]
    },
    {
      "cell_type": "code",
      "execution_count": 260,
      "metadata": {
        "colab": {
          "base_uri": "https://localhost:8080/"
        },
        "id": "PoTdtAZBYeY6",
        "outputId": "6dcdd14d-c4e9-4df3-f262-7c7d72333a25"
      },
      "outputs": [
        {
          "data": {
            "text/plain": [
              "Nationality\n",
              "England       1618\n",
              "Argentina     1097\n",
              "Spain         1008\n",
              "France         974\n",
              "Brazil         921\n",
              "              ... \n",
              "Mauritius        1\n",
              "Eritrea          1\n",
              "Oman             1\n",
              "Guam             1\n",
              "San Marino       1\n",
              "Name: count, Length: 160, dtype: int64"
            ]
          },
          "execution_count": 260,
          "metadata": {},
          "output_type": "execute_result"
        }
      ],
      "source": [
        "df_players['Nationality'].value_counts()"
      ]
    },
    {
      "cell_type": "code",
      "execution_count": 261,
      "metadata": {
        "colab": {
          "base_uri": "https://localhost:8080/"
        },
        "id": "qkKH7wCfYhjB",
        "outputId": "637ca641-644a-455b-df94-c82b396780a3"
      },
      "outputs": [
        {
          "data": {
            "text/plain": [
              "16513"
            ]
          },
          "execution_count": 261,
          "metadata": {},
          "output_type": "execute_result"
        }
      ],
      "source": [
        "df_players['National_Position'].isna().sum()"
      ]
    },
    {
      "cell_type": "code",
      "execution_count": 262,
      "metadata": {
        "colab": {
          "base_uri": "https://localhost:8080/"
        },
        "id": "rLNPWw7uYnzR",
        "outputId": "d4f6ec45-72a9-4025-eb97-28aace53dbc1"
      },
      "outputs": [
        {
          "data": {
            "text/plain": [
              "Name                     0\n",
              "Nationality              0\n",
              "National_Position    16513\n",
              "Club_Position            1\n",
              "Height                   0\n",
              "Weight                   0\n",
              "Preffered_Foot           0\n",
              "Age                      0\n",
              "Work_Rate                0\n",
              "Weak_foot                0\n",
              "Skill_Moves              0\n",
              "Ball_Control             0\n",
              "Dribbling                0\n",
              "Marking                  0\n",
              "Sliding_Tackle           0\n",
              "Standing_Tackle          0\n",
              "Aggression               0\n",
              "Reactions                0\n",
              "Interceptions            0\n",
              "Vision                   0\n",
              "Composure                0\n",
              "Crossing                 0\n",
              "Short_Pass               0\n",
              "Long_Pass                0\n",
              "Acceleration             0\n",
              "Speed                    0\n",
              "Stamina                  0\n",
              "Strength                 0\n",
              "Balance                  0\n",
              "Agility                  0\n",
              "Jumping                  0\n",
              "Heading                  0\n",
              "Shot_Power               0\n",
              "Finishing                0\n",
              "Long_Shots               0\n",
              "Curve                    0\n",
              "Freekick_Accuracy        0\n",
              "Penalties                0\n",
              "Volleys                  0\n",
              "Seleccionado             0\n",
              "dtype: int64"
            ]
          },
          "execution_count": 262,
          "metadata": {},
          "output_type": "execute_result"
        }
      ],
      "source": [
        "df_players.isna().sum()"
      ]
    },
    {
      "cell_type": "code",
      "execution_count": 263,
      "metadata": {
        "id": "6qY3LkeGXYbh"
      },
      "outputs": [],
      "source": [
        "numeric = ['Age','Weight','Height','Ball_Control', 'Dribbling', 'Marking', 'Sliding_Tackle',\n",
        "       'Standing_Tackle', 'Aggression', 'Reactions', 'Interceptions', 'Vision',\n",
        "       'Composure', 'Crossing', 'Short_Pass', 'Long_Pass', 'Acceleration',\n",
        "       'Speed', 'Stamina', 'Strength', 'Balance', 'Agility', 'Jumping',\n",
        "       'Heading', 'Shot_Power', 'Finishing', 'Long_Shots', 'Curve',\n",
        "       'Freekick_Accuracy', 'Penalties', 'Volleys']"
      ]
    },
    {
      "cell_type": "code",
      "execution_count": 264,
      "metadata": {
        "id": "sQ00GjSpXZPF"
      },
      "outputs": [],
      "source": [
        "categoric = ['Preffered_Foot','Work_Rate','Skill_Moves']"
      ]
    },
    {
      "cell_type": "code",
      "execution_count": 265,
      "metadata": {
        "id": "Cvz0JprWXcgd"
      },
      "outputs": [],
      "source": [
        "ordinal = ['Weak_foot']"
      ]
    },
    {
      "cell_type": "code",
      "execution_count": 266,
      "metadata": {
        "id": "T5B0M53RYN4I"
      },
      "outputs": [],
      "source": [
        "not_used = ['Name','Club_Position','Nationality','National_Position','Seleccionado']"
      ]
    },
    {
      "cell_type": "code",
      "execution_count": 267,
      "metadata": {
        "id": "UawJTgfGaZb2"
      },
      "outputs": [],
      "source": [
        "from sklearn.preprocessing import OrdinalEncoder"
      ]
    },
    {
      "attachments": {},
      "cell_type": "markdown",
      "metadata": {
        "cell_id": "494effcc7471436084ebd22e15296fb9",
        "deepnote_cell_height": 51.53334045410156,
        "deepnote_cell_type": "markdown",
        "id": "ZFiOfY3zj96a",
        "tags": []
      },
      "source": [
        "**Respuesta:**"
      ]
    },
    {
      "cell_type": "code",
      "execution_count": 268,
      "metadata": {
        "cell_id": "9613cb3a57754abc878dab6589262090",
        "deepnote_cell_height": 65.13333129882812,
        "deepnote_cell_type": "code",
        "id": "9jEXJkSmj96a",
        "tags": []
      },
      "outputs": [],
      "source": [
        "ct = ColumnTransformer(\n",
        "    [\n",
        "        ('One Hot',OneHotEncoder(sparse=False, handle_unknown=\"ignore\",drop='if_binary'),categoric),\n",
        "        ('Ordinal',OrdinalEncoder(),ordinal),\n",
        "        ('Scaler',MinMaxScaler(),numeric)\n",
        "    ],\n",
        "    remainder='passthrough'\n",
        ")"
      ]
    },
    {
      "attachments": {},
      "cell_type": "markdown",
      "metadata": {},
      "source": [
        "Se elige un One-Hot Encoder para las variables categóricas 'Preffered_Foot','Work_Rate','Skill_Moves' por presentar comportamiento de categorías, sin orden alguno.\n",
        "\n",
        "Se elige un Ordinal Encoder para 'Week_foot' ya que esta induce un orden de mejor uso de la pierna débil.\n",
        "\n",
        "Por último, dada las distribuciones de las variables numéricas, que se asemejan a normales, es que se selecciona un Standard Scaler, para estandarizar estas normales a media 0 y varianza 1."
      ]
    },
    {
      "cell_type": "code",
      "execution_count": 269,
      "metadata": {
        "id": "OIfH89igb43A"
      },
      "outputs": [],
      "source": [
        "from sklearn.ensemble import RandomForestClassifier\n",
        "from sklearn.neighbors import KNeighborsClassifier\n",
        "from sklearn.svm import SVC"
      ]
    },
    {
      "attachments": {},
      "cell_type": "markdown",
      "metadata": {},
      "source": [
        "Siguiendo el gráfico aportado para seleccionar modelos, se tienen menos de 100k ejemplos, por lo que se elige un linear SVC, además, como no son textos los datos, KNN, y por último, se selecciona un ensamble de árboles, seleccionando Random Forest."
      ]
    },
    {
      "cell_type": "code",
      "execution_count": 270,
      "metadata": {
        "id": "QD9HzXC8bWco"
      },
      "outputs": [],
      "source": [
        "clf_linear_svc = Pipeline(steps=[\n",
        "                      (\"preprocessing\", ct),\n",
        "                      (\"model\",SVC(kernel='linear',random_state=42) )\n",
        "])"
      ]
    },
    {
      "cell_type": "code",
      "execution_count": 271,
      "metadata": {
        "id": "TitZ9YAubV4t"
      },
      "outputs": [],
      "source": [
        "clf_knn = Pipeline(steps=[\n",
        "                      (\"preprocessing\", ct),\n",
        "                      (\"model\",KNeighborsClassifier() )\n",
        "])"
      ]
    },
    {
      "cell_type": "code",
      "execution_count": 272,
      "metadata": {
        "id": "_qBwI6yMbAu0"
      },
      "outputs": [],
      "source": [
        "clf_rf = Pipeline(steps=[\n",
        "                      (\"preprocessing\", ct),\n",
        "                      (\"model\",RandomForestClassifier(random_state=42) )\n",
        "])"
      ]
    },
    {
      "attachments": {},
      "cell_type": "markdown",
      "metadata": {
        "cell_id": "b7fa6937d9a043fd93b7966fb0e81861",
        "deepnote_cell_height": 101.13333129882812,
        "deepnote_cell_type": "markdown",
        "id": "MpKq6oO3vCNL"
      },
      "source": [
        "### 1.1.3 Entrenemos los pipelines [1 punto]\n",
        "\n",
        "<p align=\"center\">\n",
        "  <img src=\"https://i.gifer.com/7Cc8.gif\" width=\"350\">\n",
        "</p>\n"
      ]
    },
    {
      "attachments": {},
      "cell_type": "markdown",
      "metadata": {
        "cell_id": "5ead21d7e26d4e3da1486c9937f22968",
        "deepnote_cell_height": 454.433349609375,
        "deepnote_cell_type": "markdown",
        "id": "wE_1aZaIvOeN"
      },
      "source": [
        "Ahora, entrene los `pipeline` generados en los pasos anteriores. Para esto, primero separe los datos de entrenamiento en un conjunto de entrenamiento y de prueba  (la proporción queda a su juicio).\n",
        "\n",
        "En este paso, seleccione los ejemplos de forma aleatoria e intente mantener la distribución original de labels de cada clase en los conjuntos de prueba/entrenamiento. (vea la documentación de `train_test_split`).\n",
        "\n",
        "\n",
        "Luego, entrene los pipelines\n",
        "\n",
        "Una vez entrenado su modelo, evalue su rendimiento a través de diferentes métricas, comentando que significa cada uno de los valores obtenidos. Puede usar la función `classification_report` para corroborar sus resultados.\n",
        "\n",
        "- ¿Qué implican los valores de accuracy, precisión y recall de la clase positiva (la que indica que un jugador es seleccionado nacional)?\n",
        "- ¿Podrían mejorarse los resultados?, ¿Cómo?\n",
        "- ¿Influye la cantidad de ejemplos por clase?\n",
        "\n",
        "**To-Do**:\n",
        "\n",
        "- [x] Separar el conjunto de datos en entrenamiento y de prueba.\n",
        "- [x] Entrenar los `pipelines`.\n",
        "- [x] Utilizar las métricas para evaluar los modelos generados.\n"
      ]
    },
    {
      "attachments": {},
      "cell_type": "markdown",
      "metadata": {
        "cell_id": "053a95315e3245b39ba9d263d932e7d4",
        "deepnote_cell_height": 51.53334045410156,
        "deepnote_cell_type": "markdown",
        "id": "WHF1uCJ_j96b",
        "tags": []
      },
      "source": [
        "**Respuesta:**"
      ]
    },
    {
      "cell_type": "code",
      "execution_count": 273,
      "metadata": {
        "id": "xtDMT55Ve6PC"
      },
      "outputs": [],
      "source": [
        "df_players=df_players.dropna(subset='Club_Position')"
      ]
    },
    {
      "cell_type": "code",
      "execution_count": 274,
      "metadata": {
        "colab": {
          "base_uri": "https://localhost:8080/"
        },
        "id": "qTj-ErIMfDKa",
        "outputId": "255a30e6-2bf9-445a-bfe6-d436c705d8d7"
      },
      "outputs": [
        {
          "data": {
            "text/plain": [
              "Name                     0\n",
              "Nationality              0\n",
              "National_Position    16512\n",
              "Club_Position            0\n",
              "Height                   0\n",
              "Weight                   0\n",
              "Preffered_Foot           0\n",
              "Age                      0\n",
              "Work_Rate                0\n",
              "Weak_foot                0\n",
              "Skill_Moves              0\n",
              "Ball_Control             0\n",
              "Dribbling                0\n",
              "Marking                  0\n",
              "Sliding_Tackle           0\n",
              "Standing_Tackle          0\n",
              "Aggression               0\n",
              "Reactions                0\n",
              "Interceptions            0\n",
              "Vision                   0\n",
              "Composure                0\n",
              "Crossing                 0\n",
              "Short_Pass               0\n",
              "Long_Pass                0\n",
              "Acceleration             0\n",
              "Speed                    0\n",
              "Stamina                  0\n",
              "Strength                 0\n",
              "Balance                  0\n",
              "Agility                  0\n",
              "Jumping                  0\n",
              "Heading                  0\n",
              "Shot_Power               0\n",
              "Finishing                0\n",
              "Long_Shots               0\n",
              "Curve                    0\n",
              "Freekick_Accuracy        0\n",
              "Penalties                0\n",
              "Volleys                  0\n",
              "Seleccionado             0\n",
              "dtype: int64"
            ]
          },
          "execution_count": 274,
          "metadata": {},
          "output_type": "execute_result"
        }
      ],
      "source": [
        "df_players.isna().sum()"
      ]
    },
    {
      "cell_type": "code",
      "execution_count": 275,
      "metadata": {
        "id": "gyRUMhK9eM6m"
      },
      "outputs": [],
      "source": [
        "from sklearn.model_selection import train_test_split\n",
        "\n",
        "labels = df_players.loc[:, \"Seleccionado\"]\n",
        "features = df_players.drop(columns=not_used)\n",
        "\n",
        "X_train, X_test, y_train, y_test = train_test_split(features,labels,test_size=0.2,random_state=42,stratify=labels)"
      ]
    },
    {
      "cell_type": "code",
      "execution_count": 276,
      "metadata": {
        "id": "LrltDBjbfzPz"
      },
      "outputs": [],
      "source": [
        "from sklearn.metrics import confusion_matrix"
      ]
    },
    {
      "cell_type": "code",
      "execution_count": 277,
      "metadata": {
        "colab": {
          "base_uri": "https://localhost:8080/"
        },
        "id": "zYnpTyFffTzx",
        "outputId": "3582accb-f0b3-4636-ed30-7befd6d9eaa1"
      },
      "outputs": [
        {
          "name": "stderr",
          "output_type": "stream",
          "text": [
            "C:\\Users\\patri\\AppData\\Local\\Packages\\PythonSoftwareFoundation.Python.3.11_qbz5n2kfra8p0\\LocalCache\\local-packages\\Python311\\site-packages\\sklearn\\preprocessing\\_encoders.py:868: FutureWarning: `sparse` was renamed to `sparse_output` in version 1.2 and will be removed in 1.4. `sparse_output` is ignored unless you leave `sparse` to its default value.\n",
            "  warnings.warn(\n"
          ]
        },
        {
          "name": "stdout",
          "output_type": "stream",
          "text": [
            "Matriz de confusión\n",
            " [[13209   860]\n",
            " [    0     0]]\n",
            "              precision    recall  f1-score   support\n",
            "\n",
            "           0       1.00      0.94      0.97     14069\n",
            "           1       0.00      0.00      0.00         0\n",
            "\n",
            "    accuracy                           0.94     14069\n",
            "   macro avg       0.50      0.47      0.48     14069\n",
            "weighted avg       1.00      0.94      0.97     14069\n",
            "\n",
            "\n",
            "F1-Score 0.0\n"
          ]
        },
        {
          "name": "stderr",
          "output_type": "stream",
          "text": [
            "C:\\Users\\patri\\AppData\\Local\\Packages\\PythonSoftwareFoundation.Python.3.11_qbz5n2kfra8p0\\LocalCache\\local-packages\\Python311\\site-packages\\sklearn\\metrics\\_classification.py:1344: UndefinedMetricWarning: Recall and F-score are ill-defined and being set to 0.0 in labels with no true samples. Use `zero_division` parameter to control this behavior.\n",
            "  _warn_prf(average, modifier, msg_start, len(result))\n",
            "C:\\Users\\patri\\AppData\\Local\\Packages\\PythonSoftwareFoundation.Python.3.11_qbz5n2kfra8p0\\LocalCache\\local-packages\\Python311\\site-packages\\sklearn\\metrics\\_classification.py:1344: UndefinedMetricWarning: Recall and F-score are ill-defined and being set to 0.0 in labels with no true samples. Use `zero_division` parameter to control this behavior.\n",
            "  _warn_prf(average, modifier, msg_start, len(result))\n",
            "C:\\Users\\patri\\AppData\\Local\\Packages\\PythonSoftwareFoundation.Python.3.11_qbz5n2kfra8p0\\LocalCache\\local-packages\\Python311\\site-packages\\sklearn\\metrics\\_classification.py:1344: UndefinedMetricWarning: Recall and F-score are ill-defined and being set to 0.0 in labels with no true samples. Use `zero_division` parameter to control this behavior.\n",
            "  _warn_prf(average, modifier, msg_start, len(result))\n"
          ]
        }
      ],
      "source": [
        "# Fit\n",
        "clf_linear_svc.fit(X_train,y_train)\n",
        "\n",
        "# Predict\n",
        "y_pred = clf_linear_svc.predict(X_train)\n",
        "\n",
        "# Resultados\n",
        "print(\"Matriz de confusión\\n\", confusion_matrix(y_pred, y_train))\n",
        "print(classification_report(y_pred, y_train))\n",
        "print(\"\\nF1-Score\", f1_score(y_pred, y_train).round(2))"
      ]
    },
    {
      "cell_type": "code",
      "execution_count": 278,
      "metadata": {
        "colab": {
          "base_uri": "https://localhost:8080/"
        },
        "id": "yhSafe5Zfrgt",
        "outputId": "8bba28d1-bbfc-46bb-c4f2-b1152fd06787"
      },
      "outputs": [
        {
          "name": "stdout",
          "output_type": "stream",
          "text": [
            "Matriz de confusión\n",
            " [[3303  215]\n",
            " [   0    0]]\n",
            "              precision    recall  f1-score   support\n",
            "\n",
            "           0       1.00      0.94      0.97      3518\n",
            "           1       0.00      0.00      0.00         0\n",
            "\n",
            "    accuracy                           0.94      3518\n",
            "   macro avg       0.50      0.47      0.48      3518\n",
            "weighted avg       1.00      0.94      0.97      3518\n",
            "\n",
            "\n",
            "F1-Score 0.0\n"
          ]
        },
        {
          "name": "stderr",
          "output_type": "stream",
          "text": [
            "C:\\Users\\patri\\AppData\\Local\\Packages\\PythonSoftwareFoundation.Python.3.11_qbz5n2kfra8p0\\LocalCache\\local-packages\\Python311\\site-packages\\sklearn\\metrics\\_classification.py:1344: UndefinedMetricWarning: Recall and F-score are ill-defined and being set to 0.0 in labels with no true samples. Use `zero_division` parameter to control this behavior.\n",
            "  _warn_prf(average, modifier, msg_start, len(result))\n",
            "C:\\Users\\patri\\AppData\\Local\\Packages\\PythonSoftwareFoundation.Python.3.11_qbz5n2kfra8p0\\LocalCache\\local-packages\\Python311\\site-packages\\sklearn\\metrics\\_classification.py:1344: UndefinedMetricWarning: Recall and F-score are ill-defined and being set to 0.0 in labels with no true samples. Use `zero_division` parameter to control this behavior.\n",
            "  _warn_prf(average, modifier, msg_start, len(result))\n",
            "C:\\Users\\patri\\AppData\\Local\\Packages\\PythonSoftwareFoundation.Python.3.11_qbz5n2kfra8p0\\LocalCache\\local-packages\\Python311\\site-packages\\sklearn\\metrics\\_classification.py:1344: UndefinedMetricWarning: Recall and F-score are ill-defined and being set to 0.0 in labels with no true samples. Use `zero_division` parameter to control this behavior.\n",
            "  _warn_prf(average, modifier, msg_start, len(result))\n"
          ]
        }
      ],
      "source": [
        "# Predict\n",
        "y_pred = clf_linear_svc.predict(X_test)\n",
        "\n",
        "# Resultados\n",
        "print(\"Matriz de confusión\\n\", confusion_matrix(y_pred, y_test))\n",
        "print(classification_report(y_pred, y_test))\n",
        "print(\"\\nF1-Score\", f1_score(y_pred, y_test).round(2))"
      ]
    },
    {
      "cell_type": "code",
      "execution_count": null,
      "metadata": {
        "id": "dAmTcsGwf5eu"
      },
      "outputs": [],
      "source": []
    },
    {
      "cell_type": "code",
      "execution_count": 279,
      "metadata": {
        "colab": {
          "base_uri": "https://localhost:8080/"
        },
        "id": "a8HSARpIfTth",
        "outputId": "92f66858-d165-449d-e973-1e07d2a9a85c"
      },
      "outputs": [
        {
          "name": "stderr",
          "output_type": "stream",
          "text": [
            "C:\\Users\\patri\\AppData\\Local\\Packages\\PythonSoftwareFoundation.Python.3.11_qbz5n2kfra8p0\\LocalCache\\local-packages\\Python311\\site-packages\\sklearn\\preprocessing\\_encoders.py:868: FutureWarning: `sparse` was renamed to `sparse_output` in version 1.2 and will be removed in 1.4. `sparse_output` is ignored unless you leave `sparse` to its default value.\n",
            "  warnings.warn(\n"
          ]
        },
        {
          "name": "stdout",
          "output_type": "stream",
          "text": [
            "Matriz de confusión\n",
            " [[13167   738]\n",
            " [   42   122]]\n",
            "              precision    recall  f1-score   support\n",
            "\n",
            "           0       1.00      0.95      0.97     13905\n",
            "           1       0.14      0.74      0.24       164\n",
            "\n",
            "    accuracy                           0.94     14069\n",
            "   macro avg       0.57      0.85      0.60     14069\n",
            "weighted avg       0.99      0.94      0.96     14069\n",
            "\n",
            "\n",
            "F1-Score 0.24\n"
          ]
        }
      ],
      "source": [
        "# Fit\n",
        "clf_knn.fit(X_train,y_train)\n",
        "\n",
        "# Predict\n",
        "y_pred = clf_knn.predict(X_train)\n",
        "\n",
        "# Resultados\n",
        "print(\"Matriz de confusión\\n\", confusion_matrix(y_pred, y_train))\n",
        "print(classification_report(y_pred, y_train))\n",
        "print(\"\\nF1-Score\", f1_score(y_pred, y_train).round(2))"
      ]
    },
    {
      "cell_type": "code",
      "execution_count": 280,
      "metadata": {
        "colab": {
          "base_uri": "https://localhost:8080/"
        },
        "id": "MeeOAmdAfr9Q",
        "outputId": "c881bf93-da9b-4dbe-b834-742d3c2c6bd1"
      },
      "outputs": [
        {
          "name": "stdout",
          "output_type": "stream",
          "text": [
            "Matriz de confusión\n",
            " [[3279  202]\n",
            " [  24   13]]\n",
            "              precision    recall  f1-score   support\n",
            "\n",
            "           0       0.99      0.94      0.97      3481\n",
            "           1       0.06      0.35      0.10        37\n",
            "\n",
            "    accuracy                           0.94      3518\n",
            "   macro avg       0.53      0.65      0.53      3518\n",
            "weighted avg       0.98      0.94      0.96      3518\n",
            "\n",
            "\n",
            "F1-Score 0.1\n"
          ]
        }
      ],
      "source": [
        "# Predict\n",
        "y_pred = clf_knn.predict(X_test)\n",
        "\n",
        "# Resultados\n",
        "print(\"Matriz de confusión\\n\", confusion_matrix(y_pred, y_test))\n",
        "print(classification_report(y_pred, y_test))\n",
        "print(\"\\nF1-Score\", f1_score(y_pred, y_test).round(2))"
      ]
    },
    {
      "cell_type": "code",
      "execution_count": 281,
      "metadata": {
        "colab": {
          "base_uri": "https://localhost:8080/"
        },
        "id": "LhUNdC6-fTom",
        "outputId": "1a59fc5d-470d-4dd5-b320-a86e50bb5523"
      },
      "outputs": [
        {
          "name": "stderr",
          "output_type": "stream",
          "text": [
            "C:\\Users\\patri\\AppData\\Local\\Packages\\PythonSoftwareFoundation.Python.3.11_qbz5n2kfra8p0\\LocalCache\\local-packages\\Python311\\site-packages\\sklearn\\preprocessing\\_encoders.py:868: FutureWarning: `sparse` was renamed to `sparse_output` in version 1.2 and will be removed in 1.4. `sparse_output` is ignored unless you leave `sparse` to its default value.\n",
            "  warnings.warn(\n"
          ]
        },
        {
          "name": "stdout",
          "output_type": "stream",
          "text": [
            "Matriz de confusión\n",
            " [[13209     2]\n",
            " [    0   858]]\n",
            "              precision    recall  f1-score   support\n",
            "\n",
            "           0       1.00      1.00      1.00     13211\n",
            "           1       1.00      1.00      1.00       858\n",
            "\n",
            "    accuracy                           1.00     14069\n",
            "   macro avg       1.00      1.00      1.00     14069\n",
            "weighted avg       1.00      1.00      1.00     14069\n",
            "\n",
            "\n",
            "F1-Score 1.0\n"
          ]
        }
      ],
      "source": [
        "# Fit\n",
        "clf_rf.fit(X_train,y_train)\n",
        "\n",
        "# Predict\n",
        "y_pred = clf_rf.predict(X_train)\n",
        "\n",
        "# Resultados\n",
        "print(\"Matriz de confusión\\n\", confusion_matrix(y_pred, y_train))\n",
        "print(classification_report(y_pred, y_train))\n",
        "print(\"\\nF1-Score\", f1_score(y_pred, y_train).round(2))"
      ]
    },
    {
      "cell_type": "code",
      "execution_count": 282,
      "metadata": {
        "colab": {
          "base_uri": "https://localhost:8080/"
        },
        "id": "u1TvVfRNfsZf",
        "outputId": "adcedf84-d53b-4691-b716-1510fd87425e"
      },
      "outputs": [
        {
          "name": "stdout",
          "output_type": "stream",
          "text": [
            "Matriz de confusión\n",
            " [[3292  195]\n",
            " [  11   20]]\n",
            "              precision    recall  f1-score   support\n",
            "\n",
            "           0       1.00      0.94      0.97      3487\n",
            "           1       0.09      0.65      0.16        31\n",
            "\n",
            "    accuracy                           0.94      3518\n",
            "   macro avg       0.54      0.79      0.57      3518\n",
            "weighted avg       0.99      0.94      0.96      3518\n",
            "\n",
            "\n",
            "F1-Score 0.16\n"
          ]
        }
      ],
      "source": [
        "# Predict\n",
        "y_pred = clf_rf.predict(X_test)\n",
        "\n",
        "# Resultados\n",
        "print(\"Matriz de confusión\\n\", confusion_matrix(y_pred, y_test))\n",
        "print(classification_report(y_pred, y_test))\n",
        "print(\"\\nF1-Score\", f1_score(y_pred, y_test).round(2))"
      ]
    },
    {
      "attachments": {},
      "cell_type": "markdown",
      "metadata": {
        "cell_id": "2e9c35fbe33d4a38bfdf6af6de3022f3",
        "deepnote_cell_height": 106.33332824707031,
        "deepnote_cell_type": "markdown",
        "id": "QgSeo0aIx9ow"
      },
      "source": [
        "**Respuesta**:\n",
        "\n",
        "```\n",
        "Comente de resultados observados y si es posible mejorar los resultados.\n",
        "```"
      ]
    },
    {
      "attachments": {},
      "cell_type": "markdown",
      "metadata": {},
      "source": [
        "Los valores de accuracy significan cuántos ejemplos están siendo bien clasificados, es decir, ejemplos de la calse 0 y 1 bien clasificados sobre el total de ejemplos.\n",
        "$$Accuracy = \\frac{TP+TN}{TP+FN+TN+FP}$$\n",
        "Precision mide la exactitud de las predicciones positivas del modelo.\n",
        "$$Precision = \\frac{TP}{TP+FP}$$\n",
        "\n",
        "Recall mide la capacidad del modelo para encontrar todos los ejemplos positivos (si un jugador es seleccionado nacional).\n",
        "$$Recall = \\frac{TP}{TP+FN}$$\n",
        "\n",
        "F1 score por su lado, es una ponderación entre precision y recall, y comparando modelos bajo esta métrica para la clase positiva, el modelo con mejor rendimiento es Random Forest, con un F1 score de 0.17 en test, notando además, que es el que identifica vmás ejemplos de esta clase, viendo la matriz de confusión (20 jugadores seleccionados).\n",
        "$$F1-score = \\frac{2*precision*recall}{precision+recall}$$\n",
        "\n",
        "Estos resultados son mejorables aún, considerando que los modelos han sido entrenados con parámetros por defecto, sin validación cruzada, sin una métrica de evaluación a optimizar y con un dataset de entrenamiento desbalanceado, lo que afecta a que el modelo se enfoque en clasificar correctamente más los ejemplos de la clase 0, es decir, quienes no son seleccionados.\n",
        "\n",
        "![image.png](data:image/png;base64,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)"
      ]
    },
    {
      "attachments": {},
      "cell_type": "markdown",
      "metadata": {
        "cell_id": "5aa0cc14dba04749ad3bc07a92d351d2",
        "deepnote_cell_type": "markdown",
        "id": "ix97Ho4uOARH"
      },
      "source": [
        "## 1.2 Predicción de posiciones de jugadores [2 puntos]\n",
        "\n",
        "<p align=\"center\">\n",
        "  <img src=\"https://pbs.twimg.com/media/E1rfA1aWEAYU6Ny.jpg\" width=\"500\">\n",
        "</p>"
      ]
    },
    {
      "attachments": {},
      "cell_type": "markdown",
      "metadata": {
        "cell_id": "6cd2eee12b6147bc8eba66af43a1f1f7",
        "deepnote_cell_type": "markdown",
        "id": "oHAwZfV8hMsk"
      },
      "source": [
        "En una nueva jornada de desmesuradas transacciones deportivas, Renacín escuchó a sus colegas discutir acerca de que el precio de cada jugador depende en gran medida de la posición en la cancha en la que juega. Y además, que hay bastantes jugadores nuevos que no tienen muy claro en que posición verdaderamente brillarían, por lo que actualmente puede que actualmente estén jugando en posiciones sub-optimas. \n",
        "\n",
        "Viendo que los resultados del primer análisis no son tan esperanzadores, el corporeo los comanda a cambiar su tarea: ahora, les solicita que construyan un clasificador enfocado en predecir la mejor posición de los jugadores en la cancha según sus características. \n",
        "\n",
        "Para lograr esto, primero, les pide que etiqueten de la siguiente manera los valores que aparecen en el atributo ```Club_Position```, pidiendo que agrupen los valores en los siguientes grupos:\n",
        "\n",
        "**Nota**:  Renacín les recalca que **no deben utilizar los valores ```Sub``` y ```Res``` de esta columna**.\n",
        "\n",
        "```python\n",
        "ataque = ['ST', 'CF'] \n",
        "central_ataque = ['RW', 'CAM', 'LW'] \n",
        "central = ['RM', 'CM', 'LM'] \n",
        "central_defensa = ['RWB', 'CDM', 'LWB']\n",
        "defensa = ['RB', 'CB', 'LB']\n",
        "arquero = ['GK']\n",
        "```\n",
        "\n",
        "Cabe señalar que al igual como lo realizado con la clasificación binaria, deberá justificar en base a la [guía](https://scikit-learn.org/stable/tutorial/machine_learning_map/index.html) la elección del clasificador y se deben comentar los resultados obtenidos en la clasificación.\n",
        "\n",
        "**Nota:** Clasifique solamente con las clases señaladas, si observa mas clases eliminelas de la clasficación.\n",
        "\n",
        "**To-Do**:\n",
        "\n",
        "- [ ] Aplique las etiquetas descritas anteriormente en cada uno de los valores señalados en esta sección.\n",
        "- [ ] Cuente cuantos por clase quedan.\n",
        "- [ ] Entrene el nuevo pipeline y ejecute una evaluación de este.  \n",
        "- [ ] Comente los resultados obtenidos."
      ]
    },
    {
      "attachments": {},
      "cell_type": "markdown",
      "metadata": {
        "cell_id": "71cd4b2ee5a74b96aa2dd4e1da166655",
        "deepnote_cell_type": "markdown",
        "id": "Ps5tFwJtj96b",
        "tags": []
      },
      "source": [
        "**Respuesta:**"
      ]
    },
    {
      "cell_type": "code",
      "execution_count": 283,
      "metadata": {
        "id": "piLB6J5Fifj5"
      },
      "outputs": [],
      "source": [
        "position_encoder = {  'ST':'ataque',\n",
        "           'CF':'ataque',\n",
        "\n",
        "           'LF':'ataque',\n",
        "           'RF':'ataque',\n",
        "           'LS':'ataque',\n",
        "           'RS':'ataque',\n",
        "\n",
        "           'RW':'central_ataque',\n",
        "           'CAM':'central_ataque',\n",
        "           'LW':'central_ataque',\n",
        "\n",
        "           'RAM':'central_ataque',\n",
        "           'LAM':'central_ataque',\n",
        "\n",
        "           'RM':'central',\n",
        "           'CM':'central',\n",
        "           'LM':'central',\n",
        "\n",
        "           'LCM':'central',\n",
        "           'RCM':'central',\n",
        "\n",
        "           'RWB':'central_defensa',\n",
        "           'CDM':'central_defensa',\n",
        "           'LWB':'central_defensa',\n",
        "\n",
        "           'LDM':'central_defensa',\n",
        "           'RDM':'central_defensa',\n",
        "           \n",
        "           'RB':'defensa',\n",
        "           'CB':'defensa',\n",
        "           'LB':'defensa',\n",
        "           \n",
        "           'RCB':'defensa',\n",
        "           'LCB':'defensa',\n",
        "\n",
        "           'GK':'arquero'\n",
        "}"
      ]
    },
    {
      "cell_type": "code",
      "execution_count": 284,
      "metadata": {
        "id": "tgrsJMmMieqn"
      },
      "outputs": [],
      "source": [
        "df_players = df_players.replace({'Club_Position': position_encoder})"
      ]
    },
    {
      "cell_type": "code",
      "execution_count": 285,
      "metadata": {
        "colab": {
          "base_uri": "https://localhost:8080/"
        },
        "id": "UP6HJT24kJIc",
        "outputId": "7c5e4c56-ce99-4ce5-d4f9-9cc688deb0fa"
      },
      "outputs": [
        {
          "data": {
            "text/plain": [
              "Club_Position\n",
              "Sub                7492\n",
              "Res                3146\n",
              "defensa            2444\n",
              "central            1614\n",
              "ataque              865\n",
              "central_defensa     741\n",
              "central_ataque      653\n",
              "arquero             632\n",
              "Name: count, dtype: int64"
            ]
          },
          "execution_count": 285,
          "metadata": {},
          "output_type": "execute_result"
        }
      ],
      "source": [
        "df_players['Club_Position'].value_counts()"
      ]
    },
    {
      "attachments": {},
      "cell_type": "markdown",
      "metadata": {
        "id": "7c3etMJ-nurp"
      },
      "source": [
        "Podemos guardar los players con etiqueta 'Res' o 'Sub' y utilizarlos para predecir su etiqueta normalizada y posteriormente ver algunos ejemplos de jugadores famosos y ver si hace sentido el mejor clasificador."
      ]
    },
    {
      "cell_type": "code",
      "execution_count": 286,
      "metadata": {
        "colab": {
          "base_uri": "https://localhost:8080/",
          "height": 661
        },
        "id": "0AenkdxblZD2",
        "outputId": "6d71545d-ae44-4f41-ce75-90466a2aa718"
      },
      "outputs": [
        {
          "data": {
            "text/html": [
              "<div>\n",
              "<style scoped>\n",
              "    .dataframe tbody tr th:only-of-type {\n",
              "        vertical-align: middle;\n",
              "    }\n",
              "\n",
              "    .dataframe tbody tr th {\n",
              "        vertical-align: top;\n",
              "    }\n",
              "\n",
              "    .dataframe thead th {\n",
              "        text-align: right;\n",
              "    }\n",
              "</style>\n",
              "<table border=\"1\" class=\"dataframe\">\n",
              "  <thead>\n",
              "    <tr style=\"text-align: right;\">\n",
              "      <th></th>\n",
              "      <th>Name</th>\n",
              "      <th>Nationality</th>\n",
              "      <th>National_Position</th>\n",
              "      <th>Club_Position</th>\n",
              "      <th>Height</th>\n",
              "      <th>Weight</th>\n",
              "      <th>Preffered_Foot</th>\n",
              "      <th>Age</th>\n",
              "      <th>Work_Rate</th>\n",
              "      <th>Weak_foot</th>\n",
              "      <th>...</th>\n",
              "      <th>Jumping</th>\n",
              "      <th>Heading</th>\n",
              "      <th>Shot_Power</th>\n",
              "      <th>Finishing</th>\n",
              "      <th>Long_Shots</th>\n",
              "      <th>Curve</th>\n",
              "      <th>Freekick_Accuracy</th>\n",
              "      <th>Penalties</th>\n",
              "      <th>Volleys</th>\n",
              "      <th>Seleccionado</th>\n",
              "    </tr>\n",
              "  </thead>\n",
              "  <tbody>\n",
              "    <tr>\n",
              "      <th>10</th>\n",
              "      <td>Jérôme Boateng</td>\n",
              "      <td>Germany</td>\n",
              "      <td>RCB</td>\n",
              "      <td>Sub</td>\n",
              "      <td>192</td>\n",
              "      <td>90</td>\n",
              "      <td>Right</td>\n",
              "      <td>28</td>\n",
              "      <td>Medium / Medium</td>\n",
              "      <td>4</td>\n",
              "      <td>...</td>\n",
              "      <td>75</td>\n",
              "      <td>86</td>\n",
              "      <td>79</td>\n",
              "      <td>34</td>\n",
              "      <td>58</td>\n",
              "      <td>56</td>\n",
              "      <td>31</td>\n",
              "      <td>46</td>\n",
              "      <td>53</td>\n",
              "      <td>1</td>\n",
              "    </tr>\n",
              "    <tr>\n",
              "      <th>58</th>\n",
              "      <td>Claudio Marchisio</td>\n",
              "      <td>Italy</td>\n",
              "      <td>NaN</td>\n",
              "      <td>Sub</td>\n",
              "      <td>180</td>\n",
              "      <td>75</td>\n",
              "      <td>Right</td>\n",
              "      <td>31</td>\n",
              "      <td>High / High</td>\n",
              "      <td>4</td>\n",
              "      <td>...</td>\n",
              "      <td>67</td>\n",
              "      <td>68</td>\n",
              "      <td>82</td>\n",
              "      <td>65</td>\n",
              "      <td>82</td>\n",
              "      <td>78</td>\n",
              "      <td>78</td>\n",
              "      <td>78</td>\n",
              "      <td>76</td>\n",
              "      <td>0</td>\n",
              "    </tr>\n",
              "    <tr>\n",
              "      <th>61</th>\n",
              "      <td>Cesc Fàbregas</td>\n",
              "      <td>Spain</td>\n",
              "      <td>NaN</td>\n",
              "      <td>Sub</td>\n",
              "      <td>175</td>\n",
              "      <td>74</td>\n",
              "      <td>Right</td>\n",
              "      <td>29</td>\n",
              "      <td>High / Medium</td>\n",
              "      <td>3</td>\n",
              "      <td>...</td>\n",
              "      <td>68</td>\n",
              "      <td>74</td>\n",
              "      <td>77</td>\n",
              "      <td>76</td>\n",
              "      <td>75</td>\n",
              "      <td>77</td>\n",
              "      <td>81</td>\n",
              "      <td>80</td>\n",
              "      <td>81</td>\n",
              "      <td>0</td>\n",
              "    </tr>\n",
              "    <tr>\n",
              "      <th>62</th>\n",
              "      <td>Franck Ribéry</td>\n",
              "      <td>France</td>\n",
              "      <td>NaN</td>\n",
              "      <td>Sub</td>\n",
              "      <td>170</td>\n",
              "      <td>72</td>\n",
              "      <td>Right</td>\n",
              "      <td>33</td>\n",
              "      <td>High / Medium</td>\n",
              "      <td>4</td>\n",
              "      <td>...</td>\n",
              "      <td>50</td>\n",
              "      <td>41</td>\n",
              "      <td>76</td>\n",
              "      <td>76</td>\n",
              "      <td>73</td>\n",
              "      <td>83</td>\n",
              "      <td>81</td>\n",
              "      <td>78</td>\n",
              "      <td>80</td>\n",
              "      <td>0</td>\n",
              "    </tr>\n",
              "    <tr>\n",
              "      <th>63</th>\n",
              "      <td>Santi Cazorla</td>\n",
              "      <td>Spain</td>\n",
              "      <td>NaN</td>\n",
              "      <td>Sub</td>\n",
              "      <td>168</td>\n",
              "      <td>66</td>\n",
              "      <td>Right</td>\n",
              "      <td>32</td>\n",
              "      <td>Medium / Medium</td>\n",
              "      <td>5</td>\n",
              "      <td>...</td>\n",
              "      <td>70</td>\n",
              "      <td>58</td>\n",
              "      <td>78</td>\n",
              "      <td>77</td>\n",
              "      <td>82</td>\n",
              "      <td>86</td>\n",
              "      <td>78</td>\n",
              "      <td>80</td>\n",
              "      <td>72</td>\n",
              "      <td>0</td>\n",
              "    </tr>\n",
              "    <tr>\n",
              "      <th>...</th>\n",
              "      <td>...</td>\n",
              "      <td>...</td>\n",
              "      <td>...</td>\n",
              "      <td>...</td>\n",
              "      <td>...</td>\n",
              "      <td>...</td>\n",
              "      <td>...</td>\n",
              "      <td>...</td>\n",
              "      <td>...</td>\n",
              "      <td>...</td>\n",
              "      <td>...</td>\n",
              "      <td>...</td>\n",
              "      <td>...</td>\n",
              "      <td>...</td>\n",
              "      <td>...</td>\n",
              "      <td>...</td>\n",
              "      <td>...</td>\n",
              "      <td>...</td>\n",
              "      <td>...</td>\n",
              "      <td>...</td>\n",
              "      <td>...</td>\n",
              "    </tr>\n",
              "    <tr>\n",
              "      <th>17583</th>\n",
              "      <td>Adam Dunbar</td>\n",
              "      <td>Republic of Ireland</td>\n",
              "      <td>NaN</td>\n",
              "      <td>Sub</td>\n",
              "      <td>183</td>\n",
              "      <td>82</td>\n",
              "      <td>Right</td>\n",
              "      <td>19</td>\n",
              "      <td>Medium / Medium</td>\n",
              "      <td>1</td>\n",
              "      <td>...</td>\n",
              "      <td>56</td>\n",
              "      <td>14</td>\n",
              "      <td>16</td>\n",
              "      <td>13</td>\n",
              "      <td>13</td>\n",
              "      <td>11</td>\n",
              "      <td>13</td>\n",
              "      <td>15</td>\n",
              "      <td>12</td>\n",
              "      <td>0</td>\n",
              "    </tr>\n",
              "    <tr>\n",
              "      <th>17584</th>\n",
              "      <td>Dylan McGoey</td>\n",
              "      <td>Republic of Ireland</td>\n",
              "      <td>NaN</td>\n",
              "      <td>Sub</td>\n",
              "      <td>185</td>\n",
              "      <td>80</td>\n",
              "      <td>Right</td>\n",
              "      <td>19</td>\n",
              "      <td>Medium / Medium</td>\n",
              "      <td>2</td>\n",
              "      <td>...</td>\n",
              "      <td>53</td>\n",
              "      <td>12</td>\n",
              "      <td>17</td>\n",
              "      <td>12</td>\n",
              "      <td>11</td>\n",
              "      <td>12</td>\n",
              "      <td>13</td>\n",
              "      <td>16</td>\n",
              "      <td>12</td>\n",
              "      <td>0</td>\n",
              "    </tr>\n",
              "    <tr>\n",
              "      <th>17585</th>\n",
              "      <td>Tommy Ouldridge</td>\n",
              "      <td>England</td>\n",
              "      <td>NaN</td>\n",
              "      <td>Res</td>\n",
              "      <td>173</td>\n",
              "      <td>61</td>\n",
              "      <td>Right</td>\n",
              "      <td>18</td>\n",
              "      <td>High / Medium</td>\n",
              "      <td>2</td>\n",
              "      <td>...</td>\n",
              "      <td>61</td>\n",
              "      <td>41</td>\n",
              "      <td>44</td>\n",
              "      <td>28</td>\n",
              "      <td>42</td>\n",
              "      <td>35</td>\n",
              "      <td>36</td>\n",
              "      <td>42</td>\n",
              "      <td>37</td>\n",
              "      <td>0</td>\n",
              "    </tr>\n",
              "    <tr>\n",
              "      <th>17586</th>\n",
              "      <td>Mark Foden</td>\n",
              "      <td>Scotland</td>\n",
              "      <td>NaN</td>\n",
              "      <td>Sub</td>\n",
              "      <td>180</td>\n",
              "      <td>80</td>\n",
              "      <td>Right</td>\n",
              "      <td>21</td>\n",
              "      <td>Medium / Medium</td>\n",
              "      <td>3</td>\n",
              "      <td>...</td>\n",
              "      <td>48</td>\n",
              "      <td>15</td>\n",
              "      <td>23</td>\n",
              "      <td>14</td>\n",
              "      <td>12</td>\n",
              "      <td>13</td>\n",
              "      <td>12</td>\n",
              "      <td>24</td>\n",
              "      <td>12</td>\n",
              "      <td>0</td>\n",
              "    </tr>\n",
              "    <tr>\n",
              "      <th>17587</th>\n",
              "      <td>Barry Richardson</td>\n",
              "      <td>England</td>\n",
              "      <td>NaN</td>\n",
              "      <td>Sub</td>\n",
              "      <td>185</td>\n",
              "      <td>77</td>\n",
              "      <td>Right</td>\n",
              "      <td>47</td>\n",
              "      <td>Medium / Medium</td>\n",
              "      <td>2</td>\n",
              "      <td>...</td>\n",
              "      <td>51</td>\n",
              "      <td>12</td>\n",
              "      <td>13</td>\n",
              "      <td>11</td>\n",
              "      <td>16</td>\n",
              "      <td>12</td>\n",
              "      <td>11</td>\n",
              "      <td>22</td>\n",
              "      <td>12</td>\n",
              "      <td>0</td>\n",
              "    </tr>\n",
              "  </tbody>\n",
              "</table>\n",
              "<p>10638 rows × 40 columns</p>\n",
              "</div>"
            ],
            "text/plain": [
              "                    Name          Nationality National_Position Club_Position   \n",
              "10        Jérôme Boateng              Germany               RCB           Sub  \\\n",
              "58     Claudio Marchisio                Italy               NaN           Sub   \n",
              "61         Cesc Fàbregas                Spain               NaN           Sub   \n",
              "62         Franck Ribéry               France               NaN           Sub   \n",
              "63         Santi Cazorla                Spain               NaN           Sub   \n",
              "...                  ...                  ...               ...           ...   \n",
              "17583        Adam Dunbar  Republic of Ireland               NaN           Sub   \n",
              "17584       Dylan McGoey  Republic of Ireland               NaN           Sub   \n",
              "17585    Tommy Ouldridge              England               NaN           Res   \n",
              "17586         Mark Foden             Scotland               NaN           Sub   \n",
              "17587   Barry Richardson              England               NaN           Sub   \n",
              "\n",
              "       Height  Weight Preffered_Foot  Age        Work_Rate  Weak_foot  ...   \n",
              "10        192      90          Right   28  Medium / Medium          4  ...  \\\n",
              "58        180      75          Right   31      High / High          4  ...   \n",
              "61        175      74          Right   29    High / Medium          3  ...   \n",
              "62        170      72          Right   33    High / Medium          4  ...   \n",
              "63        168      66          Right   32  Medium / Medium          5  ...   \n",
              "...       ...     ...            ...  ...              ...        ...  ...   \n",
              "17583     183      82          Right   19  Medium / Medium          1  ...   \n",
              "17584     185      80          Right   19  Medium / Medium          2  ...   \n",
              "17585     173      61          Right   18    High / Medium          2  ...   \n",
              "17586     180      80          Right   21  Medium / Medium          3  ...   \n",
              "17587     185      77          Right   47  Medium / Medium          2  ...   \n",
              "\n",
              "       Jumping  Heading  Shot_Power  Finishing  Long_Shots  Curve   \n",
              "10          75       86          79         34          58     56  \\\n",
              "58          67       68          82         65          82     78   \n",
              "61          68       74          77         76          75     77   \n",
              "62          50       41          76         76          73     83   \n",
              "63          70       58          78         77          82     86   \n",
              "...        ...      ...         ...        ...         ...    ...   \n",
              "17583       56       14          16         13          13     11   \n",
              "17584       53       12          17         12          11     12   \n",
              "17585       61       41          44         28          42     35   \n",
              "17586       48       15          23         14          12     13   \n",
              "17587       51       12          13         11          16     12   \n",
              "\n",
              "       Freekick_Accuracy  Penalties  Volleys  Seleccionado  \n",
              "10                    31         46       53             1  \n",
              "58                    78         78       76             0  \n",
              "61                    81         80       81             0  \n",
              "62                    81         78       80             0  \n",
              "63                    78         80       72             0  \n",
              "...                  ...        ...      ...           ...  \n",
              "17583                 13         15       12             0  \n",
              "17584                 13         16       12             0  \n",
              "17585                 36         42       37             0  \n",
              "17586                 12         24       12             0  \n",
              "17587                 11         22       12             0  \n",
              "\n",
              "[10638 rows x 40 columns]"
            ]
          },
          "execution_count": 286,
          "metadata": {},
          "output_type": "execute_result"
        }
      ],
      "source": [
        "mask = (df_players.loc[:,'Club_Position']=='Sub') | (df_players.loc[:,'Club_Position']=='Res')\n",
        "df_res_sub = df_players.loc[mask,:]\n",
        "df_res_sub"
      ]
    },
    {
      "cell_type": "code",
      "execution_count": 287,
      "metadata": {
        "colab": {
          "base_uri": "https://localhost:8080/",
          "height": 661
        },
        "id": "5E0tYmRrmlo2",
        "outputId": "ef14c2c4-7eb1-44bb-bff9-bcec44e86814"
      },
      "outputs": [
        {
          "data": {
            "text/html": [
              "<div>\n",
              "<style scoped>\n",
              "    .dataframe tbody tr th:only-of-type {\n",
              "        vertical-align: middle;\n",
              "    }\n",
              "\n",
              "    .dataframe tbody tr th {\n",
              "        vertical-align: top;\n",
              "    }\n",
              "\n",
              "    .dataframe thead th {\n",
              "        text-align: right;\n",
              "    }\n",
              "</style>\n",
              "<table border=\"1\" class=\"dataframe\">\n",
              "  <thead>\n",
              "    <tr style=\"text-align: right;\">\n",
              "      <th></th>\n",
              "      <th>Name</th>\n",
              "      <th>Nationality</th>\n",
              "      <th>National_Position</th>\n",
              "      <th>Club_Position</th>\n",
              "      <th>Height</th>\n",
              "      <th>Weight</th>\n",
              "      <th>Preffered_Foot</th>\n",
              "      <th>Age</th>\n",
              "      <th>Work_Rate</th>\n",
              "      <th>Weak_foot</th>\n",
              "      <th>...</th>\n",
              "      <th>Jumping</th>\n",
              "      <th>Heading</th>\n",
              "      <th>Shot_Power</th>\n",
              "      <th>Finishing</th>\n",
              "      <th>Long_Shots</th>\n",
              "      <th>Curve</th>\n",
              "      <th>Freekick_Accuracy</th>\n",
              "      <th>Penalties</th>\n",
              "      <th>Volleys</th>\n",
              "      <th>Seleccionado</th>\n",
              "    </tr>\n",
              "  </thead>\n",
              "  <tbody>\n",
              "    <tr>\n",
              "      <th>0</th>\n",
              "      <td>Cristiano Ronaldo</td>\n",
              "      <td>Portugal</td>\n",
              "      <td>LS</td>\n",
              "      <td>central_ataque</td>\n",
              "      <td>185</td>\n",
              "      <td>80</td>\n",
              "      <td>Right</td>\n",
              "      <td>32</td>\n",
              "      <td>High / Low</td>\n",
              "      <td>4</td>\n",
              "      <td>...</td>\n",
              "      <td>95</td>\n",
              "      <td>85</td>\n",
              "      <td>92</td>\n",
              "      <td>93</td>\n",
              "      <td>90</td>\n",
              "      <td>81</td>\n",
              "      <td>76</td>\n",
              "      <td>85</td>\n",
              "      <td>88</td>\n",
              "      <td>1</td>\n",
              "    </tr>\n",
              "    <tr>\n",
              "      <th>1</th>\n",
              "      <td>Lionel Messi</td>\n",
              "      <td>Argentina</td>\n",
              "      <td>RW</td>\n",
              "      <td>central_ataque</td>\n",
              "      <td>170</td>\n",
              "      <td>72</td>\n",
              "      <td>Left</td>\n",
              "      <td>29</td>\n",
              "      <td>Medium / Medium</td>\n",
              "      <td>4</td>\n",
              "      <td>...</td>\n",
              "      <td>68</td>\n",
              "      <td>71</td>\n",
              "      <td>85</td>\n",
              "      <td>95</td>\n",
              "      <td>88</td>\n",
              "      <td>89</td>\n",
              "      <td>90</td>\n",
              "      <td>74</td>\n",
              "      <td>85</td>\n",
              "      <td>1</td>\n",
              "    </tr>\n",
              "    <tr>\n",
              "      <th>2</th>\n",
              "      <td>Neymar</td>\n",
              "      <td>Brazil</td>\n",
              "      <td>LW</td>\n",
              "      <td>central_ataque</td>\n",
              "      <td>174</td>\n",
              "      <td>68</td>\n",
              "      <td>Right</td>\n",
              "      <td>25</td>\n",
              "      <td>High / Medium</td>\n",
              "      <td>5</td>\n",
              "      <td>...</td>\n",
              "      <td>61</td>\n",
              "      <td>62</td>\n",
              "      <td>78</td>\n",
              "      <td>89</td>\n",
              "      <td>77</td>\n",
              "      <td>79</td>\n",
              "      <td>84</td>\n",
              "      <td>81</td>\n",
              "      <td>83</td>\n",
              "      <td>1</td>\n",
              "    </tr>\n",
              "    <tr>\n",
              "      <th>3</th>\n",
              "      <td>Luis Suárez</td>\n",
              "      <td>Uruguay</td>\n",
              "      <td>LS</td>\n",
              "      <td>ataque</td>\n",
              "      <td>182</td>\n",
              "      <td>85</td>\n",
              "      <td>Right</td>\n",
              "      <td>30</td>\n",
              "      <td>High / Medium</td>\n",
              "      <td>4</td>\n",
              "      <td>...</td>\n",
              "      <td>69</td>\n",
              "      <td>77</td>\n",
              "      <td>87</td>\n",
              "      <td>94</td>\n",
              "      <td>86</td>\n",
              "      <td>86</td>\n",
              "      <td>84</td>\n",
              "      <td>85</td>\n",
              "      <td>88</td>\n",
              "      <td>1</td>\n",
              "    </tr>\n",
              "    <tr>\n",
              "      <th>4</th>\n",
              "      <td>Manuel Neuer</td>\n",
              "      <td>Germany</td>\n",
              "      <td>GK</td>\n",
              "      <td>arquero</td>\n",
              "      <td>193</td>\n",
              "      <td>92</td>\n",
              "      <td>Right</td>\n",
              "      <td>31</td>\n",
              "      <td>Medium / Medium</td>\n",
              "      <td>4</td>\n",
              "      <td>...</td>\n",
              "      <td>78</td>\n",
              "      <td>25</td>\n",
              "      <td>25</td>\n",
              "      <td>13</td>\n",
              "      <td>16</td>\n",
              "      <td>14</td>\n",
              "      <td>11</td>\n",
              "      <td>47</td>\n",
              "      <td>11</td>\n",
              "      <td>1</td>\n",
              "    </tr>\n",
              "    <tr>\n",
              "      <th>...</th>\n",
              "      <td>...</td>\n",
              "      <td>...</td>\n",
              "      <td>...</td>\n",
              "      <td>...</td>\n",
              "      <td>...</td>\n",
              "      <td>...</td>\n",
              "      <td>...</td>\n",
              "      <td>...</td>\n",
              "      <td>...</td>\n",
              "      <td>...</td>\n",
              "      <td>...</td>\n",
              "      <td>...</td>\n",
              "      <td>...</td>\n",
              "      <td>...</td>\n",
              "      <td>...</td>\n",
              "      <td>...</td>\n",
              "      <td>...</td>\n",
              "      <td>...</td>\n",
              "      <td>...</td>\n",
              "      <td>...</td>\n",
              "      <td>...</td>\n",
              "    </tr>\n",
              "    <tr>\n",
              "      <th>17310</th>\n",
              "      <td>Tom Bolarinwa</td>\n",
              "      <td>England</td>\n",
              "      <td>NaN</td>\n",
              "      <td>central</td>\n",
              "      <td>180</td>\n",
              "      <td>80</td>\n",
              "      <td>Right</td>\n",
              "      <td>26</td>\n",
              "      <td>Medium / Medium</td>\n",
              "      <td>3</td>\n",
              "      <td>...</td>\n",
              "      <td>54</td>\n",
              "      <td>22</td>\n",
              "      <td>38</td>\n",
              "      <td>37</td>\n",
              "      <td>37</td>\n",
              "      <td>37</td>\n",
              "      <td>32</td>\n",
              "      <td>29</td>\n",
              "      <td>29</td>\n",
              "      <td>0</td>\n",
              "    </tr>\n",
              "    <tr>\n",
              "      <th>17312</th>\n",
              "      <td>Zak Mills</td>\n",
              "      <td>England</td>\n",
              "      <td>NaN</td>\n",
              "      <td>defensa</td>\n",
              "      <td>182</td>\n",
              "      <td>83</td>\n",
              "      <td>Right</td>\n",
              "      <td>24</td>\n",
              "      <td>Medium / Medium</td>\n",
              "      <td>4</td>\n",
              "      <td>...</td>\n",
              "      <td>61</td>\n",
              "      <td>43</td>\n",
              "      <td>22</td>\n",
              "      <td>24</td>\n",
              "      <td>28</td>\n",
              "      <td>30</td>\n",
              "      <td>32</td>\n",
              "      <td>39</td>\n",
              "      <td>31</td>\n",
              "      <td>0</td>\n",
              "    </tr>\n",
              "    <tr>\n",
              "      <th>17442</th>\n",
              "      <td>Wataru Hashimoto</td>\n",
              "      <td>Japan</td>\n",
              "      <td>NaN</td>\n",
              "      <td>defensa</td>\n",
              "      <td>181</td>\n",
              "      <td>72</td>\n",
              "      <td>Left</td>\n",
              "      <td>30</td>\n",
              "      <td>Medium / High</td>\n",
              "      <td>2</td>\n",
              "      <td>...</td>\n",
              "      <td>71</td>\n",
              "      <td>41</td>\n",
              "      <td>29</td>\n",
              "      <td>26</td>\n",
              "      <td>26</td>\n",
              "      <td>25</td>\n",
              "      <td>25</td>\n",
              "      <td>31</td>\n",
              "      <td>29</td>\n",
              "      <td>0</td>\n",
              "    </tr>\n",
              "    <tr>\n",
              "      <th>17461</th>\n",
              "      <td>Callum Cooke</td>\n",
              "      <td>England</td>\n",
              "      <td>NaN</td>\n",
              "      <td>central</td>\n",
              "      <td>172</td>\n",
              "      <td>72</td>\n",
              "      <td>Right</td>\n",
              "      <td>20</td>\n",
              "      <td>Medium / Medium</td>\n",
              "      <td>3</td>\n",
              "      <td>...</td>\n",
              "      <td>63</td>\n",
              "      <td>57</td>\n",
              "      <td>48</td>\n",
              "      <td>50</td>\n",
              "      <td>54</td>\n",
              "      <td>42</td>\n",
              "      <td>33</td>\n",
              "      <td>69</td>\n",
              "      <td>40</td>\n",
              "      <td>0</td>\n",
              "    </tr>\n",
              "    <tr>\n",
              "      <th>17481</th>\n",
              "      <td>Simon Trier</td>\n",
              "      <td>Denmark</td>\n",
              "      <td>NaN</td>\n",
              "      <td>defensa</td>\n",
              "      <td>183</td>\n",
              "      <td>80</td>\n",
              "      <td>Right</td>\n",
              "      <td>18</td>\n",
              "      <td>Medium / Medium</td>\n",
              "      <td>4</td>\n",
              "      <td>...</td>\n",
              "      <td>65</td>\n",
              "      <td>48</td>\n",
              "      <td>38</td>\n",
              "      <td>23</td>\n",
              "      <td>22</td>\n",
              "      <td>26</td>\n",
              "      <td>25</td>\n",
              "      <td>32</td>\n",
              "      <td>25</td>\n",
              "      <td>0</td>\n",
              "    </tr>\n",
              "  </tbody>\n",
              "</table>\n",
              "<p>6949 rows × 40 columns</p>\n",
              "</div>"
            ],
            "text/plain": [
              "                    Name Nationality National_Position   Club_Position   \n",
              "0      Cristiano Ronaldo    Portugal                LS  central_ataque  \\\n",
              "1           Lionel Messi   Argentina                RW  central_ataque   \n",
              "2                 Neymar      Brazil                LW  central_ataque   \n",
              "3            Luis Suárez     Uruguay                LS          ataque   \n",
              "4           Manuel Neuer     Germany                GK         arquero   \n",
              "...                  ...         ...               ...             ...   \n",
              "17310      Tom Bolarinwa     England               NaN         central   \n",
              "17312          Zak Mills     England               NaN         defensa   \n",
              "17442   Wataru Hashimoto       Japan               NaN         defensa   \n",
              "17461       Callum Cooke     England               NaN         central   \n",
              "17481        Simon Trier     Denmark               NaN         defensa   \n",
              "\n",
              "       Height  Weight Preffered_Foot  Age        Work_Rate  Weak_foot  ...   \n",
              "0         185      80          Right   32       High / Low          4  ...  \\\n",
              "1         170      72           Left   29  Medium / Medium          4  ...   \n",
              "2         174      68          Right   25    High / Medium          5  ...   \n",
              "3         182      85          Right   30    High / Medium          4  ...   \n",
              "4         193      92          Right   31  Medium / Medium          4  ...   \n",
              "...       ...     ...            ...  ...              ...        ...  ...   \n",
              "17310     180      80          Right   26  Medium / Medium          3  ...   \n",
              "17312     182      83          Right   24  Medium / Medium          4  ...   \n",
              "17442     181      72           Left   30    Medium / High          2  ...   \n",
              "17461     172      72          Right   20  Medium / Medium          3  ...   \n",
              "17481     183      80          Right   18  Medium / Medium          4  ...   \n",
              "\n",
              "       Jumping  Heading  Shot_Power  Finishing  Long_Shots  Curve   \n",
              "0           95       85          92         93          90     81  \\\n",
              "1           68       71          85         95          88     89   \n",
              "2           61       62          78         89          77     79   \n",
              "3           69       77          87         94          86     86   \n",
              "4           78       25          25         13          16     14   \n",
              "...        ...      ...         ...        ...         ...    ...   \n",
              "17310       54       22          38         37          37     37   \n",
              "17312       61       43          22         24          28     30   \n",
              "17442       71       41          29         26          26     25   \n",
              "17461       63       57          48         50          54     42   \n",
              "17481       65       48          38         23          22     26   \n",
              "\n",
              "       Freekick_Accuracy  Penalties  Volleys  Seleccionado  \n",
              "0                     76         85       88             1  \n",
              "1                     90         74       85             1  \n",
              "2                     84         81       83             1  \n",
              "3                     84         85       88             1  \n",
              "4                     11         47       11             1  \n",
              "...                  ...        ...      ...           ...  \n",
              "17310                 32         29       29             0  \n",
              "17312                 32         39       31             0  \n",
              "17442                 25         31       29             0  \n",
              "17461                 33         69       40             0  \n",
              "17481                 25         32       25             0  \n",
              "\n",
              "[6949 rows x 40 columns]"
            ]
          },
          "execution_count": 287,
          "metadata": {},
          "output_type": "execute_result"
        }
      ],
      "source": [
        "mask = (df_players.loc[:,'Club_Position']=='Sub') | (df_players.loc[:,'Club_Position']=='Res')\n",
        "df_first = df_players.loc[~mask,:]\n",
        "df_first"
      ]
    },
    {
      "cell_type": "code",
      "execution_count": 288,
      "metadata": {
        "id": "EgzBx202mLpf"
      },
      "outputs": [],
      "source": [
        "labels = df_first.loc[:, \"Club_Position\"]\n",
        "features = df_first.drop(columns=not_used)\n",
        "\n",
        "X_train, X_test, y_train, y_test = train_test_split(features,labels,test_size=0.2,random_state=42,stratify=labels)"
      ]
    },
    {
      "cell_type": "code",
      "execution_count": 289,
      "metadata": {
        "colab": {
          "base_uri": "https://localhost:8080/"
        },
        "id": "EEYBpkwIm04P",
        "outputId": "c1adc107-4d6a-4d63-d4f5-9fe05b2a9d48"
      },
      "outputs": [
        {
          "name": "stderr",
          "output_type": "stream",
          "text": [
            "C:\\Users\\patri\\AppData\\Local\\Packages\\PythonSoftwareFoundation.Python.3.11_qbz5n2kfra8p0\\LocalCache\\local-packages\\Python311\\site-packages\\sklearn\\preprocessing\\_encoders.py:868: FutureWarning: `sparse` was renamed to `sparse_output` in version 1.2 and will be removed in 1.4. `sparse_output` is ignored unless you leave `sparse` to its default value.\n",
            "  warnings.warn(\n"
          ]
        },
        {
          "name": "stdout",
          "output_type": "stream",
          "text": [
            "Matriz de confusión\n",
            " [[ 506    0    0    0    0    0]\n",
            " [   0  583   74   62    0    1]\n",
            " [   0   77  861  291  197   62]\n",
            " [   0   32  126  154    5    0]\n",
            " [   0    0  125   10  241   31]\n",
            " [   0    0  105    5  150 1861]]\n",
            "                 precision    recall  f1-score   support\n",
            "\n",
            "        arquero       1.00      1.00      1.00       506\n",
            "         ataque       0.84      0.81      0.83       720\n",
            "        central       0.67      0.58      0.62      1488\n",
            " central_ataque       0.30      0.49      0.37       317\n",
            "central_defensa       0.41      0.59      0.48       407\n",
            "        defensa       0.95      0.88      0.91      2121\n",
            "\n",
            "       accuracy                           0.76      5559\n",
            "      macro avg       0.69      0.72      0.70      5559\n",
            "   weighted avg       0.79      0.76      0.77      5559\n",
            "\n"
          ]
        }
      ],
      "source": [
        "# Fit\n",
        "clf_linear_svc.fit(X_train,y_train)\n",
        "\n",
        "# Predict\n",
        "y_pred = clf_linear_svc.predict(X_train)\n",
        "\n",
        "# Resultados\n",
        "print(\"Matriz de confusión\\n\", confusion_matrix(y_pred, y_train))\n",
        "print(classification_report(y_pred, y_train))\n",
        "#print(\"\\nF1-Score\", f1_score(y_pred, y_train).round(2))"
      ]
    },
    {
      "cell_type": "code",
      "execution_count": 290,
      "metadata": {
        "colab": {
          "base_uri": "https://localhost:8080/"
        },
        "id": "hW7sRl5pm04P",
        "outputId": "3c51f41e-7e31-4ed6-8265-2a77ee1cb367"
      },
      "outputs": [
        {
          "name": "stdout",
          "output_type": "stream",
          "text": [
            "Matriz de confusión\n",
            " [[126   0   0   0   0   0]\n",
            " [  0 140  10  22   0   0]\n",
            " [  0  24 211  77  55  10]\n",
            " [  0   8  38  30   0   0]\n",
            " [  0   0  33   1  54   6]\n",
            " [  0   1  31   1  39 473]]\n",
            "                 precision    recall  f1-score   support\n",
            "\n",
            "        arquero       1.00      1.00      1.00       126\n",
            "         ataque       0.81      0.81      0.81       172\n",
            "        central       0.65      0.56      0.60       377\n",
            " central_ataque       0.23      0.39      0.29        76\n",
            "central_defensa       0.36      0.57      0.45        94\n",
            "        defensa       0.97      0.87      0.91       545\n",
            "\n",
            "       accuracy                           0.74      1390\n",
            "      macro avg       0.67      0.70      0.68      1390\n",
            "   weighted avg       0.78      0.74      0.76      1390\n",
            "\n"
          ]
        }
      ],
      "source": [
        "# Predict\n",
        "y_pred = clf_linear_svc.predict(X_test)\n",
        "\n",
        "# Resultados\n",
        "print(\"Matriz de confusión\\n\", confusion_matrix(y_pred, y_test))\n",
        "print(classification_report(y_pred, y_test))\n",
        "#print(\"\\nF1-Score\", f1_score(y_pred, y_test).round(2))"
      ]
    },
    {
      "cell_type": "code",
      "execution_count": null,
      "metadata": {
        "id": "GfFTZICWm04Q"
      },
      "outputs": [],
      "source": []
    },
    {
      "cell_type": "code",
      "execution_count": 291,
      "metadata": {
        "colab": {
          "base_uri": "https://localhost:8080/"
        },
        "id": "Af6rIkszm04Q",
        "outputId": "601b1706-d597-48fb-f776-1060d8bdce18"
      },
      "outputs": [
        {
          "name": "stderr",
          "output_type": "stream",
          "text": [
            "C:\\Users\\patri\\AppData\\Local\\Packages\\PythonSoftwareFoundation.Python.3.11_qbz5n2kfra8p0\\LocalCache\\local-packages\\Python311\\site-packages\\sklearn\\preprocessing\\_encoders.py:868: FutureWarning: `sparse` was renamed to `sparse_output` in version 1.2 and will be removed in 1.4. `sparse_output` is ignored unless you leave `sparse` to its default value.\n",
            "  warnings.warn(\n"
          ]
        },
        {
          "name": "stdout",
          "output_type": "stream",
          "text": [
            "Matriz de confusión\n",
            " [[ 506    0    0    0    0    0]\n",
            " [   0  590   96   78    3    4]\n",
            " [   0   76  956  240  178  103]\n",
            " [   0   21   67  178    8    0]\n",
            " [   0    2   75   14  279   61]\n",
            " [   0    3   97   12  125 1787]]\n",
            "                 precision    recall  f1-score   support\n",
            "\n",
            "        arquero       1.00      1.00      1.00       506\n",
            "         ataque       0.85      0.77      0.81       771\n",
            "        central       0.74      0.62      0.67      1553\n",
            " central_ataque       0.34      0.65      0.45       274\n",
            "central_defensa       0.47      0.65      0.54       431\n",
            "        defensa       0.91      0.88      0.90      2024\n",
            "\n",
            "       accuracy                           0.77      5559\n",
            "      macro avg       0.72      0.76      0.73      5559\n",
            "   weighted avg       0.80      0.77      0.78      5559\n",
            "\n"
          ]
        }
      ],
      "source": [
        "# Fit\n",
        "clf_knn.fit(X_train,y_train)\n",
        "\n",
        "# Predict\n",
        "y_pred = clf_knn.predict(X_train)\n",
        "\n",
        "# Resultados\n",
        "print(\"Matriz de confusión\\n\", confusion_matrix(y_pred, y_train))\n",
        "print(classification_report(y_pred, y_train))\n",
        "#print(\"\\nF1-Score\", f1_score(y_pred, y_train).round(2))"
      ]
    },
    {
      "cell_type": "code",
      "execution_count": 292,
      "metadata": {
        "colab": {
          "base_uri": "https://localhost:8080/"
        },
        "id": "AjbsGDcnm04Q",
        "outputId": "de37c5fe-6995-44fa-830b-a253046528ca"
      },
      "outputs": [
        {
          "name": "stdout",
          "output_type": "stream",
          "text": [
            "Matriz de confusión\n",
            " [[126   0   0   0   0   0]\n",
            " [  0 128  27  36   3   1]\n",
            " [  0  35 202  71  54  24]\n",
            " [  0   9  25  19   2   1]\n",
            " [  0   0  34   2  52  25]\n",
            " [  0   1  35   3  37 438]]\n",
            "                 precision    recall  f1-score   support\n",
            "\n",
            "        arquero       1.00      1.00      1.00       126\n",
            "         ataque       0.74      0.66      0.70       195\n",
            "        central       0.63      0.52      0.57       386\n",
            " central_ataque       0.15      0.34      0.20        56\n",
            "central_defensa       0.35      0.46      0.40       113\n",
            "        defensa       0.90      0.85      0.87       514\n",
            "\n",
            "       accuracy                           0.69      1390\n",
            "      macro avg       0.63      0.64      0.62      1390\n",
            "   weighted avg       0.73      0.69      0.71      1390\n",
            "\n"
          ]
        }
      ],
      "source": [
        "# Predict\n",
        "y_pred = clf_knn.predict(X_test)\n",
        "\n",
        "# Resultados\n",
        "print(\"Matriz de confusión\\n\", confusion_matrix(y_pred, y_test))\n",
        "print(classification_report(y_pred, y_test))\n",
        "#print(\"\\nF1-Score\", f1_score(y_pred, y_test).round(2))"
      ]
    },
    {
      "cell_type": "code",
      "execution_count": null,
      "metadata": {
        "id": "dgW-OEsDm04Q"
      },
      "outputs": [],
      "source": []
    },
    {
      "cell_type": "code",
      "execution_count": 293,
      "metadata": {
        "colab": {
          "base_uri": "https://localhost:8080/"
        },
        "id": "GH5lEIbRm04Q",
        "outputId": "f5aaf41e-af07-4ada-d2b6-9b764d3a50e1"
      },
      "outputs": [
        {
          "name": "stderr",
          "output_type": "stream",
          "text": [
            "C:\\Users\\patri\\AppData\\Local\\Packages\\PythonSoftwareFoundation.Python.3.11_qbz5n2kfra8p0\\LocalCache\\local-packages\\Python311\\site-packages\\sklearn\\preprocessing\\_encoders.py:868: FutureWarning: `sparse` was renamed to `sparse_output` in version 1.2 and will be removed in 1.4. `sparse_output` is ignored unless you leave `sparse` to its default value.\n",
            "  warnings.warn(\n"
          ]
        },
        {
          "name": "stdout",
          "output_type": "stream",
          "text": [
            "Matriz de confusión\n",
            " [[ 506    0    0    0    0    0]\n",
            " [   0  692    0    0    0    0]\n",
            " [   0    0 1291    0    0    0]\n",
            " [   0    0    0  522    0    0]\n",
            " [   0    0    0    0  593    0]\n",
            " [   0    0    0    0    0 1955]]\n",
            "                 precision    recall  f1-score   support\n",
            "\n",
            "        arquero       1.00      1.00      1.00       506\n",
            "         ataque       1.00      1.00      1.00       692\n",
            "        central       1.00      1.00      1.00      1291\n",
            " central_ataque       1.00      1.00      1.00       522\n",
            "central_defensa       1.00      1.00      1.00       593\n",
            "        defensa       1.00      1.00      1.00      1955\n",
            "\n",
            "       accuracy                           1.00      5559\n",
            "      macro avg       1.00      1.00      1.00      5559\n",
            "   weighted avg       1.00      1.00      1.00      5559\n",
            "\n"
          ]
        }
      ],
      "source": [
        "# Fit\n",
        "clf_rf.fit(X_train,y_train)\n",
        "\n",
        "# Predict\n",
        "y_pred = clf_rf.predict(X_train)\n",
        "\n",
        "# Resultados\n",
        "print(\"Matriz de confusión\\n\", confusion_matrix(y_pred, y_train))\n",
        "print(classification_report(y_pred, y_train))\n",
        "#print(\"\\nF1-Score\", f1_score(y_pred, y_train).round(2))"
      ]
    },
    {
      "cell_type": "code",
      "execution_count": 294,
      "metadata": {
        "colab": {
          "base_uri": "https://localhost:8080/"
        },
        "id": "3xRBSEQqm04R",
        "outputId": "07a288a7-a934-4474-9fde-26f3623b5c62"
      },
      "outputs": [
        {
          "name": "stdout",
          "output_type": "stream",
          "text": [
            "Matriz de confusión\n",
            " [[126   0   0   0   0   0]\n",
            " [  0 140   9  18   0   0]\n",
            " [  0  24 232  83  53   8]\n",
            " [  0   8  20  26   0   0]\n",
            " [  0   0  23   2  48   5]\n",
            " [  0   1  39   2  47 476]]\n",
            "                 precision    recall  f1-score   support\n",
            "\n",
            "        arquero       1.00      1.00      1.00       126\n",
            "         ataque       0.81      0.84      0.82       167\n",
            "        central       0.72      0.58      0.64       400\n",
            " central_ataque       0.20      0.48      0.28        54\n",
            "central_defensa       0.32      0.62      0.42        78\n",
            "        defensa       0.97      0.84      0.90       565\n",
            "\n",
            "       accuracy                           0.75      1390\n",
            "      macro avg       0.67      0.73      0.68      1390\n",
            "   weighted avg       0.82      0.75      0.78      1390\n",
            "\n"
          ]
        }
      ],
      "source": [
        "# Predict\n",
        "y_pred = clf_rf.predict(X_test)\n",
        "\n",
        "# Resultados\n",
        "print(\"Matriz de confusión\\n\", confusion_matrix(y_pred, y_test))\n",
        "print(classification_report(y_pred, y_test))\n",
        "#print(\"\\nF1-Score\", f1_score(y_pred, y_test).round(2))"
      ]
    },
    {
      "cell_type": "code",
      "execution_count": 295,
      "metadata": {
        "id": "htznJdwyoFzT"
      },
      "outputs": [],
      "source": [
        "X_rs = df_res_sub.drop(columns=not_used)\n",
        "\n",
        "y_pred = clf_rf.predict(X_rs)"
      ]
    },
    {
      "cell_type": "code",
      "execution_count": 296,
      "metadata": {
        "colab": {
          "base_uri": "https://localhost:8080/"
        },
        "id": "1Az2sKpJoV2Z",
        "outputId": "7e9e08d1-c715-48e6-8096-2c3bbfef3215"
      },
      "outputs": [
        {
          "name": "stderr",
          "output_type": "stream",
          "text": [
            "C:\\Users\\patri\\AppData\\Local\\Temp\\ipykernel_9208\\3844284264.py:1: SettingWithCopyWarning: \n",
            "A value is trying to be set on a copy of a slice from a DataFrame.\n",
            "Try using .loc[row_indexer,col_indexer] = value instead\n",
            "\n",
            "See the caveats in the documentation: https://pandas.pydata.org/pandas-docs/stable/user_guide/indexing.html#returning-a-view-versus-a-copy\n",
            "  df_res_sub.loc[:,'Predicted_Club_Position'] = y_pred\n"
          ]
        }
      ],
      "source": [
        "df_res_sub.loc[:,'Predicted_Club_Position'] = y_pred"
      ]
    },
    {
      "cell_type": "code",
      "execution_count": 297,
      "metadata": {
        "colab": {
          "base_uri": "https://localhost:8080/",
          "height": 676
        },
        "id": "enywv2uMopj1",
        "outputId": "85767f35-169f-40e1-8428-174e0f76986b"
      },
      "outputs": [
        {
          "data": {
            "text/html": [
              "<div>\n",
              "<style scoped>\n",
              "    .dataframe tbody tr th:only-of-type {\n",
              "        vertical-align: middle;\n",
              "    }\n",
              "\n",
              "    .dataframe tbody tr th {\n",
              "        vertical-align: top;\n",
              "    }\n",
              "\n",
              "    .dataframe thead th {\n",
              "        text-align: right;\n",
              "    }\n",
              "</style>\n",
              "<table border=\"1\" class=\"dataframe\">\n",
              "  <thead>\n",
              "    <tr style=\"text-align: right;\">\n",
              "      <th></th>\n",
              "      <th>Name</th>\n",
              "      <th>Predicted_Club_Position</th>\n",
              "    </tr>\n",
              "  </thead>\n",
              "  <tbody>\n",
              "    <tr>\n",
              "      <th>10</th>\n",
              "      <td>Jérôme Boateng</td>\n",
              "      <td>defensa</td>\n",
              "    </tr>\n",
              "    <tr>\n",
              "      <th>58</th>\n",
              "      <td>Claudio Marchisio</td>\n",
              "      <td>central</td>\n",
              "    </tr>\n",
              "    <tr>\n",
              "      <th>61</th>\n",
              "      <td>Cesc Fàbregas</td>\n",
              "      <td>central</td>\n",
              "    </tr>\n",
              "    <tr>\n",
              "      <th>62</th>\n",
              "      <td>Franck Ribéry</td>\n",
              "      <td>central_ataque</td>\n",
              "    </tr>\n",
              "    <tr>\n",
              "      <th>63</th>\n",
              "      <td>Santi Cazorla</td>\n",
              "      <td>central_ataque</td>\n",
              "    </tr>\n",
              "    <tr>\n",
              "      <th>64</th>\n",
              "      <td>Andrea Barzagli</td>\n",
              "      <td>defensa</td>\n",
              "    </tr>\n",
              "    <tr>\n",
              "      <th>70</th>\n",
              "      <td>İlkay Gündoğan</td>\n",
              "      <td>central_defensa</td>\n",
              "    </tr>\n",
              "    <tr>\n",
              "      <th>72</th>\n",
              "      <td>Willian</td>\n",
              "      <td>central</td>\n",
              "    </tr>\n",
              "    <tr>\n",
              "      <th>74</th>\n",
              "      <td>Juan Mata</td>\n",
              "      <td>central_ataque</td>\n",
              "    </tr>\n",
              "    <tr>\n",
              "      <th>84</th>\n",
              "      <td>Vincent Kompany</td>\n",
              "      <td>defensa</td>\n",
              "    </tr>\n",
              "    <tr>\n",
              "      <th>89</th>\n",
              "      <td>Raphaël Varane</td>\n",
              "      <td>defensa</td>\n",
              "    </tr>\n",
              "    <tr>\n",
              "      <th>92</th>\n",
              "      <td>Isco</td>\n",
              "      <td>central</td>\n",
              "    </tr>\n",
              "    <tr>\n",
              "      <th>103</th>\n",
              "      <td>Nicolás Gaitán</td>\n",
              "      <td>central</td>\n",
              "    </tr>\n",
              "    <tr>\n",
              "      <th>110</th>\n",
              "      <td>Sergio Asenjo</td>\n",
              "      <td>arquero</td>\n",
              "    </tr>\n",
              "    <tr>\n",
              "      <th>112</th>\n",
              "      <td>Medhi Benatia</td>\n",
              "      <td>defensa</td>\n",
              "    </tr>\n",
              "    <tr>\n",
              "      <th>113</th>\n",
              "      <td>Steve Mandanda</td>\n",
              "      <td>arquero</td>\n",
              "    </tr>\n",
              "    <tr>\n",
              "      <th>114</th>\n",
              "      <td>Dani Alves</td>\n",
              "      <td>defensa</td>\n",
              "    </tr>\n",
              "    <tr>\n",
              "      <th>115</th>\n",
              "      <td>Arda Turan</td>\n",
              "      <td>central_ataque</td>\n",
              "    </tr>\n",
              "    <tr>\n",
              "      <th>116</th>\n",
              "      <td>Javier Mascherano</td>\n",
              "      <td>central_defensa</td>\n",
              "    </tr>\n",
              "    <tr>\n",
              "      <th>120</th>\n",
              "      <td>José María Giménez</td>\n",
              "      <td>defensa</td>\n",
              "    </tr>\n",
              "  </tbody>\n",
              "</table>\n",
              "</div>"
            ],
            "text/plain": [
              "                   Name Predicted_Club_Position\n",
              "10       Jérôme Boateng                 defensa\n",
              "58    Claudio Marchisio                 central\n",
              "61        Cesc Fàbregas                 central\n",
              "62        Franck Ribéry          central_ataque\n",
              "63        Santi Cazorla          central_ataque\n",
              "64      Andrea Barzagli                 defensa\n",
              "70       İlkay Gündoğan         central_defensa\n",
              "72              Willian                 central\n",
              "74            Juan Mata          central_ataque\n",
              "84      Vincent Kompany                 defensa\n",
              "89       Raphaël Varane                 defensa\n",
              "92                 Isco                 central\n",
              "103      Nicolás Gaitán                 central\n",
              "110       Sergio Asenjo                 arquero\n",
              "112       Medhi Benatia                 defensa\n",
              "113      Steve Mandanda                 arquero\n",
              "114          Dani Alves                 defensa\n",
              "115          Arda Turan          central_ataque\n",
              "116   Javier Mascherano         central_defensa\n",
              "120  José María Giménez                 defensa"
            ]
          },
          "execution_count": 297,
          "metadata": {},
          "output_type": "execute_result"
        }
      ],
      "source": [
        "df_res_sub.loc[:,['Name','Predicted_Club_Position']].head(20)"
      ]
    },
    {
      "attachments": {},
      "cell_type": "markdown",
      "metadata": {
        "id": "YxeX5F8opC97"
      },
      "source": [
        "👍"
      ]
    },
    {
      "attachments": {},
      "cell_type": "markdown",
      "metadata": {
        "cell_id": "bea1283d202545a7a1008e29ee53e044",
        "deepnote_cell_type": "markdown",
        "id": "00Gh-rhej96b",
        "tags": []
      },
      "source": [
        "**Respuesta**:\n",
        "\n",
        "```\n",
        "Comente de resultados observados y si es posible mejorar los resultados.\n",
        "```"
      ]
    },
    {
      "attachments": {},
      "cell_type": "markdown",
      "metadata": {},
      "source": [
        "Los resultados son bastante buenos, los modelos knn y svc lineal presentan un weighted average accuracy de 0.76 y de 0.78 respectivamente en en el set de testeo, mientras que en el random forest uno de 0.81. Esto se debe a que los modelos knn y svc lineal son modelos que se basan en la distancia entre los puntos, mientras que el modelo random forest es un modelo que se basa en la creación de árboles de decisión aleatorios y despues agregados, por lo que es más robusto a los outliers. \n",
        "\n",
        "Se puede mejorar los resultados ya que vimos que las clases no están bien distribuidas y esto puede afectar el desempeño de los modelos. Se puede utilizar un método de oversampling para balancear las clases y ver si mejora el desempeño de los modelos. \n",
        "\n",
        "Además aplicando el modelo entrenado con jugadores conocidos que tenian etiqueta res (lesionado) o sub (suplente) podemos ver que funciona bien, vemos que Boateng es defensa, Cazorla central Ataque, Dani Alves defensa, etc."
      ]
    },
    {
      "attachments": {},
      "cell_type": "markdown",
      "metadata": {
        "cell_id": "f8008fda06be4d8ab7564d7362151a14",
        "deepnote_cell_type": "markdown",
        "id": "C-vkB4xoOGtM"
      },
      "source": [
        "## 1.3 Predicción de Sueldos [2 puntos]\n",
        "\n",
        "<p align=\"center\">\n",
        "  <img src=\"https://media.giphy.com/media/3oEjHWtHAFcOKS4iA0/giphy.gif\" width=\"460\">\n",
        "</p>"
      ]
    },
    {
      "attachments": {},
      "cell_type": "markdown",
      "metadata": {
        "cell_id": "598c8a91d80c412091470f396af54b5f",
        "deepnote_cell_type": "markdown",
        "id": "E1U2XgdQj96c",
        "tags": []
      },
      "source": [
        "Queriendo ahondar aún más en el mercado del balompíe, Renacin, logra obtener (de una manera no muy formal) los sueldos de múltiples futbolistas y los guarda en el archivo ```sueldos.csv```. Con ellos les solicita que generen un regresor que les permita predecir el sueldo de los futbolistas en base a las características de los pichichis, esto, debido a su motivación por invertir y/o realizar especulación sobre los sueldos de jugadores.\n",
        "\n",
        "Renacin es claro señalando que deben seguir utilizando la [guía](https://scikit-learn.org/stable/tutorial/machine_learning_map/index.html) y comenten cada uno de los pasos realizados, para obtener su regresión lineal. Señalándoles que no aceptara un $R^2$ inferior a 0.35 para el modelo solicitado.\n",
        "\n",
        "Para esta parte usted tiene total libertad en la generación del regresor, la unica exigencia es que utilice un pipeline para generar la regresión y utilice la metrica $R^2$ para medir el rendimiento de esta.\n",
        "\n",
        "**To-Do**:\n",
        "\n",
        "- [X] Explique en que consiste la métrica $R^2$\n",
        "- [x] Generar un pipeline para la regresión.\n",
        "- [x] Obtener un regresor con un $R^2$ superior a  $0.35$.\n",
        "- [x] Comente sus resultados y si es posible mejorar los resultados obtenidos. ¿Se necesitarían más datos o otros tipos de características o una combinación de ambos?"
      ]
    },
    {
      "attachments": {},
      "cell_type": "markdown",
      "metadata": {
        "cell_id": "5ce70aab37cb4924b1543eeab84e7de4",
        "deepnote_cell_type": "markdown",
        "id": "2g0M35-tj96c",
        "tags": []
      },
      "source": [
        "**Respuesta**"
      ]
    },
    {
      "attachments": {},
      "cell_type": "markdown",
      "metadata": {},
      "source": [
        "La metrica $R^2$ es una medida de que tan bien se ajusta el modelo a los datos, es decir, que tan bien se ajusta la linea de regresión a los datos.\n",
        "\n",
        " Un valor de $R^2$ igual a 0 significa que el modelo de regresión no explica ninguna de la variabilidad de la variable de respuesta alrededor de su media. En otras palabras, el modelo no se ajusta a los datos en absoluto. Un valor de $R^2$ igual a 1 significa que el modelo de regresión explica toda la variabilidad de la variable de respuesta alrededor de su media. En otras palabras, el modelo se ajusta perfectamente a los datos.\n",
        "\n",
        "Se calcula como:\n",
        "\n",
        "$R^2 = 1 - \\frac{SS_{\\text{res}}}{SS_{\\text{tot}}}$\n",
        "\n",
        "\n",
        "Donde:\n",
        "\n",
        "$SS_{\\text{res}}$ es la suma de los cuadrados residuales. Esta cantidad se calcula como la suma de los cuadrados de las diferencias entre las respuestas observadas y las respuestas predichas por el modelo.\n",
        "\n",
        "$SS_{\\text{res}} = \\sum_{i=1}^{n} (y_i - \\hat{y}_i)^2$\n",
        "\n",
        "$SS_{\\text{tot}}$ es la suma total de los cuadrados. Esta cantidad se calcula como la suma de los cuadrados de las diferencias entre las respuestas observadas y su media.\n",
        "\n",
        "$SS_{\\text{tot}} = \\sum_{i=1}^{n} (y_i - \\bar{y})^2$\n",
        "\n",
        "Aquí, $y_i$ representa cada valor observado, $\\hat{y}_i$ representa cada valor predicho por el modelo, y $\\bar{y}$ representa la media de los valores observados. La sumatoria se realiza sobre todos los puntos de datos, de $i=1$ hasta $n$, siendo $n$ el número total de observaciones.\n",
        "\n",
        "\n",
        "\n",
        "\n",
        "\n",
        "\n",
        "\n",
        "\n",
        "Es importante mencionar que un $R^2$ alto no garantiza que el modelo sea bueno para hacer predicciones en nuevos datos. Un valor de $R^2$ alto podría ser el resultado de un sobreajuste del modelo a los datos de entrenamiento. Por lo tanto, es importante evaluar el rendimiento del modelo en un conjunto de datos de prueba que no se hayan utilizado para entrenar el modelo (set de testeo).\n",
        "\n"
      ]
    },
    {
      "cell_type": "code",
      "execution_count": 298,
      "metadata": {
        "cell_id": "96e8db5c5a7044b79966da981618c807",
        "deepnote_cell_type": "code",
        "id": "4a0OdbJYj96c",
        "tags": []
      },
      "outputs": [],
      "source": [
        "#importamos salarios\n",
        "df_salarios = pd.read_csv('https://raw.githubusercontent.com/cristobalperezp/MDS7202-Laboratorio/main/salarios.csv')"
      ]
    },
    {
      "cell_type": "code",
      "execution_count": 314,
      "metadata": {},
      "outputs": [
        {
          "data": {
            "text/plain": [
              "(17587, 2534)"
            ]
          },
          "execution_count": 314,
          "metadata": {},
          "output_type": "execute_result"
        }
      ],
      "source": [
        "df_players.shape[0], df_salarios.shape[0]"
      ]
    },
    {
      "attachments": {},
      "cell_type": "markdown",
      "metadata": {},
      "source": [
        "Datos estan incompletos."
      ]
    },
    {
      "cell_type": "code",
      "execution_count": 299,
      "metadata": {},
      "outputs": [
        {
          "data": {
            "text/html": [
              "<div>\n",
              "<style scoped>\n",
              "    .dataframe tbody tr th:only-of-type {\n",
              "        vertical-align: middle;\n",
              "    }\n",
              "\n",
              "    .dataframe tbody tr th {\n",
              "        vertical-align: top;\n",
              "    }\n",
              "\n",
              "    .dataframe thead th {\n",
              "        text-align: right;\n",
              "    }\n",
              "</style>\n",
              "<table border=\"1\" class=\"dataframe\">\n",
              "  <thead>\n",
              "    <tr style=\"text-align: right;\">\n",
              "      <th></th>\n",
              "      <th>Unnamed: 0</th>\n",
              "      <th>Player</th>\n",
              "      <th>Weekly Salary</th>\n",
              "    </tr>\n",
              "  </thead>\n",
              "  <tbody>\n",
              "    <tr>\n",
              "      <th>0</th>\n",
              "      <td>1528</td>\n",
              "      <td>Lionel Messi</td>\n",
              "      <td>1538905.0</td>\n",
              "    </tr>\n",
              "    <tr>\n",
              "      <th>1</th>\n",
              "      <td>1006</td>\n",
              "      <td>Cristiano Ronaldo</td>\n",
              "      <td>1248536.0</td>\n",
              "    </tr>\n",
              "    <tr>\n",
              "      <th>2</th>\n",
              "      <td>1529</td>\n",
              "      <td>Antoine Griezmann</td>\n",
              "      <td>997032.0</td>\n",
              "    </tr>\n",
              "    <tr>\n",
              "      <th>3</th>\n",
              "      <td>2004</td>\n",
              "      <td>Neymar</td>\n",
              "      <td>797726.0</td>\n",
              "    </tr>\n",
              "    <tr>\n",
              "      <th>4</th>\n",
              "      <td>1530</td>\n",
              "      <td>Gareth Bale</td>\n",
              "      <td>607706.0</td>\n",
              "    </tr>\n",
              "  </tbody>\n",
              "</table>\n",
              "</div>"
            ],
            "text/plain": [
              "   Unnamed: 0             Player  Weekly Salary\n",
              "0        1528       Lionel Messi      1538905.0\n",
              "1        1006  Cristiano Ronaldo      1248536.0\n",
              "2        1529  Antoine Griezmann       997032.0\n",
              "3        2004             Neymar       797726.0\n",
              "4        1530        Gareth Bale       607706.0"
            ]
          },
          "execution_count": 299,
          "metadata": {},
          "output_type": "execute_result"
        }
      ],
      "source": [
        "df_salarios.head()"
      ]
    },
    {
      "cell_type": "code",
      "execution_count": 300,
      "metadata": {},
      "outputs": [],
      "source": [
        "df_salarios.drop(columns=['Unnamed: 0'], inplace=True)"
      ]
    },
    {
      "cell_type": "code",
      "execution_count": 301,
      "metadata": {},
      "outputs": [],
      "source": [
        "#cruzar salarios con jugadores en df_players Name y en df_salarios Player\n",
        "df_players_salarios = df_salarios.merge(df_players, left_on='Player', right_on='Name')"
      ]
    },
    {
      "cell_type": "code",
      "execution_count": 302,
      "metadata": {},
      "outputs": [
        {
          "data": {
            "text/html": [
              "<div>\n",
              "<style scoped>\n",
              "    .dataframe tbody tr th:only-of-type {\n",
              "        vertical-align: middle;\n",
              "    }\n",
              "\n",
              "    .dataframe tbody tr th {\n",
              "        vertical-align: top;\n",
              "    }\n",
              "\n",
              "    .dataframe thead th {\n",
              "        text-align: right;\n",
              "    }\n",
              "</style>\n",
              "<table border=\"1\" class=\"dataframe\">\n",
              "  <thead>\n",
              "    <tr style=\"text-align: right;\">\n",
              "      <th></th>\n",
              "      <th>Player</th>\n",
              "      <th>Weekly Salary</th>\n",
              "      <th>Name</th>\n",
              "      <th>Nationality</th>\n",
              "      <th>National_Position</th>\n",
              "      <th>Club_Position</th>\n",
              "      <th>Height</th>\n",
              "      <th>Weight</th>\n",
              "      <th>Preffered_Foot</th>\n",
              "      <th>Age</th>\n",
              "      <th>...</th>\n",
              "      <th>Jumping</th>\n",
              "      <th>Heading</th>\n",
              "      <th>Shot_Power</th>\n",
              "      <th>Finishing</th>\n",
              "      <th>Long_Shots</th>\n",
              "      <th>Curve</th>\n",
              "      <th>Freekick_Accuracy</th>\n",
              "      <th>Penalties</th>\n",
              "      <th>Volleys</th>\n",
              "      <th>Seleccionado</th>\n",
              "    </tr>\n",
              "  </thead>\n",
              "  <tbody>\n",
              "    <tr>\n",
              "      <th>0</th>\n",
              "      <td>Lionel Messi</td>\n",
              "      <td>1538905.0</td>\n",
              "      <td>Lionel Messi</td>\n",
              "      <td>Argentina</td>\n",
              "      <td>RW</td>\n",
              "      <td>central_ataque</td>\n",
              "      <td>170</td>\n",
              "      <td>72</td>\n",
              "      <td>Left</td>\n",
              "      <td>29</td>\n",
              "      <td>...</td>\n",
              "      <td>68</td>\n",
              "      <td>71</td>\n",
              "      <td>85</td>\n",
              "      <td>95</td>\n",
              "      <td>88</td>\n",
              "      <td>89</td>\n",
              "      <td>90</td>\n",
              "      <td>74</td>\n",
              "      <td>85</td>\n",
              "      <td>1</td>\n",
              "    </tr>\n",
              "    <tr>\n",
              "      <th>1</th>\n",
              "      <td>Cristiano Ronaldo</td>\n",
              "      <td>1248536.0</td>\n",
              "      <td>Cristiano Ronaldo</td>\n",
              "      <td>Portugal</td>\n",
              "      <td>LS</td>\n",
              "      <td>central_ataque</td>\n",
              "      <td>185</td>\n",
              "      <td>80</td>\n",
              "      <td>Right</td>\n",
              "      <td>32</td>\n",
              "      <td>...</td>\n",
              "      <td>95</td>\n",
              "      <td>85</td>\n",
              "      <td>92</td>\n",
              "      <td>93</td>\n",
              "      <td>90</td>\n",
              "      <td>81</td>\n",
              "      <td>76</td>\n",
              "      <td>85</td>\n",
              "      <td>88</td>\n",
              "      <td>1</td>\n",
              "    </tr>\n",
              "    <tr>\n",
              "      <th>2</th>\n",
              "      <td>Antoine Griezmann</td>\n",
              "      <td>997032.0</td>\n",
              "      <td>Antoine Griezmann</td>\n",
              "      <td>France</td>\n",
              "      <td>CAM</td>\n",
              "      <td>ataque</td>\n",
              "      <td>176</td>\n",
              "      <td>67</td>\n",
              "      <td>Left</td>\n",
              "      <td>26</td>\n",
              "      <td>...</td>\n",
              "      <td>87</td>\n",
              "      <td>80</td>\n",
              "      <td>81</td>\n",
              "      <td>88</td>\n",
              "      <td>82</td>\n",
              "      <td>84</td>\n",
              "      <td>75</td>\n",
              "      <td>71</td>\n",
              "      <td>87</td>\n",
              "      <td>1</td>\n",
              "    </tr>\n",
              "    <tr>\n",
              "      <th>3</th>\n",
              "      <td>Neymar</td>\n",
              "      <td>797726.0</td>\n",
              "      <td>Neymar</td>\n",
              "      <td>Brazil</td>\n",
              "      <td>LW</td>\n",
              "      <td>central_ataque</td>\n",
              "      <td>174</td>\n",
              "      <td>68</td>\n",
              "      <td>Right</td>\n",
              "      <td>25</td>\n",
              "      <td>...</td>\n",
              "      <td>61</td>\n",
              "      <td>62</td>\n",
              "      <td>78</td>\n",
              "      <td>89</td>\n",
              "      <td>77</td>\n",
              "      <td>79</td>\n",
              "      <td>84</td>\n",
              "      <td>81</td>\n",
              "      <td>83</td>\n",
              "      <td>1</td>\n",
              "    </tr>\n",
              "    <tr>\n",
              "      <th>4</th>\n",
              "      <td>Gareth Bale</td>\n",
              "      <td>607706.0</td>\n",
              "      <td>Gareth Bale</td>\n",
              "      <td>Wales</td>\n",
              "      <td>RS</td>\n",
              "      <td>central_ataque</td>\n",
              "      <td>183</td>\n",
              "      <td>74</td>\n",
              "      <td>Left</td>\n",
              "      <td>27</td>\n",
              "      <td>...</td>\n",
              "      <td>85</td>\n",
              "      <td>86</td>\n",
              "      <td>91</td>\n",
              "      <td>87</td>\n",
              "      <td>90</td>\n",
              "      <td>86</td>\n",
              "      <td>85</td>\n",
              "      <td>76</td>\n",
              "      <td>76</td>\n",
              "      <td>1</td>\n",
              "    </tr>\n",
              "  </tbody>\n",
              "</table>\n",
              "<p>5 rows × 42 columns</p>\n",
              "</div>"
            ],
            "text/plain": [
              "              Player  Weekly Salary               Name Nationality   \n",
              "0       Lionel Messi      1538905.0       Lionel Messi   Argentina  \\\n",
              "1  Cristiano Ronaldo      1248536.0  Cristiano Ronaldo    Portugal   \n",
              "2  Antoine Griezmann       997032.0  Antoine Griezmann      France   \n",
              "3             Neymar       797726.0             Neymar      Brazil   \n",
              "4        Gareth Bale       607706.0        Gareth Bale       Wales   \n",
              "\n",
              "  National_Position   Club_Position  Height  Weight Preffered_Foot  Age  ...   \n",
              "0                RW  central_ataque     170      72           Left   29  ...  \\\n",
              "1                LS  central_ataque     185      80          Right   32  ...   \n",
              "2               CAM          ataque     176      67           Left   26  ...   \n",
              "3                LW  central_ataque     174      68          Right   25  ...   \n",
              "4                RS  central_ataque     183      74           Left   27  ...   \n",
              "\n",
              "  Jumping  Heading  Shot_Power  Finishing  Long_Shots  Curve   \n",
              "0      68       71          85         95          88     89  \\\n",
              "1      95       85          92         93          90     81   \n",
              "2      87       80          81         88          82     84   \n",
              "3      61       62          78         89          77     79   \n",
              "4      85       86          91         87          90     86   \n",
              "\n",
              "   Freekick_Accuracy  Penalties  Volleys  Seleccionado  \n",
              "0                 90         74       85             1  \n",
              "1                 76         85       88             1  \n",
              "2                 75         71       87             1  \n",
              "3                 84         81       83             1  \n",
              "4                 85         76       76             1  \n",
              "\n",
              "[5 rows x 42 columns]"
            ]
          },
          "execution_count": 302,
          "metadata": {},
          "output_type": "execute_result"
        }
      ],
      "source": [
        "df_players_salarios.head()"
      ]
    },
    {
      "cell_type": "code",
      "execution_count": 303,
      "metadata": {},
      "outputs": [],
      "source": [
        "df_players_salarios.drop(columns=['Player'], inplace=True)"
      ]
    },
    {
      "cell_type": "code",
      "execution_count": 304,
      "metadata": {},
      "outputs": [
        {
          "data": {
            "text/plain": [
              "(1866, 41)"
            ]
          },
          "execution_count": 304,
          "metadata": {},
          "output_type": "execute_result"
        }
      ],
      "source": [
        "df_players_salarios.shape"
      ]
    },
    {
      "attachments": {},
      "cell_type": "markdown",
      "metadata": {},
      "source": [
        "Siguiendo la guía de Renacín, tenemos 1866 filas y muchas variables, por lo que probaremos con Ridge Regression."
      ]
    },
    {
      "cell_type": "code",
      "execution_count": 305,
      "metadata": {},
      "outputs": [],
      "source": [
        "from sklearn.linear_model import Ridge\n",
        "\n",
        "numeric = ['Age','Weight','Height','Ball_Control', 'Dribbling', 'Marking', 'Sliding_Tackle',\n",
        "           'Standing_Tackle', 'Aggression', 'Reactions', 'Interceptions', 'Vision',\n",
        "           'Composure', 'Crossing', 'Short_Pass', 'Long_Pass', 'Acceleration',\n",
        "           'Speed', 'Stamina', 'Strength', 'Balance', 'Agility', 'Jumping',\n",
        "           'Heading', 'Shot_Power', 'Finishing', 'Long_Shots', 'Curve',\n",
        "           'Freekick_Accuracy', 'Penalties', 'Volleys']\n",
        "\n",
        "categoric = ['Preffered_Foot','Work_Rate','Club_Position','Seleccionado']\n",
        "ordinal = ['Weak_foot','Skill_Moves']\n",
        "not_used = ['Name','National_Position','Nationality']\n",
        "\n",
        "ct = ColumnTransformer(\n",
        "    [\n",
        "        ('One Hot',OneHotEncoder(sparse=False, handle_unknown=\"ignore\",drop='if_binary'),categoric),\n",
        "        ('Ordinal',OrdinalEncoder(),ordinal),\n",
        "        ('Scaler',MinMaxScaler(),numeric)\n",
        "    ],\n",
        "    remainder='passthrough'\n",
        ")\n",
        "\n",
        "Ridge_reg = Pipeline(steps=[\n",
        "                      (\"preprocessing\", ct),\n",
        "                      (\"model\", Ridge())\n",
        "])"
      ]
    },
    {
      "cell_type": "code",
      "execution_count": 306,
      "metadata": {},
      "outputs": [
        {
          "name": "stdout",
          "output_type": "stream",
          "text": [
            "R^2 en train: 0.35065400282507053\n",
            "R^2 en test: 0.18812411195425205\n"
          ]
        },
        {
          "name": "stderr",
          "output_type": "stream",
          "text": [
            "C:\\Users\\patri\\AppData\\Local\\Packages\\PythonSoftwareFoundation.Python.3.11_qbz5n2kfra8p0\\LocalCache\\local-packages\\Python311\\site-packages\\sklearn\\preprocessing\\_encoders.py:868: FutureWarning: `sparse` was renamed to `sparse_output` in version 1.2 and will be removed in 1.4. `sparse_output` is ignored unless you leave `sparse` to its default value.\n",
            "  warnings.warn(\n",
            "C:\\Users\\patri\\AppData\\Local\\Packages\\PythonSoftwareFoundation.Python.3.11_qbz5n2kfra8p0\\LocalCache\\local-packages\\Python311\\site-packages\\sklearn\\preprocessing\\_encoders.py:202: UserWarning: Found unknown categories in columns [1] during transform. These unknown categories will be encoded as all zeros\n",
            "  warnings.warn(\n"
          ]
        }
      ],
      "source": [
        "from sklearn.metrics import r2_score\n",
        "\n",
        "# 'Weekly_Salary' es la columna que queremos predecir\n",
        "labels = df_players_salarios.loc[:, \"Weekly Salary\"]\n",
        "features = df_players_salarios.drop(columns=not_used + ['Weekly Salary'])  # No olvidar eliminar 'Weekly_Salary' de las características\n",
        "\n",
        "X_train, X_test, y_train, y_test = train_test_split(features, labels, test_size=0.2, random_state=42)\n",
        "\n",
        "# Fit\n",
        "Ridge_reg.fit(X_train, y_train)\n",
        "\n",
        "# Predict\n",
        "y_train_pred = Ridge_reg.predict(X_train)\n",
        "y_test_pred = Ridge_reg.predict(X_test)\n",
        "\n",
        "# Resultados\n",
        "print(\"R^2 en train:\", r2_score(y_train, y_train_pred))\n",
        "print(\"R^2 en test:\", r2_score(y_test, y_test_pred))"
      ]
    },
    {
      "attachments": {},
      "cell_type": "markdown",
      "metadata": {},
      "source": [
        "No funciona muy bien, seguimos con la guia con un ensemble regressor. "
      ]
    },
    {
      "cell_type": "code",
      "execution_count": 308,
      "metadata": {},
      "outputs": [
        {
          "name": "stderr",
          "output_type": "stream",
          "text": [
            "C:\\Users\\patri\\AppData\\Local\\Packages\\PythonSoftwareFoundation.Python.3.11_qbz5n2kfra8p0\\LocalCache\\local-packages\\Python311\\site-packages\\sklearn\\preprocessing\\_encoders.py:868: FutureWarning: `sparse` was renamed to `sparse_output` in version 1.2 and will be removed in 1.4. `sparse_output` is ignored unless you leave `sparse` to its default value.\n",
            "  warnings.warn(\n"
          ]
        },
        {
          "name": "stdout",
          "output_type": "stream",
          "text": [
            "R^2 en train: 0.9519776957065009\n",
            "R^2 en test: 0.3638797567442509\n"
          ]
        },
        {
          "name": "stderr",
          "output_type": "stream",
          "text": [
            "C:\\Users\\patri\\AppData\\Local\\Packages\\PythonSoftwareFoundation.Python.3.11_qbz5n2kfra8p0\\LocalCache\\local-packages\\Python311\\site-packages\\sklearn\\preprocessing\\_encoders.py:202: UserWarning: Found unknown categories in columns [1] during transform. These unknown categories will be encoded as all zeros\n",
            "  warnings.warn(\n"
          ]
        }
      ],
      "source": [
        "from sklearn.ensemble import RandomForestRegressor\n",
        "rf_reg = Pipeline(steps=[\n",
        "                      (\"preprocessing\", ct),\n",
        "                      (\"model\", RandomForestRegressor(random_state=42))\n",
        "])\n",
        "\n",
        "# Fit\n",
        "rf_reg.fit(X_train, y_train)\n",
        "\n",
        "# Predict\n",
        "y_train_pred = rf_reg.predict(X_train)\n",
        "y_test_pred = rf_reg.predict(X_test)\n",
        "\n",
        "# Resultados\n",
        "print(\"R^2 en train:\", r2_score(y_train, y_train_pred))\n",
        "print(\"R^2 en test:\", r2_score(y_test, y_test_pred))\n",
        "\n"
      ]
    },
    {
      "attachments": {},
      "cell_type": "markdown",
      "metadata": {
        "cell_id": "bb39f9e88bf04d639ea5d67732450be6",
        "deepnote_cell_type": "markdown",
        "id": "AlDwUN4hj96c",
        "tags": []
      },
      "source": [
        "**Respuesta**:\n",
        "\n",
        "```\n",
        "Comente de resultados observados y si es posible mejorar los resultados.\n",
        "```"
      ]
    },
    {
      "attachments": {},
      "cell_type": "markdown",
      "metadata": {},
      "source": [
        "El modelo de regresión de random forest logra llegar a un $R^2$ de 0.36 en el set de prueba, en este caso funciona mejor que la regresión Ridge que tiene un $R^2$ de 0.18. Esto puede ser porque los bosques aleatorios son capaces de modelar relaciones no lineales y de alta dimensión entre las características, mientras que la regresión Ridge es un modelo lineal que asume una relación lineal entre las características y la variable objetivo. Si las verdaderas relaciones en los datos son de hecho no lineales, los modelos basados en árboles como el bosque aleatorio podrían capturar estas relaciones mejor que los modelos lineales como Ridge.\n",
        "\n",
        "Además, los bosques aleatorios pueden ser más robustos a la multicolinealidad (cuando dos o más características están altamente correlacionadas) debido a su enfoque de ensemble y su naturaleza no paramétrica. En cambio, los modelos de regresión lineal como Ridge pueden verse afectados negativamente por la multicolinealidad, lo que puede disminuir su rendimiento.\n",
        "\n",
        "Si es posible mejorar el rendimiento del modelo, una forma sería agregando mas datos, ya que la base de jugadores y de salarios tienen 17587 y 2534 filas respectivamente, y al cruzar por nombres en total quedan 1866 filas. Otra forma sería agregar mas caracteristicas, por ejemplo, los stats de los jugadores en los partidos, como la cantidad de goles, asistencias, minutos jugados en temporada, etc. Aunque una combinación de ambas sería lo ideal."
      ]
    },
    {
      "attachments": {},
      "cell_type": "markdown",
      "metadata": {
        "cell_id": "502994b597214d4ba2f05e2b900d895c",
        "deepnote_cell_type": "markdown",
        "id": "Rg4ZMq8ezAH6"
      },
      "source": [
        "# Conclusión\n",
        "Eso ha sido todo para el lab de hoy, recuerden que el laboratorio tiene un plazo de entrega de una semana. Cualquier duda del laboratorio, no duden en contactarnos por mail o U-cursos.\n",
        "\n",
        "<p align=\"center\">\n",
        "  <img src=\"https://media2.giphy.com/media/l1J3CbFgn5o7DGRuE/giphy.gif\">\n",
        "</p>"
      ]
    },
    {
      "attachments": {},
      "cell_type": "markdown",
      "metadata": {
        "cell_id": "da6d643bcf1542a8b119a15edaf0f75c",
        "deepnote_cell_type": "markdown",
        "id": "wCL1lACBzAH7"
      },
      "source": [
        "<br>\n",
        "<center>\n",
        "<img src=\"https://i.kym-cdn.com/photos/images/original/001/194/195/b18.png\" width=100 height=50 />\n",
        "</center>\n",
        "<br>"
      ]
    },
    {
      "attachments": {},
      "cell_type": "markdown",
      "metadata": {
        "created_in_deepnote_cell": true,
        "deepnote_cell_type": "markdown",
        "id": "TqSYL_n9j96c"
      },
      "source": [
        "<a style='text-decoration:none;line-height:16px;display:flex;color:#5B5B62;padding:10px;justify-content:end;' href='https://deepnote.com?utm_source=created-in-deepnote-cell&projectId=87110296-876e-426f-b91d-aaf681223468' target=\"_blank\">\n",
        "<img alt='Created in deepnote.com' style='display:inline;max-height:16px;margin:0px;margin-right:7.5px;' src='data:image/svg+xml;base64,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' > </img>\n",
        "Created in <span style='font-weight:600;margin-left:4px;'>Deepnote</span></a>"
      ]
    }
  ],
  "metadata": {
    "colab": {
      "include_colab_link": true,
      "provenance": []
    },
    "deepnote": {},
    "deepnote_execution_queue": [],
    "deepnote_notebook_id": "41ad7e529bfb484c8f7f538003203695",
    "kernelspec": {
      "display_name": "Python 3",
      "language": "python",
      "name": "python3"
    },
    "language_info": {
      "codemirror_mode": {
        "name": "ipython",
        "version": 3
      },
      "file_extension": ".py",
      "mimetype": "text/x-python",
      "name": "python",
      "nbconvert_exporter": "python",
      "pygments_lexer": "ipython3",
      "version": "3.11.3"
    },
    "toc": {
      "base_numbering": 1,
      "nav_menu": {},
      "number_sections": true,
      "sideBar": true,
      "skip_h1_title": true,
      "title_cell": "Tabla de Contenidos",
      "title_sidebar": "Contenidos",
      "toc_cell": false,
      "toc_position": {
        "height": "calc(100% - 180px)",
        "left": "10px",
        "top": "150px",
        "width": "241.867px"
      },
      "toc_section_display": true,
      "toc_window_display": true
    },
    "varInspector": {
      "cols": {
        "lenName": 16,
        "lenType": 16,
        "lenVar": 40
      },
      "kernels_config": {
        "python": {
          "delete_cmd_postfix": "",
          "delete_cmd_prefix": "del ",
          "library": "var_list.py",
          "varRefreshCmd": "print(var_dic_list())"
        },
        "r": {
          "delete_cmd_postfix": ") ",
          "delete_cmd_prefix": "rm(",
          "library": "var_list.r",
          "varRefreshCmd": "cat(var_dic_list()) "
        }
      },
      "types_to_exclude": [
        "module",
        "function",
        "builtin_function_or_method",
        "instance",
        "_Feature"
      ],
      "window_display": false
    }
  },
  "nbformat": 4,
  "nbformat_minor": 0
}
