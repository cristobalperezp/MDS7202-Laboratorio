{
  "cells": [
    {
      "cell_type": "markdown",
      "metadata": {
        "id": "view-in-github",
        "colab_type": "text"
      },
      "source": [
        "<a href=\"https://colab.research.google.com/github/cristobalperezp/MDS7202-Laboratorio/blob/main/Lab_7.ipynb\" target=\"_parent\"><img src=\"https://colab.research.google.com/assets/colab-badge.svg\" alt=\"Open In Colab\"/></a>"
      ]
    },
    {
      "cell_type": "markdown",
      "source": [
        "<h1><center>Laboratorio 7: La desperación de Mr. Lepin 🐼</center></h1>\n",
        "\n",
        "<center><strong>MDS7202: Laboratorio de Programación Científica para Ciencia de Datos</strong></center>"
      ],
      "metadata": {
        "id": "XUZ1dFPHzAHl",
        "cell_id": "8dd9b572c805487a9fb430fdc4ab12bb",
        "deepnote_cell_height": 156.26666259765625,
        "deepnote_cell_type": "markdown"
      }
    },
    {
      "cell_type": "markdown",
      "source": [
        "### Cuerpo Docente:\n",
        "\n",
        "- Profesor: Pablo Badilla, Ignacio Meza\n",
        "- Auxiliar: Sebastián Tinoco\n",
        "- Ayudante: Felipe Arias, Diego Cortez"
      ],
      "metadata": {
        "id": "UD8X1uhGzAHq",
        "cell_id": "d65413cd8566460dbceffcd13ca236e7",
        "deepnote_cell_type": "markdown"
      }
    },
    {
      "cell_type": "markdown",
      "source": [
        "### Equipo: SUPER IMPORTANTE - notebooks sin nombre no serán revisados\n",
        "\n",
        "- Nombre de alumno 1: Cristóbal Pérez\n",
        "- Nombre de alumno 2: Patricio Pérez\n"
      ],
      "metadata": {
        "id": "tXflExjqzAHr",
        "cell_id": "8e9217d02d124830a9b86046600a1605",
        "deepnote_cell_height": 172.13333129882812,
        "deepnote_cell_type": "markdown"
      }
    },
    {
      "cell_type": "markdown",
      "source": [
        "### **Link de repositorio de GitHub:** `https://github.com/cristobalperezp/MDS7202-Laboratorio`"
      ],
      "metadata": {
        "id": "AD-V0bbZzAHr",
        "cell_id": "010402b6d5f743b885a80d2e1c6ae11a",
        "deepnote_cell_height": 62.19999694824219,
        "deepnote_cell_type": "markdown"
      }
    },
    {
      "cell_type": "markdown",
      "source": [
        "### Indice \n",
        "\n",
        "1. [Temas a tratar](#Temas-a-tratar:)\n",
        "3. [Descripción del laboratorio](#Descripción-del-laboratorio.)\n",
        "4. [Desarrollo](#Desarrollo)"
      ],
      "metadata": {
        "id": "EcnsiQMkzAHr",
        "cell_id": "3abfe63b97c946e5ba1d4061b08e7913",
        "deepnote_cell_height": 165.06666564941406,
        "deepnote_cell_type": "markdown"
      }
    },
    {
      "cell_type": "markdown",
      "source": [
        "# Temas a tratar\n",
        "\n",
        "- Aplicar Pandas para obtener características de un DataFrame.\n",
        "- Aplicar Pipelines.\n",
        "- Aplicar Clusters sobre un conjunto de datos.\n",
        "\n",
        "## Reglas:\n",
        "\n",
        "- **Grupos de 2 personas**\n",
        "- Asistencia **obligatoria** a instrucciones del lab (viernes 16.15). Luego, pueden quedarse trabajando en las salas o irse.\n",
        "- **No se revisarán entregas de personas ausentes**. \n",
        "- Cualquier duda fuera del horario de clases al foro. Mensajes al equipo docente serán respondidos por este medio.\n",
        "- Prohibidas las copias. \n",
        "- Pueden usar cualquer matrial del curso que estimen conveniente.\n",
        "- Código que no se pueda ejecutar, no será revisado.\n",
        "\n",
        "### Objetivos principales del laboratorio\n",
        "\n",
        "- Comprender y aprovechar las ventajas que nos ofrece la librería `pandas` con respecto a trabajar en Python 'puro'.\n",
        "- Crear nuevas características para entrenar un modelo de clustering.\n",
        "- Comprender como aplicar pipelines de Scikit-Learn para generar procesos más limpios.\n",
        "\n",
        "El laboratorio deberá ser desarrollado sin el uso indiscriminado de iteradores nativos de python (aka \"for\", \"while\"). La idea es que aprendan a exprimir al máximo las funciones optimizadas que nos entrega `numpy`, las cuales vale mencionar, son bastante más eficientes que los iteradores nativos sobre arreglos (*o tensores*)."
      ],
      "metadata": {
        "id": "6uBLPj1PzAHs",
        "cell_id": "ef0224c7a99e4b718b55493b0a1e99c4",
        "deepnote_cell_height": 724.9000244140625,
        "deepnote_cell_type": "markdown"
      }
    },
    {
      "cell_type": "markdown",
      "source": [
        "## Descripción del laboratorio."
      ],
      "metadata": {
        "id": "wrG4gYabzAHs",
        "cell_id": "59664481c26f4ac4a753765269b1db6a",
        "deepnote_cell_height": 69.86666870117188,
        "deepnote_cell_type": "markdown"
      }
    },
    {
      "cell_type": "markdown",
      "source": [
        "### Importamos librerias utiles 😸"
      ],
      "metadata": {
        "id": "MhISwri4zAHy",
        "cell_id": "8c7bf8ea553d44c7a2efd61106a0bac2",
        "deepnote_cell_height": 61.866668701171875,
        "deepnote_cell_type": "markdown"
      }
    },
    {
      "cell_type": "code",
      "source": [
        "# Libreria Core del lab.\n",
        "import numpy as np\n",
        "import pandas as pd\n",
        "import datetime\n",
        "from IPython.display import HTML\n",
        "\n",
        "# Libreria para plotear (En colab esta desactualizado plotly)\n",
        "!pip install --upgrade plotly\n",
        "import plotly.express as px\n",
        "import plotly.graph_objects as go\n",
        "\n",
        "# Librerias utiles\n",
        "from sklearn.manifold import TSNE\n",
        "from sklearn.cluster import KMeans\n",
        "from sklearn.base import BaseEstimator, TransformerMixin\n",
        "from sklearn.model_selection import train_test_split \n",
        "from sklearn.pipeline import Pipeline\n",
        "from sklearn.compose import ColumnTransformer\n",
        "from sklearn.preprocessing import FunctionTransformer"
      ],
      "metadata": {
        "id": "uyc33dKdzAHy",
        "colab": {
          "base_uri": "https://localhost:8080/"
        },
        "cell_id": "67b4b29f0e6b48719b58d579276f2b19",
        "outputId": "0d1116e5-cea5-4faa-9f83-6c84443a29a4",
        "ExecuteTime": {
          "end_time": "2021-03-29T00:08:16.884674Z",
          "start_time": "2021-03-29T00:08:16.349846Z"
        },
        "source_hash": "a3741fd5",
        "execution_start": 1635469788590,
        "execution_millis": 8517,
        "deepnote_cell_height": 514.13330078125,
        "deepnote_to_be_reexecuted": false,
        "deepnote_cell_type": "code"
      },
      "outputs": [
        {
          "output_type": "stream",
          "name": "stdout",
          "text": [
            "Looking in indexes: https://pypi.org/simple, https://us-python.pkg.dev/colab-wheels/public/simple/\n",
            "Requirement already satisfied: plotly in /usr/local/lib/python3.10/dist-packages (5.14.1)\n",
            "Requirement already satisfied: tenacity>=6.2.0 in /usr/local/lib/python3.10/dist-packages (from plotly) (8.2.2)\n",
            "Requirement already satisfied: packaging in /usr/local/lib/python3.10/dist-packages (from plotly) (23.1)\n"
          ]
        }
      ],
      "execution_count": 97
    },
    {
      "cell_type": "code",
      "source": [
        "# Si usted está utilizando Colabolatory le puede ser útil este código para cargar los archivos.\n",
        "#try:\n",
        " #   from google.colab import drive\n",
        "  #  drive.mount(\"/content/drive\")\n",
        "  #  path = 'Dirección donde tiene los archivos en el Drive'\n",
        "#except: \n",
        " #   print('Ignorando conexión drive-colab')"
      ],
      "metadata": {
        "id": "gQ0-zPV4NNrq",
        "cell_id": "ce6a19ec6fc6486e832760ac3740d7ef",
        "source_hash": "c60dc4a7",
        "execution_start": 1635165625274,
        "execution_millis": 7,
        "deepnote_cell_height": 219.46665954589844,
        "deepnote_to_be_reexecuted": false,
        "deepnote_cell_type": "code"
      },
      "outputs": [],
      "execution_count": 98
    },
    {
      "cell_type": "code",
      "source": [
        "! git clone 'https://github.com/cristobalperezp/MDS7202-Laboratorio'"
      ],
      "metadata": {
        "colab": {
          "base_uri": "https://localhost:8080/"
        },
        "id": "UIe2BhXaby4P",
        "outputId": "2ae1578c-6deb-4d3b-c09c-dae3ba5a617b"
      },
      "execution_count": 99,
      "outputs": [
        {
          "output_type": "stream",
          "name": "stdout",
          "text": [
            "fatal: destination path 'MDS7202-Laboratorio' already exists and is not an empty directory.\n"
          ]
        }
      ]
    },
    {
      "cell_type": "markdown",
      "source": [
        "# Segmentación de Clientes en Tienda de Retail 🛍️"
      ],
      "metadata": {
        "id": "QDwIXTh7bK_A",
        "cell_id": "28c7a8b483d84878ac5a4f7ba882b711",
        "owner_user_id": "badcc427-fd3d-4615-9296-faa43ec69cfb",
        "deepnote_cell_height": 133.86666870117188,
        "deepnote_cell_type": "markdown"
      }
    },
    {
      "cell_type": "markdown",
      "source": [
        "<p align=\"center\">\n",
        "  <img width=300 src=\"https://s1.eestatic.com/2018/04/14/social/la_jungla_-_social_299733421_73842361_854x640.jpg\">\n",
        "</p>"
      ],
      "metadata": {
        "tags": [],
        "cell_id": "6c6799ecc9e74272922d46a3b5a8b79e",
        "deepnote_cell_height": 294.683349609375,
        "deepnote_cell_type": "markdown",
        "id": "CieWk-0wbo4K"
      }
    },
    {
      "cell_type": "markdown",
      "source": [
        "## 1.1 Cargar Dataset"
      ],
      "metadata": {
        "tags": [],
        "cell_id": "160bb2695f6547448bfb0f99420f952c",
        "deepnote_cell_height": 69.86666870117188,
        "deepnote_cell_type": "markdown",
        "id": "6OWu7E50bo4K"
      }
    },
    {
      "cell_type": "markdown",
      "source": [
        "Mr. Lepin, en una nueva reunión, le cuenta a ud y su equipo que los resultados derivados del análisis exploratorio de dato presentaron una gran utilidad para la empresa y que tiene un gran entusiasmo por continuar trabajando con ustedes.\n",
        "Es por esto, que Mr. Lepin les pide que cargue y visualicen algunas de las filas que componen el Dataset.\n",
        "A continuación un extracto de lo parlamentado en la reunión:\n",
        "\n",
        "    - Usted: Es un gran logro para nuestro equipo que usted haya encontrado excelente el EDA. ¿Qué tiene en mente ahora?\n",
        "    - Mr. Lepin: Resulta que hace algún tiempo, mientras tomaba un mojito en una reunión de gerentes en Panamá, oí a un *chato* acerca de **LRMFP**, que es un modelo que permite personificar a los clientes a través de la fabricación de distintos atributos que describen a los clientes. Lo encontré es-tu-pendo ñatito. \n",
        "    - Usted: Ehh bueno. Investigaremos acerca de este modelo y veremos lo que podemos hacer.\n",
        "\n",
        "Por ende, su siguiente tarea es calcular **LRMFP** sobre cada cliente y luego hacer un análisis de las características generadas. Para esto, el área de ventas les entrega un nuevo archivo llamado `online_retail_II_cleaned.pickle`, quien posee los datos del DataFrame original limpios y listos para obtener las características solicitadas por Mr. Lepin."
      ],
      "metadata": {
        "tags": [],
        "cell_id": "48d29c89e3b6455083f8fac764f97f3b",
        "deepnote_cell_height": 475.066650390625,
        "deepnote_cell_type": "markdown",
        "id": "_qMqsr2Fbo4K"
      }
    },
    {
      "cell_type": "code",
      "source": [
        "df_retail.shape"
      ],
      "metadata": {
        "id": "cFsRdP5ICDXC",
        "outputId": "10bf5611-ca10-4470-8107-b8dc59d20337",
        "colab": {
          "base_uri": "https://localhost:8080/"
        }
      },
      "execution_count": 100,
      "outputs": [
        {
          "output_type": "execute_result",
          "data": {
            "text/plain": [
              "(525461, 10)"
            ]
          },
          "metadata": {},
          "execution_count": 100
        }
      ]
    },
    {
      "cell_type": "code",
      "source": [
        "df_retail = pd.read_pickle(\"/content/MDS7202-Laboratorio/online_retail/online_retail_II.pickle\")\n",
        "df_retail = df_retail.astype(\n",
        "    {\n",
        "        \"Invoice\": \"category\",\n",
        "        \"StockCode\": \"category\",\n",
        "        \"Description\": \"category\",\n",
        "        \"Description\": str,\n",
        "        \"Customer ID\": \"category\",\n",
        "        \"Country\": \"category\"\n",
        "    }\n",
        ")\n",
        "df_retail.head()\n"
      ],
      "metadata": {
        "id": "7FNOu-CvjV5m",
        "colab": {
          "height": 206,
          "base_uri": "https://localhost:8080/"
        },
        "cell_id": "4d7d0f0855744e6c9d5a2198e5dcd690",
        "outputId": "9980f1ad-2730-43e7-8bae-d9faa133864e",
        "source_hash": "d52b246c",
        "execution_start": 1635469797118,
        "execution_millis": 466,
        "deepnote_cell_height": 489.79998779296875,
        "deepnote_output_heights": [
          177
        ],
        "deepnote_to_be_reexecuted": false,
        "deepnote_cell_type": "code"
      },
      "outputs": [
        {
          "output_type": "execute_result",
          "data": {
            "text/plain": [
              "  Invoice StockCode                          Description  Quantity  \\\n",
              "0  489434     85048  15CM CHRISTMAS GLASS BALL 20 LIGHTS        12   \n",
              "1  489434    79323P                   PINK CHERRY LIGHTS        12   \n",
              "2  489434    79323W                  WHITE CHERRY LIGHTS        12   \n",
              "3  489434     22041         RECORD FRAME 7\" SINGLE SIZE         48   \n",
              "4  489434     21232       STRAWBERRY CERAMIC TRINKET BOX        24   \n",
              "\n",
              "          InvoiceDate  Price Customer ID         Country  \n",
              "0 2009-12-01 07:45:00   6.95     13085.0  United Kingdom  \n",
              "1 2009-12-01 07:45:00   6.75     13085.0  United Kingdom  \n",
              "2 2009-12-01 07:45:00   6.75     13085.0  United Kingdom  \n",
              "3 2009-12-01 07:45:00   2.10     13085.0  United Kingdom  \n",
              "4 2009-12-01 07:45:00   1.25     13085.0  United Kingdom  "
            ],
            "text/html": [
              "\n",
              "  <div id=\"df-89027392-9721-4020-ae14-59f2638240d8\">\n",
              "    <div class=\"colab-df-container\">\n",
              "      <div>\n",
              "<style scoped>\n",
              "    .dataframe tbody tr th:only-of-type {\n",
              "        vertical-align: middle;\n",
              "    }\n",
              "\n",
              "    .dataframe tbody tr th {\n",
              "        vertical-align: top;\n",
              "    }\n",
              "\n",
              "    .dataframe thead th {\n",
              "        text-align: right;\n",
              "    }\n",
              "</style>\n",
              "<table border=\"1\" class=\"dataframe\">\n",
              "  <thead>\n",
              "    <tr style=\"text-align: right;\">\n",
              "      <th></th>\n",
              "      <th>Invoice</th>\n",
              "      <th>StockCode</th>\n",
              "      <th>Description</th>\n",
              "      <th>Quantity</th>\n",
              "      <th>InvoiceDate</th>\n",
              "      <th>Price</th>\n",
              "      <th>Customer ID</th>\n",
              "      <th>Country</th>\n",
              "    </tr>\n",
              "  </thead>\n",
              "  <tbody>\n",
              "    <tr>\n",
              "      <th>0</th>\n",
              "      <td>489434</td>\n",
              "      <td>85048</td>\n",
              "      <td>15CM CHRISTMAS GLASS BALL 20 LIGHTS</td>\n",
              "      <td>12</td>\n",
              "      <td>2009-12-01 07:45:00</td>\n",
              "      <td>6.95</td>\n",
              "      <td>13085.0</td>\n",
              "      <td>United Kingdom</td>\n",
              "    </tr>\n",
              "    <tr>\n",
              "      <th>1</th>\n",
              "      <td>489434</td>\n",
              "      <td>79323P</td>\n",
              "      <td>PINK CHERRY LIGHTS</td>\n",
              "      <td>12</td>\n",
              "      <td>2009-12-01 07:45:00</td>\n",
              "      <td>6.75</td>\n",
              "      <td>13085.0</td>\n",
              "      <td>United Kingdom</td>\n",
              "    </tr>\n",
              "    <tr>\n",
              "      <th>2</th>\n",
              "      <td>489434</td>\n",
              "      <td>79323W</td>\n",
              "      <td>WHITE CHERRY LIGHTS</td>\n",
              "      <td>12</td>\n",
              "      <td>2009-12-01 07:45:00</td>\n",
              "      <td>6.75</td>\n",
              "      <td>13085.0</td>\n",
              "      <td>United Kingdom</td>\n",
              "    </tr>\n",
              "    <tr>\n",
              "      <th>3</th>\n",
              "      <td>489434</td>\n",
              "      <td>22041</td>\n",
              "      <td>RECORD FRAME 7\" SINGLE SIZE</td>\n",
              "      <td>48</td>\n",
              "      <td>2009-12-01 07:45:00</td>\n",
              "      <td>2.10</td>\n",
              "      <td>13085.0</td>\n",
              "      <td>United Kingdom</td>\n",
              "    </tr>\n",
              "    <tr>\n",
              "      <th>4</th>\n",
              "      <td>489434</td>\n",
              "      <td>21232</td>\n",
              "      <td>STRAWBERRY CERAMIC TRINKET BOX</td>\n",
              "      <td>24</td>\n",
              "      <td>2009-12-01 07:45:00</td>\n",
              "      <td>1.25</td>\n",
              "      <td>13085.0</td>\n",
              "      <td>United Kingdom</td>\n",
              "    </tr>\n",
              "  </tbody>\n",
              "</table>\n",
              "</div>\n",
              "      <button class=\"colab-df-convert\" onclick=\"convertToInteractive('df-89027392-9721-4020-ae14-59f2638240d8')\"\n",
              "              title=\"Convert this dataframe to an interactive table.\"\n",
              "              style=\"display:none;\">\n",
              "        \n",
              "  <svg xmlns=\"http://www.w3.org/2000/svg\" height=\"24px\"viewBox=\"0 0 24 24\"\n",
              "       width=\"24px\">\n",
              "    <path d=\"M0 0h24v24H0V0z\" fill=\"none\"/>\n",
              "    <path d=\"M18.56 5.44l.94 2.06.94-2.06 2.06-.94-2.06-.94-.94-2.06-.94 2.06-2.06.94zm-11 1L8.5 8.5l.94-2.06 2.06-.94-2.06-.94L8.5 2.5l-.94 2.06-2.06.94zm10 10l.94 2.06.94-2.06 2.06-.94-2.06-.94-.94-2.06-.94 2.06-2.06.94z\"/><path d=\"M17.41 7.96l-1.37-1.37c-.4-.4-.92-.59-1.43-.59-.52 0-1.04.2-1.43.59L10.3 9.45l-7.72 7.72c-.78.78-.78 2.05 0 2.83L4 21.41c.39.39.9.59 1.41.59.51 0 1.02-.2 1.41-.59l7.78-7.78 2.81-2.81c.8-.78.8-2.07 0-2.86zM5.41 20L4 18.59l7.72-7.72 1.47 1.35L5.41 20z\"/>\n",
              "  </svg>\n",
              "      </button>\n",
              "      \n",
              "  <style>\n",
              "    .colab-df-container {\n",
              "      display:flex;\n",
              "      flex-wrap:wrap;\n",
              "      gap: 12px;\n",
              "    }\n",
              "\n",
              "    .colab-df-convert {\n",
              "      background-color: #E8F0FE;\n",
              "      border: none;\n",
              "      border-radius: 50%;\n",
              "      cursor: pointer;\n",
              "      display: none;\n",
              "      fill: #1967D2;\n",
              "      height: 32px;\n",
              "      padding: 0 0 0 0;\n",
              "      width: 32px;\n",
              "    }\n",
              "\n",
              "    .colab-df-convert:hover {\n",
              "      background-color: #E2EBFA;\n",
              "      box-shadow: 0px 1px 2px rgba(60, 64, 67, 0.3), 0px 1px 3px 1px rgba(60, 64, 67, 0.15);\n",
              "      fill: #174EA6;\n",
              "    }\n",
              "\n",
              "    [theme=dark] .colab-df-convert {\n",
              "      background-color: #3B4455;\n",
              "      fill: #D2E3FC;\n",
              "    }\n",
              "\n",
              "    [theme=dark] .colab-df-convert:hover {\n",
              "      background-color: #434B5C;\n",
              "      box-shadow: 0px 1px 3px 1px rgba(0, 0, 0, 0.15);\n",
              "      filter: drop-shadow(0px 1px 2px rgba(0, 0, 0, 0.3));\n",
              "      fill: #FFFFFF;\n",
              "    }\n",
              "  </style>\n",
              "\n",
              "      <script>\n",
              "        const buttonEl =\n",
              "          document.querySelector('#df-89027392-9721-4020-ae14-59f2638240d8 button.colab-df-convert');\n",
              "        buttonEl.style.display =\n",
              "          google.colab.kernel.accessAllowed ? 'block' : 'none';\n",
              "\n",
              "        async function convertToInteractive(key) {\n",
              "          const element = document.querySelector('#df-89027392-9721-4020-ae14-59f2638240d8');\n",
              "          const dataTable =\n",
              "            await google.colab.kernel.invokeFunction('convertToInteractive',\n",
              "                                                     [key], {});\n",
              "          if (!dataTable) return;\n",
              "\n",
              "          const docLinkHtml = 'Like what you see? Visit the ' +\n",
              "            '<a target=\"_blank\" href=https://colab.research.google.com/notebooks/data_table.ipynb>data table notebook</a>'\n",
              "            + ' to learn more about interactive tables.';\n",
              "          element.innerHTML = '';\n",
              "          dataTable['output_type'] = 'display_data';\n",
              "          await google.colab.output.renderOutput(dataTable, element);\n",
              "          const docLink = document.createElement('div');\n",
              "          docLink.innerHTML = docLinkHtml;\n",
              "          element.appendChild(docLink);\n",
              "        }\n",
              "      </script>\n",
              "    </div>\n",
              "  </div>\n",
              "  "
            ]
          },
          "metadata": {},
          "execution_count": 101
        }
      ],
      "execution_count": 101
    },
    {
      "cell_type": "code",
      "source": [
        "df_retail.dtypes"
      ],
      "metadata": {
        "id": "JLT1X7DU7B5P",
        "outputId": "6e72b5d6-94c1-4dfd-c20b-6e30816f22cc",
        "colab": {
          "base_uri": "https://localhost:8080/"
        }
      },
      "execution_count": 102,
      "outputs": [
        {
          "output_type": "execute_result",
          "data": {
            "text/plain": [
              "Invoice              category\n",
              "StockCode            category\n",
              "Description            object\n",
              "Quantity                int64\n",
              "InvoiceDate    datetime64[ns]\n",
              "Price                 float64\n",
              "Customer ID          category\n",
              "Country              category\n",
              "dtype: object"
            ]
          },
          "metadata": {},
          "execution_count": 102
        }
      ]
    },
    {
      "cell_type": "markdown",
      "source": [
        "## 1.2 Creación de nuevas Caracteristicas [2 Puntos] "
      ],
      "metadata": {
        "tags": [],
        "cell_id": "060e1885d93d4325a313fded82de1921",
        "deepnote_cell_height": 109.86666870117188,
        "deepnote_cell_type": "markdown",
        "id": "WvN56Zsibo4L"
      }
    },
    {
      "cell_type": "markdown",
      "source": [
        "Como ya se les comento, Mr. Lepin esta interesado en obtener las características **LRMFP**, para esto les señala que estas características se construyen en base a las siguientes definiciones:\n",
        "\n",
        "- **Length (L)**: Intervalo de tiempo, en días, entre la primera y la última visita del cliente. Mientras mas grande sea el valor, mas fiel es el cliente.\n",
        "\n",
        "- **Recency (R)**: Indica hace cuanto tiempo el cliente realizo su ultima compra. Notar que para este caso, mientras mas grande es el valor, menos interes posee el usuario para repetir una compra en uno de los locales.\n",
        "\n",
        "- **Monetary (M)**: El término \"monetario\" se refiere a la cantidad media de dinero gastada por cada visita del cliente durante el período de observación y refleja la contribución del cliente a los ingresos de la empresa.\n",
        "\n",
        "- **Frequency (F)**: Se refiere al número total de visitas del cliente durante el periodo de observación. Cuanto mayor sea la frecuencia, mayor será la fidelidad del cliente. \n",
        "\n",
        "- **Periodicity (P)**: Representa si los clientes visitan las tiendas con regularidad.\n",
        "\n",
        "$$Periodicity(n)=std(IVT_1, ..., IVT_n)$$\n",
        "\n",
        "&nbsp;&nbsp; &nbsp;&nbsp;&nbsp;&nbsp;&nbsp;&nbsp;Donde $IVT$ denota el tiempo entre visitas y n representa el número de valores de tiempo entre visitas de un cliente.\n",
        " \n",
        "\n",
        "$$IVT_i=date\\_diff(t_{i+1},t_{i})$$\n",
        "\n",
        "En base a las definiciones señaladas, diseñe una función que permita obtener las características **LRMFP** recibiendo un DataFrame como entrada. Para esto, no estará permitido el uso de iteradores, utilice todas las herramientas que les ofrece `pandas` para realizar esto.\n",
        "\n",
        "Una referencia que le puede ser útil es el [documento original](https://www.researchgate.net/publication/315979555_LRFMP_model_for_customer_segmentation_in_the_grocery_retail_industry_a_case_study) en donde se propone este método."
      ],
      "metadata": {
        "tags": [],
        "cell_id": "e650f364c9c64b079603f6d9312d2d13",
        "deepnote_cell_height": 862.933349609375,
        "deepnote_cell_type": "markdown",
        "id": "mU0ZUzXZbo4L"
      }
    },
    {
      "cell_type": "markdown",
      "source": [
        "**Ejemplo de Resultado Esperado:**\n",
        "\n",
        "| Customer ID | Length | Recency | Frequency | Monetary | Periodicity |\n",
        "|------------:|-------:|--------:|----------:|---------:|------------:|\n",
        "|   12346.0   |    294 |      67 |        46 |   -64.68 |        37.0 |\n",
        "|   12347.0   |     37 |       3 |        71 |  1323.32 |         0.0 |\n",
        "|   12349.0   |    327 |      43 |       107 |  2646.99 |        78.0 |\n",
        "|   12352.0   |     16 |      11 |        18 |   343.80 |         0.0 |\n",
        "|   12356.0   |     44 |      16 |        84 |  3562.25 |        12.0 |"
      ],
      "metadata": {
        "tags": [],
        "cell_id": "bee8d549c7c043a5b0cafae0543afadf",
        "deepnote_cell_height": 212.6666717529297,
        "deepnote_cell_type": "markdown",
        "id": "7nb62kv8bo4L"
      }
    },
    {
      "cell_type": "markdown",
      "source": [
        "**Respuesta:**"
      ],
      "metadata": {
        "tags": [],
        "cell_id": "3c7f8a4a06a44cbd8d50e8a4decf4c71",
        "deepnote_cell_height": 52.26666259765625,
        "deepnote_cell_type": "markdown",
        "id": "4VI2YKlpbo4L"
      }
    },
    {
      "cell_type": "code",
      "source": [
        "df_retail= df_retail.sort_values(['Customer ID', 'InvoiceDate'])"
      ],
      "metadata": {
        "id": "Rl7JMBigPRFa"
      },
      "execution_count": 104,
      "outputs": []
    },
    {
      "cell_type": "code",
      "source": [
        "df_retail['PreviousInvoiceDate'] = df_retail.groupby(['Customer ID'])['InvoiceDate'].shift()\n",
        "df_retail['DaysBetweenVisits'] = (df_retail['InvoiceDate'] - df_retail['PreviousInvoiceDate']).dt.days"
      ],
      "metadata": {
        "id": "dHt0cvQPNYNj"
      },
      "execution_count": 113,
      "outputs": []
    },
    {
      "cell_type": "code",
      "source": [
        "ivt = df_retail.groupby(['Invoice']).agg({\n",
        "    'Customer ID': 'last',\n",
        "    'DaysBetweenVisits': 'max'\n",
        "}).reset_index()"
      ],
      "metadata": {
        "id": "q1uve8pSIFKl"
      },
      "execution_count": 114,
      "outputs": []
    },
    {
      "cell_type": "code",
      "source": [
        "Periodicity = ivt.groupby('Customer ID').agg({\n",
        "    'DaysBetweenVisits': 'std'\n",
        "})"
      ],
      "metadata": {
        "id": "qchBzVIpNKKm"
      },
      "execution_count": 117,
      "outputs": []
    },
    {
      "cell_type": "code",
      "source": [
        "Periodicity['DaysBetweenVisits']"
      ],
      "metadata": {
        "id": "UG2WMQTAQosc",
        "outputId": "de4c01e5-7a52-4233-e5bf-61f4f6f04d82",
        "colab": {
          "base_uri": "https://localhost:8080/"
        }
      },
      "execution_count": 128,
      "outputs": [
        {
          "output_type": "execute_result",
          "data": {
            "text/plain": [
              "Customer ID\n",
              "12346.0    37.837129\n",
              "12347.0    26.162951\n",
              "12348.0          NaN\n",
              "12349.0    84.291162\n",
              "12351.0          NaN\n",
              "             ...    \n",
              "18283.0    59.628014\n",
              "18284.0     1.414214\n",
              "18285.0          NaN\n",
              "18286.0    97.631962\n",
              "18287.0    73.205191\n",
              "Name: DaysBetweenVisits, Length: 4383, dtype: float64"
            ]
          },
          "metadata": {},
          "execution_count": 128
        }
      ]
    },
    {
      "cell_type": "code",
      "source": [
        "from datetime import datetime\n",
        "def custom_features(dataframe_in):\n",
        "    dataframe_in= dataframe_in.sort_values(['Customer ID', 'InvoiceDate'])\n",
        "\n",
        "    first_visit = dataframe_in.groupby(['Customer ID'])['InvoiceDate'].min()\n",
        "    last_visit = dataframe_in.groupby(['Customer ID'])['InvoiceDate'].max()\n",
        "    Length\t = (last_visit - first_visit).dt.days\n",
        "\n",
        "    latest = dataframe_in['InvoiceDate'].max()\n",
        "    Recency = (latest - last_visit).dt.days\n",
        "\n",
        "    #Price es el valor unitario, Quantity es la cantidad comprada, debemos generar \n",
        "    #una nueva columna que sea la multiplicación, luego con ello sacar la media\n",
        "    aux = dataframe_in.copy()\n",
        "    aux['Monetary'] = aux.loc[:,'Quantity'] * aux.loc[:,'Price']\n",
        "    \n",
        "    Monetary = aux.groupby('Customer ID')['Monetary'].mean()\n",
        "    #Monetary = dataframe_in.groupby('Customer ID')['Price'].mean()\n",
        "\n",
        "    Frequency = dataframe_in.groupby(['Customer ID'])['Invoice'].count()\n",
        "    \n",
        "    #Necesitamos hacer un shift sobre el InvoiceDate para cada customer\n",
        "    aux['PreviousInvoiceDate'] = aux.groupby(['Customer ID'])['InvoiceDate'].shift()\n",
        "    #Luego calcular las diferencias entre visitas\n",
        "    aux['DaysBetweenVisits'] = (aux['InvoiceDate'] - aux['PreviousInvoiceDate']).dt.days\n",
        "    #se agrega por invoice y obtenemos los valores deseados\n",
        "    ivt = aux.groupby(['Invoice']).agg({\n",
        "        'Customer ID': 'last',\n",
        "        'DaysBetweenVisits': 'max'\n",
        "        })\n",
        "    #agegamos y calculamos std, rellenamos nulos con 0\n",
        "    Periodicity = ivt.groupby('Customer ID').agg({\n",
        "        'DaysBetweenVisits': 'std'\n",
        "        })['DaysBetweenVisits'].fillna(0)\n",
        "\n",
        "    lrmfp = pd.DataFrame(\n",
        "        {\n",
        "        'Length': Length,\n",
        "        'Recency': Recency,\n",
        "        'Monetary': Monetary,\n",
        "        'Frequency': Frequency,\n",
        "        'Periodicity': Periodicity\n",
        "    },index = Length.index\n",
        "    )\n",
        "\n",
        "    return lrmfp\n"
      ],
      "metadata": {
        "tags": [],
        "cell_id": "39a8b98eacdc43a4bdfeaa138b746198",
        "owner_user_id": "8c58f50a-7a08-41a2-952e-38bdb7507048",
        "deepnote_cell_height": 83.86666870117188,
        "deepnote_cell_type": "code",
        "id": "Pl4bpn29bo4L"
      },
      "outputs": [],
      "execution_count": 133
    },
    {
      "cell_type": "code",
      "source": [
        "custom_features(df_retail).head()"
      ],
      "metadata": {
        "colab": {
          "base_uri": "https://localhost:8080/",
          "height": 237
        },
        "id": "reAb6EjHiUCx",
        "outputId": "48bf5aae-163e-4a04-c03a-862324f78ea2"
      },
      "execution_count": 134,
      "outputs": [
        {
          "output_type": "execute_result",
          "data": {
            "text/plain": [
              "             Length  Recency   Monetary  Frequency  Periodicity\n",
              "Customer ID                                                    \n",
              "12346.0         294       66  -1.406087         46    37.837129\n",
              "12347.0          37        2  18.638310         71    26.162951\n",
              "12348.0           0       73  11.108000         20     0.000000\n",
              "12349.0         327       42  24.738224        107    84.291162\n",
              "12351.0           0       10  14.330000         21     0.000000"
            ],
            "text/html": [
              "\n",
              "  <div id=\"df-441f0531-3621-4260-a677-229c79070910\">\n",
              "    <div class=\"colab-df-container\">\n",
              "      <div>\n",
              "<style scoped>\n",
              "    .dataframe tbody tr th:only-of-type {\n",
              "        vertical-align: middle;\n",
              "    }\n",
              "\n",
              "    .dataframe tbody tr th {\n",
              "        vertical-align: top;\n",
              "    }\n",
              "\n",
              "    .dataframe thead th {\n",
              "        text-align: right;\n",
              "    }\n",
              "</style>\n",
              "<table border=\"1\" class=\"dataframe\">\n",
              "  <thead>\n",
              "    <tr style=\"text-align: right;\">\n",
              "      <th></th>\n",
              "      <th>Length</th>\n",
              "      <th>Recency</th>\n",
              "      <th>Monetary</th>\n",
              "      <th>Frequency</th>\n",
              "      <th>Periodicity</th>\n",
              "    </tr>\n",
              "    <tr>\n",
              "      <th>Customer ID</th>\n",
              "      <th></th>\n",
              "      <th></th>\n",
              "      <th></th>\n",
              "      <th></th>\n",
              "      <th></th>\n",
              "    </tr>\n",
              "  </thead>\n",
              "  <tbody>\n",
              "    <tr>\n",
              "      <th>12346.0</th>\n",
              "      <td>294</td>\n",
              "      <td>66</td>\n",
              "      <td>-1.406087</td>\n",
              "      <td>46</td>\n",
              "      <td>37.837129</td>\n",
              "    </tr>\n",
              "    <tr>\n",
              "      <th>12347.0</th>\n",
              "      <td>37</td>\n",
              "      <td>2</td>\n",
              "      <td>18.638310</td>\n",
              "      <td>71</td>\n",
              "      <td>26.162951</td>\n",
              "    </tr>\n",
              "    <tr>\n",
              "      <th>12348.0</th>\n",
              "      <td>0</td>\n",
              "      <td>73</td>\n",
              "      <td>11.108000</td>\n",
              "      <td>20</td>\n",
              "      <td>0.000000</td>\n",
              "    </tr>\n",
              "    <tr>\n",
              "      <th>12349.0</th>\n",
              "      <td>327</td>\n",
              "      <td>42</td>\n",
              "      <td>24.738224</td>\n",
              "      <td>107</td>\n",
              "      <td>84.291162</td>\n",
              "    </tr>\n",
              "    <tr>\n",
              "      <th>12351.0</th>\n",
              "      <td>0</td>\n",
              "      <td>10</td>\n",
              "      <td>14.330000</td>\n",
              "      <td>21</td>\n",
              "      <td>0.000000</td>\n",
              "    </tr>\n",
              "  </tbody>\n",
              "</table>\n",
              "</div>\n",
              "      <button class=\"colab-df-convert\" onclick=\"convertToInteractive('df-441f0531-3621-4260-a677-229c79070910')\"\n",
              "              title=\"Convert this dataframe to an interactive table.\"\n",
              "              style=\"display:none;\">\n",
              "        \n",
              "  <svg xmlns=\"http://www.w3.org/2000/svg\" height=\"24px\"viewBox=\"0 0 24 24\"\n",
              "       width=\"24px\">\n",
              "    <path d=\"M0 0h24v24H0V0z\" fill=\"none\"/>\n",
              "    <path d=\"M18.56 5.44l.94 2.06.94-2.06 2.06-.94-2.06-.94-.94-2.06-.94 2.06-2.06.94zm-11 1L8.5 8.5l.94-2.06 2.06-.94-2.06-.94L8.5 2.5l-.94 2.06-2.06.94zm10 10l.94 2.06.94-2.06 2.06-.94-2.06-.94-.94-2.06-.94 2.06-2.06.94z\"/><path d=\"M17.41 7.96l-1.37-1.37c-.4-.4-.92-.59-1.43-.59-.52 0-1.04.2-1.43.59L10.3 9.45l-7.72 7.72c-.78.78-.78 2.05 0 2.83L4 21.41c.39.39.9.59 1.41.59.51 0 1.02-.2 1.41-.59l7.78-7.78 2.81-2.81c.8-.78.8-2.07 0-2.86zM5.41 20L4 18.59l7.72-7.72 1.47 1.35L5.41 20z\"/>\n",
              "  </svg>\n",
              "      </button>\n",
              "      \n",
              "  <style>\n",
              "    .colab-df-container {\n",
              "      display:flex;\n",
              "      flex-wrap:wrap;\n",
              "      gap: 12px;\n",
              "    }\n",
              "\n",
              "    .colab-df-convert {\n",
              "      background-color: #E8F0FE;\n",
              "      border: none;\n",
              "      border-radius: 50%;\n",
              "      cursor: pointer;\n",
              "      display: none;\n",
              "      fill: #1967D2;\n",
              "      height: 32px;\n",
              "      padding: 0 0 0 0;\n",
              "      width: 32px;\n",
              "    }\n",
              "\n",
              "    .colab-df-convert:hover {\n",
              "      background-color: #E2EBFA;\n",
              "      box-shadow: 0px 1px 2px rgba(60, 64, 67, 0.3), 0px 1px 3px 1px rgba(60, 64, 67, 0.15);\n",
              "      fill: #174EA6;\n",
              "    }\n",
              "\n",
              "    [theme=dark] .colab-df-convert {\n",
              "      background-color: #3B4455;\n",
              "      fill: #D2E3FC;\n",
              "    }\n",
              "\n",
              "    [theme=dark] .colab-df-convert:hover {\n",
              "      background-color: #434B5C;\n",
              "      box-shadow: 0px 1px 3px 1px rgba(0, 0, 0, 0.15);\n",
              "      filter: drop-shadow(0px 1px 2px rgba(0, 0, 0, 0.3));\n",
              "      fill: #FFFFFF;\n",
              "    }\n",
              "  </style>\n",
              "\n",
              "      <script>\n",
              "        const buttonEl =\n",
              "          document.querySelector('#df-441f0531-3621-4260-a677-229c79070910 button.colab-df-convert');\n",
              "        buttonEl.style.display =\n",
              "          google.colab.kernel.accessAllowed ? 'block' : 'none';\n",
              "\n",
              "        async function convertToInteractive(key) {\n",
              "          const element = document.querySelector('#df-441f0531-3621-4260-a677-229c79070910');\n",
              "          const dataTable =\n",
              "            await google.colab.kernel.invokeFunction('convertToInteractive',\n",
              "                                                     [key], {});\n",
              "          if (!dataTable) return;\n",
              "\n",
              "          const docLinkHtml = 'Like what you see? Visit the ' +\n",
              "            '<a target=\"_blank\" href=https://colab.research.google.com/notebooks/data_table.ipynb>data table notebook</a>'\n",
              "            + ' to learn more about interactive tables.';\n",
              "          element.innerHTML = '';\n",
              "          dataTable['output_type'] = 'display_data';\n",
              "          await google.colab.output.renderOutput(dataTable, element);\n",
              "          const docLink = document.createElement('div');\n",
              "          docLink.innerHTML = docLinkHtml;\n",
              "          element.appendChild(docLink);\n",
              "        }\n",
              "      </script>\n",
              "    </div>\n",
              "  </div>\n",
              "  "
            ]
          },
          "metadata": {},
          "execution_count": 134
        }
      ]
    },
    {
      "cell_type": "markdown",
      "source": [
        "**Respuesta de Pauta:**"
      ],
      "metadata": {
        "tags": [],
        "cell_id": "e227578abc624b36bedcf300ab03dec3",
        "deepnote_cell_height": 52.26666259765625,
        "deepnote_cell_type": "markdown",
        "id": "eY0sYiZfbo4L"
      }
    },
    {
      "cell_type": "markdown",
      "source": [
        "## 1.3 Pipelines 👷"
      ],
      "metadata": {
        "tags": [],
        "cell_id": "e4adca3e05c741df93087e2a0638ef7d",
        "deepnote_cell_height": 69.86666870117188,
        "deepnote_cell_type": "markdown",
        "id": "1FZRdLOxbo4M"
      }
    },
    {
      "cell_type": "markdown",
      "source": [
        "Finalmente *Don Mora* le pregunta si seria posible realizar un pipeline para realizar una segmentación de los clientes con los nuevos datos generados, a lo que usted responde que **sí** y propone la utilización de k-means para la segmentación.\n",
        "\n",
        "A continuación siga los pasos requeridos para obtener la segmentación de clientes."
      ],
      "metadata": {
        "tags": [],
        "cell_id": "20e2c59abf64489d8cabc5c230e86fd2",
        "deepnote_cell_height": 133.46665954589844,
        "deepnote_cell_type": "markdown",
        "id": "b6JUcmoGbo4M"
      }
    },
    {
      "cell_type": "markdown",
      "source": [
        "### 1.3.1 Estandarizar Caracteristicas [0.5 puntos]"
      ],
      "metadata": {
        "tags": [],
        "cell_id": "c6162b8b49a045bba12f9b17b51f21bf",
        "deepnote_cell_height": 61.866668701171875,
        "deepnote_cell_type": "markdown",
        "id": "ld4hNLEzbo4M"
      }
    },
    {
      "cell_type": "markdown",
      "source": [
        "Construya una clase llamada ``MinMax()`` utilizando ``BaseEstimator`` y ``TransformerMixin`` para realizar una transformación de cada una de las columnas de un DataFrame utilizando ``ColumnTransformer()`` más tarde (tome como referencia el siguiente [enlace](https://sklearn-template.readthedocs.io/en/latest/user_guide.html#transformer)).\n",
        "\n",
        "\n",
        " Para esto considere que Min-Max escaler queda dada por la ecuación:\n",
        "\n",
        "$$MinMax = \\dfrac{x-min(x)}{max(x) - min(x)}$$\n",
        "\n",
        "Con esto buscamos que los valores que componen a las columnas se muevan en el rango de valores $[0, 1]$."
      ],
      "metadata": {
        "tags": [],
        "cell_id": "94c48775ecb4496d970fbd920f65c126",
        "deepnote_cell_height": 268.70001220703125,
        "deepnote_cell_type": "markdown",
        "id": "4mCg2hotbo4M"
      }
    },
    {
      "cell_type": "markdown",
      "source": [
        "**Respuesta:**"
      ],
      "metadata": {
        "tags": [],
        "cell_id": "c087d1fa8aa94d7485fe1292bf628660",
        "deepnote_cell_height": 52.26666259765625,
        "deepnote_cell_type": "markdown",
        "id": "KexhShYGbo4M"
      }
    },
    {
      "cell_type": "code",
      "source": [
        "class MinMax(BaseEstimator, TransformerMixin):\n",
        "    def __init__(self, feature_range=(0, 1)):\n",
        "        self.feature_range = feature_range\n",
        "        self.min_ = None\n",
        "        self.max_ = None\n",
        "        self.feature_names_ = None\n",
        "\n",
        "    def fit(self, X, y=None):\n",
        "        self.min_ = X.min(axis=0)\n",
        "        self.max_ = X.max(axis=0)\n",
        "        self.feature_names_ = X.columns if hasattr(X, 'columns') else None\n",
        "\n",
        "    def transform(self, X):\n",
        "        if self.min_ is None or self.max_ is None:\n",
        "            raise ValueError(\"Scaler has not been fitted.\")\n",
        "        \n",
        "        X_scaled = (X - self.min_) / (self.max_ - self.min_)\n",
        "        # LLevar al rango deseado si es que se da otro\n",
        "        X_scaled = X_scaled * (self.feature_range[1] - self.feature_range[0]) + self.feature_range[0]\n",
        "        return X_scaled.values\n",
        "\n",
        "    def fit_transform(self, X, y=None, **fit_params):\n",
        "        self.fit(X, y)\n",
        "        return self.transform(X)"
      ],
      "metadata": {
        "id": "MiwsFklp_L9M"
      },
      "execution_count": 135,
      "outputs": []
    },
    {
      "cell_type": "markdown",
      "source": [
        "### 1.3.2 `T-SNE` Pipeline [1.0 puntos]"
      ],
      "metadata": {
        "tags": [],
        "cell_id": "b280dbe181ce4d80a6a5b5f563c842e7",
        "deepnote_cell_height": 62.19999694824219,
        "deepnote_cell_type": "markdown",
        "id": "Y5wMB8Bgbo4M"
      }
    },
    {
      "cell_type": "markdown",
      "source": [
        "Para comenzar introduciéndose en el uso de pipeline, decide probar realizando un pipeline enfocado en la reducción de dimensionalidad y así hacer no decepcionar a Mr. Lepin con la clusterización del modelo. \n",
        "\n",
        "Configure un pipeline utilizando el algoritmo `T-SNE` sobre los datos **LRMFP**, donde, para la realización del pipeline considera los siguientes pasos:\n",
        "\n",
        "1. Como primer paso obtenga las características **LRMFP** desde el DataFrame ``df_retail_II_cleaned.pickle`` utilizando la función ``custom_features`` creada anteriormente, junto a ``FunctionTransformer()``. Considere esto como el primer paso de su pipeline.\n",
        "2. En segundo lugar usando ``ColumnTransformer()`` aplique el MinxMax scaler creado por usted sobre todas las columnas generadas en el paso anterior. \n",
        "3. Finalmente, aplique un último paso donde obtiene las 2 componentes más relevantes utilizando el algoritmo `T-SNE` de sckit-learn.\n",
        "\n",
        "Tras aplicar las transformaciones sobre el dataset **LRMFP**, gráfique las componentes obtenidas en la reducción de dimensionalidad."
      ],
      "metadata": {
        "tags": [],
        "cell_id": "c532e63f2fd541cda5b741d2f24c1ea8",
        "deepnote_cell_height": 413.8666687011719,
        "deepnote_cell_type": "markdown",
        "id": "Bb5FzrAvbo4N"
      }
    },
    {
      "cell_type": "markdown",
      "source": [
        "**Respuesta:**"
      ],
      "metadata": {
        "tags": [],
        "cell_id": "a480355952a34b6cb7e72afa764091d6",
        "deepnote_cell_height": 52.26666259765625,
        "deepnote_cell_type": "markdown",
        "id": "24TXn7Wlbo4N"
      }
    },
    {
      "cell_type": "code",
      "source": [
        "lrmfp_transformer = FunctionTransformer(\n",
        "    custom_features\n",
        ")"
      ],
      "metadata": {
        "id": "jOx35ybK6vWh"
      },
      "execution_count": 136,
      "outputs": []
    },
    {
      "cell_type": "code",
      "source": [
        "ct = ColumnTransformer(\n",
        "    [\n",
        "        (\n",
        "            'Scaler',\n",
        "            MinMax(),\n",
        "            custom_features(df_retail).columns\n",
        "        )\n",
        "    ],\n",
        "    remainder='passthrough'\n",
        ")"
      ],
      "metadata": {
        "id": "XvpsYzl0AfRk"
      },
      "execution_count": 137,
      "outputs": []
    },
    {
      "cell_type": "code",
      "source": [
        "projector_pipe = Pipeline([\n",
        "    ('LRMFP', lrmfp_transformer),\n",
        "    ('scaling', ct),\n",
        "    ('tsne', TSNE(n_components=2))\n",
        "])"
      ],
      "metadata": {
        "tags": [],
        "cell_id": "1889976b7a4c40c7825752979b577567",
        "deepnote_cell_height": 65.86666870117188,
        "deepnote_cell_type": "code",
        "id": "3A5T7qpnbo4N"
      },
      "outputs": [],
      "execution_count": 138
    },
    {
      "cell_type": "code",
      "source": [
        "projections = pd.DataFrame(\n",
        "    projector_pipe.fit_transform(df_retail), columns=[\"x_tsne\", \"y_tsne\"]\n",
        "    )\n",
        "projections"
      ],
      "metadata": {
        "colab": {
          "base_uri": "https://localhost:8080/",
          "height": 423
        },
        "id": "PQsoryU-7zX2",
        "outputId": "f5f8f84d-246c-4b1c-ecb4-479c30e75bcd"
      },
      "execution_count": 139,
      "outputs": [
        {
          "output_type": "execute_result",
          "data": {
            "text/plain": [
              "         x_tsne     y_tsne\n",
              "0     45.761368  -0.608556\n",
              "1    -12.912917 -32.900352\n",
              "2    -46.724850 -33.816700\n",
              "3     33.074516  18.920115\n",
              "4     21.828066 -49.937649\n",
              "...         ...        ...\n",
              "4378  30.542931   2.658605\n",
              "4379 -35.730797 -41.537685\n",
              "4380  -8.958874  45.814297\n",
              "4381  22.484848  16.554907\n",
              "4382  50.882538  17.887146\n",
              "\n",
              "[4383 rows x 2 columns]"
            ],
            "text/html": [
              "\n",
              "  <div id=\"df-37af2f5f-9cc3-4b06-aa19-f092506946da\">\n",
              "    <div class=\"colab-df-container\">\n",
              "      <div>\n",
              "<style scoped>\n",
              "    .dataframe tbody tr th:only-of-type {\n",
              "        vertical-align: middle;\n",
              "    }\n",
              "\n",
              "    .dataframe tbody tr th {\n",
              "        vertical-align: top;\n",
              "    }\n",
              "\n",
              "    .dataframe thead th {\n",
              "        text-align: right;\n",
              "    }\n",
              "</style>\n",
              "<table border=\"1\" class=\"dataframe\">\n",
              "  <thead>\n",
              "    <tr style=\"text-align: right;\">\n",
              "      <th></th>\n",
              "      <th>x_tsne</th>\n",
              "      <th>y_tsne</th>\n",
              "    </tr>\n",
              "  </thead>\n",
              "  <tbody>\n",
              "    <tr>\n",
              "      <th>0</th>\n",
              "      <td>45.761368</td>\n",
              "      <td>-0.608556</td>\n",
              "    </tr>\n",
              "    <tr>\n",
              "      <th>1</th>\n",
              "      <td>-12.912917</td>\n",
              "      <td>-32.900352</td>\n",
              "    </tr>\n",
              "    <tr>\n",
              "      <th>2</th>\n",
              "      <td>-46.724850</td>\n",
              "      <td>-33.816700</td>\n",
              "    </tr>\n",
              "    <tr>\n",
              "      <th>3</th>\n",
              "      <td>33.074516</td>\n",
              "      <td>18.920115</td>\n",
              "    </tr>\n",
              "    <tr>\n",
              "      <th>4</th>\n",
              "      <td>21.828066</td>\n",
              "      <td>-49.937649</td>\n",
              "    </tr>\n",
              "    <tr>\n",
              "      <th>...</th>\n",
              "      <td>...</td>\n",
              "      <td>...</td>\n",
              "    </tr>\n",
              "    <tr>\n",
              "      <th>4378</th>\n",
              "      <td>30.542931</td>\n",
              "      <td>2.658605</td>\n",
              "    </tr>\n",
              "    <tr>\n",
              "      <th>4379</th>\n",
              "      <td>-35.730797</td>\n",
              "      <td>-41.537685</td>\n",
              "    </tr>\n",
              "    <tr>\n",
              "      <th>4380</th>\n",
              "      <td>-8.958874</td>\n",
              "      <td>45.814297</td>\n",
              "    </tr>\n",
              "    <tr>\n",
              "      <th>4381</th>\n",
              "      <td>22.484848</td>\n",
              "      <td>16.554907</td>\n",
              "    </tr>\n",
              "    <tr>\n",
              "      <th>4382</th>\n",
              "      <td>50.882538</td>\n",
              "      <td>17.887146</td>\n",
              "    </tr>\n",
              "  </tbody>\n",
              "</table>\n",
              "<p>4383 rows × 2 columns</p>\n",
              "</div>\n",
              "      <button class=\"colab-df-convert\" onclick=\"convertToInteractive('df-37af2f5f-9cc3-4b06-aa19-f092506946da')\"\n",
              "              title=\"Convert this dataframe to an interactive table.\"\n",
              "              style=\"display:none;\">\n",
              "        \n",
              "  <svg xmlns=\"http://www.w3.org/2000/svg\" height=\"24px\"viewBox=\"0 0 24 24\"\n",
              "       width=\"24px\">\n",
              "    <path d=\"M0 0h24v24H0V0z\" fill=\"none\"/>\n",
              "    <path d=\"M18.56 5.44l.94 2.06.94-2.06 2.06-.94-2.06-.94-.94-2.06-.94 2.06-2.06.94zm-11 1L8.5 8.5l.94-2.06 2.06-.94-2.06-.94L8.5 2.5l-.94 2.06-2.06.94zm10 10l.94 2.06.94-2.06 2.06-.94-2.06-.94-.94-2.06-.94 2.06-2.06.94z\"/><path d=\"M17.41 7.96l-1.37-1.37c-.4-.4-.92-.59-1.43-.59-.52 0-1.04.2-1.43.59L10.3 9.45l-7.72 7.72c-.78.78-.78 2.05 0 2.83L4 21.41c.39.39.9.59 1.41.59.51 0 1.02-.2 1.41-.59l7.78-7.78 2.81-2.81c.8-.78.8-2.07 0-2.86zM5.41 20L4 18.59l7.72-7.72 1.47 1.35L5.41 20z\"/>\n",
              "  </svg>\n",
              "      </button>\n",
              "      \n",
              "  <style>\n",
              "    .colab-df-container {\n",
              "      display:flex;\n",
              "      flex-wrap:wrap;\n",
              "      gap: 12px;\n",
              "    }\n",
              "\n",
              "    .colab-df-convert {\n",
              "      background-color: #E8F0FE;\n",
              "      border: none;\n",
              "      border-radius: 50%;\n",
              "      cursor: pointer;\n",
              "      display: none;\n",
              "      fill: #1967D2;\n",
              "      height: 32px;\n",
              "      padding: 0 0 0 0;\n",
              "      width: 32px;\n",
              "    }\n",
              "\n",
              "    .colab-df-convert:hover {\n",
              "      background-color: #E2EBFA;\n",
              "      box-shadow: 0px 1px 2px rgba(60, 64, 67, 0.3), 0px 1px 3px 1px rgba(60, 64, 67, 0.15);\n",
              "      fill: #174EA6;\n",
              "    }\n",
              "\n",
              "    [theme=dark] .colab-df-convert {\n",
              "      background-color: #3B4455;\n",
              "      fill: #D2E3FC;\n",
              "    }\n",
              "\n",
              "    [theme=dark] .colab-df-convert:hover {\n",
              "      background-color: #434B5C;\n",
              "      box-shadow: 0px 1px 3px 1px rgba(0, 0, 0, 0.15);\n",
              "      filter: drop-shadow(0px 1px 2px rgba(0, 0, 0, 0.3));\n",
              "      fill: #FFFFFF;\n",
              "    }\n",
              "  </style>\n",
              "\n",
              "      <script>\n",
              "        const buttonEl =\n",
              "          document.querySelector('#df-37af2f5f-9cc3-4b06-aa19-f092506946da button.colab-df-convert');\n",
              "        buttonEl.style.display =\n",
              "          google.colab.kernel.accessAllowed ? 'block' : 'none';\n",
              "\n",
              "        async function convertToInteractive(key) {\n",
              "          const element = document.querySelector('#df-37af2f5f-9cc3-4b06-aa19-f092506946da');\n",
              "          const dataTable =\n",
              "            await google.colab.kernel.invokeFunction('convertToInteractive',\n",
              "                                                     [key], {});\n",
              "          if (!dataTable) return;\n",
              "\n",
              "          const docLinkHtml = 'Like what you see? Visit the ' +\n",
              "            '<a target=\"_blank\" href=https://colab.research.google.com/notebooks/data_table.ipynb>data table notebook</a>'\n",
              "            + ' to learn more about interactive tables.';\n",
              "          element.innerHTML = '';\n",
              "          dataTable['output_type'] = 'display_data';\n",
              "          await google.colab.output.renderOutput(dataTable, element);\n",
              "          const docLink = document.createElement('div');\n",
              "          docLink.innerHTML = docLinkHtml;\n",
              "          element.appendChild(docLink);\n",
              "        }\n",
              "      </script>\n",
              "    </div>\n",
              "  </div>\n",
              "  "
            ]
          },
          "metadata": {},
          "execution_count": 139
        }
      ]
    },
    {
      "cell_type": "code",
      "source": [
        "px.scatter(\n",
        "    projections,\n",
        "    x=\"x_tsne\",\n",
        "    y=\"y_tsne\",\n",
        ")"
      ],
      "metadata": {
        "colab": {
          "base_uri": "https://localhost:8080/",
          "height": 542
        },
        "id": "G86_tI_7BcTe",
        "outputId": "3ffe73b9-77a7-47c3-d382-9a3b2a180030"
      },
      "execution_count": 140,
      "outputs": [
        {
          "output_type": "display_data",
          "data": {
            "text/html": [
              "<html>\n",
              "<head><meta charset=\"utf-8\" /></head>\n",
              "<body>\n",
              "    <div>            <script src=\"https://cdnjs.cloudflare.com/ajax/libs/mathjax/2.7.5/MathJax.js?config=TeX-AMS-MML_SVG\"></script><script type=\"text/javascript\">if (window.MathJax && window.MathJax.Hub && window.MathJax.Hub.Config) {window.MathJax.Hub.Config({SVG: {font: \"STIX-Web\"}});}</script>                <script type=\"text/javascript\">window.PlotlyConfig = {MathJaxConfig: 'local'};</script>\n",
              "        <script charset=\"utf-8\" src=\"https://cdn.plot.ly/plotly-2.20.0.min.js\"></script>                <div id=\"3e660ebf-084e-493b-9027-d22eb89a3ee8\" class=\"plotly-graph-div\" style=\"height:525px; width:100%;\"></div>            <script type=\"text/javascript\">                                    window.PLOTLYENV=window.PLOTLYENV || {};                                    if (document.getElementById(\"3e660ebf-084e-493b-9027-d22eb89a3ee8\")) {                    Plotly.newPlot(                        \"3e660ebf-084e-493b-9027-d22eb89a3ee8\",                        [{\"hovertemplate\":\"x_tsne=%{x}<br>y_tsne=%{y}<extra></extra>\",\"legendgroup\":\"\",\"marker\":{\"color\":\"#636efa\",\"symbol\":\"circle\"},\"mode\":\"markers\",\"name\":\"\",\"showlegend\":false,\"x\":[45.76136779785156,-12.912917137145996,-46.724849700927734,33.07451629638672,21.828065872192383,-6.303070068359375,-23.05516815185547,-58.18133544921875,-8.833102226257324,7.584341526031494,35.649234771728516,47.116146087646484,30.255178451538086,14.887250900268555,-20.173437118530273,-25.08906364440918,-28.0428524017334,17.63851547241211,-28.52249526977539,17.536067962646484,-27.749156951904297,3.364502429962158,-15.13838005065918,9.559591293334961,-59.38880920410156,-16.31105613708496,34.21162414550781,3.2034196853637695,15.534912109375,26.048364639282227,-31.48408317565918,-0.6808103919029236,24.75153350830078,11.007699966430664,-48.05415344238281,-8.898577690124512,24.810426712036133,-1.6949925422668457,27.307762145996094,-30.785783767700195,32.697837829589844,-50.87602233886719,3.8099021911621094,33.15192794799805,-1.1297186613082886,-3.9115993976593018,-45.56474685668945,-24.513212203979492,-1.8654463291168213,-15.46338939666748,-45.190711975097656,3.56488037109375,-11.244858741760254,55.52592086791992,13.653489112854004,-14.62460994720459,-18.440582275390625,55.1844482421875,-17.285066604614258,29.668642044067383,-26.4395809173584,-17.76310157775879,24.749963760375977,5.542007923126221,41.420413970947266,-0.8070749044418335,12.011054992675781,54.7818717956543,61.18182373046875,-24.826580047607422,8.06414794921875,25.935516357421875,-13.632134437561035,-17.210552215576172,-20.634815216064453,-10.172277450561523,-28.30100440979004,24.08477020263672,42.45853042602539,-21.9716796875,-20.645877838134766,-42.569339752197266,-48.115234375,3.5266613960266113,-15.273109436035156,22.456937789916992,-48.31027603149414,5.7893171310424805,71.41073608398438,70.78675842285156,36.6581916809082,-24.642677307128906,0.6744996905326843,21.140836715698242,-6.288184642791748,19.229930877685547,9.361161231994629,36.31581115722656,40.11579132080078,-53.99746322631836,-41.460662841796875,-10.824983596801758,66.08475494384766,-16.441543579101562,14.954455375671387,-24.202640533447266,-34.21467208862305,20.196542739868164,-60.47373580932617,18.653526306152344,-50.19295120239258,4.764348030090332,-15.282392501831055,-51.047306060791016,41.89418029785156,-22.561803817749023,-19.967941284179688,1.9589674472808838,-35.09638595581055,69.210205078125,33.20399856567383,-6.440250396728516,-31.35101890563965,-50.537574768066406,19.858381271362305,-0.12113793194293976,-23.38408660888672,-23.897525787353516,14.783853530883789,8.354205131530762,65.27253723144531,-13.770149230957031,-52.19744873046875,-44.99171829223633,-20.732547760009766,-9.14778995513916,-52.017189025878906,3.9674482345581055,50.53752136230469,-16.292707443237305,-22.791353225708008,37.93989944458008,-18.186559677124023,3.876354217529297,-5.338825702667236,-22.577991485595703,-0.9905413389205933,29.88731575012207,-9.090917587280273,-54.18730163574219,1.9033832550048828,68.64634704589844,29.814367294311523,11.967010498046875,25.519216537475586,-19.032596588134766,-15.014605522155762,-50.861114501953125,31.518850326538086,-46.04891586303711,12.446661949157715,9.704827308654785,69.67292022705078,-17.59845733642578,-3.8241701126098633,3.3443946838378906,-17.339439392089844,61.86152267456055,56.254573822021484,48.217567443847656,-1.8432092666625977,-60.7469482421875,36.766082763671875,29.338308334350586,-22.52731704711914,-15.16856861114502,22.407848358154297,-31.9024715423584,2.147510051727295,-48.69853210449219,-17.876361846923828,-20.161441802978516,3.6364803314208984,-20.91722297668457,5.330902099609375,17.735258102416992,21.32749366760254,24.30006217956543,44.24542999267578,21.742868423461914,39.08216094970703,-5.60237979888916,-43.77619934082031,-53.197959899902344,-39.90046310424805,-4.719202518463135,-45.2691650390625,23.819860458374023,-29.485515594482422,5.210155487060547,17.96511459350586,-3.4470019340515137,37.62584686279297,19.228843688964844,-42.52482223510742,-47.25605773925781,-13.981526374816895,-36.58725357055664,-10.306683540344238,-14.034296035766602,40.62245178222656,70.8208999633789,72.200439453125,67.41832733154297,24.82111167907715,-40.9212532043457,-38.550254821777344,-21.979129791259766,-1.7800542116165161,-25.80180549621582,-17.919607162475586,19.75629234313965,-48.24829864501953,-34.01856994628906,-20.751367568969727,-28.56882095336914,52.22391128540039,2.7787089347839355,68.87391662597656,72.1293716430664,-26.642314910888672,70.62953186035156,59.62012481689453,-48.24099349975586,1.2581313848495483,-4.704868793487549,2.9831018447875977,14.682510375976562,24.6678409576416,12.2704439163208,10.026724815368652,-51.33212661743164,9.268177032470703,32.02851486206055,-6.3527326583862305,-45.99532699584961,24.28679847717285,-2.4998645782470703,-52.323280334472656,-31.665584564208984,-16.458452224731445,-7.025707721710205,-9.870014190673828,70.24612426757812,71.53068542480469,-0.9111087918281555,-55.520294189453125,70.0869369506836,41.80263137817383,52.26549530029297,-48.61865234375,-48.50020980834961,25.349706649780273,-8.12630558013916,-5.915744304656982,20.995014190673828,-26.326318740844727,11.068841934204102,-32.73927688598633,-59.32606506347656,-57.65301513671875,-14.59153938293457,-5.205048561096191,-47.84493637084961,13.340145111083984,67.67388153076172,-44.891845703125,2.9598824977874756,-54.39886474609375,-12.949881553649902,-41.59302520751953,-30.596088409423828,-28.528095245361328,-10.150794982910156,-21.081344604492188,27.494308471679688,-18.305946350097656,-12.847393989562988,-28.034881591796875,-7.209892272949219,-38.491451263427734,-53.736480712890625,3.183000326156616,-32.83998489379883,-6.933119297027588,-2.051755905151367,-30.974010467529297,35.22873306274414,2.196157455444336,-0.9583163261413574,-6.238344192504883,-21.493408203125,-11.691617965698242,-15.473604202270508,-11.582730293273926,-16.78464698791504,-47.3130989074707,54.87941360473633,-41.068790435791016,31.825056076049805,-11.728306770324707,58.35380554199219,-63.951576232910156,-45.32337188720703,55.1418342590332,60.89486312866211,-57.65730285644531,15.64542007446289,71.783935546875,19.24005126953125,2.8558855056762695,21.695924758911133,62.22896194458008,0.14425987005233765,3.311225652694702,5.377720355987549,-0.8646419048309326,14.244002342224121,-52.903526306152344,-41.73646926879883,21.553844451904297,-15.052978515625,-5.380541801452637,20.210289001464844,38.580665588378906,-47.33408737182617,6.150510787963867,-34.824073791503906,-19.969467163085938,14.343027114868164,-47.244930267333984,-16.075733184814453,-32.05790710449219,57.232242584228516,-3.960796594619751,1.9268006086349487,28.21700668334961,-46.92547607421875,73.56201171875,19.14386558532715,4.567757606506348,15.030167579650879,8.463281631469727,32.023109436035156,8.51248836517334,9.983379364013672,-0.8333507180213928,6.3547539710998535,9.304351806640625,-5.732194900512695,-54.35498809814453,-11.335614204406738,5.538712501525879,4.662174701690674,-30.316783905029297,-39.5127067565918,-38.8599967956543,-23.34372329711914,25.901132583618164,22.44099998474121,18.8336238861084,25.110187530517578,-65.94551086425781,59.04849624633789,-14.026394844055176,14.547306060791016,19.659330368041992,50.71901321411133,-30.047746658325195,-14.113884925842285,71.66870880126953,7.680575847625732,54.847286224365234,-47.59526824951172,30.493797302246094,-4.059386253356934,6.125925540924072,67.52345275878906,-19.436304092407227,35.14116287231445,-18.85293197631836,17.31306266784668,17.56088638305664,40.84764862060547,-4.2918548583984375,25.940523147583008,13.15368366241455,-11.224064826965332,-45.5697021484375,23.56365203857422,-9.165131568908691,61.295814514160156,41.62586975097656,-51.467628479003906,-21.38671875,-24.770339965820312,-15.404356956481934,7.114890098571777,-6.285933971405029,21.330097198486328,14.939010620117188,4.21450138092041,-46.35506057739258,-2.792802333831787,-43.320709228515625,30.07961082458496,69.50285339355469,22.75113296508789,-29.899187088012695,-58.9391975402832,28.891389846801758,34.75531005859375,-42.70018005371094,33.75013732910156,-10.69192886352539,67.74833679199219,12.85804271697998,-44.80421447753906,31.793909072875977,21.985536575317383,48.43802261352539,6.983144760131836,3.1001598834991455,-4.658309459686279,21.153596878051758,21.785980224609375,54.758934020996094,-13.446956634521484,-14.037263870239258,56.06261444091797,-21.72568130493164,61.287227630615234,-24.31383514404297,-52.80557632446289,32.755374908447266,-2.369093418121338,19.101192474365234,24.64443588256836,3.0068132877349854,66.8264389038086,-31.8021297454834,4.624988555908203,27.402599334716797,53.69967269897461,-21.540353775024414,70.2271728515625,-38.05762481689453,-53.73654556274414,-17.295961380004883,-12.360645294189453,-6.56906270980835,39.11152267456055,0.6133560538291931,24.4812068939209,-0.14117521047592163,-8.516578674316406,-37.93816375732422,-12.790443420410156,-39.84077835083008,4.257259368896484,56.05736541748047,-19.736412048339844,-10.162520408630371,-19.8169002532959,-6.96096134185791,-17.423673629760742,-48.252132415771484,64.74221801757812,19.206708908081055,-13.661065101623535,70.70809936523438,-33.99024963378906,18.821735382080078,-33.528282165527344,3.3655507564544678,-20.339393615722656,-64.306884765625,-21.822145462036133,8.259416580200195,-42.06856918334961,-32.809654235839844,6.471121788024902,-20.658353805541992,6.270517349243164,25.68504524230957,-40.82727813720703,-20.726634979248047,-8.367570877075195,-47.58502960205078,67.23616027832031,72.87591552734375,-33.91408157348633,13.463188171386719,71.24239349365234,46.69631576538086,-40.4666748046875,-41.51185989379883,30.101490020751953,11.824379920959473,-5.544837951660156,-33.93668746948242,71.4908447265625,0.6880690455436707,-10.852248191833496,25.378509521484375,71.23565673828125,-5.900329113006592,-4.803056716918945,60.073036193847656,-29.569725036621094,-11.89217472076416,20.653194427490234,-0.25230488181114197,21.930591583251953,-45.052154541015625,-30.22222137451172,51.50052261352539,-16.505186080932617,-64.61267852783203,45.089900970458984,-1.7508865594863892,-11.259899139404297,25.799358367919922,-11.19847583770752,36.4832649230957,26.224151611328125,-7.071002006530762,-4.945186138153076,-26.38427734375,7.447574615478516,-51.71174621582031,30.04121208190918,-25.843767166137695,-21.807697296142578,22.804481506347656,-46.83869934082031,-17.168909072875977,-43.15910720825195,69.19835662841797,0.6863558888435364,-6.2411932945251465,-46.61371612548828,-3.201578140258789,59.81197738647461,-51.36525344848633,-39.31779479980469,16.85580062866211,59.644168853759766,-14.728699684143066,-30.02184295654297,28.697032928466797,33.325439453125,-3.362600326538086,20.82141876220703,19.691120147705078,3.984262704849243,-44.85284423828125,65.0261001586914,-28.367158889770508,-23.65715980529785,-29.92545509338379,-31.413448333740234,2.614241361618042,-60.85194396972656,-60.31941223144531,-14.317178726196289,68.37594604492188,64.56918334960938,-13.473155975341797,-38.921016693115234,56.63980484008789,-35.571632385253906,-41.97148895263672,11.958174705505371,22.267789840698242,-30.738439559936523,-13.246597290039062,-10.296603202819824,-13.979488372802734,-39.27227020263672,-32.43142318725586,8.839771270751953,-41.547481536865234,-9.868587493896484,71.0877456665039,-16.33283042907715,64.49335479736328,55.5944938659668,-12.440427780151367,-48.06974792480469,57.345821380615234,-0.32161200046539307,24.739686965942383,-13.957086563110352,59.47786331176758,9.037674903869629,23.210325241088867,-15.681349754333496,-11.789541244506836,-35.44184494018555,-54.5355224609375,-53.1713752746582,19.424758911132812,47.47809600830078,-3.088716506958008,25.96185302734375,-61.53236770629883,17.79096794128418,-25.05445671081543,4.8658623695373535,1.387436866760254,-23.397159576416016,30.685575485229492,-27.284250259399414,13.257559776306152,4.102148056030273,-41.326202392578125,-0.8919553756713867,31.732364654541016,-29.621633529663086,-15.253486633300781,17.77100372314453,17.63188362121582,21.85150909423828,0.11803717911243439,-30.2131404876709,-7.477891445159912,34.446834564208984,9.655534744262695,-12.307955741882324,-55.1641731262207,54.78538513183594,71.6899185180664,70.43628692626953,27.04241371154785,-24.369762420654297,17.55653953552246,23.377986907958984,2.9508719444274902,20.062999725341797,28.447586059570312,2.381089448928833,-20.789081573486328,-28.02814292907715,-31.733909606933594,-43.904930114746094,-22.655969619750977,14.0955810546875,-3.5444836616516113,-30.100311279296875,25.197330474853516,-6.113595962524414,55.33550262451172,-16.96969985961914,13.6351900100708,-5.153429985046387,2.4544193744659424,-6.4454121589660645,6.19817590713501,-52.623836517333984,-14.170836448669434,13.554258346557617,31.254497528076172,-38.46118927001953,-19.060728073120117,-45.676361083984375,-1.9797308444976807,-7.706841945648193,-50.56800079345703,14.459365844726562,5.758476257324219,24.740873336791992,63.62468719482422,72.33091735839844,-23.091869354248047,-6.278370380401611,-40.581382751464844,69.5530014038086,53.178192138671875,11.187169075012207,-14.69221019744873,19.279735565185547,-12.699626922607422,-60.635345458984375,-32.756370544433594,-14.099305152893066,19.111413955688477,-51.66700744628906,-8.229694366455078,3.418978452682495,-16.482633590698242,-14.81535530090332,24.4379825592041,-2.391108989715576,-7.782463550567627,-25.19106101989746,-3.329345703125,-40.13574981689453,-25.745515823364258,25.993621826171875,-0.7274922132492065,-15.581982612609863,30.16525650024414,-21.05204200744629,-54.63992691040039,18.98403549194336,-38.88600158691406,-40.140220642089844,64.125732421875,28.97780990600586,-62.13003158569336,-4.653534412384033,-21.148324966430664,-34.24708557128906,-43.07725524902344,0.09216174483299255,-19.871356964111328,66.63090515136719,-17.277240753173828,20.706207275390625,-51.856990814208984,-29.2558536529541,-50.75626754760742,-29.6293888092041,5.666902542114258,22.2083683013916,16.708391189575195,15.973246574401855,-25.250707626342773,73.10321807861328,-29.700780868530273,32.535240173339844,-34.3400993347168,-28.83013916015625,40.765010833740234,16.91741943359375,-18.8311710357666,-19.924823760986328,66.5497817993164,27.879465103149414,-37.944190979003906,-31.43422508239746,-29.726144790649414,62.859004974365234,22.366653442382812,-48.480613708496094,22.07868194580078,-31.94659423828125,21.406978607177734,28.271595001220703,-0.46484196186065674,-63.36587142944336,-0.31183722615242004,-24.94431495666504,-40.3925666809082,-24.176620483398438,13.900854110717773,-0.16560272872447968,-29.39971160888672,24.695152282714844,65.90071105957031,16.990720748901367,24.196578979492188,-42.56510925292969,-14.598319053649902,-19.9442138671875,69.38445281982422,-24.622541427612305,-2.3957295417785645,-27.257047653198242,11.114060401916504,30.324308395385742,-38.49470901489258,23.557666778564453,-0.6736156940460205,23.033632278442383,72.8997573852539,-12.686434745788574,-20.28243637084961,-19.618392944335938,-22.77617073059082,22.10247230529785,13.46114444732666,10.402515411376953,-27.233808517456055,17.37010383605957,58.402122497558594,-28.74924659729004,27.344985961914062,64.58688354492188,5.850805282592773,40.036651611328125,-12.220383644104004,69.18729400634766,53.26333999633789,35.73495101928711,-11.194465637207031,-14.429586410522461,-23.304962158203125,0.4167720675468445,-9.31583023071289,-4.272506237030029,-19.270553588867188,-46.92947769165039,62.465240478515625,4.057020664215088,11.721879005432129,15.880685806274414,21.60905647277832,4.935415267944336,-33.929840087890625,-54.35803985595703,62.26699447631836,-12.789690971374512,-20.31037139892578,24.253284454345703,2.9137206077575684,-24.583267211914062,53.21973419189453,2.251255750656128,-15.691642761230469,-23.54117774963379,28.448442459106445,3.09269380569458,-0.6199439167976379,1.996674656867981,64.19872283935547,-27.17490577697754,21.89141845703125,34.30324172973633,-15.337542533874512,-23.937213897705078,-41.87897872924805,4.245283603668213,11.16854190826416,-5.628708362579346,25.083337783813477,-1.8547759056091309,-5.3769073486328125,38.668434143066406,-30.377460479736328,56.21414566040039,-47.9073486328125,25.20966339111328,30.962017059326172,71.44613647460938,-26.800451278686523,11.66318130493164,-6.722311019897461,-10.409821510314941,62.97611618041992,28.211360931396484,-32.49939727783203,68.06299591064453,55.58589172363281,-23.898454666137695,30.6073055267334,-20.52720069885254,-31.21129035949707,10.219664573669434,0.9423350095748901,-8.922405242919922,-11.289179801940918,-60.61516571044922,3.7553133964538574,42.904502868652344,64.13225555419922,43.7833366394043,25.3532772064209,5.622381687164307,-18.212623596191406,-13.271012306213379,-13.598220825195312,70.96781158447266,-24.58554458618164,4.099783420562744,4.85421085357666,-15.104575157165527,7.7833051681518555,-14.616557121276855,-60.01323699951172,-47.184383392333984,39.182769775390625,65.317138671875,-11.6801118850708,12.96008014678955,4.279590606689453,32.89210891723633,-14.246054649353027,-9.865885734558105,-12.755487442016602,-53.261417388916016,4.261018753051758,55.72565460205078,-2.0464062690734863,-45.588233947753906,-1.2140146493911743,-9.267548561096191,-0.4737074077129364,25.354827880859375,13.749415397644043,-42.020416259765625,40.92641067504883,27.78104019165039,-45.53815460205078,-41.310794830322266,-24.527557373046875,-41.864471435546875,61.91807556152344,-12.189201354980469,-19.024391174316406,54.200294494628906,4.639814853668213,38.76176834106445,11.662092208862305,22.115825653076172,-42.6201171875,52.520938873291016,14.505352973937988,-11.454620361328125,34.79460144042969,24.755611419677734,-14.685138702392578,-43.001625061035156,32.80185317993164,28.323463439941406,3.380814790725708,-5.0090765953063965,20.174774169921875,63.09611129760742,-21.308439254760742,-2.931462049484253,-11.156229019165039,-35.60015869140625,-22.58835792541504,-2.1368420124053955,16.056655883789062,40.18702697753906,-47.584075927734375,16.061107635498047,-7.705601215362549,-47.60805892944336,-23.93012237548828,-53.319053649902344,-4.296670913696289,-17.566225051879883,63.72761154174805,71.20207214355469,-53.3546142578125,24.96219253540039,-24.08236312866211,-64.48066711425781,18.333650588989258,-30.48725128173828,-53.411285400390625,-32.531410217285156,20.14119529724121,-29.40851593017578,-17.10380744934082,20.631216049194336,5.367366790771484,53.25080871582031,-41.250892639160156,4.805914402008057,-44.60459518432617,26.63518714904785,-27.07137107849121,7.383169174194336,-5.018213748931885,18.28314208984375,20.774599075317383,-22.087095260620117,-23.390365600585938,61.849117279052734,19.27081298828125,26.092700958251953,-20.09465980529785,62.63249206542969,45.264678955078125,-3.5541319847106934,-52.95845031738281,46.60554885864258,-59.72574996948242,-30.052778244018555,-15.362014770507812,30.527883529663086,6.496286869049072,19.660396575927734,-53.26823806762695,-20.231922149658203,-45.88764572143555,68.46746826171875,-1.2435598373413086,70.43449401855469,5.7487406730651855,-13.748053550720215,-23.98179817199707,-9.594219207763672,-28.513872146606445,-12.669315338134766,-43.90763854980469,72.38233947753906,-14.45867919921875,69.3757095336914,29.537473678588867,-20.05974769592285,29.858287811279297,17.975021362304688,-47.49079513549805,21.134660720825195,71.7683334350586,-29.3779239654541,-49.10493087768555,-22.90577507019043,-20.208139419555664,42.93305206298828,-9.690526962280273,-29.406951904296875,-24.129146575927734,52.93326187133789,13.817952156066895,-46.47418212890625,3.8665988445281982,-39.60792922973633,-17.07132911682129,-63.06653594970703,25.616657257080078,-44.77103042602539,12.06916332244873,73.37972259521484,9.021079063415527,19.417644500732422,35.8687629699707,6.0998969078063965,-45.172325134277344,35.56325912475586,-18.010135650634766,-8.02507209777832,-47.37454605102539,30.507047653198242,-38.05763626098633,-24.570341110229492,21.584064483642578,29.361963272094727,53.03166961669922,26.46250343322754,-20.99542236328125,-39.678184509277344,-50.83015060424805,69.64181518554688,-37.340885162353516,-17.33706283569336,-19.384763717651367,-18.969884872436523,-16.697315216064453,13.742583274841309,-42.50439453125,-33.30781555175781,36.3850212097168,11.923884391784668,-13.026750564575195,-1.9529691934585571,70.77961730957031,15.73897647857666,33.23279571533203,-42.89736557006836,42.40742111206055,-7.4979777336120605,-7.987155437469482,7.397610664367676,-53.630836486816406,-17.46186065673828,3.342954397201538,-10.733997344970703,4.341891765594482,38.070213317871094,34.92211151123047,45.31413269042969,-8.43088436126709,29.954010009765625,-6.926791667938232,57.018218994140625,14.728302955627441,-33.7154541015625,-17.628503799438477,9.452677726745605,27.48372459411621,63.887691497802734,-5.123095512390137,3.9776010513305664,35.796775817871094,52.3670768737793,12.95382308959961,-19.450164794921875,-9.030783653259277,-30.121963500976562,8.442657470703125,-27.16166114807129,25.800443649291992,42.07717514038086,-25.058120727539062,-13.987650871276855,-14.281067848205566,-23.54071044921875,5.982375144958496,-16.90561866760254,-53.79047775268555,28.20749855041504,-40.2773323059082,-46.712432861328125,22.082685470581055,41.53322982788086,-16.230772018432617,-6.485462188720703,33.43976593017578,-22.348392486572266,-20.977092742919922,29.04019546508789,52.2641716003418,-31.234888076782227,-14.416526794433594,-14.765615463256836,5.409833908081055,62.59465026855469,-57.265785217285156,-53.620548248291016,-12.617417335510254,-17.125404357910156,54.25483322143555,30.79682731628418,65.57601928710938,51.11752700805664,20.67990493774414,21.711090087890625,66.65123748779297,-5.944580554962158,-2.260913372039795,-44.62050247192383,21.19152069091797,-15.554548263549805,18.43303871154785,-44.903106689453125,-5.995439529418945,-40.24764633178711,26.11212921142578,-16.542518615722656,27.55470085144043,-52.75345230102539,31.748737335205078,-13.42611312866211,-26.516433715820312,52.31110382080078,11.144100189208984,-16.951698303222656,38.78759765625,71.40961456298828,58.784122467041016,35.85718536376953,-7.563708305358887,11.110671997070312,-23.81099510192871,-16.870920181274414,65.09980010986328,62.918243408203125,-12.66439437866211,-32.64241027832031,-11.087846755981445,68.01595306396484,47.28633117675781,-0.3120030164718628,-13.628942489624023,-16.345535278320312,-19.32220458984375,-48.41465759277344,-16.15937042236328,-45.60484313964844,-58.889259338378906,-17.089792251586914,32.41518020629883,9.15355396270752,34.430206298828125,-56.33834457397461,-17.62156105041504,-29.751039505004883,14.6673002243042,-42.410545349121094,2.673060655593872,-8.310023307800293,-2.042536735534668,-30.42409324645996,67.29176330566406,72.04413604736328,51.87678527832031,-64.79503631591797,10.898591041564941,16.66651153564453,21.73409652709961,-53.97318649291992,62.030723571777344,-4.923478603363037,6.283247470855713,28.451778411865234,41.822452545166016,39.19722366333008,12.009899139404297,23.438739776611328,71.83899688720703,5.306689739227295,-16.954763412475586,-14.632951736450195,59.231510162353516,-22.870019912719727,28.877330780029297,-9.070968627929688,66.11164855957031,44.475181579589844,26.063398361206055,-9.189335823059082,-25.33576774597168,-31.0562686920166,3.997584342956543,-5.77939510345459,-31.56020736694336,1.414486289024353,-5.014782428741455,25.518136978149414,4.423489570617676,30.788270950317383,66.29265594482422,-1.6385033130645752,34.90558624267578,-48.399723052978516,69.05770874023438,-45.91690444946289,26.187902450561523,-8.389644622802734,-26.057619094848633,65.3465805053711,-47.551231384277344,-2.7996654510498047,-2.319176197052002,65.93252563476562,21.720767974853516,-6.330324172973633,5.225762844085693,52.959266662597656,-19.761747360229492,43.94954299926758,-9.239896774291992,48.40373229980469,42.970558166503906,67.48243713378906,11.834280014038086,-9.500368118286133,-38.05046081542969,22.610422134399414,-38.267887115478516,28.552207946777344,-14.56009292602539,-54.43122482299805,-8.584916114807129,-38.82355499267578,7.885228633880615,28.33888053894043,-16.045642852783203,-14.761677742004395,63.234046936035156,70.1246109008789,51.30506134033203,-0.5653543472290039,-30.160966873168945,29.493513107299805,-42.5633430480957,-11.927268028259277,35.623966217041016,20.864038467407227,-30.87628173828125,-24.204261779785156,30.2174015045166,-42.278995513916016,35.89268112182617,71.5338134765625,19.624591827392578,63.812652587890625,-25.74331283569336,57.72288513183594,-45.88164138793945,-10.885001182556152,11.790193557739258,0.29956740140914917,-28.15276527404785,-3.786787986755371,-11.115436553955078,-30.923866271972656,-22.533950805664062,24.06951904296875,-3.4496333599090576,31.10830307006836,6.455652713775635,2.7173473834991455,-6.020174980163574,-19.4017333984375,10.859968185424805,-42.18122100830078,-6.000850677490234,-5.676884174346924,26.368261337280273,3.7196595668792725,-5.6374921798706055,57.77772903442383,8.592172622680664,-25.66931915283203,35.991275787353516,-2.3391313552856445,-36.109458923339844,4.634133815765381,16.974193572998047,-6.448325157165527,29.855627059936523,29.766101837158203,-4.773571014404297,5.2734785079956055,-64.51751708984375,61.9414176940918,42.373802185058594,51.124900817871094,-53.37916946411133,-12.936610221862793,37.083091735839844,-21.131391525268555,4.956307888031006,-17.854326248168945,-57.92318344116211,43.09414291381836,1.8300371170043945,21.85120391845703,-31.25455665588379,22.767580032348633,-8.129302978515625,-10.30531120300293,-17.06413459777832,-51.18235778808594,31.089942932128906,-18.24161148071289,0.5431450605392456,12.553707122802734,-24.766502380371094,47.8297004699707,-39.72572708129883,6.276878356933594,-0.535240888595581,-9.59990119934082,-1.1676474809646606,-25.78518295288086,27.72589111328125,11.39832878112793,-9.934950828552246,-41.06624984741211,-61.5262336730957,-10.384207725524902,30.210145950317383,62.18181228637695,-22.9660701751709,-39.90382385253906,25.109111785888672,-1.955196499824524,-37.677146911621094,4.048169136047363,-42.61037826538086,-31.37856674194336,-24.818370819091797,-36.586669921875,5.015827655792236,11.671721458435059,28.607316970825195,51.2447509765625,-24.08795166015625,-10.395249366760254,-22.58127784729004,36.3925666809082,-24.218931198120117,-12.621088981628418,-8.032808303833008,33.652587890625,47.793922424316406,61.97550964355469,54.331687927246094,34.792144775390625,-21.919830322265625,27.062484741210938,3.1328482627868652,71.04268646240234,71.9000015258789,23.833202362060547,27.90443992614746,-20.339134216308594,8.582951545715332,33.14045715332031,57.26791000366211,-63.13719177246094,1.5493707656860352,-41.01966094970703,-58.18758773803711,-3.0980587005615234,-29.996774673461914,-21.370901107788086,-20.994768142700195,7.389862537384033,-46.46570587158203,48.575748443603516,-19.283248901367188,-23.13287353515625,20.446821212768555,18.698026657104492,-57.124813079833984,-22.684030532836914,35.24870681762695,-25.551084518432617,64.63809204101562,-31.54021453857422,-14.591894149780273,-5.520333290100098,-12.473856925964355,-58.057594299316406,-37.87713623046875,48.62675857543945,-23.52741813659668,24.109146118164062,26.178409576416016,-20.291887283325195,-18.830507278442383,-15.741128921508789,-20.644453048706055,28.624740600585938,20.70893669128418,-53.21920394897461,-17.83484649658203,19.43618392944336,-52.32624435424805,-17.995141983032227,12.252639770507812,44.48018264770508,-60.859642028808594,-20.230213165283203,3.792534112930298,-33.47121047973633,-16.967811584472656,-26.087160110473633,-50.83397674560547,7.422411918640137,-45.226524353027344,42.022064208984375,45.73354721069336,-5.838803291320801,-53.78776931762695,-40.6334114074707,-59.69929885864258,22.92070770263672,53.913719177246094,-1.767022728919983,31.8994197845459,17.799238204956055,47.796974182128906,-13.178007125854492,-31.295001983642578,61.43756103515625,4.681864261627197,40.47795104980469,13.441047668457031,-16.46984100341797,-38.9713134765625,19.860631942749023,22.573165893554688,59.44476318359375,7.533022403717041,11.035008430480957,31.267147064208984,-12.322882652282715,64.14893341064453,16.715742111206055,27.93714141845703,24.95132827758789,-9.74351978302002,-16.44178581237793,-19.988845825195312,30.380617141723633,-44.19106674194336,-45.490264892578125,-64.7322769165039,15.410713195800781,18.699445724487305,59.65895462036133,41.02417755126953,24.722875595092773,-1.4662147760391235,-48.04362487792969,-48.73833084106445,6.620274066925049,-13.229656219482422,-5.178326606750488,13.927989959716797,37.835723876953125,-1.4463081359863281,58.260398864746094,-23.344968795776367,14.712940216064453,-12.412837982177734,50.94924545288086,38.12151336669922,-41.863521575927734,-45.34013748168945,-34.071495056152344,27.95656394958496,59.97612380981445,57.547332763671875,-14.678030967712402,24.03127098083496,-39.1524772644043,-15.26762580871582,6.134445667266846,-53.7393913269043,-22.550573348999023,24.988439559936523,49.233726501464844,28.74080467224121,29.686443328857422,22.41226577758789,-4.539726734161377,-18.814565658569336,30.159141540527344,-31.34760856628418,-2.048051357269287,8.854313850402832,-19.814584732055664,24.65359115600586,7.151723384857178,21.319881439208984,51.6209716796875,-16.11166763305664,30.502422332763672,-1.7772635221481323,0.5162449479103088,-3.140824317932129,57.229881286621094,13.80915641784668,50.9911994934082,4.420612335205078,-57.15277099609375,-13.965707778930664,52.18985366821289,-15.213693618774414,44.86393356323242,3.1671059131622314,-49.42667007446289,-25.00923728942871,-34.83157730102539,-25.29176902770996,-21.226966857910156,47.061519622802734,4.2537617683410645,71.52013397216797,33.08049392700195,-41.84589385986328,30.788877487182617,10.499533653259277,20.25038719177246,29.611629486083984,-31.937772750854492,-12.505200386047363,59.518009185791016,30.43764305114746,67.05543518066406,-41.979515075683594,-1.3481712341308594,65.51905822753906,-6.034152030944824,30.15146827697754,-16.398618698120117,25.636503219604492,9.714110374450684,-9.284106254577637,49.596805572509766,-24.666969299316406,-23.847461700439453,2.3076000213623047,67.21782684326172,31.832857131958008,-22.6126651763916,27.892858505249023,-41.8911247253418,-6.224276065826416,-28.64382553100586,-12.658595085144043,-55.035457611083984,-39.601261138916016,6.971346378326416,35.372562408447266,-13.635319709777832,-42.45307922363281,24.77292251586914,28.384563446044922,-41.17738342285156,-50.09406661987305,-61.987125396728516,17.252578735351562,19.17281723022461,-7.924610137939453,-53.27317810058594,24.949413299560547,48.81698226928711,53.866798400878906,22.92315101623535,7.808827877044678,-29.536128997802734,-9.069716453552246,-57.65716552734375,-1.3446751832962036,-2.564443588256836,-11.221521377563477,-25.098054885864258,34.939395904541016,71.23360443115234,14.43431282043457,54.54367446899414,32.965240478515625,-1.6154967546463013,2.6486897468566895,-31.592178344726562,2.5720248222351074,5.472512245178223,1.594573736190796,2.782069444656372,-17.049650192260742,5.506881237030029,-60.44880294799805,-7.587949275970459,16.54807472229004,6.278651714324951,65.2783203125,55.50806427001953,22.67025375366211,19.20394515991211,-42.309635162353516,-5.942942142486572,-6.005405902862549,-49.505924224853516,0.10013815760612488,23.714984893798828,30.19508934020996,-21.671052932739258,31.50789451599121,-33.184383392333984,71.52233123779297,-51.710174560546875,56.570987701416016,37.78633117675781,-49.13955307006836,19.91650390625,-8.143697738647461,-20.366714477539062,14.575884819030762,6.199974536895752,-31.681798934936523,29.264732360839844,-40.83216094970703,1.9313056468963623,71.7918701171875,-53.65738296508789,-23.800466537475586,-12.99704360961914,-36.9603157043457,-10.106183052062988,-6.775817394256592,-47.581233978271484,7.381126403808594,20.991235733032227,-47.383426666259766,-50.8316650390625,36.9263916015625,71.33159637451172,20.143543243408203,19.676925659179688,-48.987125396728516,6.1465606689453125,-19.70465660095215,19.0687313079834,3.4010121822357178,-4.533055305480957,-15.371567726135254,21.843168258666992,-9.85696029663086,-36.07917022705078,-9.562777519226074,-10.962111473083496,-10.527689933776855,-19.46841812133789,18.578250885009766,74.11943054199219,6.033598899841309,-35.552215576171875,-7.187000274658203,-6.124799728393555,66.7503433227539,62.91669464111328,-34.762977600097656,73.78611755371094,30.46329116821289,20.79467010498047,-55.052818298339844,-14.657368659973145,-25.273998260498047,14.47115707397461,-35.23381042480469,57.700740814208984,-47.777870178222656,0.9185454249382019,-12.186663627624512,-63.29728698730469,-30.22992706298828,20.114328384399414,56.47163009643555,-5.5742268562316895,-5.56261682510376,62.107078552246094,-41.55577087402344,-13.480325698852539,-9.776561737060547,71.77933502197266,21.94041633605957,-14.676127433776855,-45.250396728515625,-47.67680358886719,13.724888801574707,-17.403230667114258,-18.07992935180664,69.75926971435547,-41.956298828125,-19.16206932067871,-24.96229362487793,-46.47647476196289,24.51875877380371,65.57239532470703,-9.875260353088379,20.357851028442383,-53.93160629272461,-29.41533660888672,-13.54103946685791,7.973390579223633,-41.9481315612793,55.60578155517578,-7.704699516296387,-20.577707290649414,-47.379234313964844,-53.376651763916016,23.91387367248535,-7.802396774291992,-12.727169036865234,-38.81795883178711,-12.175601959228516,3.0434458255767822,-63.93601608276367,-42.39350891113281,-45.402496337890625,58.906742095947266,-42.2506103515625,-57.61920166015625,-5.155797004699707,66.04298400878906,-46.88363265991211,30.133342742919922,-19.64786720275879,-5.157686233520508,-29.882179260253906,20.242368698120117,-46.9272575378418,17.972532272338867,-33.53899383544922,-10.769935607910156,5.048001766204834,-44.73091125488281,13.993706703186035,-52.20448303222656,59.93611145019531,10.496655464172363,5.8593645095825195,34.69472885131836,34.35941696166992,-42.44029998779297,30.561161041259766,23.754167556762695,-19.542062759399414,-6.330306053161621,61.426300048828125,-9.7999849319458,-19.087739944458008,-26.742971420288086,-44.758365631103516,-21.79364585876465,-22.576248168945312,19.721302032470703,19.96014404296875,27.316347122192383,-48.8139533996582,65.39291381835938,-45.217201232910156,4.515506744384766,-44.73326873779297,-41.431034088134766,4.558135032653809,-17.471965789794922,43.09699630737305,13.47436809539795,-26.64904022216797,9.374403953552246,6.309154987335205,35.49734878540039,-13.20296573638916,6.8215436935424805,-46.375553131103516,-64.6731948852539,58.9570426940918,-12.417464256286621,22.981624603271484,-1.743256688117981,69.47200775146484,-8.443117141723633,49.99243927001953,33.300716400146484,-6.52608585357666,-13.294893264770508,-25.097393035888672,-57.65381622314453,-31.112430572509766,-31.608154296875,9.139482498168945,28.3082332611084,4.0670485496521,18.690994262695312,-4.316173076629639,-23.228225708007812,-28.487539291381836,-21.622760772705078,5.872286796569824,-33.71348571777344,26.923213958740234,61.84104919433594,67.47528076171875,33.70672607421875,70.6581802368164,-3.368529796600342,-51.241981506347656,0.2166069597005844,4.253190040588379,-20.10936737060547,64.63687133789062,-53.43531799316406,57.69084548950195,-45.4876708984375,18.9920711517334,71.11459350585938,35.23151779174805,-4.352898597717285,-42.350303649902344,66.41690063476562,8.142231941223145,-45.381710052490234,10.409950256347656,-59.68738555908203,-58.75802993774414,-1.5801607370376587,-30.898696899414062,-12.403468132019043,12.598359107971191,-5.685365676879883,-33.37925720214844,-38.48115158081055,5.467128276824951,-5.725674152374268,-53.3214111328125,-7.583828449249268,-34.85554885864258,11.52684211730957,-30.154508590698242,-29.12876319885254,20.26349639892578,-53.09443664550781,33.43709182739258,-7.361688613891602,32.349456787109375,-30.118879318237305,24.17486572265625,17.479528427124023,71.59539031982422,-22.704959869384766,6.579451084136963,-13.465163230895996,-40.613380432128906,-18.197509765625,-20.338552474975586,63.36241912841797,-34.217926025390625,2.7925825119018555,29.31903648376465,44.03104782104492,-47.57240676879883,6.566198825836182,22.180994033813477,11.34722900390625,-38.811004638671875,-4.634282112121582,2.9357757568359375,-18.912433624267578,-19.74909019470215,-15.798555374145508,-56.06598663330078,5.904550075531006,33.120296478271484,21.025760650634766,34.891780853271484,14.747162818908691,-8.489532470703125,-19.97528076171875,-39.37846374511719,-54.83198928833008,-59.87208938598633,25.643957138061523,-41.8853874206543,-11.78125,4.154932022094727,-47.50431442260742,-2.9099087715148926,39.047515869140625,11.632144927978516,71.50492858886719,-49.92656326293945,-2.4199771881103516,-16.22043228149414,9.340805053710938,-7.150888442993164,-6.664286136627197,1.7259656190872192,25.958532333374023,14.502363204956055,-2.9751031398773193,-0.02044142782688141,37.173404693603516,-5.684042453765869,-57.880836486816406,-17.05689811706543,25.477802276611328,-4.968329906463623,-35.426490783691406,31.011648178100586,54.15251541137695,58.68633270263672,9.105318069458008,20.41574478149414,-5.049313545227051,71.38054656982422,-60.9124641418457,-54.88953399658203,-46.23074722290039,-28.393312454223633,60.215301513671875,27.651792526245117,25.35723304748535,-20.595502853393555,60.435035705566406,16.65632438659668,-50.69746780395508,26.576122283935547,31.902376174926758,63.864749908447266,72.38035583496094,5.584840774536133,46.37656784057617,-25.272262573242188,7.514338970184326,6.495449066162109,34.60270690917969,7.816561222076416,-42.00358963012695,30.079986572265625,-23.08513069152832,-33.212127685546875,24.209733963012695,72.01712036132812,69.1342544555664,-19.592884063720703,5.655476093292236,-4.866876125335693,18.5841007232666,-10.073892593383789,-29.22051239013672,23.4447021484375,-30.218259811401367,68.55923461914062,2.7903950214385986,23.607799530029297,-51.671485900878906,35.74285125732422,-5.527580738067627,-48.56637191772461,5.6485066413879395,-5.64316463470459,-14.281240463256836,-17.76816177368164,13.797515869140625,-41.11545944213867,-14.973429679870605,-6.83903169631958,0.25059860944747925,7.688629150390625,16.602140426635742,-1.9034701585769653,-8.211426734924316,-11.56545352935791,-50.41334533691406,-39.37867736816406,21.03534507751465,-4.142092227935791,-0.07035302370786667,-15.235891342163086,-64.48381805419922,-9.608779907226562,-2.483211040496826,-54.972293853759766,-7.937250137329102,-9.784263610839844,-40.77688980102539,63.42423629760742,-28.617155075073242,-21.577547073364258,-17.974987030029297,4.8256120681762695,-40.954559326171875,10.272653579711914,-13.794537544250488,-14.099706649780273,-9.598512649536133,-7.924544334411621,4.443462371826172,-8.638456344604492,38.76491928100586,23.11387825012207,-43.76568603515625,20.751737594604492,22.535118103027344,-20.502634048461914,18.904003143310547,-25.791112899780273,-26.31155776977539,-39.81496810913086,57.24312973022461,13.811655044555664,28.853221893310547,36.543609619140625,-35.228050231933594,22.239665985107422,14.878561019897461,-4.960020542144775,-0.6647773385047913,-44.94029235839844,4.096004486083984,31.266677856445312,70.62348175048828,18.669336318969727,31.515771865844727,23.30245590209961,10.50378704071045,-43.6762580871582,3.865743398666382,-38.689048767089844,57.687034606933594,0.22393594682216644,-40.30117416381836,-11.180024147033691,8.870006561279297,25.798913955688477,21.83580780029297,20.756853103637695,-35.52096176147461,-59.48415756225586,33.65458679199219,-16.076358795166016,29.806610107421875,14.375755310058594,-22.3111572265625,-12.506660461425781,19.812782287597656,-19.907304763793945,-50.06726837158203,-31.745922088623047,-14.959758758544922,-3.561739206314087,69.48777770996094,13.088319778442383,-40.00688552856445,-45.36875915527344,-9.777592658996582,8.918122291564941,-64.53963470458984,-25.710006713867188,-5.660452842712402,6.777284145355225,-20.436574935913086,26.724075317382812,6.573458671569824,8.45554256439209,-11.511009216308594,51.70818328857422,-60.581878662109375,-30.50970458984375,-13.028987884521484,69.95439910888672,-9.220702171325684,-1.1431457996368408,-27.506258010864258,-16.22158432006836,31.652698516845703,-14.801941871643066,-2.5708162784576416,56.72228240966797,0.6596676707267761,11.137025833129883,-44.850013732910156,-16.451356887817383,-40.187110900878906,-22.580219268798828,36.514739990234375,-20.982133865356445,-4.643248558044434,-56.80149459838867,-4.733860492706299,-45.28703308105469,-21.353784561157227,28.747838973999023,36.06528854370117,12.100863456726074,25.87101936340332,69.2880859375,-6.356825351715088,-16.423303604125977,-12.155248641967773,28.822114944458008,71.49665832519531,37.04978942871094,-4.995380878448486,-7.018314838409424,-20.755508422851562,-4.623478889465332,-64.62733459472656,-14.582669258117676,-23.019771575927734,-41.630733489990234,71.54814147949219,55.94509506225586,-9.758516311645508,-23.620248794555664,48.0800666809082,-41.67290496826172,-19.314571380615234,6.498959541320801,31.609603881835938,-21.867822647094727,-21.41288185119629,68.93003845214844,-21.100114822387695,1.933929204940796,-14.594304084777832,-16.636337280273438,-0.575221061706543,20.46183967590332,-60.5173225402832,-8.289088249206543,-25.457719802856445,-5.819786548614502,-2.570406913757324,-6.13290548324585,-63.8452033996582,52.95183563232422,-43.98532485961914,-5.927295684814453,2.9252824783325195,71.01722717285156,-19.598371505737305,-49.19209289550781,18.189563751220703,-0.3996722996234894,25.902555465698242,20.666078567504883,47.30247497558594,-4.338566303253174,63.629730224609375,-26.58199119567871,-7.9135966300964355,13.017535209655762,15.268762588500977,-30.785606384277344,5.805009841918945,-7.83836030960083,-30.500408172607422,-12.127345085144043,60.323516845703125,2.6407623291015625,66.01666259765625,3.081408977508545,12.729511260986328,19.30937957763672,-43.336387634277344,29.368511199951172,-15.64848518371582,-50.070518493652344,-8.091614723205566,-14.344011306762695,52.58330154418945,-50.6976318359375,-4.061520099639893,-16.903318405151367,12.322139739990234,6.280697822570801,22.04216194152832,-53.9716796875,-49.97399139404297,3.965369701385498,-32.86748123168945,29.15511703491211,13.176206588745117,1.856561303138733,45.31145477294922,60.97626495361328,35.15863800048828,-32.902061462402344,-45.21620559692383,28.722002029418945,14.736191749572754,31.21814727783203,-26.995004653930664,-45.784576416015625,-48.85643768310547,33.97777557373047,-20.459753036499023,19.257305145263672,27.535423278808594,-8.046127319335938,-48.42373275756836,48.8709831237793,-20.449819564819336,-1.3315484523773193,1.3746792078018188,-4.926374435424805,-35.46477508544922,-45.43472671508789,53.41682434082031,-15.578635215759277,-18.48580551147461,25.458616256713867,-54.24495315551758,69.07803344726562,33.69224166870117,-2.109759569168091,-28.771692276000977,-53.9955940246582,6.346848487854004,-53.424381256103516,-45.93326187133789,-8.899497985839844,-15.39284896850586,-54.421627044677734,-14.691839218139648,13.77208423614502,-13.700447082519531,50.50681686401367,34.93669128417969,-11.200689315795898,53.97913360595703,-52.876007080078125,1.379638671875,-11.864555358886719,32.2154426574707,-39.764347076416016,29.964147567749023,22.558061599731445,14.233746528625488,-26.086082458496094,61.74398422241211,69.16976928710938,-3.7562270164489746,-17.08778190612793,8.314900398254395,-6.030340671539307,-17.489654541015625,-5.816680908203125,13.584348678588867,38.442325592041016,42.541778564453125,58.53565979003906,4.223620891571045,56.51408767700195,-17.274080276489258,34.12649917602539,60.94419479370117,-42.1644287109375,-2.3988137245178223,55.614009857177734,-7.508437156677246,-48.13042449951172,6.546110153198242,-4.685024261474609,-5.740955829620361,-24.23203468322754,-19.502103805541992,22.0412654876709,-9.239811897277832,-46.97477340698242,37.97248458862305,24.043535232543945,-42.246150970458984,68.48605346679688,-45.878746032714844,24.583532333374023,60.108848571777344,2.9481682777404785,-31.53829002380371,69.80577850341797,-20.942951202392578,-57.83808898925781,-6.5348029136657715,30.289627075195312,19.297630310058594,-12.816972732543945,5.588541030883789,21.93366241455078,29.401262283325195,25.002452850341797,58.208580017089844,13.791681289672852,-23.209884643554688,-5.3463134765625,-34.82460021972656,-3.771411418914795,-9.564096450805664,35.6808967590332,68.6485366821289,20.4601993560791,18.249351501464844,-23.655685424804688,-6.30686616897583,0.17505647242069244,15.125886917114258,-24.797128677368164,-42.67965316772461,0.7684782147407532,-54.198509216308594,-38.10812759399414,-54.28779983520508,3.308122158050537,70.10185241699219,69.54207611083984,-18.868188858032227,35.035160064697266,25.6356143951416,-18.24437713623047,-32.72911071777344,39.50104904174805,-41.195396423339844,47.22552490234375,61.4614143371582,-46.55586242675781,-5.925076484680176,-16.38156509399414,28.830232620239258,56.1527214050293,4.572720050811768,-18.7462100982666,-22.965309143066406,69.24263000488281,-25.239913940429688,-18.203596115112305,-19.370155334472656,-6.838106632232666,10.124492645263672,-5.263110160827637,-0.441684752702713,46.47987747192383,35.597633361816406,-11.78343391418457,66.38776397705078,56.064029693603516,-10.026139259338379,-17.931608200073242,-6.840967178344727,-31.55056381225586,-3.782111167907715,-21.64905548095703,4.3901495933532715,-4.887203216552734,37.45854949951172,18.418649673461914,38.17934799194336,10.081704139709473,-24.611557006835938,17.218278884887695,14.330982208251953,-32.69480895996094,-38.50248718261719,-4.607572078704834,9.373626708984375,49.61861038208008,-17.388635635375977,-22.36152458190918,-1.4194157123565674,70.68885040283203,8.432134628295898,-25.551668167114258,-42.06614303588867,-13.47500991821289,-51.15900421142578,-39.14443588256836,-34.67622375488281,-36.079769134521484,33.51802444458008,-9.417783737182617,69.40211486816406,-24.34761619567871,23.063125610351562,5.5882673263549805,-30.790790557861328,-6.33725643157959,-23.30112075805664,-7.141048431396484,-48.559532165527344,-34.33271026611328,-13.402369499206543,62.81605529785156,34.828887939453125,-20.33203887939453,-33.3997917175293,68.22188568115234,4.1360087394714355,-60.225101470947266,70.62416076660156,-64.48113250732422,9.2459077835083,2.032670736312866,-14.620109558105469,2.832702398300171,37.19971466064453,-17.0611629486084,-14.338029861450195,-14.625264167785645,-64.49339294433594,38.46601104736328,-16.70954132080078,-38.64860153198242,-31.798871994018555,72.22514343261719,-0.9971556663513184,-35.00825500488281,39.25822830200195,-51.49152755737305,69.19637298583984,42.46784210205078,-6.047420501708984,-14.085257530212402,66.49293518066406,3.781336784362793,43.58342361450195,-29.239471435546875,-54.19264221191406,-24.311737060546875,-5.8108320236206055,16.218542098999023,-25.775407791137695,14.775699615478516,69.14691925048828,-40.81069564819336,-25.515716552734375,-34.681522369384766,-25.081527709960938,21.818988800048828,-26.087055206298828,5.010912895202637,-39.96079635620117,-22.699687957763672,48.384830474853516,5.074666976928711,65.04617309570312,-5.349045276641846,-42.819183349609375,6.493691444396973,-17.46975326538086,9.657369613647461,54.704708099365234,-18.89304542541504,22.248079299926758,65.71915435791016,-22.868316650390625,12.907184600830078,-34.627845764160156,8.986047744750977,16.30913734436035,59.81928253173828,24.18853759765625,71.26013946533203,-22.879657745361328,51.36418151855469,-6.885762691497803,45.70669174194336,9.560408592224121,-61.206756591796875,-6.055414199829102,-49.08421325683594,7.120879173278809,-6.619593143463135,30.505512237548828,-21.710756301879883,-58.456634521484375,42.06564712524414,20.33994483947754,-19.608564376831055,-10.0819730758667,-42.276634216308594,70.83882904052734,49.7939338684082,0.7411063313484192,-17.52312469482422,6.6068949699401855,16.43416976928711,-33.674964904785156,-30.498632431030273,36.15324401855469,-52.72498321533203,-52.78703689575195,62.64408874511719,-41.87961959838867,72.12203216552734,-38.7570915222168,68.2084732055664,-41.02072525024414,67.2905044555664,13.418242454528809,65.22702026367188,-23.457048416137695,10.971071243286133,18.985618591308594,69.69639587402344,-51.30308532714844,-29.41431427001953,-17.381322860717773,-45.79410934448242,6.473781108856201,-42.10197830200195,38.9962158203125,-17.059057235717773,-20.68492317199707,-12.753907203674316,46.5992546081543,23.55256462097168,53.85329818725586,19.202104568481445,39.1103515625,6.864198207855225,0.4222303330898285,-1.7460291385650635,51.8383903503418,12.7233304977417,-4.478726387023926,-42.544822692871094,24.722755432128906,-29.644203186035156,70.31743621826172,25.818613052368164,0.6176506280899048,-24.162940979003906,13.037919998168945,49.907501220703125,-61.50421905517578,-5.738387107849121,-33.324867248535156,32.88761520385742,42.393165588378906,44.01389694213867,-57.22877502441406,14.781441688537598,-11.05777645111084,58.06766128540039,-20.636703491210938,-26.081684112548828,24.71232032775879,45.418190002441406,18.605932235717773,24.280033111572266,23.858095169067383,-12.3858642578125,-61.27390670776367,-16.557884216308594,-11.247111320495605,-17.2523136138916,-38.004295349121094,-25.164335250854492,-12.422629356384277,-16.555068969726562,-24.526514053344727,20.480382919311523,-23.639745712280273,-11.21491813659668,-17.630084991455078,31.262252807617188,35.245704650878906,-10.741622924804688,-39.2557487487793,38.020668029785156,11.927489280700684,69.54830169677734,-48.57929611206055,34.4661865234375,-17.670238494873047,-36.02705383300781,0.9097912311553955,1.3645540475845337,-7.550007343292236,15.00499439239502,-51.91054916381836,-7.381651878356934,70.86404418945312,-31.36880874633789,63.45480728149414,6.384610176086426,-17.005401611328125,-44.97124481201172,33.47554397583008,-11.43436050415039,-16.260963439941406,-0.6511808037757874,17.161487579345703,-43.33198928833008,-24.870786666870117,21.175884246826172,-42.74608612060547,30.983762741088867,70.70511627197266,-6.673032283782959,11.679471969604492,-2.2972161769866943,-13.838475227355957,22.91360092163086,-13.85176944732666,-57.22762680053711,-17.825136184692383,17.438888549804688,-33.088722229003906,-12.58795166015625,-35.967498779296875,58.69352722167969,-17.95829963684082,5.445835113525391,-30.087411880493164,36.35625457763672,11.441583633422852,-4.6982340812683105,6.643514156341553,3.266282320022583,24.09644317626953,-5.409011363983154,72.71585845947266,-1.7270493507385254,69.40776824951172,17.904953002929688,-5.450628757476807,23.403018951416016,21.998369216918945,62.869049072265625,3.635603904724121,-26.797761917114258,13.870992660522461,-46.20000457763672,69.53144836425781,-28.26595687866211,-0.2390499860048294,-14.010519981384277,-60.56167984008789,5.860695838928223,-21.823131561279297,12.246705055236816,4.840637683868408,-5.8522515296936035,-5.720703125,-44.80942916870117,-10.624297142028809,-59.887542724609375,3.9271397590637207,4.840487480163574,1.1722012758255005,-7.939818859100342,2.6277260780334473,6.508989334106445,6.865318775177002,46.171268463134766,-20.446992874145508,10.654520034790039,-7.015247344970703,-25.52281951904297,2.8293585777282715,-4.877439975738525,-1.268754482269287,-20.866771697998047,-46.64915084838867,-33.95376205444336,-18.869918823242188,-15.405878067016602,2.9401278495788574,-30.109582901000977,-30.057607650756836,-4.479028701782227,-16.97176170349121,34.518253326416016,-3.8548367023468018,-1.8777563571929932,38.095909118652344,57.856014251708984,32.287166595458984,-49.94812774658203,-1.009365439414978,-30.766942977905273,-29.625267028808594,63.23107147216797,-48.34419250488281,15.029023170471191,65.39244079589844,19.514503479003906,-45.54457092285156,-6.534188747406006,39.43366622924805,49.62010955810547,3.212894916534424,7.9967193603515625,-26.280614852905273,-51.888397216796875,-40.37959289550781,7.58502197265625,8.063187599182129,28.951248168945312,51.50291061401367,-37.105690002441406,6.156739234924316,-11.062579154968262,30.30426025390625,69.73484802246094,66.35888671875,-5.812837600708008,51.13805389404297,-6.761800289154053,6.9780449867248535,56.996246337890625,-22.859783172607422,22.752609252929688,-6.504725456237793,-51.40683364868164,-17.976839065551758,1.7569129467010498,14.989569664001465,-6.910944938659668,-16.84359359741211,-33.93619918823242,69.43689727783203,10.347184181213379,-51.84607696533203,26.225818634033203,18.165355682373047,-38.34758377075195,70.172607421875,-30.466136932373047,0.5493724942207336,3.081409454345703,4.199518203735352,64.51322174072266,-7.6347198486328125,25.994731903076172,36.66322326660156,58.81557083129883,-46.50625991821289,24.00471305847168,47.270938873291016,71.25676727294922,26.22197723388672,-30.720182418823242,-18.857196807861328,-24.7791805267334,7.598220348358154,9.342355728149414,-14.529255867004395,-29.361223220825195,8.744163513183594,-14.247049331665039,-59.473297119140625,67.4809799194336,-21.108882904052734,54.396846771240234,59.16836929321289,-18.037967681884766,-25.624048233032227,22.371864318847656,-3.543980836868286,-42.80424499511719,14.418864250183105,-46.18928146362305,21.958148956298828,62.81196594238281,-31.620216369628906,48.048065185546875,0.8239344954490662,28.23085594177246,1.3941168785095215,55.70907211303711,25.491220474243164,3.8874073028564453,71.73299407958984,-22.705585479736328,-27.77878189086914,-45.66741943359375,8.715948104858398,-45.32337188720703,-9.096208572387695,-0.19980810582637787,-2.5822219848632812,-6.855294704437256,4.702851295471191,26.58184242248535,-14.164533615112305,-29.68902587890625,-4.7688493728637695,35.265037536621094,14.112472534179688,-5.612675666809082,69.63883972167969,-25.00048065185547,-5.080611228942871,-45.835567474365234,-39.728572845458984,-5.470459938049316,-5.003030300140381,24.769136428833008,21.842300415039062,5.4885573387146,-3.2969911098480225,-48.26112365722656,-4.756124019622803,45.72979736328125,27.481178283691406,41.861629486083984,-19.22037696838379,24.590240478515625,7.9507012367248535,-17.03312110900879,38.621944427490234,-39.45711898803711,-30.981414794921875,-12.286110877990723,21.99613380432129,-48.03691864013672,-29.392080307006836,6.113080024719238,-15.644487380981445,21.291011810302734,-2.000086545944214,-9.30472469329834,-14.562253952026367,-34.20122528076172,12.157835006713867,-4.833922386169434,18.0743408203125,6.14795446395874,21.385330200195312,-2.520449638366699,-17.040679931640625,-13.219864845275879,34.06314468383789,-42.76117706298828,-45.72846984863281,-24.428409576416016,3.9771482944488525,17.204627990722656,53.666168212890625,-41.93455505371094,-24.747730255126953,-9.964826583862305,-40.77141571044922,19.524044036865234,-18.828840255737305,24.148595809936523,6.21294641494751,-16.567378997802734,0.13869178295135498,51.77500915527344,9.416218757629395,-40.43894958496094,-6.7670793533325195,-58.05860900878906,-0.8104208707809448,-34.987220764160156,15.720808029174805,-21.490501403808594,-53.29399108886719,48.404869079589844,35.9496955871582,69.18233489990234,-59.67439651489258,29.538015365600586,18.436599731445312,12.174283027648926,2.6012396812438965,-43.148841857910156,-16.573326110839844,12.647698402404785,-16.546964645385742,3.3669536113739014,-22.73127555847168,-13.588896751403809,-41.697628021240234,6.0747833251953125,24.209402084350586,-39.852508544921875,-5.946274757385254,50.566349029541016,69.8714370727539,14.227856636047363,21.169227600097656,6.267714023590088,11.745522499084473,-3.038050651550293,34.71874237060547,-30.253524780273438,68.52271270751953,-19.565828323364258,8.791961669921875,-44.90594482421875,4.397622108459473,-51.835025787353516,11.800862312316895,-14.372570991516113,5.533515930175781,-42.6861686706543,-36.135589599609375,-16.28215980529785,2.158947229385376,31.38556671142578,1.5151443481445312,20.600692749023438,6.402820110321045,16.81502342224121,-12.674139022827148,-12.510665893554688,3.818692922592163,2.3583855628967285,74.81221008300781,51.63222122192383,-41.025390625,-28.052534103393555,4.152102470397949,55.90778350830078,6.547844886779785,24.307966232299805,-13.53321361541748,3.2936878204345703,-9.789283752441406,-47.35438537597656,62.06761932373047,-16.301536560058594,-10.151199340820312,28.67850112915039,21.16366958618164,23.903955459594727,-23.46625518798828,29.400922775268555,-43.448543548583984,-18.72161865234375,-23.62922477722168,-6.023791313171387,-5.665546894073486,72.85408782958984,10.630282402038574,-18.692502975463867,34.83625793457031,-22.94369888305664,18.38521957397461,-47.63070297241211,-24.791593551635742,-15.783942222595215,-2.8748605251312256,-43.50873565673828,12.11693000793457,-19.36495018005371,-50.52658462524414,21.60504913330078,-13.433388710021973,-39.21477127075195,-26.761823654174805,-42.16709899902344,-21.752071380615234,-13.323897361755371,-26.702632904052734,-48.52462387084961,20.56368064880371,26.11247444152832,24.49863624572754,7.170990467071533,-10.011502265930176,-28.514310836791992,-21.267759323120117,26.132822036743164,-7.116731643676758,-35.06721878051758,-48.85273742675781,53.78364562988281,26.40363883972168,1.302268385887146,22.946712493896484,-25.468780517578125,-0.782214343547821,-16.1108455657959,45.31380844116211,-58.5444450378418,-24.44093132019043,-16.280899047851562,-30.440359115600586,-16.579965591430664,-60.117679595947266,8.887081146240234,-20.144460678100586,50.52631759643555,7.511335849761963,4.39192533493042,8.370092391967773,-34.412376403808594,0.8789756298065186,-56.11273193359375,-26.844982147216797,38.65229034423828,19.656112670898438,-9.041714668273926,-26.779783248901367,4.322565078735352,0.015216564759612083,30.19344139099121,30.66411781311035,17.374221801757812,-28.056222915649414,55.70540237426758,8.321369171142578,71.5767593383789,-51.008827209472656,-37.86698532104492,-29.70285415649414,-4.793056011199951,-7.38458776473999,7.259606838226318,-19.355409622192383,38.53505325317383,-19.863025665283203,-32.69425964355469,4.739321708679199,-31.846181869506836,-18.723613739013672,-14.7618989944458,-47.755558013916016,-16.16837501525879,22.52532196044922,-6.168818473815918,-63.09857940673828,-44.45152282714844,71.74085235595703,70.56892395019531,29.196067810058594,24.015098571777344,36.739566802978516,63.09238815307617,-43.9744758605957,66.85293579101562,73.26589965820312,-6.412410736083984,50.792240142822266,-41.7296142578125,52.309818267822266,-57.04519271850586,0.26414063572883606,7.433644771575928,-25.06572723388672,64.95792388916016,23.85262107849121,9.168395042419434,3.080498456954956,-6.258638381958008,-5.803837299346924,-29.411657333374023,-16.09964370727539,-9.117125511169434,20.617231369018555,20.61693572998047,-22.546443939208984,4.820980072021484,8.58979320526123,-51.053279876708984,-7.859127998352051,64.20832061767578,33.28075408935547,34.61948013305664,28.260610580444336,5.964714527130127,52.63824462890625,10.391688346862793,-0.887689471244812,-37.17451095581055,-3.912045955657959,-20.049245834350586,9.569602966308594,5.639648914337158,20.035385131835938,53.41053771972656,6.491119384765625,-29.402915954589844,21.964372634887695,50.57963180541992,-61.02809524536133,5.671168327331543,-6.265002250671387,9.852447509765625,-19.313098907470703,-8.110270500183105,-19.709943771362305,36.34210205078125,-21.17383575439453,11.9484281539917,-1.446724534034729,-24.888256072998047,-6.49183988571167,6.509706020355225,-14.943164825439453,-25.8206844329834,-18.06916618347168,-31.426429748535156,-17.345317840576172,-1.1446552276611328,-50.833641052246094,-9.779632568359375,-50.065704345703125,22.200414657592773,19.748714447021484,27.258380889892578,49.41975021362305,19.8385009765625,18.476383209228516,-13.747591018676758,-3.503180980682373,-10.068235397338867,-57.06242370605469,-33.53566360473633,21.820758819580078,-29.334762573242188,56.345760345458984,1.3024851083755493,-23.79922103881836,-17.362228393554688,19.624427795410156,5.202784061431885,-51.26610565185547,-19.848522186279297,-51.91386795043945,62.8106803894043,61.580875396728516,2.43546724319458,-17.71934700012207,1.7800594568252563,-19.39211654663086,22.698387145996094,-3.3531105518341064,-60.020751953125,62.73210906982422,72.32682037353516,49.21211624145508,46.85096740722656,-12.41103744506836,-27.65082359313965,61.32706069946289,23.291196823120117,62.11927032470703,68.12670135498047,35.954769134521484,-11.864211082458496,69.2905502319336,-24.68145751953125,-60.24959945678711,-26.291961669921875,67.85411071777344,50.368003845214844,68.29917907714844,26.617727279663086,72.25523376464844,18.330278396606445,-17.31166648864746,50.3928337097168,-14.310993194580078,24.31763458251953,-16.071943283081055,50.38287353515625,-53.692806243896484,56.68687438964844,-7.665773868560791,-52.14507293701172,-33.04273223876953,-4.396818161010742,-30.124876022338867,-6.423587799072266,-7.913598537445068,62.133811950683594,57.174476623535156,-15.799190521240234,24.39568328857422,27.478187561035156,40.364566802978516,22.032590866088867,-23.846349716186523,-39.152435302734375,-20.37188720703125,11.910897254943848,3.990722179412842,61.28261184692383,6.924471855163574,-1.7908414602279663,41.95470428466797,27.951480865478516,18.785663604736328,19.681297302246094,-5.084109783172607,-33.052608489990234,22.8759822845459,71.7545394897461,-22.734230041503906,21.229310989379883,71.47795104980469,-45.69054412841797,25.705467224121094,-25.02434730529785,-3.5372791290283203,31.624794006347656,25.486928939819336,62.9073486328125,31.911754608154297,25.50754737854004,30.975215911865234,52.73209762573242,-14.357630729675293,-26.261056900024414,-25.08067512512207,-14.450507164001465,-9.754964828491211,4.280945777893066,-25.770286560058594,16.59005355834961,23.3006649017334,-21.232892990112305,-5.768786430358887,-44.69329833984375,11.541539192199707,-24.00071907043457,52.391353607177734,-3.0516645908355713,3.4731504917144775,11.536487579345703,3.788684368133545,24.532136917114258,-59.6982421875,-23.528528213500977,4.56738805770874,-1.3560764789581299,9.624942779541016,4.4590559005737305,-12.489642143249512,36.33959197998047,-25.953493118286133,27.66666030883789,48.833072662353516,-36.4769401550293,-35.50044250488281,-28.624187469482422,-35.54111862182617,-14.886499404907227,-12.425287246704102,9.137608528137207,-21.506406784057617,-54.342525482177734,69.6347427368164,18.693300247192383,12.277913093566895,1.442162275314331,-15.053912162780762,-13.961382865905762,1.3749769926071167,-14.558374404907227,5.517840385437012,12.487815856933594,-42.804996490478516,-24.167617797851562,18.639556884765625,14.72661304473877,27.629308700561523,-16.277353286743164,-25.650352478027344,-43.611846923828125,66.63423919677734,-37.15009689331055,6.979452133178711,-30.372337341308594,21.94000816345215,20.647232055664062,3.4327309131622314,-22.1781063079834,66.46414947509766,-12.024023056030273,-1.7565248012542725,-33.22354507446289,15.342352867126465,-64.5112075805664,14.484923362731934,-7.101772785186768,-10.151366233825684,-13.535740852355957,-5.092428684234619,65.46939086914062,2.075618028640747,4.52121114730835,-3.024846076965332,-29.599227905273438,29.721654891967773,-13.729779243469238,8.094297409057617,-7.350804805755615,-25.729848861694336,49.367733001708984,-0.45568227767944336,-26.833106994628906,0.39962151646614075,-57.30488204956055,37.065940856933594,-60.21303176879883,4.338517189025879,35.89008331298828,-5.1265788078308105,1.6750469207763672,54.84469985961914,24.871143341064453,-9.078693389892578,7.792611122131348,-44.468597412109375,29.941925048828125,-14.57099437713623,42.91999816894531,-41.08372116088867,-21.964460372924805,-41.550331115722656,56.920108795166016,30.38593864440918,21.33497428894043,16.850393295288086,39.93594741821289,18.30015754699707,39.581756591796875,51.99565887451172,-46.049991607666016,28.15503692626953,36.35748291015625,-24.181489944458008,-14.754953384399414,-29.402297973632812,-17.350759506225586,5.0153584480285645,-31.552722930908203,-9.804570198059082,16.419540405273438,-5.818303108215332,-7.478971481323242,-38.3540153503418,-58.88062286376953,-5.43001127243042,23.992347717285156,64.57300567626953,14.072437286376953,36.08211135864258,14.029983520507812,-40.40425109863281,-36.747806549072266,33.03012466430664,-17.62330436706543,-29.275550842285156,24.697839736938477,-7.950474739074707,-53.53382873535156,-15.554970741271973,20.243520736694336,11.237343788146973,5.4674072265625,-15.747503280639648,-17.38837242126465,19.786685943603516,-46.07585144042969,-37.71999740600586,-64.16433715820312,-16.15994644165039,-5.240534782409668,-41.50415802001953,-54.29482650756836,70.42497253417969,48.35914993286133,66.81954193115234,-13.656551361083984,-6.124566555023193,-40.3825569152832,23.120105743408203,21.88121795654297,-4.593469142913818,24.546159744262695,-19.823022842407227,34.19676208496094,13.410759925842285,44.33264923095703,-6.510374069213867,-16.510469436645508,-15.081243515014648,9.961370468139648,-32.6121826171875,-42.97255325317383,-63.82746887207031,8.685179710388184,37.125701904296875,64.96338653564453,-15.637794494628906,9.120323181152344,28.702882766723633,21.41101837158203,27.878427505493164,38.77488708496094,9.6049222946167,-54.26029586791992,-20.34217071533203,-45.03866958618164,38.544769287109375,-5.915835380554199,64.2808837890625,-21.97833824157715,-5.586967468261719,-7.110860824584961,25.719572067260742,54.382015228271484,-26.42213249206543,35.71900939941406,-30.121522903442383,-60.39754104614258,44.895626068115234,31.63786506652832,-52.26972961425781,2.0080440044403076,28.861392974853516,32.49497604370117,52.71819305419922,-3.4412431716918945,70.50834655761719,-19.65936279296875,4.949455261230469,-2.587770700454712,72.88645935058594,18.461530685424805,-47.41599655151367,-40.35667037963867,44.90050506591797,6.58465576171875,-16.409618377685547,3.6000168323516846,-56.57059097290039,2.438563346862793,-3.094247579574585,-39.73128128051758,4.759727954864502,31.676025390625,-7.367676734924316,-17.02652359008789,-22.549968719482422,-40.023948669433594,-45.16893005371094,-8.849370002746582,-7.99614143371582,-16.059425354003906,-15.486541748046875,-5.702499866485596,-0.5036298632621765,-4.518762111663818,29.142240524291992,-50.63982009887695,3.2034196853637695,-30.51385498046875,-8.984481811523438,-54.41889572143555,13.926946640014648,-7.943613052368164,23.122732162475586,32.06581115722656,38.44480895996094,18.41305923461914,28.89655113220215,-16.815357208251953,10.831130027770996,24.867238998413086,30.33938980102539,-50.574649810791016,58.79100036621094,-17.995941162109375,-40.87204360961914,-8.80970573425293,-40.64368438720703,14.431821823120117,-22.022178649902344,-2.1035547256469727,69.89700317382812,-55.26115798950195,7.902887344360352,53.0450439453125,-8.426998138427734,-44.64043426513672,-36.828369140625,-4.126953601837158,-8.460097312927246,27.79730987548828,-11.155409812927246,-46.221099853515625,-12.459368705749512,5.035701751708984,27.375322341918945,10.303115844726562,19.031415939331055,-13.704272270202637,-47.140663146972656,-52.81340408325195,46.12744903564453,-13.240720748901367,22.953857421875,71.83915710449219,-58.05462646484375,22.553136825561523,-54.341548919677734,-11.742895126342773,-40.4575309753418,-0.7273371815681458,-51.672630310058594,20.090730667114258,-16.244022369384766,-38.52272033691406,7.07861328125,4.909363269805908,2.168586254119873,-13.098854064941406,-4.73145866394043,-24.48687171936035,-1.363276720046997,50.361141204833984,-31.464345932006836,68.91868591308594,-45.02207946777344,-64.53706359863281,-34.862213134765625,39.73242950439453,-33.06767272949219,25.185274124145508,-46.74248504638672,11.917403221130371,-1.0252134799957275,-45.289833068847656,-51.9311637878418,7.274376392364502,40.55180740356445,29.358522415161133,-17.88817024230957,59.39493179321289,17.579355239868164,7.63011360168457,19.700271606445312,-1.4589509963989258,68.34764099121094,48.53565979003906,-45.84296417236328,30.916706085205078,15.47202205657959,71.7119140625,27.74339485168457,5.614529132843018,-11.363451957702637,-41.80824279785156,-38.409812927246094,26.557369232177734,-13.801714897155762,-17.364633560180664,-17.9106502532959,-45.393798828125,18.233720779418945,34.680606842041016,-26.36876106262207,-47.45038986206055,58.59245681762695,-37.40315628051758,-9.860051155090332,43.44607162475586,7.945199489593506,7.673167705535889,-19.35893440246582,-40.21308898925781,-3.6844069957733154,10.274269104003906,-12.355314254760742,-59.28364944458008,-46.382965087890625,38.8519172668457,-20.21249771118164,14.812522888183594,-17.01226806640625,-28.865478515625,-12.778282165527344,73.71321868896484,7.262657165527344,29.180665969848633,53.26971435546875,-18.37864112854004,55.29905319213867,-4.392106056213379,-11.404410362243652,28.840051651000977,-23.579303741455078,-16.720394134521484,-30.513715744018555,-57.228397369384766,-15.91312313079834,-14.794513702392578,41.762020111083984,-17.885047912597656,20.020261764526367,2.1389310359954834,30.85147476196289,56.82317352294922,-5.224299430847168,-37.54805374145508,-4.87532377243042,-4.29445743560791,35.22072219848633,5.752347946166992,33.67394256591797,31.34960174560547,66.6632080078125,9.650155067443848,-2.1892762184143066,1.560725450515747,-1.7718442678451538,-9.450751304626465,-20.62009620666504,-19.204614639282227,-20.983047485351562,20.512123107910156,-42.47686004638672,25.989625930786133,1.6124540567398071,73.99430084228516,6.3007941246032715,35.13033676147461,57.47254943847656,-9.404576301574707,52.40003204345703,22.9608154296875,11.4475679397583,27.29617691040039,29.223024368286133,47.13827896118164,6.28048038482666,26.97333335876465,-40.445892333984375,6.299321174621582,-19.727460861206055,20.997591018676758,-16.090740203857422,-14.391462326049805,-0.6245977878570557,31.60287857055664,-14.678717613220215,68.66783905029297,35.58338928222656,-8.843611717224121,50.05267333984375,-48.098289489746094,-21.645179748535156,63.025115966796875,17.727170944213867,-2.7766470909118652,-39.961639404296875,-2.0735514163970947,71.5284194946289,23.167800903320312,-10.33039379119873,6.7930827140808105,-6.308538913726807,-49.393123626708984,-43.79496765136719,5.897101879119873,46.110679626464844,68.85745239257812,-38.34421920776367,-51.10124969482422,-18.55591583251953,-47.248897552490234,-5.785099506378174,-33.39787292480469,-58.27604293823242,-19.760478973388672,-60.76825714111328,66.9589614868164,-51.08771514892578,33.73862075805664,70.07460021972656,-26.833723068237305,-42.46552276611328,46.253719329833984,51.61751174926758,69.80281829833984,4.385086536407471,45.163822174072266,55.47674560546875,-63.622955322265625,4.396101474761963,39.86835861206055,-4.836843967437744,28.20269012451172,4.819093704223633,-2.932356357574463,-36.976295471191406,9.606158256530762,74.47779846191406,-9.731649398803711,-4.124305725097656,52.2354850769043,6.924598217010498,-26.554359436035156,33.42973327636719,-54.21882629394531,9.349433898925781,-11.79210376739502,-64.17163848876953,-13.614651679992676,36.409149169921875,-28.62956428527832,-6.93711519241333,52.896034240722656,-5.92749547958374,-42.230567932128906,13.26487922668457,-16.212797164916992,64.50230407714844,12.36175537109375,40.350555419921875,-35.33474349975586,-22.241453170776367,48.28886795043945,-5.230931282043457,22.50712013244629,53.90922927856445,1.4534938335418701,-41.937889099121094,-28.12207794189453,-17.71265983581543,-44.749412536621094,28.239051818847656,-30.62833595275879,9.582664489746094,-25.5646915435791,-54.31966781616211,-20.108200073242188,-30.66332244873047,-30.674198150634766,-20.3757266998291,-9.184560775756836,-19.918901443481445,7.5271477699279785,16.435123443603516,-30.699588775634766,5.834868907928467,-45.45696258544922,-1.7351174354553223,-20.107086181640625,9.936970710754395,-37.50175476074219,35.30982208251953,-32.54761505126953,63.955535888671875,-38.23612594604492,71.4503173828125,42.69154357910156,-19.21329116821289,-4.480196952819824,1.5388317108154297,15.853411674499512,5.766896724700928,71.182861328125,-16.42989158630371,-47.10053253173828,-16.37244987487793,68.20301055908203,-23.507732391357422,35.247432708740234,-8.338988304138184,5.715065956115723,-43.735477447509766,9.843890190124512,17.275604248046875,-24.147958755493164,14.593668937683105,-47.52535629272461,-19.98482894897461,-63.87461853027344,6.0103864669799805,8.380892753601074,-61.16145324707031,21.285831451416016,-4.210093975067139,31.16495132446289,25.648191452026367,-16.523775100708008,2.7401413917541504,13.916011810302734,-13.687878608703613,-2.5819549560546875,-48.355289459228516,29.21982765197754,33.83677291870117,-33.831886291503906,-50.095848083496094,-16.856433868408203,-25.026615142822266,11.435002326965332,-60.8275032043457,59.014015197753906,-5.201766014099121,72.25247192382812,-17.789215087890625,-29.38604164123535,-53.65689468383789,-15.088733673095703,70.08625793457031,4.882969856262207,-60.793941497802734,11.918635368347168,-26.982881546020508,-34.820030212402344,-28.096506118774414,20.13287925720215,25.079587936401367,22.14776039123535,-20.37017822265625,51.508636474609375,-0.24888728559017181,66.23542022705078,4.552465915679932,11.355365753173828,-35.2602653503418,15.088913917541504,-7.66114616394043,-23.640079498291016,23.01838493347168,-48.31570053100586,-19.619352340698242,21.26192283630371,-0.167354017496109,19.779897689819336,-15.362847328186035,54.68393325805664,67.44610595703125,-5.901136875152588,-4.3327860832214355,-37.28154373168945,37.378902435302734,-8.86124038696289,-45.08837127685547,47.055702209472656,17.990680694580078,42.29811096191406,-43.3169059753418,-5.204763412475586,-15.321650505065918,30.34611701965332,-1.6356207132339478,-2.130845308303833,3.0893330574035645,-24.729379653930664,-6.3065667152404785,20.349519729614258,-20.379745483398438,29.025815963745117,-0.09871875494718552,26.44145393371582,-9.096902847290039,69.66575622558594,-4.3036956787109375,6.770543575286865,-42.36511993408203,-32.89700698852539,-7.701284408569336,-38.59957504272461,-3.1308815479278564,-19.85224151611328,-19.88843536376953,-25.1538143157959,50.06256103515625,-2.4693379402160645,-43.54254150390625,-29.890361785888672,22.148601531982422,-12.101683616638184,-2.150796413421631,21.917600631713867,24.915725708007812,25.6884765625,73.16412353515625,25.639150619506836,72.87909698486328,-32.569068908691406,-7.8511223793029785,0.22203831374645233,-22.28926658630371,29.316055297851562,4.065973281860352,35.71812438964844,-16.317224502563477,-37.859859466552734,-6.6247711181640625,-16.949113845825195,34.7618408203125,5.002297401428223,1.096492052078247,-30.664331436157227,24.33680534362793,63.75735092163086,-20.94483757019043,72.65599060058594,-5.539220809936523,-34.66717529296875,-16.89263916015625,41.551639556884766,63.082427978515625,-17.662439346313477,-13.307676315307617,-39.66173553466797,5.34958553314209,-0.6087691783905029,-48.16207504272461,57.59877395629883,-38.29123306274414,-19.058740615844727,14.8054838180542,-9.474081039428711,-1.7011101245880127,22.562055587768555,33.69129943847656,-17.814804077148438,-45.532958984375,11.379926681518555,-27.96588897705078,-0.4922642707824707,-20.064105987548828,0.7379749417304993,19.864498138427734,67.63999938964844,36.223175048828125,3.125089168548584,48.45962905883789,-31.356170654296875,12.894913673400879,-21.626134872436523,-10.659695625305176,-53.23137283325195,-63.105953216552734,-38.01994705200195,22.273672103881836,60.310386657714844,-40.267215728759766,-3.796853542327881,44.30877685546875,0.11664864420890808,7.974277973175049,29.568161010742188,-48.197750091552734,-16.129409790039062,33.20468521118164,-52.017417907714844,12.085247993469238,-25.577983856201172,31.73976707458496,37.615543365478516,0.6764233112335205,-1.3842997550964355,-10.126054763793945,31.359886169433594,26.517724990844727,-8.463179588317871,-15.629077911376953,11.226505279541016,-48.21316909790039,-64.35490417480469,-16.70124053955078,24.058429718017578,-8.47964859008789,5.103622913360596,-35.099273681640625,4.97380256652832,-7.322626113891602,50.67247772216797,-52.444244384765625,58.33137130737305,18.205345153808594,65.5424575805664,-1.8609386682510376,35.46065139770508,-41.98947525024414,32.934139251708984,-35.530174255371094,69.57442474365234,-15.577163696289062,-4.800837993621826,3.5870935916900635,-15.064831733703613,-3.1428380012512207,29.450082778930664,-8.859703063964844,-19.85565948486328,58.8116455078125,21.57251739501953,-20.49170684814453,0.15763956308364868,-36.14380645751953,-20.609121322631836,21.93598175048828,-31.948917388916016,22.893461227416992,-3.693835735321045,-21.02399444580078,29.24629783630371,-55.49396896362305,71.12822723388672,-43.34251403808594,-26.985937118530273,-36.68218994140625,-11.18354320526123,49.70762634277344,-13.19340991973877,71.57618713378906,45.49449920654297,26.64082908630371,29.86139488220215,23.759096145629883,24.022939682006836,19.308874130249023,70.81156158447266,30.258848190307617,59.57683563232422,6.092441558837891,30.643802642822266,-15.52027702331543,70.75363159179688,6.4795756340026855,51.842864990234375,5.477175235748291,5.4673919677734375,-4.012001037597656,31.324928283691406,11.800661087036133,65.04866790771484,5.558333873748779,28.141550064086914,-3.5511200428009033,-22.42839241027832,15.366982460021973,-21.85669708251953,74.05368041992188,43.8183708190918,63.63763427734375,14.255802154541016,-1.154794692993164,14.19522476196289,-16.940052032470703,-50.94981002807617,-63.10160446166992,-3.034677743911743,38.3784294128418,-20.46164894104004,59.58636474609375,-19.644367218017578,-5.69294548034668,22.11172866821289,57.276519775390625,-64.8437271118164,-21.40816879272461,-43.66876220703125,-46.67483139038086,71.32145690917969,-0.5026116371154785,-61.616153717041016,-49.2945442199707,-12.803592681884766,25.566713333129883,-15.127509117126465,-2.4766924381256104,-56.27168655395508,55.528560638427734,27.318464279174805,26.050518035888672,-25.58846092224121,-20.982288360595703,33.56008529663086,-37.74406814575195,43.70877456665039,-23.484663009643555,1.6994774341583252,-39.3592414855957,6.5666022300720215,70.25827026367188,39.312870025634766,-12.9939546585083,4.38800573348999,-60.144996643066406,66.97993469238281,-12.99562931060791,-9.303617477416992,-47.85450744628906,-11.807924270629883,73.07300567626953,-12.86092472076416,14.70578384399414,23.32758331298828,70.3690414428711,-24.349002838134766,-14.590544700622559,0.9416548609733582,-6.495911121368408,-63.6617431640625,-5.341684341430664,0.3625907599925995,21.788543701171875,-12.636058807373047,33.563629150390625,-2.3618414402008057,-25.5303955078125,2.1005871295928955,-4.731701374053955,32.992034912109375,4.680226802825928,16.239179611206055,14.72654914855957,36.96400451660156,-47.48897171020508,4.759797096252441,-36.15376281738281,19.330034255981445,-1.2052809000015259,5.886961460113525,27.782939910888672,-2.572267770767212,-59.71172332763672,25.804386138916016,53.560546875,21.14708709716797,32.31855010986328,-1.3942599296569824,29.770177841186523,9.623555183410645,8.849924087524414,-3.4972431659698486,17.9003849029541,-38.9371223449707,-17.01413917541504,-61.55973434448242,-47.250186920166016,3.5179483890533447,-58.926883697509766,25.38649559020996,-43.55644607543945,-51.251468658447266,-19.266036987304688,15.919414520263672,20.012792587280273,5.547964572906494,52.67449951171875,47.707244873046875,-64.42542266845703,28.925045013427734,44.03968811035156,-60.832130432128906,24.8353271484375,6.464951992034912,-15.504425048828125,14.622797012329102,-43.3910026550293,0.596180260181427,-2.8855605125427246,-25.464601516723633,-60.71514129638672,-30.581159591674805,-2.3073017597198486,-5.5773115158081055,-31.854034423828125,24.407970428466797,-12.648972511291504,3.1910717487335205,71.51293182373047,14.645476341247559,22.307231903076172,12.433618545532227,58.46336364746094,-14.745588302612305,29.831951141357422,-23.577381134033203,35.41666793823242,-0.1362304836511612,0.29479750990867615,12.644092559814453,58.406063079833984,6.259096622467041,-43.17540740966797,-5.859896183013916,-3.106365442276001,20.24129867553711,65.471923828125,-53.146541595458984,-37.02566146850586,-46.89277267456055,69.62364196777344,8.891490936279297,43.022552490234375,3.2947685718536377,-21.794466018676758,49.77224349975586,-3.5783469676971436,-64.56671905517578,21.09046173095703,72.43331909179688,-63.831565856933594,14.430108070373535,-55.20357131958008,-15.481935501098633,4.374433994293213,-27.233898162841797,-47.84489059448242,1.1124836206436157,25.99178695678711,6.324785232543945,-5.480300426483154,-0.7893567681312561,25.36170196533203,-48.600830078125,-42.065574645996094,-16.441078186035156,-58.614898681640625,-26.028379440307617,-45.5582275390625,-22.88192367553711,20.081205368041992,-10.295289993286133,-64.6682357788086,-41.69255828857422,8.519185066223145,61.97895050048828,59.21611022949219,-17.072311401367188,19.709318161010742,18.342723846435547,-17.030864715576172,-9.514544486999512,-6.125021934509277,24.346073150634766,-56.43022918701172,5.805178642272949,14.032843589782715,-13.129919052124023,-36.13275146484375,-31.543548583984375,70.89012145996094,38.78703689575195,12.679834365844727,63.70733642578125,-40.879493713378906,-43.05121612548828,-0.7873581051826477,-14.790091514587402,25.757356643676758,-11.271090507507324,33.58955001831055,-45.42484664916992,-2.8978993892669678,-33.22338104248047,11.727225303649902,-33.419315338134766,-22.843843460083008,-41.94588088989258,-6.830090045928955,19.207691192626953,4.1610541343688965,-1.9333853721618652,-30.120777130126953,-0.6131058931350708,-3.0685765743255615,35.36581039428711,-64.6021728515625,-42.45297622680664,-59.063194274902344,10.698639869689941,0.04977867007255554,-48.8114013671875,18.581398010253906,-47.38795852661133,-27.03829574584961,69.21160125732422,54.43217468261719,-1.3852417469024658,62.93555450439453,72.99613189697266,27.286523818969727,-40.63776397705078,69.66073608398438,4.170505523681641,32.86064529418945,-64.70490264892578,14.345758438110352,-49.161582946777344,-15.179788589477539,6.755670547485352,20.765419006347656,-31.322036743164062,-19.865089416503906,27.55899429321289,-41.852622985839844,19.3736629486084,42.13845443725586,-15.10932731628418,-19.23492431640625,-52.026634216308594,-48.03717803955078,4.31917667388916,10.474909782409668,-24.254961013793945,34.45619201660156,65.45004272460938,9.521064758300781,-44.49873352050781,-44.04801559448242,-15.782201766967773,-21.73061752319336,26.049802780151367,-40.23586654663086,-19.6297664642334,16.5557861328125,-48.76700210571289,-14.409303665161133,55.60417938232422,-5.494511604309082,-17.363664627075195,-50.422096252441406,-6.028483867645264,-53.530460357666016,30.542930603027344,-35.730796813964844,-8.958873748779297,22.484848022460938,50.882537841796875],\"xaxis\":\"x\",\"y\":[-0.6085560917854309,-32.900352478027344,-33.81669998168945,18.920114517211914,-49.93764877319336,-42.502716064453125,-66.50586700439453,22.80318832397461,-33.49483871459961,-64.20161437988281,28.257978439331055,2.6669058799743652,4.6745381355285645,5.817564010620117,73.00078582763672,48.66156005859375,48.40669631958008,20.86189842224121,23.78196907043457,25.20763397216797,23.323047637939453,17.307178497314453,-36.09416198730469,25.307193756103516,20.176916122436523,-8.011492729187012,-5.705738544464111,52.53059005737305,-53.93681335449219,-44.05878829956055,-59.439876556396484,19.647497177124023,8.826214790344238,2.0783801078796387,33.09772491455078,-33.64972686767578,1.0411406755447388,49.676998138427734,7.033909797668457,-60.02411651611328,-6.470010757446289,2.742280960083008,52.1033935546875,14.032489776611328,-17.855337142944336,-9.491803169250488,-3.3447177410125732,-65.93404388427734,-13.343742370605469,-69.91692352294922,-18.89774513244629,-14.726371765136719,45.733062744140625,-1.8560338020324707,11.547773361206055,-36.113121032714844,-12.725136756896973,-1.4262754917144775,-15.549320220947266,18.5672664642334,-40.3172607421875,40.704105377197266,-47.04689025878906,-10.514788627624512,-15.352004051208496,-21.368633270263672,-53.39209747314453,4.803184986114502,-7.335044860839844,26.735206604003906,31.17051124572754,-44.01079559326172,74.89254760742188,-42.86901092529297,-40.081363677978516,-19.142560958862305,-7.895611763000488,22.732683181762695,2.2461764812469482,-42.3041877746582,-12.766878128051758,40.27604675292969,-20.845619201660156,51.748748779296875,-33.48045349121094,-5.023645877838135,6.553168773651123,55.616119384765625,-15.935715675354004,-14.658527374267578,-16.13516616821289,-66.11700439453125,-20.09356117248535,4.1597113609313965,-14.528560638427734,-13.570491790771484,-2.3196327686309814,-12.990959167480469,0.07649320363998413,4.790882587432861,-40.98848342895508,73.72376251220703,0.5593187808990479,-69.46559143066406,15.174360275268555,47.25297164916992,47.887908935546875,27.889297485351562,20.235986709594727,-4.162844181060791,28.607913970947266,24.241535186767578,-44.06906509399414,29.658021926879883,-0.17190711200237274,-43.73225784301758,47.31184387207031,22.89859962463379,-10.921859741210938,0.6620762348175049,-6.057458400726318,6.2676897048950195,-6.288003444671631,4.7020721435546875,-7.761288642883301,52.25782012939453,13.916679382324219,-67.70832824707031,-51.4933967590332,31.154159545898438,-5.155130386352539,0.5659821033477783,-23.117902755737305,-4.039313793182373,10.312747955322266,-34.73636245727539,-23.39795684814453,51.5853385925293,18.59994125366211,-29.074262619018555,-66.21724700927734,-11.060685157775879,47.42006301879883,52.03618621826172,-22.681713104248047,-6.265730381011963,-15.235095977783203,32.01838684082031,-28.661226272583008,26.48544692993164,21.25092887878418,-2.989036798477173,32.455204010009766,13.742283821105957,11.045097351074219,1.621187448501587,-42.91798782348633,1.523411512374878,-0.994141161441803,-2.681698799133301,5.138262748718262,-14.30881118774414,2.340503215789795,-69.18115997314453,-22.623537063598633,51.90964889526367,-69.1402816772461,8.651698112487793,1.6868789196014404,4.771963119506836,-48.310115814208984,20.445890426635742,-16.26350212097168,-9.20938491821289,2.0521280765533447,-33.42829895019531,-4.286470413208008,-3.422933340072632,-10.856473922729492,7.293877601623535,-26.81041717529297,72.94523620605469,-9.929621696472168,47.94218826293945,26.79817008972168,-11.74809741973877,19.896696090698242,9.321717262268066,-14.824210166931152,19.498058319091797,9.131593704223633,-22.162517547607422,-35.563865661621094,3.805772542953491,-53.51045227050781,-9.62404727935791,-34.444602966308594,-17.06926727294922,24.46741485595703,31.28571319580078,26.27457046508789,-67.34698486328125,-8.185086250305176,36.099937438964844,40.79622268676758,29.364906311035156,-69.73909759521484,16.989870071411133,-18.5535945892334,9.77033805847168,-12.281661033630371,-16.281593322753906,-13.194342613220215,11.694366455078125,-47.09492111206055,-11.590999603271484,-56.44934844970703,47.96625900268555,-14.651297569274902,-47.14799880981445,5.3305583000183105,7.843866348266602,32.460655212402344,-59.38534927368164,4.733348846435547,24.386762619018555,19.18341827392578,52.81439971923828,-0.7663297653198242,-9.870443344116211,20.413455963134766,0.612647294998169,-4.9689788818359375,32.45175552368164,-18.90959358215332,-18.060691833496094,9.041315078735352,14.931017875671387,1.9410756826400757,4.074190616607666,-54.69038391113281,2.186347246170044,-2.4905338287353516,12.31806755065918,-42.300987243652344,-5.464863300323486,-47.733455657958984,-48.290958404541016,5.720800876617432,23.690351486206055,-3.75827693939209,1.0864828824996948,23.653520584106445,-5.76936674118042,-20.75185775756836,-15.673569679260254,-25.957721710205078,8.368691444396973,0.086962029337883,14.965490341186523,-21.07760238647461,-18.986061096191406,-45.20090866088867,-1.3983612060546875,-34.093807220458984,-49.194766998291016,-40.24555587768555,-10.406501770019531,-9.493770599365234,21.572982788085938,5.460273265838623,-42.17204284667969,46.452537536621094,-20.308692932128906,13.265413284301758,10.268087387084961,36.75010299682617,-15.371676445007324,4.472844123840332,8.987386703491211,41.85026168823242,-61.005455017089844,-7.89695405960083,22.389240264892578,-64.4582290649414,6.15018892288208,7.776368141174316,-34.003257751464844,48.247371673583984,-29.795276641845703,-55.3730354309082,5.043133735656738,28.07120704650879,-8.823707580566406,-8.823091506958008,-68.02105712890625,-8.813663482666016,5.889151573181152,-2.7718000411987305,-49.1875,-21.09638214111328,7.177945137023926,19.665319442749023,-29.210302352905273,4.57664155960083,-35.7938117980957,-20.23810577392578,3.2365589141845703,42.47389602661133,-11.165414810180664,17.761043548583984,15.73796558380127,11.732059478759766,-18.747825622558594,-5.856496334075928,-2.912999153137207,24.25943374633789,-15.091703414916992,-4.018401145935059,-2.452969551086426,-18.025178909301758,39.340579986572266,-3.1338019371032715,21.784446716308594,51.93400955200195,-60.65189743041992,49.203365325927734,14.481942176818848,-26.096755981445312,-13.123283386230469,-4.439326763153076,9.715768814086914,-39.09107971191406,-2.8628978729248047,-18.73963737487793,-20.21123504638672,56.6827507019043,47.47179412841797,-12.73999309539795,-9.456087112426758,-1.3942043781280518,-15.359827995300293,-8.71412181854248,-5.7848801612854,-40.75521469116211,51.858943939208984,6.205798625946045,-33.16630935668945,-4.117422103881836,36.67251205444336,10.942760467529297,6.3838324546813965,18.638334274291992,-10.183863639831543,23.759206771850586,-54.635643005371094,-18.07151985168457,-61.672603607177734,-1.8902157545089722,-67.62694549560547,25.85080909729004,73.76144409179688,20.78635597229004,28.594799041748047,-60.80193328857422,-54.56753158569336,-43.43379211425781,18.141645431518555,8.482063293457031,-17.480812072753906,1.0564457178115845,1.8390772342681885,10.740071296691895,17.162939071655273,-70.85990142822266,-10.741227149963379,8.823546409606934,9.762828826904297,42.88868713378906,21.567625045776367,-16.38215446472168,23.07709312438965,5.052580833435059,33.566619873046875,20.258703231811523,-66.33103942871094,-13.913843154907227,-6.2606964111328125,7.0176100730896,27.429534912109375,73.32032012939453,-14.62043285369873,9.140419960021973,-16.053380966186523,75.75082397460938,-43.69016647338867,13.789610862731934,46.01222229003906,-34.823936462402344,-48.394325256347656,78.03318786621094,-6.383688926696777,-15.674825668334961,2.6651618480682373,47.935638427734375,26.92747688293457,8.257590293884277,23.05085563659668,1.7556254863739014,-6.660264015197754,-53.05863952636719,-14.947921752929688,-34.49250030517578,-42.98497009277344,39.03042221069336,31.875146865844727,-6.515728950500488,7.587806701660156,-60.33697509765625,22.048364639282227,17.531587600708008,-6.074750900268555,-3.171034574508667,27.265600204467773,76.259521484375,-4.7510833740234375,-15.110956192016602,36.65679168701172,-10.431771278381348,19.99479103088379,-3.0738227367401123,1.3820546865463257,-61.61921310424805,74.77017974853516,8.219261169433594,-49.90223693847656,5.553412437438965,2.0154480934143066,21.610605239868164,-6.053993225097656,-42.166778564453125,-7.743008613586426,-39.50071716308594,27.407257080078125,24.998764038085938,48.23250198364258,35.57225036621094,-47.94000244140625,-1.6454869508743286,-1.6617984771728516,-42.014041900634766,-3.357184886932373,-0.7000451683998108,15.975114822387695,5.319583415985107,6.821000576019287,-41.82483673095703,4.450282573699951,-3.8698222637176514,74.41413879394531,6.3479204177856445,-17.67119789123535,14.232034683227539,-44.25324630737305,-13.48621940612793,-27.201942443847656,-41.77079772949219,-33.82772445678711,-39.911441802978516,53.12054443359375,-1.6041322946548462,12.31631088256836,-3.7618026733398438,11.572257041931152,2.175428628921509,-14.158182144165039,-20.62676239013672,-5.216048717498779,-3.8737566471099854,-46.64064025878906,-14.42856216430664,19.75051498413086,-0.9436295628547668,48.120208740234375,52.49888610839844,-42.05591583251953,12.256926536560059,4.040265083312988,-4.51497745513916,-11.965780258178711,17.37086296081543,-13.66493034362793,-38.545833587646484,-17.149259567260742,16.486927032470703,42.7506217956543,-40.575565338134766,5.267364978790283,-20.627365112304688,11.2944917678833,-12.80396556854248,-58.39792251586914,12.739304542541504,-18.756515502929688,-2.1150290966033936,-51.95330047607422,-8.645837783813477,20.03847312927246,-55.437137603759766,74.8299331665039,-58.653228759765625,-19.318008422851562,-19.41989517211914,76.909423828125,-10.746145248413086,-16.98702621459961,-41.64295196533203,-65.12552642822266,-7.114864826202393,43.861663818359375,4.355046272277832,-17.91775131225586,19.639673233032227,7.624758243560791,-34.05237579345703,-60.709835052490234,-1.1375070810317993,-25.871017456054688,10.479552268981934,3.1271090507507324,76.07130432128906,22.870187759399414,-17.723615646362305,74.5382308959961,-13.586400032043457,-17.575719833374023,-28.374855041503906,46.93416213989258,-6.388577461242676,-60.838260650634766,3.1044318675994873,-16.405200958251953,49.09014892578125,-6.312807083129883,8.684017181396484,-19.980342864990234,-44.73139190673828,-7.766082286834717,7.109659671783447,-21.71311378479004,-41.1501350402832,-36.49821853637695,-16.241697311401367,-2.8524270057678223,28.503095626831055,-39.56572723388672,-14.601495742797852,-6.051366329193115,-0.244586780667305,50.05324172973633,-9.685145378112793,25.437450408935547,-16.189952850341797,28.80862808227539,-7.4771575927734375,-60.94382858276367,-3.961775541305542,0.26269781589508057,22.969465255737305,18.0108585357666,-60.365013122558594,-60.53772735595703,-62.317508697509766,7.5410051345825195,21.23343849182129,-71.21587371826172,7.078808784484863,5.536404132843018,10.050394058227539,-40.917724609375,-5.048354148864746,48.40073776245117,41.183170318603516,-53.329044342041016,-14.492717742919922,48.65485382080078,9.458903312683105,45.99606704711914,3.974104404449463,-55.69609832763672,-61.077606201171875,3.796591281890869,41.804901123046875,-32.24011993408203,-6.98649787902832,3.046907901763916,1.915939211845398,4.857184410095215,76.36677551269531,-23.680540084838867,-5.848149299621582,22.729976654052734,18.130687713623047,3.863316297531128,11.830657958984375,-14.098254203796387,-10.205618858337402,-70.5837173461914,45.51676940917969,47.4659423828125,25.9919376373291,26.289146423339844,-1.8127988576889038,-1.7061195373535156,-65.90216064453125,-19.572113037109375,10.342979431152344,37.06214904785156,25.108840942382812,-60.203311920166016,22.09511947631836,-35.95121383666992,6.870574951171875,-65.34318542480469,1.9038584232330322,16.920759201049805,-39.665897369384766,-15.223169326782227,-10.284789085388184,-9.073094367980957,-69.51082611083984,24.77992057800293,37.49575424194336,-50.96569061279297,13.570051193237305,-41.46352767944336,-42.27115249633789,8.692658424377441,25.860567092895508,-46.36358642578125,-27.20389747619629,-0.6385218501091003,-4.047091007232666,5.480532169342041,-44.57504653930664,-65.75440979003906,34.559165954589844,6.261323928833008,-9.78817367553711,3.442920446395874,8.806501388549805,16.763957977294922,-67.72489166259766,18.258291244506836,23.778099060058594,37.93415451049805,11.873584747314453,1.3595231771469116,75.62789154052734,-41.168495178222656,-10.731016159057617,-12.571000099182129,5.626943111419678,46.52022171020508,-11.944271087646484,-7.296475887298584,-8.971874237060547,-13.104097366333008,12.941756248474121,4.250955104827881,-71.04683685302734,0.028257064521312714,-0.12678265571594238,-40.74177169799805,-3.6771886348724365,35.98580551147461,-66.0826644897461,-42.198246002197266,-22.60700798034668,-3.793691873550415,55.62904357910156,3.037449598312378,-4.133432388305664,-12.828993797302246,-37.27893829345703,-7.960068702697754,-38.99250030517578,-4.631113529205322,19.236469268798828,3.1505813598632812,-70.40496063232422,21.512418746948242,17.71129035949707,10.090583801269531,-3.2760753631591797,8.508051872253418,-0.3537869453430176,28.842248916625977,-4.181146621704102,-60.33576202392578,2.4264800548553467,-46.347129821777344,12.44737434387207,22.251262664794922,-33.57722854614258,-67.02666473388672,-65.54810333251953,-40.148223876953125,-46.98823547363281,-43.712867736816406,-43.0445442199707,1.3161636590957642,20.746557235717773,-38.850433349609375,-26.102521896362305,24.531036376953125,-58.593685150146484,-38.667762756347656,8.661734580993652,18.575223922729492,6.4950103759765625,-19.395872116088867,-41.49256896972656,-60.34687805175781,39.61246871948242,49.718563079833984,11.304757118225098,-0.25158044695854187,-42.65621566772461,-2.86564302444458,-23.608530044555664,-8.074540138244629,23.56427574157715,43.7329216003418,9.53413200378418,39.08376693725586,8.183805465698242,21.18527603149414,12.34030818939209,-11.54419994354248,45.696537017822266,27.155521392822266,48.417606353759766,24.796371459960938,0.12670135498046875,8.382684707641602,73.81573486328125,7.340788841247559,-1.0239226818084717,-0.6679402589797974,-42.785037994384766,-37.081390380859375,-4.731496810913086,-1.3722422122955322,16.423233032226562,0.7115803360939026,-7.793704032897949,18.750591278076172,-3.018321990966797,10.185248374938965,12.501982688903809,10.147926330566406,13.837730407714844,-40.379371643066406,-40.32562255859375,25.727619171142578,-0.3451949954032898,13.121750831604004,48.181400299072266,-10.359442710876465,12.302488327026367,-14.434527397155762,-19.47410011291504,-15.153838157653809,-46.96166229248047,47.513267517089844,6.7985663414001465,26.911781311035156,-46.68800354003906,22.979143142700195,-8.162524223327637,20.736806869506836,-57.516395568847656,3.622945785522461,19.86661720275879,3.705256223678589,-12.242481231689453,45.84236526489258,-5.394344806671143,10.81032943725586,-11.586026191711426,8.696566581726074,-0.08112122863531113,-0.9002422094345093,-37.48387145996094,36.36953353881836,16.921850204467773,48.28256607055664,6.759845733642578,8.638243675231934,31.37200355529785,-12.822193145751953,45.786991119384766,-6.544003963470459,19.051570892333984,7.233366012573242,74.59012603759766,-70.0162124633789,-4.081026554107666,8.51590633392334,0.7536775469779968,-22.76222038269043,47.68727493286133,-1.6572484970092773,7.65884256362915,29.214242935180664,-7.726438045501709,21.776731491088867,9.643978118896484,27.722246170043945,-58.557621002197266,-27.558574676513672,9.069329261779785,-33.22227478027344,75.27875518798828,-3.727261781692505,52.58489227294922,48.17375183105469,19.29047966003418,-18.053043365478516,-70.6148910522461,-39.565162658691406,11.7401762008667,-0.9937160015106201,24.67421531677246,16.224266052246094,-6.415852069854736,23.592132568359375,6.033140182495117,26.750659942626953,-31.406227111816406,-67.79696655273438,-16.04413604736328,-59.57646942138672,-55.680973052978516,45.98686599731445,-10.945833206176758,49.93267822265625,-28.414264678955078,-14.04440975189209,-41.32581329345703,-0.07876406610012054,5.320464134216309,-13.785164833068848,11.484145164489746,-18.36846923828125,-64.40258026123047,4.706747055053711,-11.02011489868164,-29.126306533813477,-5.405966758728027,8.764740943908691,-62.964595794677734,-3.867492437362671,9.72995376586914,-65.2293472290039,8.44330883026123,-67.4729232788086,-60.40834045410156,27.135723114013672,50.930030822753906,21.850194931030273,9.460212707519531,6.83837366104126,27.973947525024414,3.2796475887298584,3.7966654300689697,3.786350727081299,-14.873222351074219,30.622106552124023,4.658145427703857,-46.0071907043457,2.1495792865753174,4.90023946762085,48.14110565185547,20.219194412231445,9.216592788696289,44.096439361572266,23.079730987548828,-46.34133529663086,6.780825614929199,34.1270751953125,-14.193835258483887,8.91147518157959,17.564693450927734,5.891296863555908,20.42919921875,-12.428590774536133,18.8758544921875,-18.174423217773438,18.45271873474121,4.91077995300293,56.98874282836914,15.697599411010742,-47.870018005371094,35.925628662109375,-45.2576904296875,18.239408493041992,49.44376754760742,-10.78803539276123,13.561195373535156,38.90309524536133,-13.681814193725586,23.817955017089844,-34.782630920410156,42.648284912109375,15.298404693603516,-40.407630920410156,8.400634765625,-69.78019714355469,2.406031847000122,4.398378849029541,-13.90945816040039,-10.845693588256836,-52.634700775146484,24.766992568969727,-9.14456844329834,17.25898551940918,-9.11106014251709,-2.8462564945220947,-5.9503703117370605,-10.497084617614746,-48.34335708618164,39.525333404541016,-5.601953506469727,9.725508689880371,52.49201965332031,-15.272507667541504,39.09841537475586,-5.246484279632568,-66.88046264648438,-69.26792907714844,74.3125991821289,-41.50923156738281,4.446962356567383,12.06405258178711,8.00981616973877,0.30829620361328125,-20.64274787902832,13.454607009887695,-42.19312286376953,-34.548274993896484,48.197391510009766,-26.523178100585938,-69.10481262207031,-45.45125961303711,9.7652006149292,-17.150110244750977,26.385116577148438,11.562244415283203,19.1481990814209,9.700667381286621,25.519376754760742,-39.09901809692383,-25.71928596496582,-62.113590240478516,-13.506645202636719,48.5266227722168,-9.36499309539795,-2.806849479675293,26.016752243041992,3.9848852157592773,42.115394592285156,3.150083303451538,-18.2243709564209,-18.730363845825195,-37.370365142822266,-12.400445938110352,-67.01242065429688,0.4172503650188446,3.2888102531433105,47.89723587036133,13.497310638427734,-3.1501407623291016,20.375377655029297,34.571041107177734,2.9740962982177734,4.306429386138916,6.228240489959717,-70.09646606445312,4.633973598480225,6.748376846313477,7.877208709716797,-60.54020690917969,-28.460891723632812,31.96189308166504,58.001285552978516,-13.291680335998535,4.340406894683838,12.747367858886719,-33.88582992553711,2.2320871353149414,48.79929733276367,8.903813362121582,3.422602415084839,2.6605818271636963,12.606243133544922,-34.139991760253906,18.280839920043945,46.0047721862793,-6.275447845458984,-12.267593383789062,9.871121406555176,-0.23171620070934296,19.725736618041992,5.181314945220947,-3.3763034343719482,35.67319107055664,31.8680477142334,19.779924392700195,-7.415469169616699,-5.463757038116455,0.6608380079269409,-68.0885238647461,18.50750160217285,-1.2444559335708618,1.31307852268219,-40.23418045043945,-39.279964447021484,19.34639549255371,-0.8263944387435913,-2.3523380756378174,-60.81973648071289,-54.5929069519043,47.206581115722656,9.628157615661621,4.088761329650879,-4.43295431137085,4.562374591827393,-11.930644989013672,-3.1788136959075928,38.98937225341797,-16.654247283935547,18.304180145263672,-35.88131332397461,29.546852111816406,-26.7794189453125,4.296886920928955,5.028392314910889,-2.3395373821258545,-41.82496643066406,25.467004776000977,20.20177459716797,27.023317337036133,14.982977867126465,-16.209184646606445,19.91103744506836,-55.829124450683594,23.594074249267578,0.4333655834197998,-53.70614242553711,-69.12996673583984,12.007844924926758,5.598695755004883,-45.7569694519043,-9.758541107177734,-9.492975234985352,-59.72897720336914,-13.77144718170166,-53.264312744140625,-70.58565521240234,76.111083984375,1.39365553855896,13.301748275756836,13.637650489807129,41.21109390258789,-16.0283145904541,6.202551364898682,-2.681617021560669,-12.269726753234863,5.120707988739014,-10.737934112548828,-61.828155517578125,-3.33708119392395,-57.5560302734375,-15.285503387451172,-6.027711391448975,3.75224232673645,5.844069004058838,1.4529838562011719,3.2929770946502686,-0.9620757102966309,6.875228404998779,17.346824645996094,47.0101318359375,-14.486612319946289,-18.09318733215332,0.14359644055366516,-21.74350357055664,-7.4813151359558105,5.786911487579346,18.14982795715332,14.728583335876465,-4.089930057525635,24.539592742919922,48.46031951904297,29.76206398010254,-64.98272705078125,4.122809410095215,-15.413477897644043,14.705574035644531,-70.81806945800781,11.116539001464844,-64.98436737060547,56.24272537231445,-9.495512962341309,-27.59994125366211,-15.976346015930176,-53.736629486083984,-1.9751335382461548,39.37154769897461,-0.15834107995033264,-7.774120330810547,-8.114705085754395,18.38698387145996,-36.788726806640625,-41.27399444580078,-9.5978422164917,11.433056831359863,20.26133918762207,-35.105709075927734,-47.9501953125,-1.696615219116211,9.117298126220703,4.76391077041626,26.628023147583008,46.368648529052734,-14.680882453918457,16.81471061706543,23.41243553161621,-1.731232762336731,-2.0907375812530518,-48.85429000854492,8.595256805419922,11.16140365600586,-14.653584480285645,-48.480960845947266,-35.04264450073242,-17.820798873901367,-33.334102630615234,8.394147872924805,-35.35460662841797,-67.14851379394531,-53.70561981201172,-19.0410213470459,-28.664094924926758,-9.580904006958008,25.350406646728516,-3.129737377166748,3.1296887397766113,-63.927162170410156,11.745843887329102,-2.533147096633911,-44.431556701660156,7.594302654266357,-4.084144592285156,16.853885650634766,-5.921196937561035,-42.11345291137695,27.958415985107422,-7.571361541748047,-15.682801246643066,0.7188637852668762,-1.9170478582382202,-44.83704376220703,-3.2932956218719482,-3.6855013370513916,-6.0191969871521,5.99313497543335,-19.86112403869629,74.60050201416016,-34.07463073730469,6.213666915893555,-0.34558001160621643,-27.012008666992188,-19.273651123046875,22.01815414428711,-3.1612637042999268,28.998275756835938,24.525863647460938,-10.70891284942627,24.006881713867188,47.198307037353516,-7.330083847045898,-10.493204116821289,-9.493660926818848,-62.36500930786133,-4.866152763366699,22.817852020263672,-5.240231037139893,13.519492149353027,-13.359278678894043,19.13276481628418,14.128554344177246,-8.849376678466797,8.276189804077148,25.52373695373535,25.65790557861328,-8.133084297180176,75.36895751953125,31.4285945892334,-6.5527753829956055,-16.00160789489746,-12.632018089294434,-55.61769104003906,-19.740081787109375,-5.611209392547607,-63.61576843261719,-14.374004364013672,21.259700775146484,12.321877479553223,-6.111505508422852,-16.895286560058594,24.500328063964844,-0.6791419982910156,4.810149192810059,-9.476158142089844,-35.79493713378906,12.79317569732666,-3.6677353382110596,53.713382720947266,46.57817077636719,48.19292449951172,-16.04888916015625,-67.03291320800781,1.2271705865859985,51.366207122802734,20.065465927124023,13.80920696258545,-66.76577758789062,28.48468017578125,-0.3259173333644867,-13.65942668914795,-18.900386810302734,34.769168853759766,-36.6939582824707,25.062105178833008,-2.636204481124878,-33.93105697631836,75.41297912597656,23.623138427734375,-0.4860290586948395,-15.154192924499512,46.193721771240234,13.071398735046387,7.116403579711914,72.6008529663086,3.762657880783081,78.03240203857422,-3.6171655654907227,-2.2514498233795166,-3.494004964828491,-10.302193641662598,21.768587112426758,-42.86104202270508,39.1372184753418,-40.66719055175781,32.43508529663086,74.9467544555664,-26.165246963500977,-33.63389205932617,16.349058151245117,-11.276034355163574,33.6365852355957,46.45981979370117,74.22879028320312,-0.4705113470554352,7.64509916305542,9.224609375,52.944488525390625,-6.381924152374268,6.4767351150512695,-9.496167182922363,-2.08553147315979,8.810541152954102,-12.333134651184082,-60.11153793334961,27.14043426513672,2.859140634536743,-10.594661712646484,8.605195045471191,-20.777103424072266,25.135889053344727,5.379757881164551,13.831823348999023,15.860517501831055,-18.952226638793945,17.73060417175293,-0.3021269738674164,7.466045379638672,-40.85112762451172,-40.19973373413086,74.03275299072266,23.729867935180664,21.15707778930664,-16.04681968688965,-42.62681198120117,-0.1766795665025711,-16.000085830688477,20.2132511138916,-6.3413591384887695,-13.417192459106445,-2.889014482498169,-14.8340482711792,-41.515201568603516,46.141448974609375,34.85289001464844,-60.65559005737305,-67.79560089111328,-4.751450538635254,1.89236581325531,-64.96131134033203,-4.1029229164123535,-13.791397094726562,47.86730194091797,14.158750534057617,13.801565170288086,-67.8954086303711,20.41655731201172,-16.454519271850586,-40.22492599487305,55.03510665893555,12.19620418548584,-3.124354600906372,-15.251593589782715,-1.0136116743087769,-25.80830192565918,-33.79496383666992,28.130535125732422,-64.02887725830078,-15.517504692077637,-13.533151626586914,22.457122802734375,-0.4808153510093689,-14.259713172912598,-3.0303831100463867,-39.56909942626953,-6.144627094268799,-11.5393648147583,-19.55268096923828,-8.616133689880371,-22.759370803833008,0.493411660194397,2.6755502223968506,-18.47487449645996,19.935104370117188,23.967832565307617,-2.593240261077881,-53.4449462890625,57.346771240234375,-21.263208389282227,45.539878845214844,-13.038846969604492,-6.452324390411377,-10.496042251586914,-52.808841705322266,18.082683563232422,-39.403114318847656,10.341584205627441,4.838515281677246,2.2502307891845703,-4.583533763885498,-5.603994369506836,-53.52241897583008,1.2240833044052124,22.19525718688965,-42.509029388427734,58.323665618896484,-16.045183181762695,-39.57014465332031,-66.38578796386719,17.96466827392578,54.66340637207031,-10.382941246032715,-0.035853590816259384,3.7534780502319336,-65.41400146484375,21.33572769165039,-66.0267333984375,-13.835074424743652,-8.248686790466309,46.358802795410156,4.82141637802124,19.499292373657227,4.486608982086182,6.631521224975586,2.897862195968628,29.464414596557617,-67.5174331665039,17.508228302001953,15.504281997680664,-18.364377975463867,-6.879752159118652,8.922118186950684,23.87517547607422,-40.24730682373047,18.20719337463379,13.035179138183594,15.671653747558594,11.332662582397461,18.993101119995117,-39.36372375488281,22.721534729003906,-15.974615097045898,46.24457550048828,-42.388832092285156,4.807158470153809,1.3239136934280396,-19.601768493652344,-4.271862983703613,8.054434776306152,-37.61416244506836,9.013040542602539,37.1234130859375,23.41907501220703,-6.0429487228393555,12.439215660095215,-40.22511291503906,-3.396547794342041,48.27900695800781,-33.86948776245117,-8.038067817687988,75.66924285888672,5.663700103759766,-42.69428253173828,0.9326432347297668,-38.04024124145508,-3.3167996406555176,-17.32130241394043,-12.672093391418457,73.83907318115234,-29.0269832611084,-41.74354553222656,8.534226417541504,28.45252227783203,26.997434616088867,-30.981618881225586,36.704803466796875,3.8527209758758545,40.5707893371582,-2.611215353012085,-2.356079578399658,6.401354789733887,-6.140168190002441,52.97929763793945,47.99030303955078,-14.71092414855957,13.6707763671875,-21.891223907470703,-64.4674072265625,-4.1799540519714355,-14.969688415527344,4.221153259277344,-30.902902603149414,26.11379051208496,-39.02978515625,21.916942596435547,-19.275184631347656,18.687664031982422,12.831745147705078,-11.470233917236328,24.69336700439453,-2.448045015335083,46.065147399902344,19.50242805480957,10.251479148864746,-58.142574310302734,-0.09676603972911835,-11.334598541259766,-26.380842208862305,-52.30403518676758,28.217687606811523,-49.265621185302734,-7.214207649230957,-63.9337158203125,-54.23938751220703,11.360928535461426,4.385702610015869,-6.1360039710998535,36.16081619262695,24.21674919128418,-14.42871379852295,18.447052001953125,-69.47075653076172,3.160379409790039,25.785404205322266,-18.405908584594727,-3.804600954055786,13.265291213989258,-13.795845985412598,7.278005123138428,17.27505111694336,-13.225716590881348,-3.678691864013672,-42.88365173339844,-20.917102813720703,-20.953927993774414,-60.43373107910156,-70.02288055419922,-28.94072914123535,18.166025161743164,-15.452662467956543,12.791665077209473,14.177593231201172,-36.10545349121094,-53.835906982421875,17.766645431518555,9.551467895507812,-15.112671852111816,-40.40724182128906,-4.754088401794434,19.119152069091797,-9.297345161437988,12.667065620422363,2.084496021270752,74.42491912841797,-3.2879738807678223,-41.03726577758789,21.143781661987305,55.51176452636719,28.33386993408203,-65.99821472167969,13.404525756835938,19.174510955810547,33.845252990722656,26.66120147705078,20.39119529724121,-22.103979110717773,73.67607116699219,26.74890899658203,-3.7472329139709473,-42.8880500793457,4.047451019287109,-41.81161117553711,-47.93198013305664,-3.664785861968994,-11.985191345214844,-4.273316383361816,43.810638427734375,1.1795357465744019,48.61057662963867,-14.000738143920898,-22.225574493408203,-6.449832916259766,18.509279251098633,18.79682159423828,11.646163940429688,5.545391082763672,-28.464601516723633,15.889068603515625,-4.9115824699401855,-1.4457063674926758,-9.622507095336914,0.9932141900062561,26.413673400878906,-9.96859073638916,12.916950225830078,-63.42392349243164,-2.0189552307128906,-62.5662841796875,-19.77216339111328,-12.327098846435547,-12.338747024536133,-9.378710746765137,-9.976920127868652,-10.593233108520508,-4.646971225738525,23.984848022460938,16.597370147705078,12.06709098815918,-8.437762260437012,-5.276217937469482,-16.458232879638672,49.02821731567383,12.3512601852417,6.63125467300415,19.58570098876953,-14.902831077575684,10.734625816345215,25.509023666381836,-17.044677734375,17.54747200012207,12.757055282592773,24.840003967285156,-62.09825897216797,-4.036023139953613,-11.543075561523438,2.0137622356414795,24.30689811706543,-14.962109565734863,-11.870884895324707,-41.86381149291992,-2.3085570335388184,-26.66634750366211,-51.79605484008789,3.643439769744873,13.84709644317627,74.3302001953125,-8.66093921661377,-47.97661590576172,32.34993362426758,-39.506710052490234,1.7342240810394287,8.11017894744873,13.015961647033691,-0.536835253238678,-36.33553695678711,27.03022575378418,-47.178070068359375,-3.26786732673645,6.709536075592041,-48.060096740722656,30.098390579223633,49.39359664916992,-29.03794288635254,24.2603702545166,12.097406387329102,-66.75230407714844,46.06767272949219,48.107662200927734,28.84788703918457,-21.501018524169922,-3.6805663108825684,15.810187339782715,-6.591633319854736,12.136212348937988,16.76209831237793,-59.50981903076172,51.060447692871094,-59.18414306640625,-14.017716407775879,-16.82604217529297,-45.0216178894043,-10.072328567504883,7.1236958503723145,6.02882194519043,-12.275598526000977,2.412177562713623,7.893062591552734,0.10568716377019882,39.42265701293945,20.15411376953125,-10.216368675231934,-19.10772705078125,-6.897158145904541,-21.759540557861328,49.70399856567383,8.825976371765137,-7.480321884155273,19.379640579223633,18.992155075073242,45.11137008666992,-19.75408935546875,3.1060397624969482,-5.193607807159424,-8.733258247375488,31.6226806640625,-10.471549034118652,5.9655303955078125,74.49609375,-10.538049697875977,2.6906752586364746,-41.901092529296875,20.28836441040039,-42.8836669921875,22.571969985961914,-15.875203132629395,-25.609325408935547,15.02846622467041,76.34068298339844,17.19339370727539,21.651275634765625,-33.46234893798828,-1.0521937608718872,-64.05814361572266,-12.6235990524292,33.39150619506836,23.518577575683594,27.902761459350586,-17.999679565429688,26.864694595336914,-2.363978385925293,31.547283172607422,-63.924129486083984,10.557978630065918,21.45833396911621,20.112171173095703,-26.01666831970215,-43.005489349365234,-15.478828430175781,-16.906414031982422,47.65839767456055,23.953937530517578,-29.168256759643555,-15.605262756347656,-13.190159797668457,6.902949333190918,-4.008083820343018,26.770992279052734,48.24856948852539,-6.722553730010986,-22.244905471801758,-4.853952884674072,6.32867956161499,-58.009666442871094,-3.7377817630767822,11.536044120788574,-2.2215371131896973,-26.005290985107422,74.42684936523438,-64.50741577148438,-52.44283676147461,-10.048988342285156,16.441425323486328,32.047935485839844,9.51279067993164,46.00510025024414,9.043107986450195,-60.73265838623047,26.31458854675293,0.6929924488067627,-35.06991195678711,-9.66376781463623,-4.286858558654785,-10.174481391906738,-70.31000518798828,23.67277717590332,-6.80991792678833,-8.98935317993164,-30.095705032348633,-35.78428268432617,33.622039794921875,-11.766389846801758,3.3454484939575195,-45.49138259887695,8.699426651000977,-12.378178596496582,74.96823120117188,26.651287078857422,-19.607833862304688,-3.151928186416626,-4.9699554443359375,-30.366931915283203,3.3530521392822266,-26.33940887451172,48.20749282836914,73.81803131103516,-15.389588356018066,-14.438451766967773,0.6293649077415466,-0.711616575717926,18.04000473022461,29.531980514526367,4.810998439788818,-47.49393844604492,-27.938657760620117,-68.57323455810547,-58.4936408996582,44.78532028198242,-61.57365798950195,11.738496780395508,-15.660898208618164,35.799156188964844,13.606000900268555,40.71479415893555,5.641110897064209,-20.307933807373047,12.21978759765625,-1.5910282135009766,2.021829843521118,73.88251495361328,-28.88109016418457,-40.980224609375,3.3785088062286377,-33.19696044921875,35.30769348144531,48.13820266723633,-29.083341598510742,-60.37998962402344,36.57587432861328,18.732685089111328,28.527326583862305,11.08259391784668,3.6220319271087646,31.158679962158203,7.91892671585083,13.096576690673828,-9.837089538574219,-0.24898342788219452,-17.4388370513916,19.027645111083984,46.19392776489258,-2.4145843982696533,-28.751218795776367,10.546917915344238,47.8306884765625,-4.888865947723389,-67.38097381591797,2.94575834274292,-3.4664623737335205,39.07696533203125,14.324416160583496,6.8598151206970215,10.278204917907715,-34.3741455078125,-2.548412322998047,37.56461715698242,-53.662113189697266,13.373309135437012,-69.18840026855469,-14.842296600341797,-10.348281860351562,48.2969856262207,-4.066502571105957,2.734135866165161,-4.576874256134033,-1.189784288406372,-1.5365270376205444,-2.2884185314178467,13.6986083984375,12.140995025634766,73.7685546875,39.6011962890625,-21.208019256591797,6.611225128173828,-34.55947494506836,17.414730072021484,-4.6156768798828125,6.362695693969727,0.3331119120121002,48.14456558227539,5.4527997970581055,-39.550445556640625,-3.427215099334717,28.19306182861328,-17.983068466186523,53.53385925292969,-11.108331680297852,46.86101531982422,-38.16365432739258,23.424880981445312,-42.018375396728516,55.99939727783203,18.775665283203125,17.18766212463379,-6.17099666595459,12.098002433776855,17.966331481933594,6.3744072914123535,-70.57608032226562,2.956944704055786,-18.09296226501465,12.775992393493652,-42.29428482055664,9.157683372497559,-25.601945877075195,16.72960090637207,-18.572370529174805,0.5261662006378174,-21.787654876708984,6.549587726593018,-20.927412033081055,40.15955352783203,2.233513832092285,2.860363483428955,35.80717849731445,-10.38797664642334,6.150459289550781,21.958389282226562,11.857812881469727,23.787338256835938,73.76468658447266,19.71120834350586,-67.7151870727539,45.17058563232422,-55.42701721191406,-2.975100517272949,-41.55751037597656,-27.06134796142578,-28.563112258911133,47.88197326660156,-7.799230098724365,-4.473691940307617,44.66667175292969,39.07341003417969,26.90247917175293,18.687055587768555,46.028018951416016,-5.900876998901367,-60.62196731567383,3.827129602432251,8.647011756896973,-7.054503440856934,-43.69978713989258,58.18001937866211,75.42921447753906,-56.05268478393555,47.28375244140625,16.99171257019043,4.003422737121582,17.067663192749023,-15.02578067779541,31.50823974609375,3.3981199264526367,-19.91647720336914,58.1778678894043,-7.3018059730529785,-52.30830383300781,-55.58616256713867,74.71277618408203,-2.946977138519287,75.73481750488281,74.4893798828125,-35.93552780151367,24.566804885864258,55.58072280883789,13.882411003112793,37.32013702392578,30.088233947753906,-9.308364868164062,45.86000442504883,19.794750213623047,-41.158233642578125,-27.36903953552246,21.41560935974121,2.1008987426757812,-11.452632904052734,45.84209060668945,24.507061004638672,33.48781204223633,-68.51545715332031,9.138628005981445,1.8444368839263916,-18.86138153076172,-21.29860496520996,23.170835494995117,-42.76905822753906,24.72675132751465,0.8235158324241638,2.80790638923645,-8.40459156036377,-44.395751953125,-52.48514175415039,-16.06459617614746,49.848392486572266,-15.885988235473633,-30.084508895874023,23.976409912109375,-24.869707107543945,3.157871961593628,-39.5617790222168,47.14958190917969,-0.3284734785556793,6.496316432952881,16.353342056274414,-13.19793701171875,-49.47761535644531,-31.18360137939453,-18.589160919189453,6.311275959014893,-26.039379119873047,35.451725006103516,-7.964721202850342,-5.906391620635986,-9.696585655212402,-44.61555862426758,-12.98128890991211,12.140251159667969,8.164125442504883,2.310655117034912,17.37018585205078,-0.6229214668273926,3.424633502960205,-13.836503982543945,-1.8848721981048584,5.4420084953308105,-64.51217651367188,18.505615234375,26.80767250061035,28.717662811279297,23.084476470947266,-12.404382705688477,11.204730987548828,-37.87019348144531,-7.247235298156738,17.670825958251953,-10.104477882385254,8.807005882263184,-12.52322769165039,-16.136302947998047,46.74058532714844,35.33463668823242,74.27691650390625,18.33687973022461,17.1893310546875,-37.41297149658203,-5.281595230102539,27.087188720703125,-4.510007381439209,29.398656845092773,14.078660011291504,-6.622435569763184,7.073365211486816,26.808988571166992,-24.296527862548828,21.683876037597656,-13.98676586151123,15.36914348602295,42.507598876953125,-33.35686111450195,78.40547180175781,24.511396408081055,-3.909648895263672,20.980331420898438,24.23155975341797,-3.5123534202575684,20.349594116210938,1.9840060472488403,-41.15835952758789,-16.524593353271484,-66.20085144042969,13.691452026367188,-31.7203426361084,14.504008293151855,6.626010894775391,-48.304237365722656,-27.299102783203125,-2.3375701904296875,-17.92662811279297,-39.14638900756836,-0.8896765112876892,18.301984786987305,-6.322100639343262,-11.976591110229492,57.39902877807617,-12.114950180053711,-54.98334503173828,21.82398796081543,-70.96868896484375,-36.891090393066406,-32.93002700805664,-61.45420455932617,75.31483459472656,-13.28468132019043,-48.154170989990234,-17.35189437866211,21.760868072509766,39.3123664855957,-67.44837951660156,-12.474284172058105,-65.12934112548828,19.289228439331055,-51.809364318847656,0.4193311333656311,15.658961296081543,33.71487808227539,-12.13494873046875,17.21833038330078,39.11503982543945,6.1774139404296875,75.44181823730469,-17.534793853759766,-36.448822021484375,28.70517921447754,25.16388702392578,5.1339850425720215,38.57300567626953,28.4310302734375,20.742475509643555,-14.863980293273926,-6.6645307540893555,17.459457397460938,-58.19483184814453,-1.4507830142974854,-7.513827323913574,-53.75932693481445,74.37113952636719,24.16302490234375,-43.64376449584961,-50.942501068115234,3.1677987575531006,48.001522064208984,21.09595489501953,-12.799342155456543,46.9192008972168,5.4926557540893555,-3.7130415439605713,14.103462219238281,4.222769737243652,-8.936180114746094,-12.55396556854248,30.532123565673828,23.617528915405273,-70.86183166503906,-40.94783401489258,1.6075785160064697,5.041759014129639,-54.92859649658203,-35.959842681884766,44.458797454833984,-10.778468132019043,14.118673324584961,-7.378361225128174,-11.692146301269531,-2.557197093963623,48.0791130065918,-10.60865592956543,3.5365195274353027,-11.018532752990723,22.75704002380371,10.566145896911621,20.876659393310547,-59.77136993408203,3.8183577060699463,-3.8166849613189697,-31.738182067871094,11.204458236694336,-6.388026714324951,20.855369567871094,25.495681762695312,-1.7888097763061523,-47.008277893066406,-0.768394947052002,-20.460329055786133,-1.306462287902832,37.71257781982422,-34.31329345703125,-51.9044189453125,5.794748306274414,7.287667274475098,-4.013229846954346,-33.380306243896484,23.833881378173828,-14.922158241271973,-4.212606906890869,-66.90699768066406,33.222740173339844,6.5359344482421875,11.554483413696289,-14.176246643066406,-6.095516204833984,46.412986755371094,-46.00548553466797,46.56633758544922,-7.179038047790527,-4.2362236976623535,28.258562088012695,-25.563037872314453,78.17057800292969,9.409371376037598,-31.75026512145996,14.118610382080078,2.9255948066711426,13.316849708557129,-12.662849426269531,-20.380897521972656,6.078697681427002,-37.15464782714844,27.293006896972656,-0.2008061707019806,-13.553489685058594,6.573601245880127,57.997737884521484,-5.868795394897461,11.794822692871094,-66.95464324951172,3.689852476119995,1.5178238153457642,-10.459129333496094,-70.23986053466797,-46.345699310302734,50.35419845581055,-0.681646466255188,20.81069564819336,-5.646191120147705,-45.266780853271484,-26.390827178955078,-43.60254669189453,-28.953258514404297,10.400775909423828,19.76639175415039,36.162994384765625,-30.41094207763672,52.563438415527344,-13.684874534606934,8.626025199890137,6.145224571228027,38.780174255371094,12.273710250854492,10.122627258300781,-7.8088812828063965,3.839935302734375,-65.88763427734375,9.5390625,-66.32025146484375,45.90424346923828,1.9997239112854004,-13.526067733764648,48.1157112121582,56.03147506713867,-36.59421920776367,-8.859938621520996,-69.81217956542969,17.333463668823242,-0.836683988571167,11.758732795715332,52.159053802490234,19.718738555908203,36.490169525146484,-7.421460151672363,11.719271659851074,-45.544715881347656,23.265348434448242,-29.674863815307617,11.095383644104004,7.594718933105469,28.805503845214844,-9.575773239135742,-6.176347732543945,-10.850606918334961,31.428430557250977,-50.123146057128906,26.300512313842773,-21.264394760131836,58.32006072998047,18.7559871673584,19.653778076171875,7.483453273773193,22.102476119995117,3.0477709770202637,6.433050155639648,5.6239728927612305,19.699594497680664,-18.876907348632812,0.7170569896697998,-12.265000343322754,28.235576629638672,-7.008594512939453,-3.5226118564605713,6.756413459777832,13.568262100219727,47.81904602050781,22.247098922729492,33.30051803588867,-1.36188542842865,32.605403900146484,19.51485252380371,4.409174919128418,48.99281311035156,22.654340744018555,-15.030259132385254,47.638668060302734,36.56561279296875,3.124119520187378,-70.2364273071289,-12.971780776977539,16.893346786499023,-25.486190795898438,2.6049678325653076,27.251041412353516,-48.6400146484375,-41.43574142456055,25.657020568847656,21.413860321044922,-26.48866844177246,35.28387451171875,-28.628503799438477,47.20398712158203,25.918941497802734,74.27102661132812,6.987123966217041,-69.65110778808594,17.25201988220215,7.6030378341674805,23.000017166137695,17.92816162109375,4.665725231170654,50.69231414794922,-3.2145423889160156,-9.925978660583496,-41.37339782714844,-1.6596790552139282,16.598146438598633,-52.124595642089844,48.113258361816406,9.05682373046875,-11.97542667388916,76.3079833984375,-45.89591979980469,-13.41552448272705,75.74835205078125,5.023616790771484,-20.161109924316406,-53.01123809814453,-18.956802368164062,-15.092599868774414,13.197876930236816,-59.49076843261719,6.757797718048096,-26.418699264526367,-10.5900239944458,-2.7324814796447754,40.7166862487793,-43.64329528808594,-1.9806361198425293,-39.88051223754883,0.022796493023633957,-15.306517601013184,74.83312225341797,-23.418825149536133,-65.58177947998047,6.869743824005127,-50.12275314331055,24.322126388549805,-19.86359405517578,-14.474069595336914,-46.57827377319336,40.734893798828125,-13.882741928100586,35.2559700012207,-3.727712869644165,12.182640075683594,-11.475814819335938,48.27523422241211,-15.290875434875488,47.716800689697266,23.771156311035156,-67.7236328125,5.12888240814209,38.72105407714844,3.690446615219116,29.47765350341797,39.061195373535156,-0.0348496250808239,-18.60284423828125,8.594446182250977,17.98478889465332,14.529324531555176,-21.871685028076172,47.437801361083984,76.84329223632812,-32.280216217041016,-13.70818042755127,-13.226194381713867,-49.537078857421875,36.10332489013672,12.703865051269531,-15.780168533325195,49.43146514892578,14.426299095153809,12.348101615905762,-9.153189659118652,-18.623926162719727,25.764812469482422,-43.58852767944336,-25.47831153869629,-3.6825485229492188,-11.488348960876465,9.098594665527344,40.5136604309082,13.088634490966797,-14.449913024902344,8.316372871398926,-60.41285705566406,-17.07855224609375,42.06867218017578,2.3945741653442383,-7.718719959259033,-33.63132858276367,-14.998626708984375,-46.217952728271484,-8.40575885772705,-0.7068071961402893,-11.9395170211792,-44.85340881347656,-6.296728610992432,1.648757815361023,-8.504152297973633,47.24714660644531,47.20120620727539,3.0222225189208984,-54.81459426879883,-66.48611450195312,19.281614303588867,5.506306171417236,6.674036026000977,-2.1955580711364746,-1.6174019575119019,0.15187232196331024,74.23524475097656,-45.336612701416016,-34.46086120605469,-59.49001693725586,-41.35905456542969,2.4896645545959473,24.089862823486328,-20.621509552001953,27.79136848449707,35.496551513671875,-12.742979049682617,-14.529709815979004,23.70631217956543,0.3634319007396698,11.765844345092773,-9.07265853881836,16.51138687133789,74.68836212158203,-2.1709799766540527,-1.6574631929397583,-69.14632415771484,-37.8648796081543,12.88666820526123,6.448568344116211,-14.433550834655762,18.970630645751953,-14.878070831298828,9.410179138183594,-22.790979385375977,-56.38454055786133,-58.51726150512695,47.657833099365234,25.70712661743164,45.824127197265625,8.274406433105469,19.175281524658203,-4.894026279449463,55.70509719848633,48.02505874633789,1.4607783555984497,-3.684839963912964,-30.16287612915039,31.943408966064453,-61.049625396728516,18.71257781982422,10.685200691223145,29.342731475830078,-6.231266021728516,17.514991760253906,6.990474700927734,-3.0818703174591064,6.333126544952393,-16.592531204223633,11.519083976745605,1.1376320123672485,7.202215194702148,-47.341033935546875,-62.48786163330078,-8.60795783996582,-25.986858367919922,-47.3012580871582,-29.531301498413086,13.223016738891602,-10.355541229248047,-7.522541046142578,-55.51057434082031,-41.93328857421875,-9.946237564086914,22.925365447998047,48.599884033203125,-11.415353775024414,-23.17728042602539,11.314440727233887,-1.4806733131408691,-22.22142791748047,2.503995418548584,-5.381292819976807,-13.682597160339355,-0.7357429265975952,44.41792297363281,-27.606040954589844,-38.12115478515625,46.756431579589844,22.822175979614258,14.802481651306152,-4.90345573425293,-6.446682453155518,42.73614501953125,18.978727340698242,-58.22067642211914,-66.828125,-8.15048885345459,48.21263122558594,12.621993064880371,-40.02326965332031,-6.04071569442749,-4.39493989944458,29.201688766479492,-2.479053497314453,-11.549520492553711,-3.257955551147461,-2.1288347244262695,3.502143621444702,26.88490104675293,16.3080997467041,74.1483383178711,-2.6803970336914062,8.509637832641602,18.604248046875,7.650052547454834,-59.66941833496094,5.5036234855651855,22.31124496459961,-2.485443592071533,9.141691207885742,-14.557587623596191,-6.649554252624512,9.966338157653809,-40.42686080932617,-2.320549726486206,25.934703826904297,6.858526229858398,-11.358780860900879,31.602996826171875,-1.526695966720581,6.258814334869385,31.84518051147461,-6.252559661865234,20.552133560180664,-15.731310844421387,-48.21335220336914,73.61277770996094,-29.971050262451172,-9.87373161315918,1.4508875608444214,17.38176727294922,10.169407844543457,5.837184906005859,-59.0369987487793,21.164445877075195,48.4758415222168,42.0137825012207,27.125133514404297,4.171486854553223,4.113676071166992,8.75612735748291,-13.641925811767578,-13.129508972167969,-40.830692291259766,2.5877246856689453,-39.366546630859375,11.191125869750977,0.5686483383178711,12.57908821105957,14.439258575439453,-52.37659454345703,37.72322082519531,-13.939411163330078,29.185884475708008,48.57282638549805,-32.260921478271484,-33.74925994873047,21.490392684936523,-6.674617767333984,-14.551319122314453,46.846073150634766,-38.239471435546875,22.293659210205078,7.621798038482666,-44.33503341674805,18.017242431640625,38.94084167480469,-17.093482971191406,18.539276123046875,-7.743777275085449,12.729462623596191,19.494619369506836,13.885828018188477,47.433414459228516,-11.489385604858398,-44.84153747558594,43.70340347290039,-14.076992988586426,-44.78617477416992,8.046534538269043,-8.11270809173584,-52.55146026611328,18.626972198486328,7.444651126861572,-24.772789001464844,-7.757718563079834,-12.452398300170898,1.9743173122406006,3.8091888427734375,5.429101943969727,-51.4934196472168,-69.99340057373047,16.458099365234375,17.540624618530273,48.13827133178711,-44.33344650268555,4.313963413238525,24.6396427154541,-47.72384262084961,-47.45930099487305,74.50731658935547,6.747160911560059,46.94464111328125,45.7266960144043,48.718021392822266,-42.84096908569336,-44.720489501953125,74.91500091552734,-15.474664688110352,-8.710478782653809,-47.700992584228516,-64.77629089355469,17.87613868713379,40.25248336791992,27.724510192871094,29.968135833740234,17.35585594177246,-52.3670654296875,-10.344056129455566,-53.263919830322266,7.836980819702148,31.958032608032227,-7.137912273406982,8.695842742919922,-53.923744201660156,8.750584602355957,52.687347412109375,-28.875925064086914,-53.14533233642578,-22.541170120239258,46.0787353515625,6.444100856781006,-37.139251708984375,3.97186017036438,-63.11007308959961,-9.598150253295898,36.89341735839844,27.640029907226562,-2.670133590698242,-25.609926223754883,-13.26895523071289,20.91154670715332,39.077392578125,-8.395488739013672,-16.429189682006836,40.34660339355469,31.775379180908203,-12.107020378112793,-8.898195266723633,-52.7716064453125,-42.85145568847656,17.469383239746094,39.597347259521484,2.249981641769409,5.410950183868408,-27.70536994934082,20.93683624267578,-62.24689865112305,-33.72685241699219,47.22296905517578,-7.422630786895752,73.82022094726562,20.712657928466797,49.05339813232422,27.415645599365234,0.08554469794034958,-28.00826072692871,-62.207969665527344,-9.53494644165039,-15.987934112548828,-36.0736198425293,-3.080167531967163,13.052335739135742,-6.578212261199951,36.384944915771484,-34.97227478027344,20.568199157714844,39.35906219482422,-3.593371868133545,19.90984535217285,-64.39875030517578,-2.572812080383301,35.424800872802734,-7.159727573394775,-8.155303955078125,-20.899362564086914,-46.8307991027832,20.299579620361328,26.624755859375,4.407817840576172,11.34214973449707,-2.503861665725708,-22.538454055786133,-19.625276565551758,-35.25123977661133,-17.404006958007812,20.835201263427734,51.7644157409668,9.356098175048828,10.493026733398438,-42.84006118774414,51.63749313354492,3.0673556327819824,-0.379119336605072,-1.1131494045257568,-67.40350341796875,-14.755426406860352,-18.29039192199707,-44.603878021240234,-9.632623672485352,75.2442626953125,-22.166881561279297,8.168850898742676,33.830379486083984,-58.818634033203125,4.648634910583496,-8.039528846740723,-62.56456756591797,-4.055866241455078,18.637264251708984,47.43204116821289,-28.601119995117188,12.743385314941406,47.31983184814453,-48.282894134521484,-9.699368476867676,17.4532413482666,12.723573684692383,23.306814193725586,12.38768196105957,48.43142318725586,-4.1535563468933105,8.201537132263184,-20.531986236572266,11.830575942993164,-2.4742062091827393,-6.772398471832275,-19.322755813598633,-9.070831298828125,-17.405263900756836,-1.6297909021377563,-2.9568111896514893,2.4308788776397705,24.435760498046875,1.9467891454696655,-43.911346435546875,-11.388620376586914,18.767873764038086,1.5645276308059692,9.0927734375,-53.57478332519531,12.803013801574707,-29.06897735595703,18.85424041748047,-4.573870658874512,-5.3989644050598145,75.40926361083984,18.226112365722656,-14.309860229492188,2.759986400604248,16.019102096557617,3.891143798828125,-17.573564529418945,-11.695180892944336,29.24704360961914,40.54473876953125,51.285377502441406,15.000947952270508,78.38408660888672,-25.06462860107422,-58.650962829589844,2.3266232013702393,-15.51313304901123,-23.623769760131836,10.337538719177246,38.31963348388672,-41.9745979309082,3.5741078853607178,42.07857894897461,-13.974344253540039,52.159053802490234,-13.681297302246094,1.1877883672714233,3.7325263023376465,16.789445877075195,-16.765316009521484,17.312702178955078,-2.405341148376465,11.920090675354004,6.106990814208984,-7.680895805358887,-13.601323127746582,-8.030946731567383,2.227121591567993,-8.0382661819458,-3.5573768615722656,-3.3408548831939697,-70.14498138427734,-7.191091060638428,-2.718033790588379,-46.925174713134766,21.719608306884766,-2.099897623062134,-66.22686004638672,4.315614700317383,13.104199409484863,74.09294891357422,-64.90443420410156,-50.396575927734375,75.62680053710938,-8.79200267791748,-3.50132155418396,-34.25982666015625,-14.346052169799805,4.456718444824219,-59.54401779174805,3.9256083965301514,-9.71821403503418,33.457420349121094,-8.029650688171387,5.113739013671875,-14.077678680419922,9.253464698791504,-5.011295318603516,-42.288902282714844,23.01570701599121,-36.381324768066406,-14.217340469360352,-4.2430596351623535,74.24442291259766,-20.404081344604492,76.1845932006836,-41.53996658325195,-60.04466247558594,-12.747806549072266,-33.728271484375,-7.039797782897949,-39.705780029296875,8.017691612243652,14.65423583984375,-10.161416053771973,9.230712890625,-8.041744232177734,-21.7446231842041,-33.81531524658203,-54.62978744506836,-23.040374755859375,-33.99375534057617,-15.911628723144531,-46.87770080566406,29.193796157836914,-43.01669692993164,-0.15239369869232178,-42.1839599609375,6.049787998199463,6.423022747039795,-14.751521110534668,-3.499791383743286,-15.12960433959961,18.97669219970703,-27.767841339111328,-18.667266845703125,-53.30982971191406,-38.87858581542969,-46.08171463012695,-6.220368385314941,33.0868034362793,-41.4592399597168,-0.8848813772201538,44.109344482421875,-47.32392883300781,23.690929412841797,17.95730209350586,74.9177474975586,-9.539937973022461,-15.111681938171387,75.1418685913086,27.164581298828125,31.189117431640625,5.520594120025635,-66.81513214111328,46.752769470214844,-0.31078827381134033,13.544075012207031,-15.963225364685059,-19.149789810180664,-8.328282356262207,51.721405029296875,-12.2608003616333,18.43558120727539,-13.655158996582031,14.613614082336426,-36.253196716308594,-15.328065872192383,20.34453582763672,73.82369232177734,3.3024277687072754,56.90489196777344,-25.268526077270508,6.400964736938477,-1.251509428024292,28.147249221801758,-38.884464263916016,-18.76864242553711,5.5691938400268555,-20.42822265625,17.435823440551758,5.943638324737549,19.837472915649414,26.341514587402344,-0.3124121427536011,-12.56291675567627,-13.953574180603027,21.252986907958984,19.37645721435547,20.996742248535156,4.857787609100342,-1.1057114601135254,-7.322733402252197,8.59658432006836,11.50830078125,-7.355842590332031,16.38218879699707,-68.03347778320312,3.2087132930755615,-10.692109107971191,-58.398475646972656,-14.88051700592041,-41.416847229003906,-28.00352668762207,-2.7926502227783203,2.2344937324523926,14.591886520385742,-48.27657699584961,14.540993690490723,-52.924293518066406,-68.10414123535156,-6.241179466247559,-41.206878662109375,8.113690376281738,12.348036766052246,-61.36427307128906,-35.357608795166016,-1.9889774322509766,-23.636219024658203,13.749678611755371,-35.573055267333984,4.824656963348389,-16.006872177124023,47.238250732421875,-42.45472717285156,19.425016403198242,-5.105185508728027,22.145294189453125,25.97361183166504,-61.745819091796875,13.324356079101562,45.93976974487305,17.120954513549805,-8.330483436584473,20.015653610229492,-2.771491289138794,12.113499641418457,-15.066250801086426,48.253910064697266,-62.50296401977539,0.7003350257873535,-15.935761451721191,-44.55487823486328,73.81172180175781,27.648578643798828,-34.20655059814453,32.426475524902344,4.22548770904541,74.16105651855469,-29.32469940185547,11.60650634765625,-49.3559455871582,12.261283874511719,18.68505096435547,1.6353540420532227,-7.5081353187561035,-44.38500213623047,18.51399040222168,-67.06952667236328,-21.340742111206055,-11.466140747070312,-53.506160736083984,-12.985757827758789,7.94595193862915,-66.3768310546875,6.663590431213379,0.7639740705490112,25.3947811126709,-29.247621536254883,75.59770202636719,-7.031726837158203,12.318452835083008,19.79916763305664,2.512544870376587,-16.433420181274414,-41.366546630859375,-39.55311584472656,19.122373580932617,-15.786829948425293,11.22929859161377,21.384057998657227,23.036273956298828,7.096152305603027,9.112473487854004,3.1685197353363037,-16.713367462158203,-16.363290786743164,74.2079086303711,19.37128257751465,-41.02048873901367,-15.956862449645996,3.80533504486084,-10.603066444396973,0.35656237602233887,6.649952411651611,8.069037437438965,22.56498146057129,-49.617286682128906,-45.29054641723633,-20.565946578979492,40.56880569458008,3.3776440620422363,5.740053653717041,18.538610458374023,-27.805295944213867,-41.22908020019531,-45.412254333496094,6.522793292999268,3.643120765686035,-12.304146766662598,-1.9366987943649292,-15.459911346435547,8.956542015075684,-63.81489181518555,48.62580490112305,-14.834810256958008,24.595731735229492,48.48615264892578,7.684355735778809,22.167278289794922,74.23988342285156,47.669769287109375,-12.084163665771484,6.70742130279541,8.213592529296875,6.412757396697998,25.189067840576172,-40.2473030090332,4.182660102844238,30.21320915222168,-7.302181243896484,29.624364852905273,-52.45408248901367,-7.258490562438965,46.564090728759766,-28.153362274169922,-4.356260776519775,47.2555046081543,-18.80898094177246,48.06415939331055,16.981420516967773,-16.238975524902344,-60.74388122558594,75.4325942993164,-70.53529357910156,28.38004493713379,4.961861610412598,-50.58273696899414,-26.317716598510742,9.465896606445312,37.26567077636719,-20.56254005432129,-13.148079872131348,18.266460418701172,-48.6540412902832,-13.825241088867188,-0.29590967297554016,-3.0667645931243896,-5.7444658279418945,-3.922104597091675,-67.97151184082031,10.29604721069336,-13.585854530334473,8.141804695129395,23.287717819213867,-7.854605197906494,27.838232040405273,14.760419845581055,1.3801153898239136,-15.467683792114258,28.806272506713867,52.15810012817383,-13.157760620117188,46.705589294433594,48.2176628112793,-25.74300765991211,74.27112579345703,36.87714385986328,8.534602165222168,18.905363082885742,27.09202003479004,-12.680326461791992,-22.920978546142578,-36.394466400146484,-1.4918688535690308,27.19536781311035,13.863977432250977,34.13395309448242,-58.285343170166016,16.197309494018555,27.475481033325195,-49.889244079589844,16.954029083251953,74.90657806396484,-39.45189666748047,-15.794825553894043,28.985441207885742,-8.662254333496094,17.940324783325195,22.760047912597656,18.442073822021484,24.283308029174805,16.805875778198242,7.1011223793029785,3.6558399200439453,-10.181551933288574,28.09612464904785,-46.254180908203125,-1.127071738243103,-3.819472312927246,8.29328441619873,-68.03964233398438,4.568604946136475,-20.816389083862305,-66.49785614013672,-67.80387115478516,57.99244689941406,-36.22306442260742,-47.13180923461914,74.24343872070312,-37.12095260620117,-7.822249889373779,19.834243774414062,2.172351360321045,-17.01495933532715,30.530960083007812,-10.516080856323242,-13.653131484985352,-11.077603340148926,-3.205512523651123,-13.62077522277832,26.281938552856445,9.091421127319336,-67.26342010498047,73.40098571777344,23.316125869750977,48.13776779174805,-14.109341621398926,44.38145446777344,-0.20128555595874786,50.73099899291992,-37.506629943847656,-44.07717514038086,25.78809928894043,11.121299743652344,5.906771659851074,48.04888153076172,5.853278160095215,-7.3762006759643555,4.2007737159729,-62.1769905090332,-27.547508239746094,19.620588302612305,-46.27637481689453,8.171957969665527,75.19114685058594,20.407224655151367,10.047120094299316,-4.3357954025268555,-2.4909017086029053,5.645201206207275,73.7492904663086,22.917810440063477,-7.5920090675354,4.396712303161621,6.9930620193481445,-13.19656753540039,28.056007385253906,-69.88468170166016,-14.345261573791504,24.233322143554688,21.17678451538086,49.005340576171875,10.835469245910645,20.31780433654785,2.32460618019104,35.115665435791016,-3.04885196685791,38.73958969116211,-69.09671783447266,19.72838020324707,-36.035770416259766,24.041065216064453,46.559783935546875,11.051641464233398,5.079821586608887,-0.5858724117279053,6.120298385620117,26.20899200439453,-3.292194366455078,-67.90879821777344,48.15448760986328,2.8686165809631348,-4.094998836517334,-8.11329460144043,0.3432779014110565,20.82497215270996,-47.79861831665039,-17.966867446899414,0.17742665112018585,-10.255091667175293,-65.20216369628906,-41.03683090209961,74.22798919677734,-55.534969329833984,-2.5987517833709717,8.18012523651123,31.028112411499023,-21.736427307128906,-0.273763507604599,24.251256942749023,38.82926559448242,-5.004447937011719,-26.771560668945312,-60.82892608642578,3.8454999923706055,-15.554927825927734,-68.03506469726562,29.40341567993164,-19.532922744750977,-35.00645446777344,2.850853681564331,-66.72561645507812,-65.53128814697266,11.303984642028809,9.991912841796875,4.888134956359863,25.184144973754883,1.7736841440200806,25.548038482666016,11.538116455078125,9.564189910888672,-40.160953521728516,25.952041625976562,21.29245376586914,0.892528772354126,-2.17033314704895,-47.09177017211914,-54.04673767089844,-18.82741355895996,-6.173542022705078,-27.48819923400879,-18.173633575439453,-52.52870178222656,25.97675323486328,15.142534255981445,-65.94760131835938,8.926090240478516,-7.743527889251709,-60.735748291015625,18.54349708557129,21.916091918945312,-39.011566162109375,26.320714950561523,49.04442596435547,-14.08588695526123,21.695016860961914,16.670333862304688,-14.55416202545166,19.28365135192871,-9.029763221740723,-3.222987413406372,17.976295471191406,47.87607192993164,18.614431381225586,48.146270751953125,-28.570859909057617,73.7348403930664,28.10287857055664,-40.957603454589844,-27.548542022705078,0.15410242974758148,0.6790578961372375,3.368436813354492,-10.12927532196045,9.55604362487793,-30.597537994384766,22.661449432373047,-70.15776824951172,55.73932647705078,13.714473724365234,-16.47461700439453,-39.12025833129883,-4.536223411560059,-52.77227020263672,-8.87724781036377,-69.20089721679688,-45.367069244384766,-7.082097053527832,9.800395965576172,17.573701858520508,-59.63718032836914,-37.536434173583984,39.451751708984375,28.496036529541016,7.564448833465576,-3.8334028720855713,11.189826965332031,22.57232666015625,-42.757999420166016,-6.58424711227417,-0.04633908346295357,14.1151123046875,15.116959571838379,-42.31171798706055,74.91478729248047,-35.08726501464844,-33.887229919433594,7.577783584594727,16.53348159790039,-13.103675842285156,76.04708099365234,24.599061965942383,19.295190811157227,46.278076171875,-14.648588180541992,-33.2623405456543,14.629000663757324,-1.327633023262024,-21.578414916992188,-64.44245910644531,22.326082229614258,25.07916831970215,-16.088043212890625,6.348888397216797,-13.694953918457031,6.028955459594727,-39.19674301147461,20.223386764526367,6.967727184295654,2.1025545597076416,-34.06657409667969,-61.492340087890625,-4.312891006469727,-4.928680896759033,0.12952128052711487,-1.074053168296814,42.49960708618164,4.765812397003174,41.83540725708008,-1.752152442932129,0.4265717566013336,-9.104743957519531,-0.31053367257118225,-12.135231971740723,28.432518005371094,-17.10246467590332,20.18669891357422,-36.657649993896484,2.319530487060547,27.690893173217773,-65.52348327636719,74.14070129394531,48.051063537597656,-24.672603607177734,-58.711181640625,-3.412127733230591,-17.62448501586914,13.508121490478516,46.81910705566406,-27.801475524902344,-43.12841796875,10.55590534210205,-25.950824737548828,-19.982398986816406,1.1984074115753174,-0.3595127463340759,28.287273406982422,-51.825836181640625,-55.47493362426758,-53.833457946777344,-6.1578369140625,-4.099339008331299,44.97854995727539,-47.96855163574219,-36.34833908081055,-26.46198272705078,-45.973384857177734,-13.44678020477295,4.395130157470703,11.95984935760498,-35.737770080566406,-5.169785976409912,22.166301727294922,-34.14081573486328,-41.71129608154297,12.31134033203125,45.0340461730957,75.88102722167969,38.533687591552734,26.562692642211914,8.25381088256836,18.851903915405273,13.102737426757812,17.393953323364258,-6.598181247711182,-38.84633255004883,20.702726364135742,24.381980895996094,-31.929954528808594,18.259431838989258,11.815753936767578,-5.1680426597595215,-11.404720306396484,-1.3615835905075073,-67.76940155029297,-12.837935447692871,21.271581649780273,-54.610084533691406,-60.295562744140625,40.05238723754883,11.794477462768555,19.22527503967285,27.31892204284668,7.8821306228637695,-28.343103408813477,4.359869480133057,18.906551361083984,-1.9016920328140259,-17.13303565979004,-10.63086986541748,4.924705505371094,-25.479310989379883,73.73613739013672,35.52534484863281,-9.38058090209961,-25.33353042602539,8.702880859375,47.97199630737305,74.92240142822266,78.0716552734375,-19.68718719482422,17.857744216918945,-66.0792465209961,6.542845249176025,48.490413665771484,21.32469367980957,3.795416831970215,28.306415557861328,26.403791427612305,-9.670023918151855,0.3347834050655365,25.97466278076172,-0.8602972030639648,-70.55949401855469,-16.265968322753906,73.99008178710938,-58.6259765625,-16.089874267578125,-3.509788751602173,-4.2692646980285645,33.41499710083008,-53.832542419433594,5.003447532653809,-15.425912857055664,-25.3691463470459,9.891743659973145,5.388228416442871,9.045348167419434,76.29855346679688,-53.45589065551758,-62.867515563964844,-2.823620319366455,46.03968811035156,-13.616687774658203,2.572976589202881,-51.872535705566406,-3.079216241836548,3.198976755142212,4.236971855163574,46.52076721191406,-69.97782897949219,-15.338423728942871,19.372621536254883,-24.02899932861328,18.1197452545166,2.363002300262451,52.53059005737305,-9.43446159362793,-1.7840253114700317,-27.53752899169922,-11.883572578430176,45.941707611083984,-5.758249759674072,-2.86639666557312,-15.008255004882812,26.32681655883789,11.833836555480957,-9.794353485107422,2.0376064777374268,-9.709712982177734,-8.953215599060059,-22.59629249572754,13.624414443969727,73.81742095947266,-51.8014030456543,5.368954658508301,-8.86918830871582,-4.027257442474365,5.013307571411133,23.776268005371094,-11.096270561218262,-25.973224639892578,29.687808990478516,15.152090072631836,-28.398460388183594,-4.855017185211182,17.8333740234375,-39.37247848510742,45.84857940673828,24.050745010375977,20.292863845825195,-2.1845695972442627,75.4551773071289,10.161006927490234,-9.416974067687988,26.299327850341797,38.37420654296875,21.901426315307617,29.507341384887695,4.0867085456848145,-1.7809007167816162,21.174335479736328,6.5455169677734375,5.599100112915039,5.701780796051025,39.537471771240234,5.033870697021484,46.17367935180664,-44.216732025146484,-42.995399475097656,28.843847274780273,25.80683135986328,5.057998180389404,-56.42763900756836,-63.85036087036133,-11.074734687805176,20.073190689086914,46.777854919433594,-67.4862289428711,23.544898986816406,-67.51995086669922,19.77338218688965,-9.329575538635254,9.247629165649414,-18.44563865661621,13.683947563171387,48.06149673461914,-12.570113182067871,-59.18911361694336,10.93996524810791,28.69770622253418,0.178953155875206,-43.06507873535156,-3.6851673126220703,28.347803115844727,29.246505737304688,-12.370922088623047,-15.771355628967285,9.181254386901855,-7.202342510223389,38.27606964111328,-13.872249603271484,-7.525049686431885,-45.21979522705078,-13.431025505065918,18.398752212524414,36.09592819213867,-13.114459991455078,6.044519901275635,-15.68359375,33.898292541503906,55.6940803527832,22.932327270507812,-11.433411598205566,-43.176082611083984,35.028812408447266,-69.6781005859375,-27.972129821777344,-3.5229623317718506,-34.60724639892578,35.90072250366211,5.210039138793945,-63.722625732421875,-0.7542924880981445,15.733468055725098,-52.53485107421875,18.742219924926758,-0.4989144802093506,-63.76105880737305,32.29708480834961,75.57026672363281,-52.674034118652344,-68.78807067871094,-54.99191665649414,-68.9169921875,22.28455352783203,-33.409061431884766,-17.383424758911133,-5.8557562828063965,-51.55347442626953,-28.858440399169922,24.042116165161133,-69.85448455810547,-4.002978801727295,-64.62688446044922,-14.959980964660645,14.432478904724121,-4.270279407501221,4.257740020751953,47.06829833984375,75.42415618896484,7.15578031539917,-37.33213424682617,-14.848111152648926,49.336971282958984,5.411937236785889,47.514190673828125,-46.37657928466797,-15.882821083068848,-27.416601181030273,36.565673828125,-16.77948760986328,3.3434834480285645,1.1235719919204712,-28.961753845214844,-55.855464935302734,75.24284362792969,46.761497497558594,12.27591323852539,11.932924270629883,29.71061897277832,-9.042701721191406,6.116688251495361,28.096494674682617,12.505245208740234,-16.07106590270996,48.558677673339844,77.9702377319336,7.01948356628418,6.371635437011719,-67.90359497070312,37.01836013793945,-15.188274383544922,-19.35957908630371,-10.236056327819824,-4.156403064727783,14.526644706726074,7.112213611602783,15.013184547424316,75.54647064208984,18.556373596191406,-19.363855361938477,4.667309761047363,6.347526550292969,11.675751686096191,-1.680971384048462,57.342002868652344,-10.562646865844727,-44.00254440307617,-60.00104904174805,8.16222858428955,25.889373779296875,46.80873107910156,-32.04742431640625,49.63338851928711,12.33609390258789,-48.0124397277832,-11.514104843139648,-8.305716514587402,-27.408212661743164,18.530628204345703,-23.022024154663086,19.798730850219727,-7.254980564117432,21.262611389160156,-64.78485870361328,-40.027931213378906,12.172215461730957,-18.84607696533203,-49.80983352661133,-15.43437385559082,-16.117971420288086,-8.63453197479248,-21.939252853393555,-17.34670066833496,-58.21364974975586,4.896605968475342,-3.227999687194824,-56.378761291503906,-22.861616134643555,-13.450867652893066,-1.4008965492248535,-27.16109275817871,-59.942020416259766,11.09181022644043,11.843388557434082,6.561944484710693,4.936277866363525,-22.88002586364746,-10.537474632263184,5.889038562774658,-64.42406463623047,-3.1466903686523438,4.116210460662842,20.460479736328125,5.363357067108154,21.449111938476562,7.111954212188721,0.8788824081420898,10.608210563659668,-59.730464935302734,-12.472403526306152,-39.44599533081055,33.255859375,-15.971705436706543,-66.13197326660156,-42.81254959106445,-2.135451078414917,-3.198345422744751,-37.09006118774414,-16.362865447998047,15.027070999145508,-59.540225982666016,-64.04694366455078,18.232545852661133,4.619458198547363,1.861242651939392,45.74790573120117,11.024426460266113,74.88870239257812,-14.109923362731934,45.42734909057617,-2.2420144081115723,11.218688011169434,-26.364492416381836,39.05631637573242,-3.0751960277557373,-15.902517318725586,1.0339394807815552,-53.98291015625,-16.525392532348633,17.6667537689209,2.953855514526367,-0.8652145862579346,-66.6302719116211,-50.53337478637695,-1.2743569612503052,-18.618024826049805,-14.43961238861084,48.97238540649414,-32.553016662597656,37.58891296386719,32.84687042236328,24.28927230834961,27.783233642578125,48.161563873291016,-26.205934524536133,-3.8234848976135254,-59.90638732910156,18.769184112548828,73.73983764648438,74.43988037109375,47.64803695678711,22.84132957458496,-14.723958015441895,-7.658576488494873,-58.1469612121582,-3.777977466583252,-48.91273498535156,8.980633735656738,26.639881134033203,16.9562931060791,-13.241081237792969,17.22140121459961,0.026812322437763214,-56.31095504760742,-17.67076301574707,-0.8865975141525269,-13.582215309143066,47.558433532714844,-14.30752944946289,-53.537662506103516,26.599414825439453,3.257190227508545,-33.09573745727539,-34.18888473510742,-35.9936408996582,4.221347808837891,19.638673782348633,29.79952049255371,5.924154758453369,-58.02535629272461,-35.561038970947266,1.3688679933547974,36.503421783447266,14.011610984802246,-9.966642379760742,-0.8961182832717896,47.196067810058594,11.14229679107666,-63.88157272338867,18.52794075012207,10.312982559204102,26.876846313476562,-40.205162048339844,-4.341217994689941,-16.62065315246582,-3.073580265045166,16.318387985229492,-51.654815673828125,73.84031677246094,-66.69873046875,-0.2680216431617737,-0.013005699962377548,26.585241317749023,19.828359603881836,30.526369094848633,-25.157772064208984,47.651126861572266,-52.24397277832031,7.616120338439941,13.76973819732666,46.44181823730469,-13.150638580322266,40.468467712402344,-7.393343925476074,27.35426902770996,-29.8549747467041,-11.224111557006836,-1.5248712301254272,20.488445281982422,0.06361082941293716,-37.60786819458008,47.60365295410156,48.85917282104492,-9.611902236938477,-20.189245223999023,38.43596267700195,74.470458984375,3.833495855331421,22.34151268005371,9.56496524810791,-4.184847831726074,-52.809078216552734,-11.141923904418945,-54.31883239746094,-2.645479202270508,14.02072525024414,-2.454740524291992,32.511993408203125,73.66336822509766,-50.450172424316406,22.54563331604004,3.419748544692993,8.145843505859375,-5.590780258178711,-5.440029621124268,-19.51544761657715,-26.426347732543945,17.696325302124023,-9.560086250305176,-35.270729064941406,35.63856506347656,5.626403331756592,38.221412658691406,2.2777013778686523,39.066776275634766,2.361286163330078,-34.96186065673828,31.851642608642578,76.05269622802734,-47.24793243408203,-1.3193657398223877,23.44765853881836,-18.45343589782715,-13.249424934387207,73.59835815429688,19.56088638305664,13.184473991394043,-13.621960639953613,74.24748229980469,-0.5113520622253418,46.780826568603516,-59.28604507446289,-16.665569305419922,-7.058619976043701,-30.815462112426758,-40.78087615966797,-42.22449493408203,75.20831298828125,48.17939376831055,24.64177703857422,-1.839337944984436,22.281156539916992,-7.050235748291016,-7.292122840881348,-8.962004661560059,-1.828888177871704,-42.68855667114258,19.987289428710938,-16.253583908081055,-44.74187088012695,-11.934483528137207,-16.87202262878418,-11.886874198913574,18.653095245361328,4.121436595916748,10.438465118408203,12.296019554138184,-16.473451614379883,9.04634952545166,-6.715661525726318,-8.102982521057129,-56.06171417236328,-42.0408821105957,-15.097362518310547,12.362831115722656,9.592440605163574,-15.214430809020996,-3.7205426692962646,22.79977035522461,-6.007779121398926,-4.593376159667969,-2.7485647201538086,-35.09442138671875,-58.38943862915039,-5.966335773468018,-13.975889205932617,9.708722114562988,-42.81410598754883,-1.6154690980911255,-53.40831756591797,-13.184925079345703,-17.588134765625,33.85790252685547,-4.071966648101807,-55.37207794189453,40.42145538330078,-14.590209007263184,45.83297348022461,-42.688453674316406,-50.58779525756836,-4.362178802490234,-33.176815032958984,35.895294189453125,-14.997283935546875,23.298141479492188,-20.449777603149414,4.7862420082092285,-19.698484420776367,-10.405950546264648,-3.831343173980713,-3.980720043182373,20.315547943115234,-2.517714738845825,-37.240604400634766,-52.4111442565918,-4.832072734832764,-2.4148731231689453,4.378487586975098,9.511748313903809,-55.24466323852539,16.53912925720215,11.996702194213867,-52.69390869140625,-40.5926399230957,-14.812758445739746,7.170955657958984,23.491111755371094,8.027950286865234,-20.687978744506836,43.75027847290039,25.218320846557617,-23.392070770263672,-53.50502014160156,-64.85330963134766,29.032577514648438,-9.888860702514648,21.7869873046875,-67.45775604248047,22.176979064941406,-5.02873420715332,34.88526153564453,45.84831619262695,40.5455436706543,-54.55329132080078,-0.08621475100517273,11.561199188232422,-6.432344436645508,-46.5914421081543,45.85604476928711,-13.241752624511719,-10.80986213684082,54.70225524902344,-30.749296188354492,10.272814750671387,28.640993118286133,-5.6330766677856445,7.449822902679443,12.461724281311035,-66.28880310058594,28.84051513671875,42.893959045410156,14.490604400634766,17.21290397644043,4.42741584777832,40.54628372192383,-28.529972076416016,-10.177982330322266,-29.454776763916016,-65.9070053100586,32.94810485839844,-33.25955581665039,75.26653289794922,14.171666145324707,-48.62242126464844,-67.49717712402344,6.959380149841309,-53.79015350341797,18.118745803833008,-48.82373046875,19.512989044189453,8.400004386901855,76.10322570800781,-39.643672943115234,-15.618674278259277,-26.494354248046875,-21.748733520507812,39.06949234008789,-64.66362762451172,17.441755294799805,18.17850112915039,-2.90435791015625,0.47977426648139954,-20.65671730041504,6.500857830047607,34.81681823730469,27.665424346923828,17.446483612060547,-47.560272216796875,35.43953323364258,-4.561864376068115,32.18094253540039,-3.2383501529693604,14.007305145263672,-16.048355102539062,-31.808982849121094,-14.998272895812988,31.436349868774414,-1.0043423175811768,-59.18996810913086,-9.959808349609375,-42.55801010131836,12.196846961975098,-53.06828308105469,-2.2391774654388428,55.30901336669922,11.950250625610352,-69.00936126708984,21.01293182373047,-53.687889099121094,4.085104465484619,-3.736013412475586,3.4131264686584473,-2.960775852203369,18.4213809967041,-21.692834854125977,-12.18886661529541,-6.216696262359619,2.6697921752929688,9.49555492401123,-68.11186981201172,-12.223956108093262,47.78314208984375,12.901105880737305,73.83757781982422,75.169677734375,-50.18852996826172,-4.664161205291748,12.037729263305664,20.140289306640625,-3.469125747680664,-33.74915313720703,-17.939002990722656,-16.490842819213867,7.162789344787598,6.092338562011719,-32.621070861816406,-48.333187103271484,-4.3206610679626465,75.84577178955078,23.913909912109375,9.443245887756348,-16.279251098632812,-13.447007179260254,48.13130187988281,-67.90303039550781,19.040456771850586,-56.01157760620117,0.6633182168006897,12.325565338134766,50.31495666503906,-53.24867248535156,57.2706184387207,-7.3664751052856445,9.142714500427246,-34.116905212402344,11.650406837463379,6.467888355255127,11.812531471252441,44.11357498168945,75.22782897949219,33.709571838378906,17.706907272338867,-11.800185203552246,16.3826961517334,5.778862476348877,-47.17133712768555,-13.486846923828125,12.611358642578125,-30.088153839111328,-9.630352020263672,2.847532033920288,10.568792343139648,-37.83382034301758,-20.029830932617188,-46.8749885559082,-44.635677337646484,30.474899291992188,-67.16414642333984,-64.7935791015625,51.18486022949219,-67.4827651977539,27.56277847290039,9.324579238891602,8.07603931427002,-52.77214050292969,27.072011947631836,32.59727096557617,-62.86829376220703,48.703033447265625,-11.049335479736328,-48.982887268066406,14.088786125183105,34.121826171875,-42.582359313964844,21.924816131591797,17.500585556030273,16.823678970336914,-50.31940460205078,28.096864700317383,-67.42472839355469,-10.49978256225586,-3.1467702388763428,24.032005310058594,75.51529693603516,36.51060104370117,-38.72810363769531,-43.10673522949219,7.29395866394043,-0.62412029504776,8.418931007385254,10.53065299987793,3.272965431213379,-3.5259335041046143,29.150514602661133,47.65167236328125,-53.65994644165039,-47.79032897949219,-57.98299789428711,10.92647647857666,3.208873748779297,14.548895835876465,6.33025598526001,-14.812355995178223,6.4440999031066895,-43.70220947265625,-12.931197166442871,46.6557731628418,-55.08798599243164,-6.951828956604004,21.82147789001465,-66.1849365234375,14.699673652648926,22.66801643371582,-7.015941143035889,-65.60340881347656,-33.49039840698242,23.727487564086914,23.070655822753906,18.224035263061523,20.607454299926758,-6.328186511993408,-10.6098051071167,-17.402605056762695,-3.009713649749756,-1.6800800561904907,-35.977699279785156,-4.65761137008667,27.190706253051758,29.73429298400879,13.115851402282715,-20.024560928344727,-52.1461181640625,16.733171463012695,26.984655380249023,-7.781277656555176,-68.75035858154297,-41.77432632446289,25.70209312438965,1.6771379709243774,-25.063241958618164,-54.044532775878906,33.97636032104492,9.073040962219238,3.8789970874786377,-0.2376973032951355,16.15142250061035,-11.43364143371582,17.77507209777832,-70.0215835571289,11.49921989440918,29.10313606262207,-14.394556045532227,11.164968490600586,6.751549243927002,-27.185840606689453,21.10717010498047,-16.73617172241211,-65.1741943359375,28.413196563720703,18.709476470947266,-44.80264663696289,57.52516174316406,-36.064292907714844,-41.82154846191406,-44.16408157348633,0.1386667788028717,-15.382302284240723,-69.44679260253906,5.926370620727539,48.407310485839844,-2.4063780307769775,19.12124252319336,-10.01205825805664,-36.19676971435547,12.129714012145996,-15.120433807373047,18.551639556884766,9.438575744628906,11.596381187438965,47.12677001953125,-8.3207368850708,0.5401672720909119,47.224666595458984,45.842506408691406,-15.676410675048828,-44.57919692993164,24.125457763671875,-59.513641357421875,-51.83420944213867,76.11479949951172,17.921558380126953,48.2313232421875,-3.3323025703430176,8.039529800415039,-0.15464672446250916,-6.087152481079102,42.781620025634766,39.49797058105469,49.07839584350586,9.930981636047363,-13.073320388793945,19.28550910949707,19.278614044189453,-18.6395320892334,75.67247772216797,45.160465240478516,10.89163875579834,45.2119026184082,13.911299705505371,-13.184321403503418,-22.718353271484375,-3.476092576980591,-59.42887496948242,23.332866668701172,-3.454124927520752,52.14808654785156,76.19053649902344,27.453598022460938,13.16574478149414,-6.641432762145996,22.1392822265625,-53.64037322998047,49.75211715698242,6.572910785675049,-9.897615432739258,4.831154823303223,19.46663475036621,6.400485992431641,4.30519437789917,-49.2591552734375,-6.473697662353516,-4.210791110992432,-17.763195037841797,-13.580756187438965,8.77643871307373,11.45540714263916,-12.622758865356445,12.112832069396973,-10.192222595214844,0.6332452297210693,-28.725526809692383,2.965137004852295,-2.738191604614258,-60.484413146972656,-12.412030220031738,-17.320241928100586,42.20500183105469,1.902890682220459,0.8296100497245789,8.6232328414917,47.88778305053711,28.419795989990234,-20.933076858520508,-59.66046905517578,-1.9968822002410889,-9.100423812866211,30.011550903320312,-0.9030340313911438,25.848369598388672,-4.824951648712158,-35.69027328491211,40.6544075012207,11.894947052001953,-44.05510330200195,-38.74772644042969,19.825504302978516,0.2720996141433716,32.939064025878906,21.538448333740234,9.515786170959473,-19.189067840576172,-69.13703155517578,1.969688892364502,-43.88896560668945,26.54349136352539,2.6586050987243652,-41.53768539428711,45.81429672241211,16.554906845092773,17.88714599609375],\"yaxis\":\"y\",\"type\":\"scattergl\"}],                        {\"template\":{\"data\":{\"histogram2dcontour\":[{\"type\":\"histogram2dcontour\",\"colorbar\":{\"outlinewidth\":0,\"ticks\":\"\"},\"colorscale\":[[0.0,\"#0d0887\"],[0.1111111111111111,\"#46039f\"],[0.2222222222222222,\"#7201a8\"],[0.3333333333333333,\"#9c179e\"],[0.4444444444444444,\"#bd3786\"],[0.5555555555555556,\"#d8576b\"],[0.6666666666666666,\"#ed7953\"],[0.7777777777777778,\"#fb9f3a\"],[0.8888888888888888,\"#fdca26\"],[1.0,\"#f0f921\"]]}],\"choropleth\":[{\"type\":\"choropleth\",\"colorbar\":{\"outlinewidth\":0,\"ticks\":\"\"}}],\"histogram2d\":[{\"type\":\"histogram2d\",\"colorbar\":{\"outlinewidth\":0,\"ticks\":\"\"},\"colorscale\":[[0.0,\"#0d0887\"],[0.1111111111111111,\"#46039f\"],[0.2222222222222222,\"#7201a8\"],[0.3333333333333333,\"#9c179e\"],[0.4444444444444444,\"#bd3786\"],[0.5555555555555556,\"#d8576b\"],[0.6666666666666666,\"#ed7953\"],[0.7777777777777778,\"#fb9f3a\"],[0.8888888888888888,\"#fdca26\"],[1.0,\"#f0f921\"]]}],\"heatmap\":[{\"type\":\"heatmap\",\"colorbar\":{\"outlinewidth\":0,\"ticks\":\"\"},\"colorscale\":[[0.0,\"#0d0887\"],[0.1111111111111111,\"#46039f\"],[0.2222222222222222,\"#7201a8\"],[0.3333333333333333,\"#9c179e\"],[0.4444444444444444,\"#bd3786\"],[0.5555555555555556,\"#d8576b\"],[0.6666666666666666,\"#ed7953\"],[0.7777777777777778,\"#fb9f3a\"],[0.8888888888888888,\"#fdca26\"],[1.0,\"#f0f921\"]]}],\"heatmapgl\":[{\"type\":\"heatmapgl\",\"colorbar\":{\"outlinewidth\":0,\"ticks\":\"\"},\"colorscale\":[[0.0,\"#0d0887\"],[0.1111111111111111,\"#46039f\"],[0.2222222222222222,\"#7201a8\"],[0.3333333333333333,\"#9c179e\"],[0.4444444444444444,\"#bd3786\"],[0.5555555555555556,\"#d8576b\"],[0.6666666666666666,\"#ed7953\"],[0.7777777777777778,\"#fb9f3a\"],[0.8888888888888888,\"#fdca26\"],[1.0,\"#f0f921\"]]}],\"contourcarpet\":[{\"type\":\"contourcarpet\",\"colorbar\":{\"outlinewidth\":0,\"ticks\":\"\"}}],\"contour\":[{\"type\":\"contour\",\"colorbar\":{\"outlinewidth\":0,\"ticks\":\"\"},\"colorscale\":[[0.0,\"#0d0887\"],[0.1111111111111111,\"#46039f\"],[0.2222222222222222,\"#7201a8\"],[0.3333333333333333,\"#9c179e\"],[0.4444444444444444,\"#bd3786\"],[0.5555555555555556,\"#d8576b\"],[0.6666666666666666,\"#ed7953\"],[0.7777777777777778,\"#fb9f3a\"],[0.8888888888888888,\"#fdca26\"],[1.0,\"#f0f921\"]]}],\"surface\":[{\"type\":\"surface\",\"colorbar\":{\"outlinewidth\":0,\"ticks\":\"\"},\"colorscale\":[[0.0,\"#0d0887\"],[0.1111111111111111,\"#46039f\"],[0.2222222222222222,\"#7201a8\"],[0.3333333333333333,\"#9c179e\"],[0.4444444444444444,\"#bd3786\"],[0.5555555555555556,\"#d8576b\"],[0.6666666666666666,\"#ed7953\"],[0.7777777777777778,\"#fb9f3a\"],[0.8888888888888888,\"#fdca26\"],[1.0,\"#f0f921\"]]}],\"mesh3d\":[{\"type\":\"mesh3d\",\"colorbar\":{\"outlinewidth\":0,\"ticks\":\"\"}}],\"scatter\":[{\"fillpattern\":{\"fillmode\":\"overlay\",\"size\":10,\"solidity\":0.2},\"type\":\"scatter\"}],\"parcoords\":[{\"type\":\"parcoords\",\"line\":{\"colorbar\":{\"outlinewidth\":0,\"ticks\":\"\"}}}],\"scatterpolargl\":[{\"type\":\"scatterpolargl\",\"marker\":{\"colorbar\":{\"outlinewidth\":0,\"ticks\":\"\"}}}],\"bar\":[{\"error_x\":{\"color\":\"#2a3f5f\"},\"error_y\":{\"color\":\"#2a3f5f\"},\"marker\":{\"line\":{\"color\":\"#E5ECF6\",\"width\":0.5},\"pattern\":{\"fillmode\":\"overlay\",\"size\":10,\"solidity\":0.2}},\"type\":\"bar\"}],\"scattergeo\":[{\"type\":\"scattergeo\",\"marker\":{\"colorbar\":{\"outlinewidth\":0,\"ticks\":\"\"}}}],\"scatterpolar\":[{\"type\":\"scatterpolar\",\"marker\":{\"colorbar\":{\"outlinewidth\":0,\"ticks\":\"\"}}}],\"histogram\":[{\"marker\":{\"pattern\":{\"fillmode\":\"overlay\",\"size\":10,\"solidity\":0.2}},\"type\":\"histogram\"}],\"scattergl\":[{\"type\":\"scattergl\",\"marker\":{\"colorbar\":{\"outlinewidth\":0,\"ticks\":\"\"}}}],\"scatter3d\":[{\"type\":\"scatter3d\",\"line\":{\"colorbar\":{\"outlinewidth\":0,\"ticks\":\"\"}},\"marker\":{\"colorbar\":{\"outlinewidth\":0,\"ticks\":\"\"}}}],\"scattermapbox\":[{\"type\":\"scattermapbox\",\"marker\":{\"colorbar\":{\"outlinewidth\":0,\"ticks\":\"\"}}}],\"scatterternary\":[{\"type\":\"scatterternary\",\"marker\":{\"colorbar\":{\"outlinewidth\":0,\"ticks\":\"\"}}}],\"scattercarpet\":[{\"type\":\"scattercarpet\",\"marker\":{\"colorbar\":{\"outlinewidth\":0,\"ticks\":\"\"}}}],\"carpet\":[{\"aaxis\":{\"endlinecolor\":\"#2a3f5f\",\"gridcolor\":\"white\",\"linecolor\":\"white\",\"minorgridcolor\":\"white\",\"startlinecolor\":\"#2a3f5f\"},\"baxis\":{\"endlinecolor\":\"#2a3f5f\",\"gridcolor\":\"white\",\"linecolor\":\"white\",\"minorgridcolor\":\"white\",\"startlinecolor\":\"#2a3f5f\"},\"type\":\"carpet\"}],\"table\":[{\"cells\":{\"fill\":{\"color\":\"#EBF0F8\"},\"line\":{\"color\":\"white\"}},\"header\":{\"fill\":{\"color\":\"#C8D4E3\"},\"line\":{\"color\":\"white\"}},\"type\":\"table\"}],\"barpolar\":[{\"marker\":{\"line\":{\"color\":\"#E5ECF6\",\"width\":0.5},\"pattern\":{\"fillmode\":\"overlay\",\"size\":10,\"solidity\":0.2}},\"type\":\"barpolar\"}],\"pie\":[{\"automargin\":true,\"type\":\"pie\"}]},\"layout\":{\"autotypenumbers\":\"strict\",\"colorway\":[\"#636efa\",\"#EF553B\",\"#00cc96\",\"#ab63fa\",\"#FFA15A\",\"#19d3f3\",\"#FF6692\",\"#B6E880\",\"#FF97FF\",\"#FECB52\"],\"font\":{\"color\":\"#2a3f5f\"},\"hovermode\":\"closest\",\"hoverlabel\":{\"align\":\"left\"},\"paper_bgcolor\":\"white\",\"plot_bgcolor\":\"#E5ECF6\",\"polar\":{\"bgcolor\":\"#E5ECF6\",\"angularaxis\":{\"gridcolor\":\"white\",\"linecolor\":\"white\",\"ticks\":\"\"},\"radialaxis\":{\"gridcolor\":\"white\",\"linecolor\":\"white\",\"ticks\":\"\"}},\"ternary\":{\"bgcolor\":\"#E5ECF6\",\"aaxis\":{\"gridcolor\":\"white\",\"linecolor\":\"white\",\"ticks\":\"\"},\"baxis\":{\"gridcolor\":\"white\",\"linecolor\":\"white\",\"ticks\":\"\"},\"caxis\":{\"gridcolor\":\"white\",\"linecolor\":\"white\",\"ticks\":\"\"}},\"coloraxis\":{\"colorbar\":{\"outlinewidth\":0,\"ticks\":\"\"}},\"colorscale\":{\"sequential\":[[0.0,\"#0d0887\"],[0.1111111111111111,\"#46039f\"],[0.2222222222222222,\"#7201a8\"],[0.3333333333333333,\"#9c179e\"],[0.4444444444444444,\"#bd3786\"],[0.5555555555555556,\"#d8576b\"],[0.6666666666666666,\"#ed7953\"],[0.7777777777777778,\"#fb9f3a\"],[0.8888888888888888,\"#fdca26\"],[1.0,\"#f0f921\"]],\"sequentialminus\":[[0.0,\"#0d0887\"],[0.1111111111111111,\"#46039f\"],[0.2222222222222222,\"#7201a8\"],[0.3333333333333333,\"#9c179e\"],[0.4444444444444444,\"#bd3786\"],[0.5555555555555556,\"#d8576b\"],[0.6666666666666666,\"#ed7953\"],[0.7777777777777778,\"#fb9f3a\"],[0.8888888888888888,\"#fdca26\"],[1.0,\"#f0f921\"]],\"diverging\":[[0,\"#8e0152\"],[0.1,\"#c51b7d\"],[0.2,\"#de77ae\"],[0.3,\"#f1b6da\"],[0.4,\"#fde0ef\"],[0.5,\"#f7f7f7\"],[0.6,\"#e6f5d0\"],[0.7,\"#b8e186\"],[0.8,\"#7fbc41\"],[0.9,\"#4d9221\"],[1,\"#276419\"]]},\"xaxis\":{\"gridcolor\":\"white\",\"linecolor\":\"white\",\"ticks\":\"\",\"title\":{\"standoff\":15},\"zerolinecolor\":\"white\",\"automargin\":true,\"zerolinewidth\":2},\"yaxis\":{\"gridcolor\":\"white\",\"linecolor\":\"white\",\"ticks\":\"\",\"title\":{\"standoff\":15},\"zerolinecolor\":\"white\",\"automargin\":true,\"zerolinewidth\":2},\"scene\":{\"xaxis\":{\"backgroundcolor\":\"#E5ECF6\",\"gridcolor\":\"white\",\"linecolor\":\"white\",\"showbackground\":true,\"ticks\":\"\",\"zerolinecolor\":\"white\",\"gridwidth\":2},\"yaxis\":{\"backgroundcolor\":\"#E5ECF6\",\"gridcolor\":\"white\",\"linecolor\":\"white\",\"showbackground\":true,\"ticks\":\"\",\"zerolinecolor\":\"white\",\"gridwidth\":2},\"zaxis\":{\"backgroundcolor\":\"#E5ECF6\",\"gridcolor\":\"white\",\"linecolor\":\"white\",\"showbackground\":true,\"ticks\":\"\",\"zerolinecolor\":\"white\",\"gridwidth\":2}},\"shapedefaults\":{\"line\":{\"color\":\"#2a3f5f\"}},\"annotationdefaults\":{\"arrowcolor\":\"#2a3f5f\",\"arrowhead\":0,\"arrowwidth\":1},\"geo\":{\"bgcolor\":\"white\",\"landcolor\":\"#E5ECF6\",\"subunitcolor\":\"white\",\"showland\":true,\"showlakes\":true,\"lakecolor\":\"white\"},\"title\":{\"x\":0.05},\"mapbox\":{\"style\":\"light\"}}},\"xaxis\":{\"anchor\":\"y\",\"domain\":[0.0,1.0],\"title\":{\"text\":\"x_tsne\"}},\"yaxis\":{\"anchor\":\"x\",\"domain\":[0.0,1.0],\"title\":{\"text\":\"y_tsne\"}},\"legend\":{\"tracegroupgap\":0},\"margin\":{\"t\":60}},                        {\"responsive\": true}                    ).then(function(){\n",
              "                            \n",
              "var gd = document.getElementById('3e660ebf-084e-493b-9027-d22eb89a3ee8');\n",
              "var x = new MutationObserver(function (mutations, observer) {{\n",
              "        var display = window.getComputedStyle(gd).display;\n",
              "        if (!display || display === 'none') {{\n",
              "            console.log([gd, 'removed!']);\n",
              "            Plotly.purge(gd);\n",
              "            observer.disconnect();\n",
              "        }}\n",
              "}});\n",
              "\n",
              "// Listen for the removal of the full notebook cells\n",
              "var notebookContainer = gd.closest('#notebook-container');\n",
              "if (notebookContainer) {{\n",
              "    x.observe(notebookContainer, {childList: true});\n",
              "}}\n",
              "\n",
              "// Listen for the clearing of the current output cell\n",
              "var outputEl = gd.closest('.output');\n",
              "if (outputEl) {{\n",
              "    x.observe(outputEl, {childList: true});\n",
              "}}\n",
              "\n",
              "                        })                };                            </script>        </div>\n",
              "</body>\n",
              "</html>"
            ]
          },
          "metadata": {}
        }
      ]
    },
    {
      "cell_type": "markdown",
      "source": [
        "### 1.3.3 Clustering"
      ],
      "metadata": {
        "tags": [],
        "cell_id": "75015b8bec9f4985ae3535276edb9cf6",
        "deepnote_cell_height": 61.866668701171875,
        "deepnote_cell_type": "markdown",
        "id": "5FIt0yfNbo4N"
      }
    },
    {
      "cell_type": "markdown",
      "source": [
        "#### 1.3.3.1 Método del Codo [1 puntos]"
      ],
      "metadata": {
        "tags": [],
        "cell_id": "01eb144ba7b844c98b0f68dc07f1ba38",
        "deepnote_cell_height": 53.866668701171875,
        "deepnote_cell_type": "markdown",
        "id": "RFPFAZHybo4N"
      }
    },
    {
      "cell_type": "markdown",
      "source": [
        "Utilizando la clase creada para escalamiento, aplique el método del codo para visualizar cual es el número de clusters que mejor se ajustan a los datos. Realice esto utilizando el algoritmo K-means dentro de un pipeline para un $k \\in [1,20]$, donde k representa el número de clusters del k-means. Para la realización de esta sección y la próxima (1.3.3.2), considere los mismos pasos utilizados para el t-sne, pero **permutando el algoritmo de reducción de dimensionalidad por k-means.**\n",
        "\n",
        "A través del grafico obtenido, comente y justifique que valor de k escogería para realizar el k-means."
      ],
      "metadata": {
        "tags": [],
        "cell_id": "de1f59f512af42618d3a5b084f84b460",
        "deepnote_cell_height": 223.06666564941406,
        "deepnote_cell_type": "markdown",
        "id": "_FfNBlG2bo4N"
      }
    },
    {
      "cell_type": "markdown",
      "source": [
        "**Respuesta:**"
      ],
      "metadata": {
        "tags": [],
        "cell_id": "a268dbe1c26b4dccbaa8c976005c9141",
        "deepnote_cell_height": 52.26666259765625,
        "deepnote_cell_type": "markdown",
        "id": "fMWqSdzEbo4N"
      }
    },
    {
      "cell_type": "code",
      "source": [],
      "metadata": {
        "tags": [],
        "cell_id": "36239002cba54f98a3778e66878b1041",
        "deepnote_cell_height": 65.86666870117188,
        "deepnote_cell_type": "code",
        "id": "EFKEutLwbo4N"
      },
      "outputs": [],
      "execution_count": null
    },
    {
      "cell_type": "markdown",
      "source": [
        "#### 1.3.3.2 Segmentación de Clientes con K-Means 🎁 [1 punto]"
      ],
      "metadata": {
        "tags": [],
        "cell_id": "3bb5d86bc1e54cf18a851e71c2c3a3c1",
        "deepnote_cell_height": 53.866668701171875,
        "deepnote_cell_type": "markdown",
        "id": "tOmkdvHjbo4O"
      }
    },
    {
      "cell_type": "markdown",
      "source": [
        "En base a la elección de k realizada en la sección anterior, utilice este valor escogido y entrene un modelo de K-means utilizando el mismo pipeline de scikit-learn utilizado anteriormente.\n",
        "\n",
        "Una vez ajustado los datos, genere una tabla con los promedios (o medianas) para cada uno de los atributos, agrupando estos por el clúster que pertenecen. ¿Es posible observar agrupaciones coherentes?, ¿Qué tipo de clientes posee el retail?, Justifique su respuesta y no decepcione a Mr. Lepin.\n"
      ],
      "metadata": {
        "tags": [],
        "cell_id": "f8c3b4d105754ccb8a1ce6dfd606a40e",
        "deepnote_cell_height": 200.6666717529297,
        "deepnote_cell_type": "markdown",
        "id": "3dx6CvA6bo4O"
      }
    },
    {
      "cell_type": "markdown",
      "source": [
        "**Respuesta:**"
      ],
      "metadata": {
        "tags": [],
        "cell_id": "dbce893901024a828d2b875798e27674",
        "deepnote_cell_height": 52.26666259765625,
        "deepnote_cell_type": "markdown",
        "id": "YBFLTu5tbo4O"
      }
    },
    {
      "cell_type": "code",
      "source": [],
      "metadata": {
        "tags": [],
        "cell_id": "375d5f6e310c442d82a9c940805fc6d2",
        "deepnote_cell_height": 65.86666870117188,
        "deepnote_cell_type": "code",
        "id": "z1dUoYs_bo4V"
      },
      "outputs": [],
      "execution_count": null
    },
    {
      "cell_type": "markdown",
      "source": [
        "**Respuesta Esperada:**\n",
        "\n",
        "|         | Length  | Recency   | Frequency | Monetary | Periodicity |       |\n",
        "|---------|---------|-----------|----------|-------------|-------|-------|\n",
        "| Cluster |         |           |          |             |       |       |\n",
        "|    0    |   258.8 |      45.2 |     76.1 |      1107.7 | 107.6 |   449 |\n",
        "|    1    |    76.1 |     217.6 |     45.5 |       791.7 |  14.1 |   466 |\n",
        "|    2    |   368.5 |       4.8 |   2715.0 |    226621.6 |   4.2 |     4 |\n",
        "|    3    |    85.3 |      45.7 |     65.8 |      1047.0 |  10.5 |   987 |\n",
        "|    4    |   347.2 |      15.9 |   1658.0 |     35829.3 |   8.0 |    25 |\n",
        "|    5    |   298.0 |      29.8 |    183.8 |      3639.9 |  32.0 |  1188 |"
      ],
      "metadata": {
        "tags": [],
        "cell_id": "18e50ee0240543d692bcde6d9c29fe73",
        "deepnote_cell_height": 261.4666748046875,
        "deepnote_cell_type": "markdown",
        "id": "1RyR_4UTbo4V"
      }
    },
    {
      "cell_type": "markdown",
      "source": [
        "#### 1.3.3.3 Plot de K-Means 📈 [0.5 puntos]\n",
        "\n"
      ],
      "metadata": {
        "tags": [],
        "cell_id": "f79d1fa6b1a64b6f97bffc62b037a663",
        "deepnote_cell_height": 53.866668701171875,
        "deepnote_cell_type": "markdown",
        "id": "f6FsFlCibo4V"
      }
    },
    {
      "cell_type": "markdown",
      "source": [
        "Por último, Mr. Lepin, impaciente de no entender lo que usted intenta explicarle, le solicita que por favor muestre algún resultado \"visual\" de los grupos encontrados.\n",
        "\n",
        "Para esto, grafique nuevamente las características encontradas usando `T-SNE` (no calcule de nuevo, simplemente utilice las proyecciones encontradas) y agregue las labels calculadas con kmeans como el argumento `color`.   \n",
        "\n",
        "Comente: ¿Se separan bien los distintos clusters en la visualización?\n"
      ],
      "metadata": {
        "tags": [],
        "cell_id": "2d0348435e814f16b8957dfbc6384a88",
        "owner_user_id": "d50c3174-babb-4861-9c71-7e3af66458b8",
        "deepnote_cell_height": 192.26666259765625,
        "deepnote_cell_type": "markdown",
        "id": "5WcR3vJjbo4V"
      }
    },
    {
      "cell_type": "markdown",
      "source": [
        "**Respuesta:**"
      ],
      "metadata": {
        "tags": [],
        "cell_id": "e805388b96c04ea8a06a262229c2f799",
        "deepnote_cell_height": 52.26666259765625,
        "deepnote_cell_type": "markdown",
        "id": "oCdU8l5Dbo4V"
      }
    },
    {
      "cell_type": "code",
      "source": [],
      "metadata": {
        "tags": [],
        "cell_id": "9e2d26de81ed4a729e25c6c5361310e1",
        "deepnote_cell_height": 65.86666870117188,
        "deepnote_cell_type": "code",
        "id": "0U6v6n-Cbo4V"
      },
      "outputs": [],
      "execution_count": null
    },
    {
      "cell_type": "markdown",
      "source": [
        "# Conclusión\n",
        "Eso ha sido todo para el lab de hoy, recuerden que el laboratorio tiene un plazo de entrega de una semana. Cualquier duda del laboratorio, no duden en contactarnos por correo, Discord o U-cursos.\n",
        "\n",
        "![Gracias Totales!](https://i.pinimg.com/originals/65/ae/27/65ae270df87c3c4adcea997e48f60852.gif \"bruno\")\n"
      ],
      "metadata": {
        "id": "Rg4ZMq8ezAH6",
        "cell_id": "94721075d5ff44bd83601c871797ae2a",
        "deepnote_cell_height": 514.4666748046875,
        "deepnote_cell_type": "markdown"
      }
    },
    {
      "cell_type": "markdown",
      "source": [
        "<br>\n",
        "<center>\n",
        "<img src=\"https://i.kym-cdn.com/photos/images/original/001/194/195/b18.png\" width=100 height=50 />\n",
        "</center>\n",
        "<br>"
      ],
      "metadata": {
        "id": "wCL1lACBzAH7",
        "cell_id": "7e31a91f8cb744cabd0ed0287ac5257e",
        "deepnote_cell_height": 171.28334045410156,
        "deepnote_cell_type": "markdown"
      }
    },
    {
      "cell_type": "markdown",
      "source": [
        "<a style='text-decoration:none;line-height:16px;display:flex;color:#5B5B62;padding:10px;justify-content:end;' href='https://deepnote.com?utm_source=created-in-deepnote-cell&projectId=87110296-876e-426f-b91d-aaf681223468' target=\"_blank\">\n",
        "<img alt='Created in deepnote.com' style='display:inline;max-height:16px;margin:0px;margin-right:7.5px;' src='data:image/svg+xml;base64,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' > </img>\n",
        "Created in <span style='font-weight:600;margin-left:4px;'>Deepnote</span></a>"
      ],
      "metadata": {
        "created_in_deepnote_cell": true,
        "deepnote_cell_type": "markdown",
        "id": "MP2B1jvgbo4V"
      }
    }
  ],
  "nbformat": 4,
  "nbformat_minor": 0,
  "metadata": {
    "toc": {
      "sideBar": true,
      "nav_menu": {},
      "toc_cell": false,
      "title_cell": "Tabla de Contenidos",
      "toc_position": {
        "top": "150px",
        "left": "10px",
        "width": "241.867px",
        "height": "calc(100% - 180px)"
      },
      "skip_h1_title": true,
      "title_sidebar": "Contenidos",
      "base_numbering": 1,
      "number_sections": true,
      "toc_window_display": true,
      "toc_section_display": true
    },
    "colab": {
      "provenance": [],
      "collapsed_sections": [
        "Rcjs-dd1V-1u",
        "dkyp81nkBghF",
        "THmFfYs1AhAW"
      ],
      "include_colab_link": true
    },
    "deepnote": {},
    "kernelspec": {
      "name": "python3",
      "language": "python",
      "display_name": "Python 3"
    },
    "varInspector": {
      "cols": {
        "lenVar": 40,
        "lenName": 16,
        "lenType": 16
      },
      "kernels_config": {
        "r": {
          "library": "var_list.r",
          "varRefreshCmd": "cat(var_dic_list()) ",
          "delete_cmd_prefix": "rm(",
          "delete_cmd_postfix": ") "
        },
        "python": {
          "library": "var_list.py",
          "varRefreshCmd": "print(var_dic_list())",
          "delete_cmd_prefix": "del ",
          "delete_cmd_postfix": ""
        }
      },
      "window_display": false,
      "types_to_exclude": [
        "module",
        "function",
        "builtin_function_or_method",
        "instance",
        "_Feature"
      ]
    },
    "language_info": {
      "name": "python",
      "version": "3.8.3",
      "mimetype": "text/x-python",
      "file_extension": ".py",
      "pygments_lexer": "ipython3",
      "codemirror_mode": {
        "name": "ipython",
        "version": 3
      },
      "nbconvert_exporter": "python"
    },
    "deepnote_notebook_id": "33c253a4f84d40a091bd5023e95abb64",
    "deepnote_execution_queue": []
  }
}