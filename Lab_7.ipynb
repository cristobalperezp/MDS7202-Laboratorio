{
  "cells": [
    {
      "cell_type": "markdown",
      "metadata": {
        "id": "view-in-github",
        "colab_type": "text"
      },
      "source": [
        "<a href=\"https://colab.research.google.com/github/cristobalperezp/MDS7202-Laboratorio/blob/main/Lab_7.ipynb\" target=\"_parent\"><img src=\"https://colab.research.google.com/assets/colab-badge.svg\" alt=\"Open In Colab\"/></a>"
      ]
    },
    {
      "cell_type": "markdown",
      "source": [
        "<h1><center>Laboratorio 7: La desperación de Mr. Lepin 🐼</center></h1>\n",
        "\n",
        "<center><strong>MDS7202: Laboratorio de Programación Científica para Ciencia de Datos</strong></center>"
      ],
      "metadata": {
        "id": "XUZ1dFPHzAHl",
        "cell_id": "8dd9b572c805487a9fb430fdc4ab12bb",
        "deepnote_cell_height": 156.26666259765625,
        "deepnote_cell_type": "markdown"
      }
    },
    {
      "cell_type": "markdown",
      "source": [
        "### Cuerpo Docente:\n",
        "\n",
        "- Profesor: Pablo Badilla, Ignacio Meza\n",
        "- Auxiliar: Sebastián Tinoco\n",
        "- Ayudante: Felipe Arias, Diego Cortez"
      ],
      "metadata": {
        "id": "UD8X1uhGzAHq",
        "cell_id": "d65413cd8566460dbceffcd13ca236e7",
        "deepnote_cell_type": "markdown"
      }
    },
    {
      "cell_type": "markdown",
      "source": [
        "### Equipo: SUPER IMPORTANTE - notebooks sin nombre no serán revisados\n",
        "\n",
        "- Nombre de alumno 1: Cristóbal Pérez\n",
        "- Nombre de alumno 2: Patricio Pérez\n"
      ],
      "metadata": {
        "id": "tXflExjqzAHr",
        "cell_id": "8e9217d02d124830a9b86046600a1605",
        "deepnote_cell_height": 172.13333129882812,
        "deepnote_cell_type": "markdown"
      }
    },
    {
      "cell_type": "markdown",
      "source": [
        "### **Link de repositorio de GitHub:** `https://github.com/cristobalperezp/MDS7202-Laboratorio`"
      ],
      "metadata": {
        "id": "AD-V0bbZzAHr",
        "cell_id": "010402b6d5f743b885a80d2e1c6ae11a",
        "deepnote_cell_height": 62.19999694824219,
        "deepnote_cell_type": "markdown"
      }
    },
    {
      "cell_type": "markdown",
      "source": [
        "### Indice \n",
        "\n",
        "1. [Temas a tratar](#Temas-a-tratar:)\n",
        "3. [Descripción del laboratorio](#Descripción-del-laboratorio.)\n",
        "4. [Desarrollo](#Desarrollo)"
      ],
      "metadata": {
        "id": "EcnsiQMkzAHr",
        "cell_id": "3abfe63b97c946e5ba1d4061b08e7913",
        "deepnote_cell_height": 165.06666564941406,
        "deepnote_cell_type": "markdown"
      }
    },
    {
      "cell_type": "markdown",
      "source": [
        "# Temas a tratar\n",
        "\n",
        "- Aplicar Pandas para obtener características de un DataFrame.\n",
        "- Aplicar Pipelines.\n",
        "- Aplicar Clusters sobre un conjunto de datos.\n",
        "\n",
        "## Reglas:\n",
        "\n",
        "- **Grupos de 2 personas**\n",
        "- Asistencia **obligatoria** a instrucciones del lab (viernes 16.15). Luego, pueden quedarse trabajando en las salas o irse.\n",
        "- **No se revisarán entregas de personas ausentes**. \n",
        "- Cualquier duda fuera del horario de clases al foro. Mensajes al equipo docente serán respondidos por este medio.\n",
        "- Prohibidas las copias. \n",
        "- Pueden usar cualquer matrial del curso que estimen conveniente.\n",
        "- Código que no se pueda ejecutar, no será revisado.\n",
        "\n",
        "### Objetivos principales del laboratorio\n",
        "\n",
        "- Comprender y aprovechar las ventajas que nos ofrece la librería `pandas` con respecto a trabajar en Python 'puro'.\n",
        "- Crear nuevas características para entrenar un modelo de clustering.\n",
        "- Comprender como aplicar pipelines de Scikit-Learn para generar procesos más limpios.\n",
        "\n",
        "El laboratorio deberá ser desarrollado sin el uso indiscriminado de iteradores nativos de python (aka \"for\", \"while\"). La idea es que aprendan a exprimir al máximo las funciones optimizadas que nos entrega `numpy`, las cuales vale mencionar, son bastante más eficientes que los iteradores nativos sobre arreglos (*o tensores*)."
      ],
      "metadata": {
        "id": "6uBLPj1PzAHs",
        "cell_id": "ef0224c7a99e4b718b55493b0a1e99c4",
        "deepnote_cell_height": 724.9000244140625,
        "deepnote_cell_type": "markdown"
      }
    },
    {
      "cell_type": "markdown",
      "source": [
        "## Descripción del laboratorio."
      ],
      "metadata": {
        "id": "wrG4gYabzAHs",
        "cell_id": "59664481c26f4ac4a753765269b1db6a",
        "deepnote_cell_height": 69.86666870117188,
        "deepnote_cell_type": "markdown"
      }
    },
    {
      "cell_type": "markdown",
      "source": [
        "### Importamos librerias utiles 😸"
      ],
      "metadata": {
        "id": "MhISwri4zAHy",
        "cell_id": "8c7bf8ea553d44c7a2efd61106a0bac2",
        "deepnote_cell_height": 61.866668701171875,
        "deepnote_cell_type": "markdown"
      }
    },
    {
      "cell_type": "code",
      "source": [
        "# Libreria Core del lab.\n",
        "import numpy as np\n",
        "import pandas as pd\n",
        "import datetime\n",
        "from IPython.display import HTML\n",
        "\n",
        "# Libreria para plotear (En colab esta desactualizado plotly)\n",
        "!pip install --upgrade plotly\n",
        "import plotly.express as px\n",
        "import plotly.graph_objects as go\n",
        "\n",
        "# Librerias utiles\n",
        "from sklearn.manifold import TSNE\n",
        "from sklearn.cluster import KMeans\n",
        "from sklearn.base import BaseEstimator, TransformerMixin\n",
        "from sklearn.model_selection import train_test_split \n",
        "from sklearn.pipeline import Pipeline\n",
        "from sklearn.compose import ColumnTransformer\n",
        "from sklearn.preprocessing import FunctionTransformer"
      ],
      "metadata": {
        "id": "uyc33dKdzAHy",
        "colab": {
          "base_uri": "https://localhost:8080/"
        },
        "cell_id": "67b4b29f0e6b48719b58d579276f2b19",
        "outputId": "7e7d07eb-7690-43a1-fa3b-7bfae99d7342",
        "ExecuteTime": {
          "end_time": "2021-03-29T00:08:16.884674Z",
          "start_time": "2021-03-29T00:08:16.349846Z"
        },
        "source_hash": "a3741fd5",
        "execution_start": 1635469788590,
        "execution_millis": 8517,
        "deepnote_cell_height": 514.13330078125,
        "deepnote_to_be_reexecuted": false,
        "deepnote_cell_type": "code"
      },
      "outputs": [
        {
          "output_type": "stream",
          "name": "stdout",
          "text": [
            "Looking in indexes: https://pypi.org/simple, https://us-python.pkg.dev/colab-wheels/public/simple/\n",
            "Requirement already satisfied: plotly in /usr/local/lib/python3.10/dist-packages (5.13.1)\n",
            "Collecting plotly\n",
            "  Downloading plotly-5.14.1-py2.py3-none-any.whl (15.3 MB)\n",
            "\u001b[2K     \u001b[90m━━━━━━━━━━━━━━━━━━━━━━━━━━━━━━━━━━━━━━━━\u001b[0m \u001b[32m15.3/15.3 MB\u001b[0m \u001b[31m35.2 MB/s\u001b[0m eta \u001b[36m0:00:00\u001b[0m\n",
            "\u001b[?25hRequirement already satisfied: tenacity>=6.2.0 in /usr/local/lib/python3.10/dist-packages (from plotly) (8.2.2)\n",
            "Requirement already satisfied: packaging in /usr/local/lib/python3.10/dist-packages (from plotly) (23.1)\n",
            "Installing collected packages: plotly\n",
            "  Attempting uninstall: plotly\n",
            "    Found existing installation: plotly 5.13.1\n",
            "    Uninstalling plotly-5.13.1:\n",
            "      Successfully uninstalled plotly-5.13.1\n",
            "Successfully installed plotly-5.14.1\n"
          ]
        }
      ],
      "execution_count": 1
    },
    {
      "cell_type": "code",
      "source": [
        "# Si usted está utilizando Colabolatory le puede ser útil este código para cargar los archivos.\n",
        "#try:\n",
        " #   from google.colab import drive\n",
        "  #  drive.mount(\"/content/drive\")\n",
        "  #  path = 'Dirección donde tiene los archivos en el Drive'\n",
        "#except: \n",
        " #   print('Ignorando conexión drive-colab')"
      ],
      "metadata": {
        "id": "gQ0-zPV4NNrq",
        "cell_id": "ce6a19ec6fc6486e832760ac3740d7ef",
        "source_hash": "c60dc4a7",
        "execution_start": 1635165625274,
        "execution_millis": 7,
        "deepnote_cell_height": 219.46665954589844,
        "deepnote_to_be_reexecuted": false,
        "deepnote_cell_type": "code",
        "outputId": "fb048d50-caab-4314-a251-ea74f637cb26"
      },
      "outputs": [
        {
          "name": "stdout",
          "text": "Ignorando conexión drive-colab\n",
          "output_type": "stream"
        }
      ],
      "execution_count": null
    },
    {
      "cell_type": "code",
      "source": [
        "! git clone 'https://github.com/cristobalperezp/MDS7202-Laboratorio'"
      ],
      "metadata": {
        "colab": {
          "base_uri": "https://localhost:8080/"
        },
        "id": "UIe2BhXaby4P",
        "outputId": "eec31684-10e0-4f53-e662-9d59974f3717"
      },
      "execution_count": 2,
      "outputs": [
        {
          "output_type": "stream",
          "name": "stdout",
          "text": [
            "Cloning into 'MDS7202-Laboratorio'...\n",
            "remote: Enumerating objects: 404, done.\u001b[K\n",
            "remote: Counting objects: 100% (54/54), done.\u001b[K\n",
            "remote: Compressing objects: 100% (49/49), done.\u001b[K\n",
            "remote: Total 404 (delta 20), reused 13 (delta 5), pack-reused 350\u001b[K\n",
            "Receiving objects: 100% (404/404), 46.45 MiB | 14.17 MiB/s, done.\n",
            "Resolving deltas: 100% (85/85), done.\n",
            "Updating files: 100% (200/200), done.\n"
          ]
        }
      ]
    },
    {
      "cell_type": "markdown",
      "source": [
        "# Segmentación de Clientes en Tienda de Retail 🛍️"
      ],
      "metadata": {
        "id": "QDwIXTh7bK_A",
        "cell_id": "28c7a8b483d84878ac5a4f7ba882b711",
        "owner_user_id": "badcc427-fd3d-4615-9296-faa43ec69cfb",
        "deepnote_cell_height": 133.86666870117188,
        "deepnote_cell_type": "markdown"
      }
    },
    {
      "cell_type": "markdown",
      "source": [
        "<p align=\"center\">\n",
        "  <img width=300 src=\"https://s1.eestatic.com/2018/04/14/social/la_jungla_-_social_299733421_73842361_854x640.jpg\">\n",
        "</p>"
      ],
      "metadata": {
        "tags": [],
        "cell_id": "6c6799ecc9e74272922d46a3b5a8b79e",
        "deepnote_cell_height": 294.683349609375,
        "deepnote_cell_type": "markdown",
        "id": "CieWk-0wbo4K"
      }
    },
    {
      "cell_type": "markdown",
      "source": [
        "## 1.1 Cargar Dataset"
      ],
      "metadata": {
        "tags": [],
        "cell_id": "160bb2695f6547448bfb0f99420f952c",
        "deepnote_cell_height": 69.86666870117188,
        "deepnote_cell_type": "markdown",
        "id": "6OWu7E50bo4K"
      }
    },
    {
      "cell_type": "markdown",
      "source": [
        "Mr. Lepin, en una nueva reunión, le cuenta a ud y su equipo que los resultados derivados del análisis exploratorio de dato presentaron una gran utilidad para la empresa y que tiene un gran entusiasmo por continuar trabajando con ustedes.\n",
        "Es por esto, que Mr. Lepin les pide que cargue y visualicen algunas de las filas que componen el Dataset.\n",
        "A continuación un extracto de lo parlamentado en la reunión:\n",
        "\n",
        "    - Usted: Es un gran logro para nuestro equipo que usted haya encontrado excelente el EDA. ¿Qué tiene en mente ahora?\n",
        "    - Mr. Lepin: Resulta que hace algún tiempo, mientras tomaba un mojito en una reunión de gerentes en Panamá, oí a un *chato* acerca de **LRMFP**, que es un modelo que permite personificar a los clientes a través de la fabricación de distintos atributos que describen a los clientes. Lo encontré es-tu-pendo ñatito. \n",
        "    - Usted: Ehh bueno. Investigaremos acerca de este modelo y veremos lo que podemos hacer.\n",
        "\n",
        "Por ende, su siguiente tarea es calcular **LRMFP** sobre cada cliente y luego hacer un análisis de las características generadas. Para esto, el área de ventas les entrega un nuevo archivo llamado `online_retail_II_cleaned.pickle`, quien posee los datos del DataFrame original limpios y listos para obtener las características solicitadas por Mr. Lepin."
      ],
      "metadata": {
        "tags": [],
        "cell_id": "48d29c89e3b6455083f8fac764f97f3b",
        "deepnote_cell_height": 475.066650390625,
        "deepnote_cell_type": "markdown",
        "id": "_qMqsr2Fbo4K"
      }
    },
    {
      "cell_type": "code",
      "source": [
        "df_retail = pd.read_pickle(\"/content/MDS7202-Laboratorio/online_retail/online_retail_II.pickle\")\n",
        "df_retail = df_retail.astype(\n",
        "    {\n",
        "        \"Invoice\": \"category\",\n",
        "        \"StockCode\": \"category\",\n",
        "        \"Description\": \"category\",\n",
        "        \"Description\": str,\n",
        "        \"Customer ID\": \"category\",\n",
        "        \"Country\": \"category\"\n",
        "    }\n",
        ")\n",
        "df_retail.head()\n"
      ],
      "metadata": {
        "id": "7FNOu-CvjV5m",
        "colab": {
          "height": 206,
          "base_uri": "https://localhost:8080/"
        },
        "cell_id": "4d7d0f0855744e6c9d5a2198e5dcd690",
        "outputId": "5f3d326c-b42c-44d4-b25f-796e7889ca53",
        "source_hash": "d52b246c",
        "execution_start": 1635469797118,
        "execution_millis": 466,
        "deepnote_cell_height": 489.79998779296875,
        "deepnote_output_heights": [
          177
        ],
        "deepnote_to_be_reexecuted": false,
        "deepnote_cell_type": "code"
      },
      "outputs": [
        {
          "output_type": "execute_result",
          "data": {
            "text/plain": [
              "  Invoice StockCode                          Description  Quantity  \\\n",
              "0  489434     85048  15CM CHRISTMAS GLASS BALL 20 LIGHTS        12   \n",
              "1  489434    79323P                   PINK CHERRY LIGHTS        12   \n",
              "2  489434    79323W                  WHITE CHERRY LIGHTS        12   \n",
              "3  489434     22041         RECORD FRAME 7\" SINGLE SIZE         48   \n",
              "4  489434     21232       STRAWBERRY CERAMIC TRINKET BOX        24   \n",
              "\n",
              "          InvoiceDate  Price Customer ID         Country  \n",
              "0 2009-12-01 07:45:00   6.95     13085.0  United Kingdom  \n",
              "1 2009-12-01 07:45:00   6.75     13085.0  United Kingdom  \n",
              "2 2009-12-01 07:45:00   6.75     13085.0  United Kingdom  \n",
              "3 2009-12-01 07:45:00   2.10     13085.0  United Kingdom  \n",
              "4 2009-12-01 07:45:00   1.25     13085.0  United Kingdom  "
            ],
            "text/html": [
              "\n",
              "  <div id=\"df-4ea11e82-c113-488a-8c32-aaa65a655ac2\">\n",
              "    <div class=\"colab-df-container\">\n",
              "      <div>\n",
              "<style scoped>\n",
              "    .dataframe tbody tr th:only-of-type {\n",
              "        vertical-align: middle;\n",
              "    }\n",
              "\n",
              "    .dataframe tbody tr th {\n",
              "        vertical-align: top;\n",
              "    }\n",
              "\n",
              "    .dataframe thead th {\n",
              "        text-align: right;\n",
              "    }\n",
              "</style>\n",
              "<table border=\"1\" class=\"dataframe\">\n",
              "  <thead>\n",
              "    <tr style=\"text-align: right;\">\n",
              "      <th></th>\n",
              "      <th>Invoice</th>\n",
              "      <th>StockCode</th>\n",
              "      <th>Description</th>\n",
              "      <th>Quantity</th>\n",
              "      <th>InvoiceDate</th>\n",
              "      <th>Price</th>\n",
              "      <th>Customer ID</th>\n",
              "      <th>Country</th>\n",
              "    </tr>\n",
              "  </thead>\n",
              "  <tbody>\n",
              "    <tr>\n",
              "      <th>0</th>\n",
              "      <td>489434</td>\n",
              "      <td>85048</td>\n",
              "      <td>15CM CHRISTMAS GLASS BALL 20 LIGHTS</td>\n",
              "      <td>12</td>\n",
              "      <td>2009-12-01 07:45:00</td>\n",
              "      <td>6.95</td>\n",
              "      <td>13085.0</td>\n",
              "      <td>United Kingdom</td>\n",
              "    </tr>\n",
              "    <tr>\n",
              "      <th>1</th>\n",
              "      <td>489434</td>\n",
              "      <td>79323P</td>\n",
              "      <td>PINK CHERRY LIGHTS</td>\n",
              "      <td>12</td>\n",
              "      <td>2009-12-01 07:45:00</td>\n",
              "      <td>6.75</td>\n",
              "      <td>13085.0</td>\n",
              "      <td>United Kingdom</td>\n",
              "    </tr>\n",
              "    <tr>\n",
              "      <th>2</th>\n",
              "      <td>489434</td>\n",
              "      <td>79323W</td>\n",
              "      <td>WHITE CHERRY LIGHTS</td>\n",
              "      <td>12</td>\n",
              "      <td>2009-12-01 07:45:00</td>\n",
              "      <td>6.75</td>\n",
              "      <td>13085.0</td>\n",
              "      <td>United Kingdom</td>\n",
              "    </tr>\n",
              "    <tr>\n",
              "      <th>3</th>\n",
              "      <td>489434</td>\n",
              "      <td>22041</td>\n",
              "      <td>RECORD FRAME 7\" SINGLE SIZE</td>\n",
              "      <td>48</td>\n",
              "      <td>2009-12-01 07:45:00</td>\n",
              "      <td>2.10</td>\n",
              "      <td>13085.0</td>\n",
              "      <td>United Kingdom</td>\n",
              "    </tr>\n",
              "    <tr>\n",
              "      <th>4</th>\n",
              "      <td>489434</td>\n",
              "      <td>21232</td>\n",
              "      <td>STRAWBERRY CERAMIC TRINKET BOX</td>\n",
              "      <td>24</td>\n",
              "      <td>2009-12-01 07:45:00</td>\n",
              "      <td>1.25</td>\n",
              "      <td>13085.0</td>\n",
              "      <td>United Kingdom</td>\n",
              "    </tr>\n",
              "  </tbody>\n",
              "</table>\n",
              "</div>\n",
              "      <button class=\"colab-df-convert\" onclick=\"convertToInteractive('df-4ea11e82-c113-488a-8c32-aaa65a655ac2')\"\n",
              "              title=\"Convert this dataframe to an interactive table.\"\n",
              "              style=\"display:none;\">\n",
              "        \n",
              "  <svg xmlns=\"http://www.w3.org/2000/svg\" height=\"24px\"viewBox=\"0 0 24 24\"\n",
              "       width=\"24px\">\n",
              "    <path d=\"M0 0h24v24H0V0z\" fill=\"none\"/>\n",
              "    <path d=\"M18.56 5.44l.94 2.06.94-2.06 2.06-.94-2.06-.94-.94-2.06-.94 2.06-2.06.94zm-11 1L8.5 8.5l.94-2.06 2.06-.94-2.06-.94L8.5 2.5l-.94 2.06-2.06.94zm10 10l.94 2.06.94-2.06 2.06-.94-2.06-.94-.94-2.06-.94 2.06-2.06.94z\"/><path d=\"M17.41 7.96l-1.37-1.37c-.4-.4-.92-.59-1.43-.59-.52 0-1.04.2-1.43.59L10.3 9.45l-7.72 7.72c-.78.78-.78 2.05 0 2.83L4 21.41c.39.39.9.59 1.41.59.51 0 1.02-.2 1.41-.59l7.78-7.78 2.81-2.81c.8-.78.8-2.07 0-2.86zM5.41 20L4 18.59l7.72-7.72 1.47 1.35L5.41 20z\"/>\n",
              "  </svg>\n",
              "      </button>\n",
              "      \n",
              "  <style>\n",
              "    .colab-df-container {\n",
              "      display:flex;\n",
              "      flex-wrap:wrap;\n",
              "      gap: 12px;\n",
              "    }\n",
              "\n",
              "    .colab-df-convert {\n",
              "      background-color: #E8F0FE;\n",
              "      border: none;\n",
              "      border-radius: 50%;\n",
              "      cursor: pointer;\n",
              "      display: none;\n",
              "      fill: #1967D2;\n",
              "      height: 32px;\n",
              "      padding: 0 0 0 0;\n",
              "      width: 32px;\n",
              "    }\n",
              "\n",
              "    .colab-df-convert:hover {\n",
              "      background-color: #E2EBFA;\n",
              "      box-shadow: 0px 1px 2px rgba(60, 64, 67, 0.3), 0px 1px 3px 1px rgba(60, 64, 67, 0.15);\n",
              "      fill: #174EA6;\n",
              "    }\n",
              "\n",
              "    [theme=dark] .colab-df-convert {\n",
              "      background-color: #3B4455;\n",
              "      fill: #D2E3FC;\n",
              "    }\n",
              "\n",
              "    [theme=dark] .colab-df-convert:hover {\n",
              "      background-color: #434B5C;\n",
              "      box-shadow: 0px 1px 3px 1px rgba(0, 0, 0, 0.15);\n",
              "      filter: drop-shadow(0px 1px 2px rgba(0, 0, 0, 0.3));\n",
              "      fill: #FFFFFF;\n",
              "    }\n",
              "  </style>\n",
              "\n",
              "      <script>\n",
              "        const buttonEl =\n",
              "          document.querySelector('#df-4ea11e82-c113-488a-8c32-aaa65a655ac2 button.colab-df-convert');\n",
              "        buttonEl.style.display =\n",
              "          google.colab.kernel.accessAllowed ? 'block' : 'none';\n",
              "\n",
              "        async function convertToInteractive(key) {\n",
              "          const element = document.querySelector('#df-4ea11e82-c113-488a-8c32-aaa65a655ac2');\n",
              "          const dataTable =\n",
              "            await google.colab.kernel.invokeFunction('convertToInteractive',\n",
              "                                                     [key], {});\n",
              "          if (!dataTable) return;\n",
              "\n",
              "          const docLinkHtml = 'Like what you see? Visit the ' +\n",
              "            '<a target=\"_blank\" href=https://colab.research.google.com/notebooks/data_table.ipynb>data table notebook</a>'\n",
              "            + ' to learn more about interactive tables.';\n",
              "          element.innerHTML = '';\n",
              "          dataTable['output_type'] = 'display_data';\n",
              "          await google.colab.output.renderOutput(dataTable, element);\n",
              "          const docLink = document.createElement('div');\n",
              "          docLink.innerHTML = docLinkHtml;\n",
              "          element.appendChild(docLink);\n",
              "        }\n",
              "      </script>\n",
              "    </div>\n",
              "  </div>\n",
              "  "
            ]
          },
          "metadata": {},
          "execution_count": 3
        }
      ],
      "execution_count": 3
    },
    {
      "cell_type": "markdown",
      "source": [
        "## 1.2 Creación de nuevas Caracteristicas [2 Puntos] "
      ],
      "metadata": {
        "tags": [],
        "cell_id": "060e1885d93d4325a313fded82de1921",
        "deepnote_cell_height": 109.86666870117188,
        "deepnote_cell_type": "markdown",
        "id": "WvN56Zsibo4L"
      }
    },
    {
      "cell_type": "markdown",
      "source": [
        "Como ya se les comento, Mr. Lepin esta interesado en obtener las características **LRMFP**, para esto les señala que estas características se construyen en base a las siguientes definiciones:\n",
        "\n",
        "- **Length (L)**: Intervalo de tiempo, en días, entre la primera y la última visita del cliente. Mientras mas grande sea el valor, mas fiel es el cliente.\n",
        "\n",
        "- **Recency (R)**: Indica hace cuanto tiempo el cliente realizo su ultima compra. Notar que para este caso, mientras mas grande es el valor, menos interes posee el usuario para repetir una compra en uno de los locales.\n",
        "\n",
        "- **Monetary (M)**: El término \"monetario\" se refiere a la cantidad media de dinero gastada por cada visita del cliente durante el período de observación y refleja la contribución del cliente a los ingresos de la empresa.\n",
        "\n",
        "- **Frequency (F)**: Se refiere al número total de visitas del cliente durante el periodo de observación. Cuanto mayor sea la frecuencia, mayor será la fidelidad del cliente. \n",
        "\n",
        "- **Periodicity (P)**: Representa si los clientes visitan las tiendas con regularidad.\n",
        "\n",
        "$$Periodicity(n)=std(IVT_1, ..., IVT_n)$$\n",
        "\n",
        "&nbsp;&nbsp; &nbsp;&nbsp;&nbsp;&nbsp;&nbsp;&nbsp;Donde $IVT$ denota el tiempo entre visitas y n representa el número de valores de tiempo entre visitas de un cliente.\n",
        " \n",
        "\n",
        "$$IVT_i=date\\_diff(t_{i+1},t_{i})$$\n",
        "\n",
        "En base a las definiciones señaladas, diseñe una función que permita obtener las características **LRMFP** recibiendo un DataFrame como entrada. Para esto, no estará permitido el uso de iteradores, utilice todas las herramientas que les ofrece `pandas` para realizar esto.\n",
        "\n",
        "Una referencia que le puede ser útil es el [documento original](https://www.researchgate.net/publication/315979555_LRFMP_model_for_customer_segmentation_in_the_grocery_retail_industry_a_case_study) en donde se propone este método."
      ],
      "metadata": {
        "tags": [],
        "cell_id": "e650f364c9c64b079603f6d9312d2d13",
        "deepnote_cell_height": 862.933349609375,
        "deepnote_cell_type": "markdown",
        "id": "mU0ZUzXZbo4L"
      }
    },
    {
      "cell_type": "markdown",
      "source": [
        "**Ejemplo de Resultado Esperado:**\n",
        "\n",
        "| Customer ID | Length | Recency | Frequency | Monetary | Periodicity |\n",
        "|------------:|-------:|--------:|----------:|---------:|------------:|\n",
        "|   12346.0   |    294 |      67 |        46 |   -64.68 |        37.0 |\n",
        "|   12347.0   |     37 |       3 |        71 |  1323.32 |         0.0 |\n",
        "|   12349.0   |    327 |      43 |       107 |  2646.99 |        78.0 |\n",
        "|   12352.0   |     16 |      11 |        18 |   343.80 |         0.0 |\n",
        "|   12356.0   |     44 |      16 |        84 |  3562.25 |        12.0 |"
      ],
      "metadata": {
        "tags": [],
        "cell_id": "bee8d549c7c043a5b0cafae0543afadf",
        "deepnote_cell_height": 212.6666717529297,
        "deepnote_cell_type": "markdown",
        "id": "7nb62kv8bo4L"
      }
    },
    {
      "cell_type": "markdown",
      "source": [
        "**Respuesta:**"
      ],
      "metadata": {
        "tags": [],
        "cell_id": "3c7f8a4a06a44cbd8d50e8a4decf4c71",
        "deepnote_cell_height": 52.26666259765625,
        "deepnote_cell_type": "markdown",
        "id": "4VI2YKlpbo4L"
      }
    },
    {
      "cell_type": "code",
      "source": [
        "from datetime import datetime\n",
        "def custom_features(dataframe_in):\n",
        "    first_visit = dataframe_in.groupby(['Customer ID'])['InvoiceDate'].min()\n",
        "    last_visit = dataframe_in.groupby(['Customer ID'])['InvoiceDate'].max()\n",
        "    Length\t = (last_visit - first_visit).dt.days\n",
        "\n",
        "    latest = dataframe_in['InvoiceDate'].max()\n",
        "    Recency = (latest - last_visit).dt.days\n",
        "\n",
        "    m = dataframe_in.copy()\n",
        "    m['Monetary'] = m.loc[:,'Quantity'] * m.loc[:,'Price']\n",
        "    \n",
        "    Monetary = m.groupby('Customer ID')['Monetary'].sum()\n",
        "    #Monetary = dataframe_in.groupby('Customer ID')['Price'].mean()\n",
        "\n",
        "    Frequency = dataframe_in.groupby(['Customer ID'])['Invoice'].count()\n",
        "\n",
        "    ivt = dataframe_in.groupby(['Customer ID'],group_keys=True)['InvoiceDate'].apply(lambda x: x.diff().dt.days)\n",
        "    Periodicity = ivt.groupby('Customer ID').std().fillna(value=0)\n",
        "\n",
        "    lrmfp = pd.DataFrame(\n",
        "        {\n",
        "        'Length': Length,\n",
        "        'Recency': Recency,\n",
        "        'Monetary': Monetary,\n",
        "        'Frequency': Frequency,\n",
        "        'Periodicity': Periodicity\n",
        "    },index = Length.index\n",
        "    )\n",
        "\n",
        "    return lrmfp\n"
      ],
      "metadata": {
        "tags": [],
        "cell_id": "39a8b98eacdc43a4bdfeaa138b746198",
        "owner_user_id": "8c58f50a-7a08-41a2-952e-38bdb7507048",
        "deepnote_cell_height": 83.86666870117188,
        "deepnote_cell_type": "code",
        "id": "Pl4bpn29bo4L"
      },
      "outputs": [],
      "execution_count": 165
    },
    {
      "cell_type": "code",
      "source": [
        "custom_features(df_retail).head()"
      ],
      "metadata": {
        "colab": {
          "base_uri": "https://localhost:8080/",
          "height": 237
        },
        "id": "reAb6EjHiUCx",
        "outputId": "cfd79087-bd38-4ecb-baf8-b32d717a821f"
      },
      "execution_count": 166,
      "outputs": [
        {
          "output_type": "execute_result",
          "data": {
            "text/plain": [
              "             Length  Recency  Monetary  Frequency  Periodicity\n",
              "Customer ID                                                   \n",
              "12346.0         294       66    -64.68         46    22.710030\n",
              "12347.0          37        2   1323.32         71     4.422346\n",
              "12348.0           0       73    222.16         20     0.000000\n",
              "12349.0         327       42   2646.99        107    21.130298\n",
              "12351.0           0       10    300.93         21     0.000000"
            ],
            "text/html": [
              "\n",
              "  <div id=\"df-57288a1e-010e-49b9-8999-d3ef64ab15b9\">\n",
              "    <div class=\"colab-df-container\">\n",
              "      <div>\n",
              "<style scoped>\n",
              "    .dataframe tbody tr th:only-of-type {\n",
              "        vertical-align: middle;\n",
              "    }\n",
              "\n",
              "    .dataframe tbody tr th {\n",
              "        vertical-align: top;\n",
              "    }\n",
              "\n",
              "    .dataframe thead th {\n",
              "        text-align: right;\n",
              "    }\n",
              "</style>\n",
              "<table border=\"1\" class=\"dataframe\">\n",
              "  <thead>\n",
              "    <tr style=\"text-align: right;\">\n",
              "      <th></th>\n",
              "      <th>Length</th>\n",
              "      <th>Recency</th>\n",
              "      <th>Monetary</th>\n",
              "      <th>Frequency</th>\n",
              "      <th>Periodicity</th>\n",
              "    </tr>\n",
              "    <tr>\n",
              "      <th>Customer ID</th>\n",
              "      <th></th>\n",
              "      <th></th>\n",
              "      <th></th>\n",
              "      <th></th>\n",
              "      <th></th>\n",
              "    </tr>\n",
              "  </thead>\n",
              "  <tbody>\n",
              "    <tr>\n",
              "      <th>12346.0</th>\n",
              "      <td>294</td>\n",
              "      <td>66</td>\n",
              "      <td>-64.68</td>\n",
              "      <td>46</td>\n",
              "      <td>22.710030</td>\n",
              "    </tr>\n",
              "    <tr>\n",
              "      <th>12347.0</th>\n",
              "      <td>37</td>\n",
              "      <td>2</td>\n",
              "      <td>1323.32</td>\n",
              "      <td>71</td>\n",
              "      <td>4.422346</td>\n",
              "    </tr>\n",
              "    <tr>\n",
              "      <th>12348.0</th>\n",
              "      <td>0</td>\n",
              "      <td>73</td>\n",
              "      <td>222.16</td>\n",
              "      <td>20</td>\n",
              "      <td>0.000000</td>\n",
              "    </tr>\n",
              "    <tr>\n",
              "      <th>12349.0</th>\n",
              "      <td>327</td>\n",
              "      <td>42</td>\n",
              "      <td>2646.99</td>\n",
              "      <td>107</td>\n",
              "      <td>21.130298</td>\n",
              "    </tr>\n",
              "    <tr>\n",
              "      <th>12351.0</th>\n",
              "      <td>0</td>\n",
              "      <td>10</td>\n",
              "      <td>300.93</td>\n",
              "      <td>21</td>\n",
              "      <td>0.000000</td>\n",
              "    </tr>\n",
              "  </tbody>\n",
              "</table>\n",
              "</div>\n",
              "      <button class=\"colab-df-convert\" onclick=\"convertToInteractive('df-57288a1e-010e-49b9-8999-d3ef64ab15b9')\"\n",
              "              title=\"Convert this dataframe to an interactive table.\"\n",
              "              style=\"display:none;\">\n",
              "        \n",
              "  <svg xmlns=\"http://www.w3.org/2000/svg\" height=\"24px\"viewBox=\"0 0 24 24\"\n",
              "       width=\"24px\">\n",
              "    <path d=\"M0 0h24v24H0V0z\" fill=\"none\"/>\n",
              "    <path d=\"M18.56 5.44l.94 2.06.94-2.06 2.06-.94-2.06-.94-.94-2.06-.94 2.06-2.06.94zm-11 1L8.5 8.5l.94-2.06 2.06-.94-2.06-.94L8.5 2.5l-.94 2.06-2.06.94zm10 10l.94 2.06.94-2.06 2.06-.94-2.06-.94-.94-2.06-.94 2.06-2.06.94z\"/><path d=\"M17.41 7.96l-1.37-1.37c-.4-.4-.92-.59-1.43-.59-.52 0-1.04.2-1.43.59L10.3 9.45l-7.72 7.72c-.78.78-.78 2.05 0 2.83L4 21.41c.39.39.9.59 1.41.59.51 0 1.02-.2 1.41-.59l7.78-7.78 2.81-2.81c.8-.78.8-2.07 0-2.86zM5.41 20L4 18.59l7.72-7.72 1.47 1.35L5.41 20z\"/>\n",
              "  </svg>\n",
              "      </button>\n",
              "      \n",
              "  <style>\n",
              "    .colab-df-container {\n",
              "      display:flex;\n",
              "      flex-wrap:wrap;\n",
              "      gap: 12px;\n",
              "    }\n",
              "\n",
              "    .colab-df-convert {\n",
              "      background-color: #E8F0FE;\n",
              "      border: none;\n",
              "      border-radius: 50%;\n",
              "      cursor: pointer;\n",
              "      display: none;\n",
              "      fill: #1967D2;\n",
              "      height: 32px;\n",
              "      padding: 0 0 0 0;\n",
              "      width: 32px;\n",
              "    }\n",
              "\n",
              "    .colab-df-convert:hover {\n",
              "      background-color: #E2EBFA;\n",
              "      box-shadow: 0px 1px 2px rgba(60, 64, 67, 0.3), 0px 1px 3px 1px rgba(60, 64, 67, 0.15);\n",
              "      fill: #174EA6;\n",
              "    }\n",
              "\n",
              "    [theme=dark] .colab-df-convert {\n",
              "      background-color: #3B4455;\n",
              "      fill: #D2E3FC;\n",
              "    }\n",
              "\n",
              "    [theme=dark] .colab-df-convert:hover {\n",
              "      background-color: #434B5C;\n",
              "      box-shadow: 0px 1px 3px 1px rgba(0, 0, 0, 0.15);\n",
              "      filter: drop-shadow(0px 1px 2px rgba(0, 0, 0, 0.3));\n",
              "      fill: #FFFFFF;\n",
              "    }\n",
              "  </style>\n",
              "\n",
              "      <script>\n",
              "        const buttonEl =\n",
              "          document.querySelector('#df-57288a1e-010e-49b9-8999-d3ef64ab15b9 button.colab-df-convert');\n",
              "        buttonEl.style.display =\n",
              "          google.colab.kernel.accessAllowed ? 'block' : 'none';\n",
              "\n",
              "        async function convertToInteractive(key) {\n",
              "          const element = document.querySelector('#df-57288a1e-010e-49b9-8999-d3ef64ab15b9');\n",
              "          const dataTable =\n",
              "            await google.colab.kernel.invokeFunction('convertToInteractive',\n",
              "                                                     [key], {});\n",
              "          if (!dataTable) return;\n",
              "\n",
              "          const docLinkHtml = 'Like what you see? Visit the ' +\n",
              "            '<a target=\"_blank\" href=https://colab.research.google.com/notebooks/data_table.ipynb>data table notebook</a>'\n",
              "            + ' to learn more about interactive tables.';\n",
              "          element.innerHTML = '';\n",
              "          dataTable['output_type'] = 'display_data';\n",
              "          await google.colab.output.renderOutput(dataTable, element);\n",
              "          const docLink = document.createElement('div');\n",
              "          docLink.innerHTML = docLinkHtml;\n",
              "          element.appendChild(docLink);\n",
              "        }\n",
              "      </script>\n",
              "    </div>\n",
              "  </div>\n",
              "  "
            ]
          },
          "metadata": {},
          "execution_count": 166
        }
      ]
    },
    {
      "cell_type": "markdown",
      "source": [
        "**Respuesta de Pauta:**"
      ],
      "metadata": {
        "tags": [],
        "cell_id": "e227578abc624b36bedcf300ab03dec3",
        "deepnote_cell_height": 52.26666259765625,
        "deepnote_cell_type": "markdown",
        "id": "eY0sYiZfbo4L"
      }
    },
    {
      "cell_type": "markdown",
      "source": [
        "## 1.3 Pipelines 👷"
      ],
      "metadata": {
        "tags": [],
        "cell_id": "e4adca3e05c741df93087e2a0638ef7d",
        "deepnote_cell_height": 69.86666870117188,
        "deepnote_cell_type": "markdown",
        "id": "1FZRdLOxbo4M"
      }
    },
    {
      "cell_type": "markdown",
      "source": [
        "Finalmente *Don Mora* le pregunta si seria posible realizar un pipeline para realizar una segmentación de los clientes con los nuevos datos generados, a lo que usted responde que **sí** y propone la utilización de k-means para la segmentación.\n",
        "\n",
        "A continuación siga los pasos requeridos para obtener la segmentación de clientes."
      ],
      "metadata": {
        "tags": [],
        "cell_id": "20e2c59abf64489d8cabc5c230e86fd2",
        "deepnote_cell_height": 133.46665954589844,
        "deepnote_cell_type": "markdown",
        "id": "b6JUcmoGbo4M"
      }
    },
    {
      "cell_type": "markdown",
      "source": [
        "### 1.3.1 Estandarizar Caracteristicas [0.5 puntos]"
      ],
      "metadata": {
        "tags": [],
        "cell_id": "c6162b8b49a045bba12f9b17b51f21bf",
        "deepnote_cell_height": 61.866668701171875,
        "deepnote_cell_type": "markdown",
        "id": "ld4hNLEzbo4M"
      }
    },
    {
      "cell_type": "markdown",
      "source": [
        "Construya una clase llamada ``MinMax()`` utilizando ``BaseEstimator`` y ``TransformerMixin`` para realizar una transformación de cada una de las columnas de un DataFrame utilizando ``ColumnTransformer()`` más tarde (tome como referencia el siguiente [enlace](https://sklearn-template.readthedocs.io/en/latest/user_guide.html#transformer)).\n",
        "\n",
        "\n",
        " Para esto considere que Min-Max escaler queda dada por la ecuación:\n",
        "\n",
        "$$MinMax = \\dfrac{x-min(x)}{max(x) - min(x)}$$\n",
        "\n",
        "Con esto buscamos que los valores que componen a las columnas se muevan en el rango de valores $[0, 1]$."
      ],
      "metadata": {
        "tags": [],
        "cell_id": "94c48775ecb4496d970fbd920f65c126",
        "deepnote_cell_height": 268.70001220703125,
        "deepnote_cell_type": "markdown",
        "id": "4mCg2hotbo4M"
      }
    },
    {
      "cell_type": "markdown",
      "source": [
        "**Respuesta:**"
      ],
      "metadata": {
        "tags": [],
        "cell_id": "c087d1fa8aa94d7485fe1292bf628660",
        "deepnote_cell_height": 52.26666259765625,
        "deepnote_cell_type": "markdown",
        "id": "KexhShYGbo4M"
      }
    },
    {
      "cell_type": "code",
      "source": [
        "class MinMax(BaseEstimator, TransformerMixin):\n",
        "    def __init__(self, feature_range=(0, 1)):\n",
        "        self.feature_range = feature_range\n",
        "        self.min_ = None\n",
        "        self.max_ = None\n",
        "        self.feature_names_ = None\n",
        "\n",
        "    def fit(self, X, y=None):\n",
        "        self.min_ = X.min(axis=0)\n",
        "        self.max_ = X.max(axis=0)\n",
        "        self.feature_names_ = X.columns if hasattr(X, 'columns') else None\n",
        "\n",
        "    def transform(self, X):\n",
        "        if self.min_ is None or self.max_ is None:\n",
        "            raise ValueError(\"Scaler has not been fitted.\")\n",
        "        \n",
        "        X_scaled = (X - self.min_) / (self.max_ - self.min_)\n",
        "        X_scaled = X_scaled * (self.feature_range[1] - self.feature_range[0]) + self.feature_range[0]\n",
        "        return X_scaled.values\n",
        "\n",
        "    def fit_transform(self, X, y=None, **fit_params):\n",
        "        self.fit(X, y)\n",
        "        return self.transform(X)"
      ],
      "metadata": {
        "id": "MiwsFklp_L9M"
      },
      "execution_count": 157,
      "outputs": []
    },
    {
      "cell_type": "code",
      "source": [
        "df_retail.dtypes"
      ],
      "metadata": {
        "colab": {
          "base_uri": "https://localhost:8080/"
        },
        "id": "GVI_gLxL31bl",
        "outputId": "40e28b5a-ec2e-42c3-dc01-7e9b77c489b8"
      },
      "execution_count": 125,
      "outputs": [
        {
          "output_type": "execute_result",
          "data": {
            "text/plain": [
              "Invoice              category\n",
              "StockCode            category\n",
              "Description            object\n",
              "Quantity                int64\n",
              "InvoiceDate    datetime64[ns]\n",
              "Price                 float64\n",
              "Customer ID          category\n",
              "Country              category\n",
              "dtype: object"
            ]
          },
          "metadata": {},
          "execution_count": 125
        }
      ]
    },
    {
      "cell_type": "code",
      "source": [
        "numeric = ['Quantity','Price']\n",
        "scaler = MinMax()\n",
        "scaler.fit_transform(\n",
        "    df_retail.loc[:,numeric]\n",
        ")"
      ],
      "metadata": {
        "colab": {
          "base_uri": "https://localhost:8080/"
        },
        "id": "RedRCjvx5VhB",
        "outputId": "ed4aa7c5-f86c-4e10-baa2-f11421aed14f"
      },
      "execution_count": 134,
      "outputs": [
        {
          "output_type": "execute_result",
          "data": {
            "text/plain": [
              "array([[0.33430718, 0.68103683],\n",
              "       [0.33430718, 0.68103429],\n",
              "       [0.33430718, 0.68103429],\n",
              "       ...,\n",
              "       [0.3339246 , 0.68099617],\n",
              "       [0.33395938, 0.68099617],\n",
              "       [0.33395938, 0.6809733 ]])"
            ]
          },
          "metadata": {},
          "execution_count": 134
        }
      ]
    },
    {
      "cell_type": "markdown",
      "source": [
        "### 1.3.2 `T-SNE` Pipeline [1.0 puntos]"
      ],
      "metadata": {
        "tags": [],
        "cell_id": "b280dbe181ce4d80a6a5b5f563c842e7",
        "deepnote_cell_height": 62.19999694824219,
        "deepnote_cell_type": "markdown",
        "id": "Y5wMB8Bgbo4M"
      }
    },
    {
      "cell_type": "markdown",
      "source": [
        "Para comenzar introduciéndose en el uso de pipeline, decide probar realizando un pipeline enfocado en la reducción de dimensionalidad y así hacer no decepcionar a Mr. Lepin con la clusterización del modelo. \n",
        "\n",
        "Configure un pipeline utilizando el algoritmo `T-SNE` sobre los datos **LRMFP**, donde, para la realización del pipeline considera los siguientes pasos:\n",
        "\n",
        "1. Como primer paso obtenga las características **LRMFP** desde el DataFrame ``df_retail_II_cleaned.pickle`` utilizando la función ``custom_features`` creada anteriormente, junto a ``FunctionTransformer()``. Considere esto como el primer paso de su pipeline.\n",
        "2. En segundo lugar usando ``ColumnTransformer()`` aplique el MinxMax scaler creado por usted sobre todas las columnas generadas en el paso anterior. \n",
        "3. Finalmente, aplique un último paso donde obtiene las 2 componentes más relevantes utilizando el algoritmo `T-SNE` de sckit-learn.\n",
        "\n",
        "Tras aplicar las transformaciones sobre el dataset **LRMFP**, gráfique las componentes obtenidas en la reducción de dimensionalidad."
      ],
      "metadata": {
        "tags": [],
        "cell_id": "c532e63f2fd541cda5b741d2f24c1ea8",
        "deepnote_cell_height": 413.8666687011719,
        "deepnote_cell_type": "markdown",
        "id": "Bb5FzrAvbo4N"
      }
    },
    {
      "cell_type": "markdown",
      "source": [
        "**Respuesta:**"
      ],
      "metadata": {
        "tags": [],
        "cell_id": "a480355952a34b6cb7e72afa764091d6",
        "deepnote_cell_height": 52.26666259765625,
        "deepnote_cell_type": "markdown",
        "id": "24TXn7Wlbo4N"
      }
    },
    {
      "cell_type": "code",
      "source": [
        "lrmfp_transformer = FunctionTransformer(\n",
        "    custom_features\n",
        ")"
      ],
      "metadata": {
        "id": "jOx35ybK6vWh"
      },
      "execution_count": 173,
      "outputs": []
    },
    {
      "cell_type": "code",
      "source": [
        "ct = ColumnTransformer(\n",
        "    [\n",
        "        (\n",
        "            'Scaler',\n",
        "            MinMax(),\n",
        "            custom_features(df_retail).columns\n",
        "        )\n",
        "    ],\n",
        "    remainder='passthrough'\n",
        ")"
      ],
      "metadata": {
        "id": "XvpsYzl0AfRk"
      },
      "execution_count": 174,
      "outputs": []
    },
    {
      "cell_type": "code",
      "source": [
        "projector_pipe = Pipeline([\n",
        "    ('LRMFP', lrmfp_transformer),\n",
        "    ('scaling', ct),\n",
        "    ('tsne', TSNE(n_components=2))\n",
        "])"
      ],
      "metadata": {
        "tags": [],
        "cell_id": "1889976b7a4c40c7825752979b577567",
        "deepnote_cell_height": 65.86666870117188,
        "deepnote_cell_type": "code",
        "id": "3A5T7qpnbo4N"
      },
      "outputs": [],
      "execution_count": 175
    },
    {
      "cell_type": "code",
      "source": [
        "projections = pd.DataFrame(\n",
        "    projector_pipe.fit_transform(df_retail), columns=[\"x_tsne\", \"y_tsne\"]\n",
        "    )\n",
        "projections"
      ],
      "metadata": {
        "colab": {
          "base_uri": "https://localhost:8080/",
          "height": 423
        },
        "id": "PQsoryU-7zX2",
        "outputId": "9bfc5d4f-7cbc-4ba4-d4b4-92bda6a25336"
      },
      "execution_count": 177,
      "outputs": [
        {
          "output_type": "execute_result",
          "data": {
            "text/plain": [
              "         x_tsne     y_tsne\n",
              "0     32.396671  14.702152\n",
              "1      1.532545 -42.541336\n",
              "2    -52.929455 -33.194042\n",
              "3     39.211296  17.030157\n",
              "4     20.793507 -52.422295\n",
              "...         ...        ...\n",
              "4378  34.271313 -14.863472\n",
              "4379 -39.307796 -38.639774\n",
              "4380  -5.490140  44.995480\n",
              "4381   0.736969  18.003551\n",
              "4382  45.078690  28.185320\n",
              "\n",
              "[4383 rows x 2 columns]"
            ],
            "text/html": [
              "\n",
              "  <div id=\"df-02d2e469-0043-47af-9393-91d8100c70c1\">\n",
              "    <div class=\"colab-df-container\">\n",
              "      <div>\n",
              "<style scoped>\n",
              "    .dataframe tbody tr th:only-of-type {\n",
              "        vertical-align: middle;\n",
              "    }\n",
              "\n",
              "    .dataframe tbody tr th {\n",
              "        vertical-align: top;\n",
              "    }\n",
              "\n",
              "    .dataframe thead th {\n",
              "        text-align: right;\n",
              "    }\n",
              "</style>\n",
              "<table border=\"1\" class=\"dataframe\">\n",
              "  <thead>\n",
              "    <tr style=\"text-align: right;\">\n",
              "      <th></th>\n",
              "      <th>x_tsne</th>\n",
              "      <th>y_tsne</th>\n",
              "    </tr>\n",
              "  </thead>\n",
              "  <tbody>\n",
              "    <tr>\n",
              "      <th>0</th>\n",
              "      <td>32.396671</td>\n",
              "      <td>14.702152</td>\n",
              "    </tr>\n",
              "    <tr>\n",
              "      <th>1</th>\n",
              "      <td>1.532545</td>\n",
              "      <td>-42.541336</td>\n",
              "    </tr>\n",
              "    <tr>\n",
              "      <th>2</th>\n",
              "      <td>-52.929455</td>\n",
              "      <td>-33.194042</td>\n",
              "    </tr>\n",
              "    <tr>\n",
              "      <th>3</th>\n",
              "      <td>39.211296</td>\n",
              "      <td>17.030157</td>\n",
              "    </tr>\n",
              "    <tr>\n",
              "      <th>4</th>\n",
              "      <td>20.793507</td>\n",
              "      <td>-52.422295</td>\n",
              "    </tr>\n",
              "    <tr>\n",
              "      <th>...</th>\n",
              "      <td>...</td>\n",
              "      <td>...</td>\n",
              "    </tr>\n",
              "    <tr>\n",
              "      <th>4378</th>\n",
              "      <td>34.271313</td>\n",
              "      <td>-14.863472</td>\n",
              "    </tr>\n",
              "    <tr>\n",
              "      <th>4379</th>\n",
              "      <td>-39.307796</td>\n",
              "      <td>-38.639774</td>\n",
              "    </tr>\n",
              "    <tr>\n",
              "      <th>4380</th>\n",
              "      <td>-5.490140</td>\n",
              "      <td>44.995480</td>\n",
              "    </tr>\n",
              "    <tr>\n",
              "      <th>4381</th>\n",
              "      <td>0.736969</td>\n",
              "      <td>18.003551</td>\n",
              "    </tr>\n",
              "    <tr>\n",
              "      <th>4382</th>\n",
              "      <td>45.078690</td>\n",
              "      <td>28.185320</td>\n",
              "    </tr>\n",
              "  </tbody>\n",
              "</table>\n",
              "<p>4383 rows × 2 columns</p>\n",
              "</div>\n",
              "      <button class=\"colab-df-convert\" onclick=\"convertToInteractive('df-02d2e469-0043-47af-9393-91d8100c70c1')\"\n",
              "              title=\"Convert this dataframe to an interactive table.\"\n",
              "              style=\"display:none;\">\n",
              "        \n",
              "  <svg xmlns=\"http://www.w3.org/2000/svg\" height=\"24px\"viewBox=\"0 0 24 24\"\n",
              "       width=\"24px\">\n",
              "    <path d=\"M0 0h24v24H0V0z\" fill=\"none\"/>\n",
              "    <path d=\"M18.56 5.44l.94 2.06.94-2.06 2.06-.94-2.06-.94-.94-2.06-.94 2.06-2.06.94zm-11 1L8.5 8.5l.94-2.06 2.06-.94-2.06-.94L8.5 2.5l-.94 2.06-2.06.94zm10 10l.94 2.06.94-2.06 2.06-.94-2.06-.94-.94-2.06-.94 2.06-2.06.94z\"/><path d=\"M17.41 7.96l-1.37-1.37c-.4-.4-.92-.59-1.43-.59-.52 0-1.04.2-1.43.59L10.3 9.45l-7.72 7.72c-.78.78-.78 2.05 0 2.83L4 21.41c.39.39.9.59 1.41.59.51 0 1.02-.2 1.41-.59l7.78-7.78 2.81-2.81c.8-.78.8-2.07 0-2.86zM5.41 20L4 18.59l7.72-7.72 1.47 1.35L5.41 20z\"/>\n",
              "  </svg>\n",
              "      </button>\n",
              "      \n",
              "  <style>\n",
              "    .colab-df-container {\n",
              "      display:flex;\n",
              "      flex-wrap:wrap;\n",
              "      gap: 12px;\n",
              "    }\n",
              "\n",
              "    .colab-df-convert {\n",
              "      background-color: #E8F0FE;\n",
              "      border: none;\n",
              "      border-radius: 50%;\n",
              "      cursor: pointer;\n",
              "      display: none;\n",
              "      fill: #1967D2;\n",
              "      height: 32px;\n",
              "      padding: 0 0 0 0;\n",
              "      width: 32px;\n",
              "    }\n",
              "\n",
              "    .colab-df-convert:hover {\n",
              "      background-color: #E2EBFA;\n",
              "      box-shadow: 0px 1px 2px rgba(60, 64, 67, 0.3), 0px 1px 3px 1px rgba(60, 64, 67, 0.15);\n",
              "      fill: #174EA6;\n",
              "    }\n",
              "\n",
              "    [theme=dark] .colab-df-convert {\n",
              "      background-color: #3B4455;\n",
              "      fill: #D2E3FC;\n",
              "    }\n",
              "\n",
              "    [theme=dark] .colab-df-convert:hover {\n",
              "      background-color: #434B5C;\n",
              "      box-shadow: 0px 1px 3px 1px rgba(0, 0, 0, 0.15);\n",
              "      filter: drop-shadow(0px 1px 2px rgba(0, 0, 0, 0.3));\n",
              "      fill: #FFFFFF;\n",
              "    }\n",
              "  </style>\n",
              "\n",
              "      <script>\n",
              "        const buttonEl =\n",
              "          document.querySelector('#df-02d2e469-0043-47af-9393-91d8100c70c1 button.colab-df-convert');\n",
              "        buttonEl.style.display =\n",
              "          google.colab.kernel.accessAllowed ? 'block' : 'none';\n",
              "\n",
              "        async function convertToInteractive(key) {\n",
              "          const element = document.querySelector('#df-02d2e469-0043-47af-9393-91d8100c70c1');\n",
              "          const dataTable =\n",
              "            await google.colab.kernel.invokeFunction('convertToInteractive',\n",
              "                                                     [key], {});\n",
              "          if (!dataTable) return;\n",
              "\n",
              "          const docLinkHtml = 'Like what you see? Visit the ' +\n",
              "            '<a target=\"_blank\" href=https://colab.research.google.com/notebooks/data_table.ipynb>data table notebook</a>'\n",
              "            + ' to learn more about interactive tables.';\n",
              "          element.innerHTML = '';\n",
              "          dataTable['output_type'] = 'display_data';\n",
              "          await google.colab.output.renderOutput(dataTable, element);\n",
              "          const docLink = document.createElement('div');\n",
              "          docLink.innerHTML = docLinkHtml;\n",
              "          element.appendChild(docLink);\n",
              "        }\n",
              "      </script>\n",
              "    </div>\n",
              "  </div>\n",
              "  "
            ]
          },
          "metadata": {},
          "execution_count": 177
        }
      ]
    },
    {
      "cell_type": "code",
      "source": [
        "px.scatter(\n",
        "    projections,\n",
        "    x=\"x_tsne\",\n",
        "    y=\"y_tsne\",\n",
        ")"
      ],
      "metadata": {
        "colab": {
          "base_uri": "https://localhost:8080/",
          "height": 542
        },
        "id": "G86_tI_7BcTe",
        "outputId": "a8dbdf5f-7f51-4607-ffd8-270bc66f7c6f"
      },
      "execution_count": 178,
      "outputs": [
        {
          "output_type": "display_data",
          "data": {
            "text/html": [
              "<html>\n",
              "<head><meta charset=\"utf-8\" /></head>\n",
              "<body>\n",
              "    <div>            <script src=\"https://cdnjs.cloudflare.com/ajax/libs/mathjax/2.7.5/MathJax.js?config=TeX-AMS-MML_SVG\"></script><script type=\"text/javascript\">if (window.MathJax && window.MathJax.Hub && window.MathJax.Hub.Config) {window.MathJax.Hub.Config({SVG: {font: \"STIX-Web\"}});}</script>                <script type=\"text/javascript\">window.PlotlyConfig = {MathJaxConfig: 'local'};</script>\n",
              "        <script charset=\"utf-8\" src=\"https://cdn.plot.ly/plotly-2.20.0.min.js\"></script>                <div id=\"889e0975-221d-4886-adbb-26dd790085f6\" class=\"plotly-graph-div\" style=\"height:525px; width:100%;\"></div>            <script type=\"text/javascript\">                                    window.PLOTLYENV=window.PLOTLYENV || {};                                    if (document.getElementById(\"889e0975-221d-4886-adbb-26dd790085f6\")) {                    Plotly.newPlot(                        \"889e0975-221d-4886-adbb-26dd790085f6\",                        [{\"hovertemplate\":\"x_tsne=%{x}<br>y_tsne=%{y}<extra></extra>\",\"legendgroup\":\"\",\"marker\":{\"color\":\"#636efa\",\"symbol\":\"circle\"},\"mode\":\"markers\",\"name\":\"\",\"showlegend\":false,\"x\":[32.396671295166016,1.5325450897216797,-52.9294548034668,39.21129608154297,20.793506622314453,6.146233081817627,-24.0377140045166,-58.5328254699707,-2.885582447052002,7.211832046508789,38.702362060546875,36.254093170166016,33.026649475097656,8.285690307617188,-13.322922706604004,-20.677318572998047,-23.852834701538086,12.307665824890137,-28.976036071777344,12.632119178771973,-28.729904174804688,-2.0611560344696045,-3.398289203643799,13.867161750793457,-61.13408660888672,-12.22018051147461,35.23055648803711,8.168907165527344,16.90740966796875,17.852806091308594,-32.442256927490234,-10.859588623046875,26.164871215820312,1.7500312328338623,-47.68141174316406,-3.7247934341430664,19.747892379760742,2.7407281398773193,29.035982131958008,-31.7177791595459,35.00425338745117,-46.856170654296875,7.363540172576904,40.943843841552734,-5.797475814819336,-8.986339569091797,-41.604244232177734,-25.4540958404541,-5.082080841064453,-15.985115051269531,-47.4920654296875,0.7226364612579346,-7.601673126220703,48.094749450683594,10.33830738067627,-2.1684234142303467,-14.070775985717773,46.85253143310547,-12.325053215026855,34.53893280029297,-33.321067810058594,-12.793128967285156,20.04336929321289,6.986127853393555,46.845340728759766,-5.1211934089660645,16.47596549987793,41.51417541503906,54.542545318603516,-23.49164390563965,9.918697357177734,17.784276962280273,-6.719846248626709,-22.059314727783203,-24.57236099243164,-16.10152244567871,-26.02079963684082,22.449716567993164,4.384073257446289,-26.83130645751953,-18.798463821411133,-41.08133316040039,-50.995059967041016,7.399240970611572,-3.697155475616455,21.058677673339844,-44.228763580322266,10.423888206481934,70.02958679199219,68.57562255859375,44.4859733581543,-25.607961654663086,-3.461400270462036,16.32685089111328,-9.814458847045898,24.80447006225586,2.250938892364502,40.95420455932617,1.0861691236495972,-49.945621490478516,-44.81638717651367,-4.976095199584961,59.12268829345703,-17.042800903320312,15.110218048095703,-19.85040283203125,-30.887165069580078,22.21242332458496,-60.790897369384766,14.24661636352539,-51.021236419677734,1.4971166849136353,-19.993167877197266,-51.13945007324219,3.706181049346924,-26.94032096862793,-15.417048454284668,-2.058441400527954,-39.416908264160156,59.83625793457031,34.65351867675781,-0.5930091142654419,-30.188596725463867,-46.51578903198242,17.027189254760742,5.051167011260986,-22.75764274597168,-24.99875831604004,19.076871871948242,4.2894463539123535,58.719512939453125,-11.046162605285645,-55.41779708862305,-41.14199447631836,-21.222206115722656,-2.774956464767456,-55.26841735839844,7.455040454864502,35.47395706176758,-5.069208145141602,-23.764801025390625,39.64943313598633,-14.089012145996094,7.3733930587768555,-7.907958030700684,-25.093902587890625,-5.43927001953125,44.699737548828125,-6.766766548156738,-54.842529296875,-4.985141277313232,60.90489196777344,38.46343994140625,7.70251989364624,25.97182273864746,-21.866544723510742,-19.251008987426758,-46.756893157958984,31.937118530273438,-42.036956787109375,6.779257774353027,12.62706470489502,54.042205810546875,-18.066720962524414,-8.449939727783203,7.819643974304199,-17.932331085205078,50.85017395019531,49.532859802246094,40.12748718261719,9.908279418945312,-60.51252365112305,44.70240783691406,24.827909469604492,-24.1534481048584,-2.9778642654418945,21.200834274291992,-29.145431518554688,-1.4000059366226196,-44.926490783691406,-7.739128112792969,-13.322689056396484,3.2896013259887695,-16.565704345703125,5.55199670791626,16.78117561340332,20.189990997314453,25.79918670654297,48.47123718261719,20.116979598999023,46.96556854248047,-11.06523323059082,-50.294639587402344,-49.256866455078125,-41.45650100708008,-9.757442474365234,-51.82817077636719,25.58456039428711,-28.978015899658203,13.299840927124023,17.12746810913086,-3.9764111042022705,42.98958206176758,21.62641143798828,-41.15892028808594,-47.520286560058594,-14.722012519836426,-36.31199264526367,-16.42928695678711,-12.967039108276367,48.300506591796875,69.92440795898438,69.00057983398438,60.86647033691406,20.1705379486084,-40.423580169677734,-39.87372970581055,-17.53636360168457,-6.920764923095703,-31.022457122802734,-18.88548469543457,13.732260704040527,-47.953880310058594,-34.810302734375,-22.15413475036621,-28.303255081176758,61.11606216430664,8.08458423614502,59.58039855957031,70.43965911865234,-28.523067474365234,63.59606170654297,56.374549865722656,-47.95538330078125,-2.310960292816162,-6.802774906158447,1.637584924697876,15.562599182128906,20.8626651763916,6.295059680938721,14.631629943847656,-47.226356506347656,2.908125877380371,39.138519287109375,6.107698917388916,-41.30223846435547,20.391578674316406,9.182592391967773,-48.935523986816406,-32.07051086425781,-10.841702461242676,4.895147323608398,-9.513062477111816,63.15766525268555,73.21782684326172,-2.474822521209717,-57.35847854614258,54.2274055480957,3.400416851043701,51.68854904174805,-51.500038146972656,-50.880340576171875,18.615388870239258,-8.076044082641602,1.0612136125564575,19.64859962463379,-33.148014068603516,12.275025367736816,-37.6722412109375,-59.610591888427734,-54.05575942993164,-2.2316555976867676,-1.9254182577133179,-50.530433654785156,12.011014938354492,55.586238861083984,-44.04301452636719,-1.26549232006073,-50.3924446105957,-10.852758407592773,-39.79417037963867,-31.448469161987305,-25.987510681152344,13.703764915466309,-22.056312561035156,27.03626823425293,-15.95952320098877,2.760769844055176,-23.875736236572266,-5.321004390716553,-39.51581954956055,-49.671630859375,6.079657077789307,-37.859893798828125,-11.644975662231445,-3.0494203567504883,-36.656917572021484,39.24619674682617,-6.348971366882324,10.636347770690918,-9.95376968383789,-23.0760555267334,-16.480560302734375,-4.459726810455322,-9.064345359802246,-5.17339563369751,-50.012664794921875,46.05088806152344,-39.13149642944336,36.0510139465332,-19.809587478637695,48.72417068481445,-61.9427375793457,-47.55660629272461,39.736778259277344,52.97079086303711,-58.21074295043945,17.650693893432617,64.92646026611328,13.465252876281738,0.21097563207149506,26.295486450195312,52.95433044433594,-8.611536979675293,7.553890228271484,6.999105930328369,2.879281520843506,14.53249740600586,-57.908355712890625,-41.910980224609375,19.29241180419922,-14.744604110717773,3.82759952545166,14.119366645812988,23.263320922851562,-50.02071762084961,11.01537036895752,-31.324663162231445,-18.453493118286133,14.216217041015625,-43.05994415283203,-9.438664436340332,-37.518924713134766,52.98419189453125,5.756584644317627,6.1875224113464355,26.28296661376953,-53.548744201660156,66.621337890625,21.809186935424805,4.148281097412109,12.832001686096191,7.949169158935547,36.957759857177734,7.185612201690674,14.669364929199219,-5.913289546966553,7.371619701385498,4.481242656707764,-6.292077541351318,-54.952205657958984,-5.035146236419678,1.3700112104415894,5.879676818847656,-31.19852066040039,-40.963619232177734,-41.27098846435547,-25.95525550842285,27.404386520385742,26.411836624145508,12.58581256866455,23.56922149658203,-63.40846252441406,47.741676330566406,-14.309844017028809,15.67129135131836,13.277606964111328,39.783809661865234,-23.91362190246582,-15.01177978515625,70.34893798828125,6.177761554718018,41.56978225708008,-47.23368835449219,39.15837097167969,-4.2775492668151855,4.922582626342773,71.72644805908203,-20.382658004760742,46.845218658447266,-11.992159843444824,20.383880615234375,3.5836708545684814,45.69013214111328,1.946953535079956,17.472614288330078,9.889608383178711,-7.527276039123535,-51.58808517456055,20.51237678527832,-2.7775726318359375,58.494510650634766,47.066993713378906,-47.34812927246094,-16.988130569458008,-23.378244400024414,-13.312883377075195,6.689578056335449,13.364480972290039,19.403335571289062,17.67869758605957,2.3409981727600098,-52.2086067199707,8.961653709411621,-41.9838752746582,46.216941833496094,60.20420837402344,19.374731063842773,-30.886348724365234,-59.321468353271484,33.6798095703125,38.55113220214844,-39.1649284362793,46.542457580566406,-3.3501527309417725,54.0284538269043,18.82867431640625,-44.2178955078125,36.81505584716797,20.530506134033203,35.50959396362305,6.710178375244141,4.5101213455200195,1.1146453619003296,11.65109634399414,20.734657287597656,42.2181510925293,-10.991918563842773,-14.958308219909668,53.80324172973633,-26.451622009277344,55.49575424194336,-27.36231231689453,-53.222312927246094,32.17897415161133,1.1977709531784058,20.72456932067871,20.793012619018555,-4.841457843780518,60.43906021118164,-37.77469253540039,-0.7462231516838074,19.435319900512695,44.31180953979492,-22.011796951293945,57.251686096191406,-41.359962463378906,-49.71256637573242,-14.218639373779297,-5.830165386199951,-0.6747909188270569,42.11346435546875,1.2540764808654785,17.400358200073242,-2.713209629058838,-7.911310195922852,-41.27860641479492,2.360086679458618,-43.87651443481445,8.641880989074707,48.90440368652344,-19.202726364135742,-10.090852737426758,-19.000207901000977,-3.4993555545806885,-13.733518600463867,-51.024085998535156,57.63787841796875,14.934041976928711,-19.21051597595215,67.74288177490234,-31.332496643066406,16.466960906982422,-30.335418701171875,8.02770709991455,-24.316099166870117,-62.365291595458984,-22.480573654174805,3.091182231903076,-41.61018753051758,-34.29425048828125,5.935763359069824,-24.30642318725586,5.6563005447387695,28.118642807006836,-38.88291931152344,-24.860111236572266,-5.737325191497803,-50.390953063964844,62.00120544433594,69.59293365478516,-35.56998062133789,9.51582145690918,71.99894714355469,33.55787658691406,-42.083168029785156,-39.71363067626953,34.86604690551758,14.504079818725586,0.41052746772766113,-35.357017517089844,72.7532958984375,-3.405369758605957,-3.3857767581939697,20.970909118652344,72.0599594116211,6.884252071380615,-4.359371185302734,57.620609283447266,-27.233884811401367,-9.354754447937012,17.190275192260742,-10.699394226074219,16.141494750976562,-52.026580810546875,-31.135517120361328,40.26697540283203,-7.058348655700684,-61.16850280761719,33.892417907714844,4.205528736114502,13.320700645446777,26.5070743560791,-4.719780445098877,39.23880386352539,26.814537048339844,-5.746524333953857,-1.4797035455703735,-27.3822021484375,8.677974700927734,-47.59602737426758,36.0468864440918,-21.661808013916016,-24.07404899597168,19.326427459716797,-49.454490661621094,-22.553319931030273,-40.62800216674805,63.287418365478516,-3.7891223430633545,4.557414531707764,-50.731590270996094,-4.354633331298828,54.07182312011719,-51.41883850097656,-43.494056701660156,15.917820930480957,56.070457458496094,-4.040452003479004,-25.66233253479004,24.632484436035156,40.712425231933594,-4.518698692321777,38.953155517578125,16.826082229614258,5.5896077156066895,-40.986106872558594,55.97186279296875,-29.535839080810547,-24.672319412231445,-30.906421661376953,-32.29666519165039,3.7982568740844727,-57.78135681152344,-59.88985061645508,-14.403619766235352,61.70322036743164,69.1361083984375,-12.949790000915527,-42.58101272583008,52.79446792602539,-32.321720123291016,-40.24605178833008,16.506317138671875,18.90728187561035,-26.88955307006836,-11.414283752441406,-6.662883281707764,-11.026122093200684,-40.508235931396484,-33.14875793457031,-2.6239430904388428,-39.778804779052734,-4.376730918884277,66.2238540649414,-18.3941650390625,48.756591796875,47.86214828491211,-5.034752368927002,-59.54325866699219,53.44443893432617,15.304617881774902,30.024368286132812,-10.732258796691895,52.78162384033203,9.04973316192627,16.401979446411133,-15.873438835144043,-8.137767791748047,-31.88640022277832,-55.15494155883789,-53.858665466308594,16.213037490844727,35.501277923583984,-3.213134765625,27.937583923339844,-60.481040954589844,19.918127059936523,-23.874208450317383,6.7304863929748535,-2.5111193656921387,-19.16005516052246,37.32676315307617,-28.158464431762695,8.066717147827148,-2.4550843238830566,-45.2923469543457,-2.836223840713501,22.462759017944336,-27.229127883911133,-16.00357437133789,15.897053718566895,19.860383987426758,21.678451538085938,0.061333075165748596,-35.351802825927734,4.0036773681640625,40.51841735839844,9.810049057006836,-18.911937713623047,-58.58388137817383,46.4505729675293,64.75013732910156,64.38495635986328,17.963285446166992,-25.303955078125,26.666873931884766,19.22539710998535,2.8205606937408447,12.378059387207031,31.513587951660156,-3.082101821899414,-21.81500816345215,-30.237926483154297,-32.121681213378906,-43.17329406738281,-20.77642250061035,9.808591842651367,2.5011637210845947,-35.101078033447266,20.844642639160156,-10.249054908752441,46.09354019165039,-12.546436309814453,14.148724555969238,-5.7752909660339355,2.1902406215667725,-10.422685623168945,6.564761161804199,-48.57707214355469,-14.373979568481445,7.769203186035156,32.58735656738281,-42.245758056640625,-15.885282516479492,-44.734275817871094,-2.230968475341797,4.195940017700195,-53.749794006347656,0.8933025002479553,10.408839225769043,21.01894760131836,56.23793029785156,68.69841766357422,-26.203121185302734,-10.10854434967041,-44.89561080932617,61.57225036621094,50.13542556762695,4.040316104888916,-15.074810028076172,25.583383560180664,-21.10189437866211,-57.20927047729492,-42.610321044921875,-13.4791841506958,14.868263244628906,-51.747920989990234,-11.498722076416016,5.389183521270752,-18.10181999206543,-20.197193145751953,20.49626922607422,-11.703375816345215,-2.3941972255706787,-26.236310958862305,-3.4272701740264893,-44.042991638183594,-30.867923736572266,17.506345748901367,11.139863014221191,-18.716094970703125,38.676551818847656,-24.62923812866211,-57.704498291015625,26.123762130737305,-41.724830627441406,-44.55764389038086,54.96714401245117,33.47959899902344,-58.641075134277344,-7.834883689880371,-25.642118453979492,-34.56678771972656,-41.86143112182617,3.9087374210357666,-18.766765594482422,59.334938049316406,-22.07329750061035,14.067706108093262,-55.173561096191406,-26.97941780090332,-53.39582443237305,-27.25118064880371,12.321154594421387,24.239276885986328,8.908760070800781,16.88115692138672,-28.169580459594727,70.56287384033203,-27.21813201904297,31.964481353759766,-31.176969528198242,-28.07693099975586,8.782023429870605,1.1398836374282837,-11.849615097045898,-20.971372604370117,60.5339241027832,21.293508529663086,-40.850120544433594,-56.3361930847168,-26.23805809020996,53.76848602294922,8.561956405639648,-45.02716827392578,20.574134826660156,-33.668792724609375,19.84019660949707,20.751127243041992,-5.867067813873291,-60.96211624145508,-4.699976921081543,-27.318845748901367,-44.17485046386719,-24.001157760620117,8.893487930297852,-5.2283935546875,-25.608312606811523,17.1520938873291,61.90711212158203,19.630138397216797,26.57178497314453,-43.50145721435547,-20.164960861206055,-15.52525520324707,55.5497932434082,-23.29694366455078,9.945635795593262,-28.47429084777832,7.811589241027832,36.24900436401367,-40.12632751464844,19.00467300415039,-10.709437370300293,23.34551239013672,67.83718872070312,-8.974225997924805,-22.798320770263672,-18.30767822265625,-26.83608055114746,12.865852355957031,8.381132125854492,2.0593183040618896,-36.021766662597656,19.902137756347656,53.545719146728516,-24.8209228515625,27.674489974975586,54.61267852783203,12.442614555358887,46.63906478881836,-8.527052879333496,61.09642791748047,50.37662124633789,41.73734664916992,-4.690624713897705,-15.021342277526855,-24.037778854370117,-2.3701648712158203,-7.298147201538086,-8.46231460571289,-15.071094512939453,-42.82504653930664,54.232177734375,13.986762046813965,7.367219924926758,9.471091270446777,17.61875343322754,9.13003158569336,-35.42580032348633,-59.218441009521484,51.65541458129883,1.9414267539978027,-12.350473403930664,23.53338050842285,8.166337966918945,-20.14914894104004,48.284278869628906,-1.0349133014678955,-15.873686790466309,-27.487821578979492,35.521728515625,-3.3690478801727295,5.555838108062744,-2.6819534301757812,58.70835494995117,-28.159082412719727,16.615995407104492,38.584381103515625,-3.345095157623291,-24.974685668945312,-43.39653396606445,6.459258079528809,14.102433204650879,-2.4211556911468506,20.762542724609375,2.837514638900757,-3.2651658058166504,44.018882751464844,-35.758201599121094,48.511714935302734,-42.3520393371582,29.18642807006836,37.50557327270508,71.53255462646484,-27.538549423217773,3.035367250442505,-11.83907699584961,-4.1452436447143555,56.87372589111328,29.34629249572754,-32.00658416748047,59.746524810791016,46.924076080322266,-24.769916534423828,39.6751708984375,-21.557292938232422,-32.085731506347656,18.381580352783203,5.074490070343018,-9.542972564697266,-7.461138725280762,-57.45073699951172,9.792115211486816,29.12264060974121,62.06098175048828,30.91009521484375,28.770660400390625,13.36550235748291,-19.151256561279297,-18.873132705688477,-11.193744659423828,65.0987777709961,-20.153358459472656,0.7082043886184692,5.704570770263672,-11.0703763961792,6.426347732543945,-19.96539306640625,-56.82579803466797,-46.68077087402344,43.22652053833008,59.09259796142578,-20.870656967163086,4.954233169555664,1.189275860786438,35.88515853881836,-21.179018020629883,-15.631251335144043,-19.332536697387695,-49.22483825683594,9.223793983459473,54.126182556152344,9.858981132507324,-44.79262161254883,15.946477890014648,-11.574738502502441,3.31276273727417,19.811185836791992,13.144676208496094,-41.50571823120117,47.399166107177734,32.322940826416016,-51.61442565917969,-39.06221008300781,-23.574533462524414,-45.45093536376953,48.373626708984375,-13.020610809326172,-21.143930435180664,45.40816116333008,3.1314876079559326,43.028865814208984,17.10443115234375,32.799739837646484,-40.768951416015625,53.58382034301758,15.491491317749023,-10.922381401062012,38.97549819946289,17.406801223754883,-20.364776611328125,-41.70721435546875,32.50446701049805,30.244121551513672,7.980236053466797,-6.638976097106934,24.343290328979492,56.35834503173828,-22.329675674438477,-4.287407875061035,-4.805069446563721,-39.085357666015625,-23.913850784301758,-9.645538330078125,-0.7365999817848206,1.3509410619735718,-50.40037536621094,19.227312088012695,4.227780342102051,-50.85747528076172,-19.507936477661133,-58.481300354003906,-5.4695725440979,-22.091917037963867,52.395023345947266,73.6336898803711,-53.9836540222168,20.56069564819336,-26.812557220458984,-60.432411193847656,19.29433250427246,-34.46259689331055,-57.83720779418945,-32.678070068359375,25.050386428833008,-25.515701293945312,-12.436270713806152,13.508788108825684,16.579511642456055,43.85841369628906,-39.56464767456055,7.265585422515869,-46.72360610961914,28.800987243652344,-36.07715606689453,7.911252975463867,-5.39910888671875,13.240857124328613,13.342813491821289,-17.60519027709961,-22.57830238342285,49.201019287109375,11.45888900756836,30.07362174987793,-23.018070220947266,59.762996673583984,37.451377868652344,-5.1750078201293945,-48.89352798461914,37.8614616394043,-57.00389099121094,-30.950027465820312,-10.27672004699707,32.703128814697266,11.629944801330566,23.93587303161621,-49.21418762207031,-19.99921417236328,-52.56401443481445,60.40924072265625,2.3417816162109375,65.10781860351562,7.403310775756836,-11.355737686157227,-25.238628387451172,-4.841563701629639,-29.2103214263916,-8.918704986572266,-40.73348617553711,69.80093383789062,-13.552517890930176,59.92683029174805,34.131683349609375,-20.807052612304688,29.588829040527344,20.730192184448242,-47.234500885009766,20.28190040588379,71.08988952636719,-24.88095474243164,-44.982643127441406,-23.946889877319336,-19.9259033203125,3.8076794147491455,4.725869655609131,-33.812931060791016,-27.30485725402832,50.92435073852539,11.68679141998291,-42.42094421386719,5.53464412689209,-41.11660385131836,-13.073943138122559,-60.60690689086914,26.46419334411621,-40.979366302490234,6.2939910888671875,71.3321533203125,3.3488998413085938,29.483488082885742,33.29326629638672,4.674550533294678,-50.4872932434082,33.73529052734375,-11.57796573638916,-5.4837565422058105,-42.920894622802734,31.833242416381836,-41.359073638916016,-23.990283966064453,25.649023056030273,40.41298294067383,47.94986343383789,29.828109741210938,-22.269506454467773,-40.75846481323242,-53.41230773925781,59.220680236816406,-38.73103332519531,-17.932065963745117,-16.165416717529297,-19.916881561279297,-21.84517478942871,16.427902221679688,-40.82347106933594,-34.211265563964844,39.24391555786133,16.55864715576172,-13.543656349182129,4.056060314178467,49.73196792602539,17.81802749633789,40.98009490966797,-40.19929504394531,47.750755310058594,-3.59875750541687,-8.608328819274902,7.792923450469971,-49.59585952758789,-13.686702728271484,4.634758472442627,-9.07384967803955,7.457086086273193,43.403656005859375,39.07387924194336,33.36997985839844,-5.222677707672119,29.524948120117188,-4.121566295623779,49.422203063964844,8.578051567077637,-33.462318420410156,-13.36497688293457,13.123208999633789,32.81086730957031,54.34222412109375,-8.370205879211426,7.160771369934082,41.62983703613281,45.00739669799805,13.882850646972656,-15.816773414611816,-4.179147720336914,-26.27825927734375,10.828004837036133,-27.969406127929688,24.295635223388672,47.63922119140625,-24.31266975402832,-14.303791046142578,-14.396738052368164,-24.453495025634766,10.776491165161133,-13.607589721679688,-58.98670196533203,32.17481231689453,-41.79708480834961,-42.61476516723633,23.790849685668945,3.5615243911743164,-12.128277778625488,-10.7021484375,37.31989288330078,-25.577882766723633,-25.37541389465332,26.317733764648438,49.10820007324219,-29.863391876220703,-1.9207097291946411,-20.40338706970215,0.12681567668914795,49.10459899902344,-53.631103515625,-54.25398254394531,-8.806878089904785,-12.302956581115723,43.808841705322266,30.23862075805664,58.02737045288086,38.32271957397461,19.289697647094727,15.470340728759766,61.21574020385742,-9.472044944763184,9.287391662597656,-51.04227066040039,19.94987678527832,-4.394637584686279,9.839217185974121,-50.85140609741211,-6.343603610992432,-41.76765823364258,27.92218017578125,-9.107624053955078,23.040760040283203,-53.46278762817383,35.378482818603516,-11.031147003173828,-27.22989845275879,52.468536376953125,7.378692150115967,-22.179519653320312,46.50811767578125,64.59207916259766,50.60682678222656,39.899410247802734,4.454920291900635,25.974571228027344,-21.828981399536133,-11.221856117248535,55.014766693115234,52.787681579589844,-18.483118057250977,-42.455875396728516,-11.188640594482422,61.00835037231445,36.61330032348633,-5.032970428466797,-6.852433681488037,-5.54193115234375,-20.326095581054688,-43.97111511230469,-6.676238059997559,-47.99704360961914,-59.37161636352539,-13.617643356323242,35.285560607910156,7.8704962730407715,41.07601547241211,-56.87876510620117,-13.490225791931152,-28.001008987426758,15.995080947875977,-40.75565719604492,3.825862407684326,-20.391807556152344,-11.09067440032959,-27.96854591369629,68.68314361572266,70.13250732421875,48.52009201049805,-62.77914047241211,10.517451286315918,0.7477759122848511,38.328426361083984,-54.62201690673828,58.1147346496582,1.2098233699798584,7.465314865112305,23.728069305419922,46.44379806518555,45.104488372802734,14.413626670837402,25.323461532592773,65.85693359375,5.580833911895752,-11.300719261169434,-15.269119262695312,53.34602737426758,-25.135412216186523,34.6697998046875,12.049078941345215,58.86624526977539,32.784297943115234,20.91950035095215,-4.865769386291504,-27.440256118774414,-28.87104606628418,8.383527755737305,-2.3848583698272705,-27.911174774169922,-5.259134769439697,-5.402949810028076,24.715614318847656,7.4263458251953125,37.538902282714844,68.46439361572266,-2.1511716842651367,42.85177993774414,-43.991310119628906,68.03956604003906,-48.15280532836914,39.5565185546875,-3.1960415840148926,-25.316343307495117,54.656551361083984,-53.074440002441406,2.9592671394348145,-10.654491424560547,59.929664611816406,18.859785079956055,-2.9763927459716797,5.43014669418335,46.79121780395508,-12.75732421875,33.24575424194336,-2.862912893295288,35.949790954589844,3.356053590774536,56.011016845703125,12.730667114257812,-8.814449310302734,-40.88022232055664,25.789045333862305,-42.152122497558594,27.873872756958008,-7.495237827301025,-57.85681915283203,-3.0786187648773193,-56.98789596557617,7.707592010498047,45.70973587036133,-11.759238243103027,-7.948399066925049,54.254722595214844,56.8502197265625,44.42125701904297,3.640026330947876,-28.453706741333008,31.512611389160156,-40.862831115722656,-11.488349914550781,43.77785110473633,26.926454544067383,-31.807653427124023,-23.64154052734375,33.04352569580078,-41.13398361206055,44.006431579589844,74.3908920288086,27.281951904296875,67.24082946777344,-26.265573501586914,57.92464828491211,-48.13731384277344,-20.17112922668457,2.9837396144866943,-2.63702130317688,-34.20460891723633,5.029660701751709,-4.933583736419678,-30.81000518798828,-21.891460418701172,26.429780960083008,8.1884765625,32.39398956298828,5.873730659484863,-4.202347755432129,-7.137470722198486,-16.74158477783203,4.914698600769043,-43.12302017211914,6.144516468048096,-2.421203851699829,24.777042388916016,5.486594200134277,-6.273669242858887,53.37692642211914,9.494872093200684,-26.49275779724121,38.850040435791016,-7.259634971618652,-32.64349365234375,3.4803595542907715,26.27381706237793,-7.044416904449463,37.62528610229492,35.55831527709961,4.23248291015625,9.885815620422363,-62.56304168701172,52.859779357910156,47.87012481689453,39.764705657958984,-57.622337341308594,1.9834016561508179,46.395233154296875,-22.14485740661621,3.33965802192688,-14.998588562011719,-58.45732116699219,4.1292338371276855,-0.04508467763662338,20.450916290283203,-47.902976989746094,21.406505584716797,-13.124683380126953,-16.502805709838867,-13.472206115722656,-54.35992431640625,31.051464080810547,-19.96228790283203,-3.769171714782715,10.27504825592041,-22.33198356628418,34.96440887451172,-41.27733612060547,11.305974006652832,-5.226125240325928,-6.097776412963867,-1.7791942358016968,-26.78571319580078,23.784605026245117,16.809234619140625,-14.821849822998047,-45.1898193359375,-60.37000274658203,-8.039107322692871,32.09697341918945,54.828582763671875,-24.164777755737305,-41.44548034667969,23.6729736328125,-11.371641159057617,-40.72093200683594,9.407018661499023,-44.017765045166016,-47.98197937011719,-25.762874603271484,-36.76918411254883,9.560819625854492,12.094869613647461,26.30068588256836,40.2812385559082,-24.977367401123047,13.700461387634277,-23.586009979248047,39.54071807861328,-21.346696853637695,-8.804241180419922,-5.363824844360352,45.27913284301758,38.05906677246094,55.07258224487305,45.037513732910156,37.89649200439453,-22.951364517211914,31.00849723815918,-1.1846590042114258,72.07923126220703,66.6400146484375,26.020648956298828,29.589221954345703,-24.272615432739258,7.352657318115234,22.492469787597656,52.09553909301758,-61.64042282104492,-5.509308338165283,-45.14580154418945,-58.4503059387207,-5.279517650604248,-27.216266632080078,-25.483598709106445,-22.503461837768555,7.77564811706543,-48.95143508911133,29.196752548217773,-19.093088150024414,-26.423049926757812,15.857441902160645,21.32868766784668,-57.57403564453125,-25.472253799438477,44.022247314453125,-27.73535919189453,57.671302795410156,-27.867738723754883,-2.1476471424102783,-9.491340637207031,-5.350379943847656,-54.476036071777344,-40.81748962402344,38.282630920410156,-27.001691818237305,23.3219051361084,26.826990127563477,-18.117752075195312,-11.891960144042969,-4.399927616119385,-25.007036209106445,30.745744705200195,22.443614959716797,-53.73381042480469,-11.94880199432373,22.54118537902832,-48.29987716674805,-13.069561004638672,8.37021541595459,29.2319278717041,-57.64857864379883,-22.442792892456055,8.096099853515625,-30.22813606262207,-12.0720853805542,-27.31031608581543,-53.851741790771484,7.033502101898193,-41.41751480102539,47.2162971496582,34.01845932006836,-2.2974164485931396,-54.40480041503906,-44.92190170288086,-59.35918045043945,24.787460327148438,59.97494125366211,-7.490848064422607,34.39337921142578,24.337203979492188,35.31410598754883,-9.407490730285645,-30.771421432495117,51.51578903198242,7.467940330505371,8.922950744628906,13.233041763305664,-3.306091785430908,-40.50790023803711,22.129026412963867,20.60159683227539,57.871891021728516,7.444080829620361,15.366718292236328,37.937217712402344,-10.185349464416504,57.8396110534668,21.222370147705078,29.81487464904785,28.842453002929688,-13.59972858428955,-17.04461669921875,-23.03969383239746,41.63789749145508,-46.391845703125,-41.54597854614258,-62.617313385009766,16.06521224975586,13.383028984069824,51.488101959228516,46.874820709228516,25.708763122558594,9.69543743133545,-50.88204574584961,-51.589759826660156,8.215113639831543,-13.945966720581055,-2.791382074356079,25.45359992980957,42.321807861328125,-7.15558385848999,51.182350158691406,-19.087902069091797,16.90434455871582,-20.92504119873047,37.203155517578125,43.24942398071289,-45.4416618347168,-41.31037139892578,-30.602121353149414,22.122346878051758,52.17119216918945,52.13372802734375,-7.844176292419434,22.969152450561523,-42.73094177246094,-19.08405876159668,10.751293182373047,-53.97743606567383,-23.559619903564453,21.665193557739258,44.16668701171875,47.35060119628906,35.7830810546875,27.020870208740234,-8.470559120178223,-11.947871208190918,35.61405563354492,-28.754501342773438,9.56132698059082,-2.3601596355438232,-23.715070724487305,20.73526382446289,1.0905265808105469,28.102779388427734,25.439651489257812,-12.591354370117188,26.98457908630371,1.8611044883728027,-1.7121747732162476,-8.009242057800293,53.92622375488281,19.55875015258789,51.56109619140625,3.752260208129883,-53.56060028076172,-5.763360500335693,43.678157806396484,-3.2377071380615234,34.01793670654297,2.8846588134765625,-45.37273406982422,-23.466733932495117,-39.15925979614258,-26.913156509399414,-31.354597091674805,35.83858871459961,5.115724086761475,72.39111328125,36.735321044921875,-41.596622467041016,36.57184600830078,8.005237579345703,17.909648895263672,29.22122573852539,-32.2273063659668,-16.10416030883789,53.243324279785156,26.958940505981445,57.82098388671875,-43.64491271972656,2.4419450759887695,60.77168273925781,0.20168879628181458,35.990516662597656,-11.026397705078125,27.24211883544922,14.391547203063965,-15.144331932067871,46.47692108154297,-26.812877655029297,-23.71388053894043,3.60823917388916,55.548988342285156,34.412315368652344,-24.689350128173828,34.012237548828125,-42.921905517578125,-11.661172866821289,-34.900352478027344,-9.321907043457031,-58.14685821533203,-41.22355270385742,3.037557601928711,46.69935607910156,-6.9750261306762695,-40.424537658691406,20.870288848876953,35.5670280456543,-45.232460021972656,-45.99412155151367,-59.163909912109375,22.306461334228516,15.470963478088379,-1.7881990671157837,-53.76621627807617,20.32681655883789,37.03218460083008,52.922969818115234,19.893749237060547,9.703839302062988,-25.39118766784668,-5.929020881652832,-58.20139694213867,-7.779113292694092,-2.998650550842285,-7.513665676116943,-20.664682388305664,45.868648529052734,73.86793518066406,1.4363133907318115,36.54411315917969,22.45294189453125,-0.9847603440284729,-3.1298141479492188,-32.660743713378906,6.43633508682251,7.750672817230225,-0.147135391831398,0.6747679710388184,-22.63680648803711,5.081573963165283,-57.27840042114258,-3.9981977939605713,18.751996994018555,6.067330360412598,59.866851806640625,46.33079528808594,31.141244888305664,13.381765365600586,-40.97939682006836,-10.168967247009277,-7.261269569396973,-52.438533782958984,3.9099087715148926,20.316232681274414,25.84029769897461,-22.016809463500977,34.90596008300781,-28.170499801635742,74.48667907714844,-47.59778594970703,52.84370040893555,43.41185760498047,-48.9437255859375,18.145736694335938,-4.499752044677734,-12.826128005981445,15.501935005187988,1.5448873043060303,-37.724815368652344,34.15816116333008,-43.05244445800781,-2.096388339996338,69.95652770996094,-57.65690231323242,-23.672122955322266,-5.531753063201904,-37.16386032104492,-10.793871879577637,0.776542603969574,-43.33644104003906,7.240334510803223,29.662254333496094,-46.967979431152344,-53.508872985839844,44.121910095214844,71.69144439697266,20.732629776000977,14.549409866333008,-48.81513595581055,6.185836315155029,-18.64649200439453,18.76912498474121,-1.5837641954421997,-7.253759860992432,-19.687679290771484,21.818830490112305,-15.27234935760498,-32.55624008178711,-5.965621471405029,-5.2621989250183105,-17.038902282714844,-17.108333587646484,15.427411079406738,66.19979858398438,6.322833061218262,-32.24144744873047,-10.532106399536133,-9.863380432128906,56.09225082397461,59.611839294433594,-36.33891296386719,66.58792877197266,36.65873718261719,13.587480545043945,-57.52497100830078,-7.847768783569336,-26.043813705444336,18.123502731323242,-39.86283493041992,59.93669509887695,-47.539100646972656,-4.6834917068481445,-8.450616836547852,-61.359169006347656,-31.0959415435791,25.197021484375,48.439109802246094,2.045358896255493,-9.52676010131836,53.06533432006836,-40.33403015136719,-14.346482276916504,-9.118646621704102,66.44966125488281,18.119184494018555,-3.0444557666778564,-50.60609436035156,-47.30222702026367,14.54094123840332,-18.5616512298584,-23.353534698486328,56.3859977722168,-41.703636169433594,-11.53496265411377,-23.12071990966797,-48.96498107910156,25.80972671508789,58.524078369140625,-2.8805603981018066,12.893531799316406,-58.23814010620117,-25.618255615234375,-7.157905578613281,7.939002990722656,-42.71794128417969,51.815189361572266,-6.656457901000977,-20.65760612487793,-47.76400375366211,-49.34608840942383,19.960710525512695,-6.939731121063232,-13.256942749023438,-40.17167663574219,-8.460174560546875,4.477537155151367,-61.92256164550781,-43.670257568359375,-44.92231369018555,50.3989143371582,-40.69952392578125,-54.03909683227539,-11.405923843383789,64.16410827636719,-42.83529281616211,30.245481491088867,-12.518868446350098,-2.7902820110321045,-34.728824615478516,13.174816131591797,-53.53278350830078,20.324186325073242,-30.365724563598633,-5.089583396911621,6.792113780975342,-44.31082534790039,24.04347038269043,-52.354461669921875,52.78724670410156,3.5592856407165527,6.851993560791016,40.82318878173828,42.33701705932617,-40.9222412109375,29.670900344848633,25.345930099487305,-23.77759552001953,-2.9763927459716797,48.91302490234375,-5.952356815338135,-17.731035232543945,-22.30288314819336,-41.100223541259766,-22.835718154907227,-16.064062118530273,14.534963607788086,34.17123031616211,27.89226722717285,-44.83673095703125,58.89784240722656,-51.86677932739258,-1.0200860500335693,-43.448734283447266,-42.91495132446289,1.116182804107666,-17.989376068115234,48.08627700805664,14.831517219543457,-22.30171012878418,4.74860143661499,5.050784587860107,38.8543586730957,-10.467737197875977,1.7115952968597412,-42.34292984008789,-62.788692474365234,47.48727798461914,-6.108238697052002,23.965347290039062,-6.944869518280029,55.202369689941406,-2.233198404312134,49.13010787963867,36.140113830566406,-0.6995341181755066,-10.877320289611816,-20.662124633789062,-54.0553092956543,-47.849517822265625,-29.145553588867188,10.958139419555664,36.140594482421875,8.488945007324219,18.605562210083008,-0.9876915812492371,-26.792339324951172,-29.489513397216797,-26.40660858154297,10.614151000976562,-33.00499725341797,29.295745849609375,58.2270622253418,63.599613189697266,38.97886657714844,64.81645202636719,-5.235821723937988,-47.1281623840332,-3.581040620803833,1.1147433519363403,-24.122838973999023,49.49046325683594,-57.89659881591797,52.60294723510742,-47.64821243286133,13.711496353149414,74.21809387207031,40.460487365722656,-9.027812004089355,-40.8927116394043,52.751102447509766,0.4827488362789154,-45.01708221435547,10.632192611694336,-56.42387008666992,-59.53850555419922,-8.412851333618164,-31.022747039794922,-6.1261887550354,18.822614669799805,-6.282668590545654,-28.7625732421875,-39.70417785644531,0.8975300788879395,6.554624557495117,-58.985694885253906,-3.601696252822876,-31.51109504699707,9.49360466003418,-27.250774383544922,-22.341827392578125,29.694156646728516,-53.58249282836914,32.714561462402344,-3.97995924949646,32.65623092651367,-31.002777099609375,24.01243782043457,9.363088607788086,66.58470916748047,-26.990291595458984,11.732335090637207,-6.34142541885376,-40.65530014038086,-13.98830795288086,-19.393199920654297,59.51515579223633,-33.89448165893555,-0.916907548904419,40.24193572998047,29.725130081176758,-50.12438201904297,11.724703788757324,20.51030158996582,17.251062393188477,-40.153289794921875,1.1105067729949951,-5.208592414855957,-10.907195091247559,-12.304117202758789,-4.255328178405762,-56.65861129760742,10.530355453491211,22.885334014892578,41.72522735595703,27.210927963256836,18.68313217163086,-5.058526992797852,-21.594602584838867,-42.87771224975586,-58.86997985839844,-59.74781799316406,25.70995330810547,-41.19551467895508,-8.073766708374023,-1.1549545526504517,-47.07963562011719,-3.969893455505371,47.712039947509766,1.621299147605896,71.67134857177734,-52.88774490356445,-4.095604419708252,-21.084266662597656,13.91052532196045,-6.910919189453125,-3.595266342163086,-0.21377865970134735,18.17055892944336,18.088890075683594,-3.052250862121582,3.894202709197998,44.171566009521484,-2.7086286544799805,-58.41287612915039,-7.549548149108887,24.27678108215332,4.7393646240234375,-31.803701400756836,29.99254608154297,51.435569763183594,50.3747444152832,10.281147956848145,19.594282150268555,-2.9355409145355225,71.72856140136719,-57.72026824951172,-57.59668731689453,-45.26194763183594,-25.846628189086914,57.395530700683594,23.291086196899414,18.114107131958008,-18.713634490966797,54.17247009277344,0.7816780805587769,-46.57027816772461,29.76527214050293,33.04853820800781,60.703956604003906,73.43671417236328,0.9526309967041016,37.30632400512695,-26.034393310546875,6.69365930557251,7.072879314422607,35.10549545288086,5.887765884399414,-41.75374984741211,35.88575744628906,-26.871700286865234,-30.9331111907959,28.040620803833008,67.24639129638672,54.809837341308594,-17.78679656982422,4.153735160827637,-1.4982911348342896,20.663429260253906,-3.846461296081543,-30.914213180541992,9.443942070007324,-55.3615608215332,61.180633544921875,14.686614036560059,24.86308479309082,-51.838016510009766,29.47150421142578,-6.16133975982666,-44.59234619140625,5.894117832183838,-7.968609809875488,-14.687952041625977,-13.986428260803223,15.622139930725098,-39.153114318847656,-2.8124260902404785,3.064204454421997,0.33434557914733887,1.9987472295761108,8.465568542480469,-3.866401433944702,-10.455116271972656,-15.964765548706055,-46.3160285949707,-42.87773513793945,19.179035186767578,-4.324796676635742,-0.1321493238210678,-5.205559730529785,-62.730628967285156,-6.4780802726745605,9.21998119354248,-58.74806213378906,-8.15168571472168,-15.445082664489746,-45.01166534423828,53.459449768066406,-29.04789161682129,-22.567535400390625,-16.701913833618164,10.520978927612305,-40.73140335083008,14.446720123291016,-14.537190437316895,-14.35052490234375,-5.380304336547852,-3.4300994873046875,5.747169494628906,-2.352780342102051,43.7773551940918,20.05513572692871,-45.57706069946289,23.60983657836914,34.54920196533203,-21.528118133544922,22.18174934387207,-26.631332397460938,-28.23774528503418,-41.312225341796875,51.491275787353516,15.651865005493164,24.79662322998047,40.8603401184082,-34.982242584228516,28.919357299804688,6.385100364685059,1.2124593257904053,-5.524940013885498,-49.97137451171875,8.658456802368164,42.60686111450195,64.55316162109375,29.19781494140625,32.06221389770508,21.319372177124023,13.741025924682617,-40.649105072021484,-0.8505553603172302,-40.54680252075195,50.391719818115234,-5.071439743041992,-41.82530975341797,-4.7907538414001465,7.552279472351074,17.366905212402344,21.63990020751953,14.058053970336914,-32.15242004394531,-60.17525100708008,37.68363952636719,-12.031856536865234,31.424156188964844,1.007225751876831,-20.51744842529297,-10.003752708435059,20.04935646057129,-18.47472381591797,-50.17829895019531,-32.13967514038086,-15.083386421203613,6.239169597625732,60.12130355834961,8.756239891052246,-41.31093215942383,-50.503440856933594,-6.264849662780762,7.838749408721924,-62.80470657348633,-24.39215087890625,-10.078179359436035,1.6391576528549194,-16.218595504760742,23.059762954711914,6.532254219055176,8.492559432983398,-11.721177101135254,45.8331413269043,-60.149532318115234,-31.565061569213867,-10.701861381530762,62.12481689453125,-4.254172325134277,-8.713547706604004,-28.28968048095703,-20.82110595703125,34.25080490112305,-13.72103214263916,9.74919605255127,49.01606750488281,-3.622629404067993,3.1899654865264893,-43.455955505371094,-5.58890962600708,-41.80096435546875,-22.66965675354004,43.86479949951172,-23.992107391357422,0.11156825721263885,-57.30371856689453,-0.7088876962661743,-41.4752197265625,-22.348989486694336,28.125873565673828,42.50459289550781,6.642142295837402,30.403261184692383,62.588802337646484,-2.973400115966797,-22.248044967651367,-8.314952850341797,23.873409271240234,64.7968978881836,26.875303268432617,-7.283243656158447,2.9253218173980713,-21.356412887573242,-10.0891752243042,-62.77512741088867,-11.10608959197998,-21.960205078125,-41.530487060546875,73.16148376464844,48.20412826538086,-5.095484256744385,-23.074907302856445,37.17337417602539,-42.027034759521484,-20.022293090820312,11.629583358764648,31.302013397216797,-19.88053321838379,-22.407638549804688,56.33329772949219,-20.9791259765625,-0.20828166604042053,-15.063738822937012,-22.613304138183594,3.8904263973236084,18.94047737121582,-60.22278594970703,-14.196391105651855,-27.287614822387695,-6.841494083404541,8.84099006652832,-3.796475410461426,-61.769229888916016,63.97871398925781,-43.14342498779297,-2.4115169048309326,7.942770004272461,68.47526550292969,-17.176538467407227,-44.36049270629883,28.741466522216797,-6.070686340332031,27.234905242919922,18.55253791809082,37.71225357055664,-4.339596271514893,52.24759292602539,-27.539981842041016,-4.518165111541748,7.871232032775879,15.910665512084961,-27.157840728759766,10.594853401184082,-1.9461530447006226,-28.146495819091797,-13.165946006774902,37.64516067504883,-2.0546798706054688,61.914306640625,7.66590690612793,15.556802749633789,21.823060989379883,-40.63182830810547,21.051671981811523,-20.906774520874023,-52.84394454956055,-4.883493900299072,-14.84992504119873,45.8030891418457,-51.38185119628906,-5.079030990600586,-14.090559959411621,13.524938583374023,13.605203628540039,21.075206756591797,-54.62793731689453,-52.932437896728516,9.483711242675781,-34.359397888183594,29.469850540161133,5.276764869689941,-3.6886961460113525,32.92063522338867,52.79954528808594,39.61198806762695,-33.14663314819336,-47.52052688598633,30.796772003173828,17.119346618652344,34.6015625,-26.647640228271484,-41.764427185058594,-44.7095832824707,42.0831413269043,-16.103944778442383,25.73122215270996,34.947208404541016,-7.81878662109375,-48.127933502197266,46.724403381347656,-22.685930252075195,2.4275143146514893,-3.0101234912872314,-6.692865371704102,-31.961271286010742,-44.142642974853516,45.624813079833984,-15.930227279663086,-12.872968673706055,21.166921615600586,-57.2778205871582,59.99331283569336,47.02629470825195,9.264382362365723,-34.8387451171875,-54.62057113647461,4.291543006896973,-58.478153228759766,-45.355552673339844,-6.341989040374756,-11.409656524658203,-55.05025863647461,-7.921021461486816,2.802259683609009,-14.479375839233398,38.86695861816406,41.19538879394531,-11.117000579833984,48.51551818847656,-48.87078094482422,5.385204792022705,-13.727096557617188,37.4614143371582,-43.091407775878906,29.997791290283203,0.6504560708999634,18.349205017089844,-21.66388511657715,50.768882751464844,66.53885650634766,2.7093429565429688,-23.02557945251465,7.873738765716553,0.4348656237125397,-18.572452545166016,-8.91389274597168,17.32817840576172,21.826799392700195,48.25063705444336,53.60449981689453,6.459347248077393,52.20191192626953,-7.872251510620117,40.63444519042969,54.78147506713867,-40.5976676940918,9.165717124938965,47.8338737487793,4.424141883850098,-44.32064437866211,5.541646480560303,1.1228766441345215,-8.242609024047852,-25.137731552124023,-20.39356803894043,21.07634162902832,-4.449709415435791,-49.53939437866211,44.533302307128906,19.305034637451172,-40.708431243896484,67.41661834716797,-45.381263732910156,27.46265411376953,54.22978210449219,-0.1408502459526062,-27.865978240966797,69.3791732788086,-16.50043296813965,-58.379024505615234,-7.04689359664917,33.313690185546875,29.275218963623047,-10.275726318359375,15.098719596862793,25.974092483520508,30.256887435913086,27.295635223388672,57.17739486694336,16.997995376586914,-23.16049575805664,-7.668716907501221,-31.317100524902344,2.955472469329834,-3.9914791584014893,38.7647705078125,68.47211456298828,19.69335174560547,28.254602432250977,-24.928882598876953,-11.174699783325195,3.9013383388519287,16.897798538208008,-25.415191650390625,-40.79152297973633,-2.9573302268981934,-54.82402038574219,-40.680850982666016,-57.261741638183594,-4.5441412925720215,67.05506134033203,53.58663558959961,-13.937487602233887,42.72104263305664,30.14217185974121,-15.398263931274414,-33.58766174316406,43.71367263793945,-39.59490203857422,35.77058029174805,56.4960823059082,-53.06071853637695,-8.946602821350098,-22.319093704223633,23.930471420288086,46.4595832824707,3.8748815059661865,-24.43524742126465,-25.19933319091797,60.33595657348633,-23.01557159423828,-13.965171813964844,-14.867288589477539,-4.015212535858154,14.551666259765625,-5.42567253112793,-11.050248146057129,34.79730224609375,41.3703727722168,-7.81301736831665,58.785701751708984,49.02151107788086,-3.894463062286377,-22.466896057128906,0.8506485819816589,-32.511409759521484,6.699598789215088,-20.829530715942383,-0.46037572622299194,-9.5370512008667,45.02096176147461,20.44761085510254,43.33079528808594,13.371376037597656,-23.2902889251709,8.7831392288208,15.965649604797363,-37.81776809692383,-38.05524444580078,1.1084740161895752,2.695495367050171,38.21144485473633,-17.95582389831543,-26.108352661132812,-6.93707275390625,64.9641342163086,7.92045259475708,-26.38077163696289,-43.044334411621094,-11.415379524230957,-54.32904052734375,-40.112327575683594,-35.89755630493164,-32.556827545166016,29.74942970275879,-5.908726692199707,53.085784912109375,-26.892724990844727,24.79570198059082,10.318800926208496,-27.2067928314209,5.93962287902832,-23.93234634399414,-3.383763551712036,-48.34409713745117,-34.647403717041016,-17.517274856567383,53.622901916503906,36.78301239013672,-14.921612739562988,-32.812461853027344,61.40059280395508,-1.765235185623169,-56.95175552368164,68.15496826171875,-62.437625885009766,2.0797677040100098,-3.115762948989868,-20.072433471679688,3.9102084636688232,42.067665100097656,-10.30069351196289,-20.079627990722656,-4.488318920135498,-62.68330001831055,42.06072998046875,-14.268190383911133,-39.92136764526367,-37.76456832885742,67.41558837890625,-3.9804372787475586,-31.85457992553711,44.74405288696289,-54.7418098449707,66.54533386230469,3.2677700519561768,-7.428713798522949,-10.894242286682129,59.025638580322266,1.9165664911270142,29.330617904663086,-23.25397300720215,-59.33064270019531,-26.75584602355957,-2.356673240661621,15.435011863708496,-22.083688735961914,1.1996417045593262,71.637939453125,-38.910789489746094,-26.21003532409668,-36.1325798034668,-26.045618057250977,19.64673614501953,-21.675262451171875,3.8644187450408936,-43.917293548583984,-24.277589797973633,21.999982833862305,5.957409858703613,54.52814483642578,-9.860757827758789,-39.24201965332031,1.5609232187271118,-18.63982582092285,11.058266639709473,35.015472412109375,-11.684882164001465,20.346134185791016,59.40757751464844,-23.463829040527344,-8.799330711364746,-35.03824234008789,-7.17445182800293,9.586484909057617,53.16216278076172,26.04729461669922,69.56773376464844,-23.928068161010742,42.48194122314453,5.203878879547119,33.35410690307617,9.634591102600098,-58.080448150634766,-10.70304012298584,-48.88832092285156,2.521793842315674,-0.8795256018638611,46.267852783203125,-23.98359489440918,-60.863731384277344,47.50290298461914,18.54084014892578,-12.68781852722168,-3.1250298023223877,-40.80991744995117,71.9058837890625,38.71929168701172,-0.16150887310504913,-18.5106143951416,8.816842079162598,10.097417831420898,-30.594512939453125,-43.231658935546875,51.27109909057617,-48.65597152709961,-48.70207977294922,52.294410705566406,-42.262306213378906,69.70315551757812,-42.47898864746094,64.199462890625,-45.139373779296875,62.01006317138672,8.299847602844238,60.49692153930664,-23.189870834350586,17.16423988342285,22.50055694580078,67.48423767089844,-51.408634185791016,-25.517345428466797,-6.714447975158691,-52.653263092041016,4.358866214752197,-39.25454330444336,43.03078079223633,-12.844185829162598,-24.24443244934082,-13.57310676574707,39.980194091796875,17.057411193847656,44.88014221191406,21.94455909729004,42.10342788696289,4.390280723571777,-4.312009811401367,-7.549051761627197,61.697715759277344,17.893600463867188,-0.8456883430480957,-41.54244613647461,18.035715103149414,-27.252700805664062,67.8170394897461,18.460596084594727,-4.553961277008057,-22.417015075683594,17.59205436706543,38.32746505737305,-58.49618148803711,-7.562655448913574,-31.39242935180664,36.1093635559082,3.8834872245788574,31.983278274536133,-53.64065170288086,19.076862335205078,-12.48398494720459,56.374351501464844,-21.25699234008789,-21.662012100219727,17.57710075378418,33.72158432006836,25.349441528320312,20.322568893432617,19.939632415771484,-5.794676303863525,-58.13475799560547,-12.486200332641602,-7.6016316413879395,-14.116731643676758,-40.87183380126953,-27.601285934448242,-5.635729789733887,-11.736922264099121,-21.78801727294922,18.157590866088867,-24.445587158203125,-15.415203094482422,-12.836451530456543,33.691959381103516,33.72561264038086,-13.951393127441406,-40.80363464355469,44.20561981201172,16.564027786254883,54.29981231689453,-48.360042572021484,36.332122802734375,-11.947135925292969,-37.37274932861328,-4.261270999908447,5.8775954246521,-6.26365852355957,17.601707458496094,-55.04850387573242,-3.996727466583252,64.83346557617188,-56.23904800415039,60.53237533569336,6.749704837799072,-14.033071517944336,-43.98196792602539,26.316993713378906,-9.527057647705078,-9.568083763122559,-2.824916124343872,10.492921829223633,-42.13984680175781,-22.26038360595703,16.49831199645996,-41.289588928222656,49.64316940307617,67.74459838867188,-11.297828674316406,16.967220306396484,9.616662979125977,-22.46026039123535,36.974300384521484,-11.136458396911621,-53.62753677368164,-7.4703545570373535,11.402348518371582,-32.672428131103516,2.7897441387176514,-32.33600616455078,57.812618255615234,-11.149043083190918,2.9088544845581055,-26.054431915283203,44.88688659667969,2.2582905292510986,-3.0639071464538574,7.375027179718018,1.9414281845092773,26.74237632751465,-0.046139366924762726,65.59126281738281,-6.603957176208496,70.69573974609375,26.966312408447266,1.7106051445007324,27.839948654174805,30.026897430419922,55.39746856689453,-0.5760711431503296,-27.537681579589844,7.26785945892334,-45.25533676147461,71.72661590576172,-25.75771713256836,-4.785817623138428,-20.32015609741211,-60.69608688354492,5.988595008850098,-22.127901077270508,6.814499855041504,-0.9419899582862854,-8.867189407348633,-9.915104866027832,-50.91569137573242,-16.376869201660156,-60.35407638549805,7.4546403884887695,4.85853910446167,-1.8047850131988525,4.061508655548096,6.795361042022705,7.084859848022461,6.7183356285095215,34.232784271240234,-21.47617530822754,15.849616050720215,-12.755599975585938,-27.961591720581055,2.794034242630005,1.1813766956329346,-5.73459005355835,-21.841739654541016,-46.265560150146484,-35.21455001831055,-19.909221649169922,-11.99998950958252,3.970517635345459,-27.269947052001953,-31.192237854003906,-0.8455591201782227,-8.212482452392578,43.54244613647461,-0.3927997052669525,9.878037452697754,43.61719512939453,51.39369583129883,22.225244522094727,-52.66500473022461,-7.123929500579834,-27.01297950744629,-25.534255981445312,52.76921081542969,-51.08528518676758,11.465962409973145,51.96990966796875,11.677582740783691,-47.95883560180664,-11.139961242675781,42.73873519897461,38.28418731689453,-4.82004976272583,3.5955429077148438,-25.677066802978516,-47.77650833129883,-42.131656646728516,7.753488063812256,7.029946804046631,27.74300765991211,39.83303451538086,-38.519718170166016,8.145088195800781,-6.361833572387695,35.62800979614258,62.418582916259766,59.23381042480469,0.4818418323993683,45.26377487182617,-14.804434776306152,6.190362930297852,52.88709259033203,-23.880332946777344,25.588363647460938,-11.280956268310547,-51.53279495239258,-13.208707809448242,5.863901615142822,15.650508880615234,3.0078184604644775,-7.761490345001221,-35.35027313232422,58.79758071899414,10.797210693359375,-55.16845703125,27.634071350097656,21.244367599487305,-41.552223205566406,59.79725646972656,-43.18217468261719,-2.0728847980499268,7.66590690612793,2.718427896499634,54.06923294067383,-5.695859909057617,28.956192016601562,43.95708084106445,50.17818069458008,-42.42023849487305,19.9581356048584,38.19336700439453,65.48309326171875,30.11252212524414,-28.9228572845459,-20.98138427734375,-22.481420516967773,2.3020761013031006,3.929349184036255,-15.048333168029785,-27.73583984375,5.720625400543213,-20.356355667114258,-59.55918502807617,61.097042083740234,-22.1355037689209,45.948726654052734,49.07897186279297,-11.038095474243164,-26.437341690063477,21.466123580932617,2.5017192363739014,-40.7602653503418,1.290670394897461,-52.310935974121094,24.61346435546875,59.59452438354492,-32.58194351196289,38.631813049316406,-5.1392621994018555,35.43745040893555,-0.9652439951896667,49.51674270629883,29.825515747070312,3.104761838912964,67.70513916015625,-27.367469787597656,-28.908655166625977,-50.286293029785156,8.235006332397461,-41.474029541015625,-3.1388087272644043,-4.714513778686523,3.5810933113098145,5.099404811859131,6.629387855529785,31.654081344604492,-1.2691891193389893,-27.921119689941406,4.39384651184082,41.55956268310547,16.010087966918945,-9.924787521362305,50.61676788330078,-23.080093383789062,-8.741311073303223,-52.608978271484375,-41.30082702636719,-11.995713233947754,0.675889790058136,27.607177734375,18.362564086914062,4.69434118270874,7.954531192779541,-44.14999008178711,7.575417995452881,37.30520248413086,25.326332092285156,46.923030853271484,-16.125120162963867,27.588510513305664,6.864822864532471,-6.671151161193848,23.389820098876953,-41.01919174194336,-47.854827880859375,-18.111040115356445,19.16994285583496,-47.68199157714844,-35.243656158447266,-2.5539968013763428,-12.043268203735352,18.466604232788086,-10.018098831176758,-14.349687576293945,-7.529297828674316,-37.994232177734375,18.2105770111084,1.1708112955093384,17.454517364501953,12.097707748413086,16.462438583374023,-2.9610300064086914,-12.7627592086792,-11.724152565002441,42.26980972290039,-44.084171295166016,-48.06930923461914,-21.522188186645508,7.449230670928955,17.487783432006836,52.44365310668945,-42.320560455322266,-23.77747917175293,-6.272228240966797,-42.20479965209961,15.523686408996582,-11.889217376708984,19.06946563720703,11.13663387298584,-7.9285783767700195,-6.371976852416992,36.5799560546875,15.47451400756836,-44.784481048583984,-12.185600280761719,-54.46529769897461,-5.841796398162842,-35.1346435546875,8.694914817810059,-21.637998580932617,-53.9048957824707,37.10449981689453,41.110904693603516,67.63890838623047,-60.032649993896484,34.830116271972656,11.724041938781738,6.863022804260254,-4.8699140548706055,-40.45684814453125,-13.683294296264648,8.449983596801758,-12.212507247924805,-2.5655269622802734,-23.767982482910156,-11.18420124053955,-40.67717742919922,8.615818977355957,27.61948585510254,-43.15567398071289,-4.939111709594727,40.06006622314453,54.82443618774414,14.876832008361816,19.07341766357422,4.662908554077148,16.84065055847168,-3.9309825897216797,34.11398696899414,-35.6740837097168,53.45463562011719,-18.965959548950195,9.2943696975708,-50.874717712402344,-2.327314853668213,-55.160640716552734,10.685165405273438,-1.810263752937317,8.77975082397461,-44.063751220703125,-32.40052795410156,-20.835289001464844,-4.825944423675537,34.00212478637695,-2.7686922550201416,30.991058349609375,7.38526725769043,20.7066593170166,-8.941743850708008,-16.05599021911621,0.3349839448928833,-4.615533828735352,67.0229721069336,52.62045669555664,-42.26144790649414,-23.888174057006836,5.064031600952148,49.91546630859375,5.485471248626709,17.608234405517578,-7.157845973968506,4.711164951324463,-4.899409770965576,-47.094879150390625,57.49015808105469,-9.361854553222656,-3.3604469299316406,35.35914993286133,19.939895629882812,20.154733657836914,-27.319393157958984,30.8234806060791,-40.73967742919922,-24.239511489868164,-27.417198181152344,-6.347813129425049,-9.759637832641602,70.7705307006836,15.911835670471191,-15.927674293518066,23.460081100463867,-23.90694808959961,13.103409767150879,-45.11229705810547,-23.953380584716797,-4.899085521697998,3.024202585220337,-40.63254928588867,8.074114799499512,-21.484710693359375,-46.51142501831055,21.91959571838379,-0.33799922466278076,-43.44729995727539,-28.694934844970703,-43.52341842651367,-18.74587631225586,-13.418305397033691,-27.716285705566406,-44.55818176269531,20.12504768371582,24.899858474731445,26.090517044067383,8.26062297821045,-3.908919334411621,-30.03215980529785,-24.773595809936523,28.068500518798828,-4.410740852355957,-39.53176498413086,-44.659664154052734,50.688968658447266,28.000160217285156,-2.5084123611450195,21.196611404418945,-27.294836044311523,-5.512153148651123,-10.570938110351562,34.21923065185547,-54.98953628540039,-28.23984718322754,-10.584378242492676,-35.86827087402344,-22.143905639648438,-56.8998908996582,-2.547736167907715,-17.87640953063965,39.81263732910156,7.417303085327148,3.849094867706299,8.2485990524292,-31.309314727783203,-1.5611850023269653,-56.7032470703125,-22.37502670288086,45.83506393432617,20.99432945251465,-3.139052391052246,-22.292522430419922,3.068459987640381,-5.504454612731934,32.73176574707031,36.55031204223633,16.178613662719727,-33.91341018676758,47.596282958984375,10.554295539855957,66.78430938720703,-51.0974006652832,-39.387081146240234,-28.036962509155273,-1.5153684616088867,-6.329615592956543,0.7907150983810425,-14.883187294006348,22.999103546142578,-15.752382278442383,-33.585086822509766,2.6979966163635254,-32.6819953918457,-10.907618522644043,-15.0837984085083,-49.40850067138672,-15.423483848571777,21.594770431518555,-6.447874069213867,-60.812843322753906,-43.48622131347656,72.925537109375,68.45431518554688,33.84071350097656,21.008649826049805,39.759849548339844,52.73143005371094,-39.953651428222656,60.635353088378906,66.64032745361328,-7.03821325302124,45.26853561401367,-42.12038040161133,43.69365692138672,-57.487335205078125,-1.9282840490341187,18.325212478637695,-23.639501571655273,54.41391372680664,26.782827377319336,11.233907699584961,7.665858268737793,-10.302417755126953,-2.366525650024414,-25.610673904418945,-9.067096710205078,-3.125349521636963,22.029794692993164,11.899057388305664,-25.024154663085938,9.144676208496094,8.742801666259766,-54.26428985595703,-1.8676855564117432,55.755714416503906,35.913631439208984,45.27396774291992,28.032316207885742,8.558649063110352,45.927616119384766,25.19741439819336,9.452765464782715,-37.128299713134766,1.7803335189819336,-23.878211975097656,9.005348205566406,4.743193626403809,17.69380760192871,49.37874221801758,3.683687448501587,-31.321414947509766,32.69768524169922,45.74875259399414,-57.92789840698242,7.378053665161133,-10.945783615112305,19.322616577148438,-24.573139190673828,-8.071730613708496,-22.82257080078125,44.627349853515625,-22.24961280822754,5.993313312530518,-6.598028182983398,-25.876911163330078,-7.046432018280029,11.634212493896484,-2.733022451400757,-31.07622718811035,-11.00704574584961,-56.311973571777344,-14.247847557067871,-13.360088348388672,-46.721214294433594,-15.248393058776855,-50.178680419921875,16.442073822021484,24.44784927368164,23.71430015563965,38.21782302856445,25.27339744567871,20.88758659362793,-12.894935607910156,-4.061089038848877,-3.9527840614318848,-57.50514602661133,-30.347354888916016,21.32874870300293,-25.94633674621582,50.01477813720703,5.3229217529296875,-27.410966873168945,-22.558197021484375,27.4686279296875,4.878041744232178,-48.105010986328125,-15.736586570739746,-48.64992141723633,73.44171142578125,56.18845748901367,3.697211980819702,-11.445992469787598,-2.6803836822509766,-24.00054168701172,19.134170532226562,2.404298782348633,-60.73727798461914,47.92945098876953,65.70884704589844,37.781803131103516,38.010929107666016,-6.126974105834961,-28.853723526000977,56.4769287109375,20.4643497467041,54.85324478149414,68.1783676147461,28.75909423828125,-13.068134307861328,68.31037902832031,-23.834251403808594,-60.09516143798828,-22.284292221069336,56.91162872314453,52.892147064208984,61.12038803100586,40.381919860839844,65.20159912109375,29.762489318847656,-17.930557250976562,51.685752868652344,-0.9650454521179199,38.661582946777344,-11.829002380371094,45.58159637451172,-49.63787841796875,49.758766174316406,-3.844275712966919,-53.866172790527344,-42.5693473815918,-5.16011381149292,-26.38562774658203,-3.1093759536743164,-9.552847862243652,58.24299240112305,48.34611892700195,-19.896244049072266,20.48090362548828,32.78899002075195,1.8971917629241943,17.60809326171875,-24.72683334350586,-42.72607421875,-12.958700180053711,14.45038890838623,-3.356215238571167,51.09733963012695,8.134509086608887,-6.427271366119385,3.512112855911255,34.26955795288086,29.239126205444336,14.99406909942627,-6.674458980560303,-33.73040008544922,17.800928115844727,70.3546371459961,-23.763357162475586,23.66489601135254,72.13199615478516,-51.467403411865234,24.27806854248047,-26.0267333984375,-3.4428303241729736,38.59665298461914,31.6196231842041,60.175758361816406,43.82487106323242,25.78388786315918,46.154197692871094,52.91205978393555,-14.10710620880127,-32.9781608581543,-23.61920166015625,-18.25797462463379,-7.181625843048096,-1.5090969800949097,-30.931827545166016,16.793991088867188,25.165796279907227,-23.178926467895508,-5.483405590057373,-46.78435516357422,17.15175437927246,-23.92576026916504,47.37907028198242,-3.1917612552642822,2.807875633239746,8.752642631530762,5.510420322418213,29.376352310180664,-59.35861587524414,-27.301143646240234,0.04353000968694687,2.450995445251465,13.19876766204834,-0.5850580334663391,-18.758792877197266,39.622779846191406,-26.468460083007812,21.91649627685547,36.987281799316406,-36.68555450439453,-32.08004379272461,-30.149986267089844,-32.2050666809082,-5.27902364730835,-6.110078811645508,11.000457763671875,-25.756671905517578,-59.21714782714844,60.018184661865234,12.334333419799805,4.98431396484375,-4.584234714508057,-16.46051788330078,-1.8365535736083984,-2.4581141471862793,-15.060096740722656,10.268115043640137,8.167204856872559,-44.376861572265625,-26.964494705200195,16.27147674560547,17.883331298828125,21.664052963256836,-17.067548751831055,-27.30215835571289,-40.71111297607422,61.44544219970703,-37.23866271972656,8.867714881896973,-55.4900016784668,34.75190734863281,23.303035736083984,6.416034698486328,-15.88491439819336,63.7551383972168,-12.789047241210938,10.131596565246582,-31.063161849975586,8.858556747436523,-62.803466796875,15.540474891662598,5.071593761444092,-3.6075782775878906,-1.359730839729309,0.64827561378479,57.650264739990234,-6.416435241699219,3.182783603668213,3.1489293575286865,-29.3457088470459,34.658905029296875,-9.924675941467285,6.271058082580566,-0.5193482041358948,-23.183155059814453,38.028526306152344,-5.176205635070801,-27.582353591918945,-3.3097281455993652,-57.93275833129883,43.745887756347656,-56.971275329589844,2.580286741256714,42.13373565673828,4.350927352905273,-6.094239711761475,50.752052307128906,22.341617584228516,-2.343473196029663,8.630878448486328,-40.65172576904297,29.067058563232422,-11.056100845336914,3.5766422748565674,-39.0205078125,-16.338329315185547,-39.63718795776367,49.99544143676758,31.43925666809082,20.561519622802734,10.893166542053223,45.790504455566406,29.574235916137695,43.68515396118164,37.47522735595703,-50.21504592895508,29.087387084960938,36.846458435058594,-25.08449935913086,-7.989376544952393,-25.679645538330078,-8.176483154296875,7.522017478942871,-29.045169830322266,-15.515273094177246,25.155874252319336,-2.3412399291992188,-6.9594035148620605,-40.99406814575195,-57.60287094116211,-6.966522693634033,26.116085052490234,52.87733840942383,8.96029281616211,47.84181213378906,18.560956954956055,-41.42962646484375,-38.15896224975586,34.55427932739258,-14.589730262756348,-25.870201110839844,20.874032974243164,-2.044778347015381,-58.49617385864258,-20.859573364257812,24.7525577545166,5.263699054718018,7.418202877044678,-4.154368877410889,-14.63106632232666,26.891170501708984,-52.41152572631836,-41.258811950683594,-62.20805740356445,-12.320181846618652,1.176931381225586,-41.2064094543457,-54.93141555786133,64.4532241821289,32.98949432373047,67.05659484863281,-22.43074607849121,-7.42539644241333,-44.75011444091797,21.94900894165039,20.4909725189209,-10.217408180236816,28.808088302612305,-19.138914108276367,32.805015563964844,13.495769500732422,4.087527751922607,-7.050408840179443,-10.566953659057617,-14.361714363098145,14.689817428588867,-33.509857177734375,-41.67867660522461,-61.80945587158203,8.1145601272583,45.913299560546875,56.297523498535156,-4.550158977508545,-2.654463529586792,33.014068603515625,14.157026290893555,30.447509765625,42.67041778564453,-2.395987033843994,-57.27524185180664,-13.201370239257812,-45.22610855102539,45.834571838378906,-6.8305253982543945,54.35906982421875,-17.535829544067383,0.4242175817489624,2.8494200706481934,27.47429084777832,52.77720260620117,-27.363990783691406,42.04737091064453,-26.27597427368164,-59.880897521972656,33.91327667236328,32.182254791259766,-53.485633850097656,0.946786105632782,30.46246337890625,40.14277648925781,43.63103103637695,-5.29515266418457,68.228271484375,-12.473583221435547,7.492885589599609,-5.124221324920654,66.19456481933594,15.889165878295898,-46.983131408691406,-41.87575149536133,33.652164459228516,5.352219581604004,-5.693111419677734,2.8138811588287354,-52.964237213134766,1.0870428085327148,3.234860420227051,-41.25083923339844,5.430661201477051,34.219078063964844,-3.985200881958008,-13.743070602416992,-23.04946517944336,-41.639251708984375,-41.186038970947266,-8.288923263549805,-5.500378608703613,-11.802858352661133,-15.979369163513184,-8.378164291381836,-11.030190467834473,-7.359025478363037,33.497596740722656,-46.517433166503906,8.168907165527344,-35.98487854003906,-9.67117691040039,-59.179927825927734,15.113601684570312,-4.544333457946777,22.608009338378906,34.8975944519043,42.352359771728516,25.612485885620117,28.300891876220703,-15.19002914428711,1.4764739274978638,16.466886520385742,26.74979591369629,-53.75627899169922,50.40659713745117,-11.119040489196777,-42.11329650878906,-6.234016418457031,-39.53575897216797,0.788375735282898,-23.013654708862305,-10.214295387268066,66.06859588623047,-57.43339920043945,10.314844131469727,47.07124328613281,-6.4151225090026855,-40.931175231933594,-36.956539154052734,3.226954221725464,-5.030769348144531,29.277803421020508,-15.83205509185791,-42.18157196044922,-5.43247652053833,7.099019527435303,23.099933624267578,18.901575088500977,24.023469924926758,-14.06982135772705,-47.30133056640625,-48.751319885253906,33.77656555175781,-13.382763862609863,18.728164672851562,66.27389526367188,-54.4868278503418,26.239715576171875,-50.24087905883789,-7.974404335021973,-42.05029296875,11.111352920532227,-51.7988166809082,20.779296875,-18.688581466674805,-39.82971954345703,7.09665584564209,5.554999351501465,-2.3277289867401123,-9.16910171508789,-5.326391220092773,-23.690105438232422,-2.1447036266326904,51.38227462768555,-36.496517181396484,56.081146240234375,-47.17800521850586,-62.80934524536133,-31.526391983032227,46.184814453125,-34.285526275634766,23.99632453918457,-46.920997619628906,2.4204258918762207,10.784107208251953,-41.39420700073242,-52.11289596557617,9.306349754333496,46.45768356323242,34.10075378417969,-14.819014549255371,57.428680419921875,28.25609588623047,6.858044624328613,13.122961044311523,15.703046798706055,68.54561614990234,32.18870162963867,-44.61972427368164,34.34532928466797,7.021487712860107,69.66216278076172,36.75831985473633,10.33230209350586,13.205924987792969,-41.12417221069336,-41.01045608520508,32.354976654052734,-14.634830474853516,-6.99860954284668,-15.049775123596191,-51.720455169677734,21.67219352722168,37.1611213684082,-27.025131225585938,-43.61653137207031,33.34618377685547,-38.998512268066406,-13.399308204650879,29.80198860168457,7.906093120574951,9.295685768127441,-11.373767852783203,-41.80095672607422,-4.7703704833984375,14.445307731628418,-12.80481243133545,-59.00018310546875,-53.172508239746094,41.301658630371094,-22.316905975341797,19.03255844116211,-6.9707818031311035,-29.256092071533203,-13.575547218322754,66.54805755615234,6.8930158615112305,32.41883087158203,47.1973762512207,-15.344073295593262,47.06700134277344,-0.9363535046577454,-4.476293087005615,30.884008407592773,-27.072851181030273,-11.665495872497559,-26.32609748840332,-53.63033676147461,-12.073868751525879,-19.8507080078125,46.52992248535156,-11.441553115844727,22.151384353637695,-0.5218191146850586,35.60927200317383,48.993587493896484,-2.827850103378296,-38.78620529174805,1.183840036392212,-1.0167709589004517,45.15435028076172,8.413814544677734,46.56065368652344,36.98795700073242,54.816593170166016,15.417208671569824,-9.669201850891113,16.031291961669922,1.8256633281707764,-3.1757218837738037,-22.768938064575195,-20.095985412597656,-22.037662506103516,23.070405960083008,-43.502628326416016,28.31195640563965,0.9215959906578064,67.46086883544922,6.18170690536499,40.65185546875,45.74967575073242,-2.5670695304870605,50.08976364135742,24.811302185058594,2.6028223037719727,25.12504005432129,35.798980712890625,33.789432525634766,11.308103561401367,20.551115036010742,-42.120018005371094,8.124372482299805,-20.059297561645508,31.948944091796875,-11.991830825805664,-4.3074493408203125,3.3453643321990967,38.74378967285156,-20.370807647705078,60.16295623779297,37.30427169799805,-7.735875129699707,46.973793029785156,-51.36478042602539,-22.656034469604492,59.47067642211914,15.224615097045898,-2.6369593143463135,-43.90976333618164,-8.70787239074707,71.71495819091797,21.510339736938477,-13.902715682983398,7.177410125732422,-11.022869110107422,-52.382972717285156,-45.592018127441406,8.509912490844727,34.57600784301758,70.81501770019531,-39.65938186645508,-54.299007415771484,-16.20340919494629,-43.05545425415039,-6.719091892242432,-34.185821533203125,-57.753902435302734,-19.175142288208008,-57.57748794555664,57.84033203125,-54.285682678222656,38.88280487060547,63.642578125,-27.601369857788086,-38.59944534301758,35.590389251708984,37.750083923339844,60.15653610229492,1.3991291522979736,29.65394401550293,51.70158386230469,-61.443973541259766,6.509432792663574,45.654991149902344,3.887830972671509,35.79756164550781,2.8775250911712646,-3.115572690963745,-40.70647430419922,2.8369131088256836,68.8415756225586,-5.280157566070557,-6.358222007751465,51.866329193115234,8.866498947143555,-27.270618438720703,30.129690170288086,-50.173316955566406,4.427038669586182,-8.101669311523438,-61.65082550048828,-6.707880020141602,39.38154602050781,-22.305864334106445,-17.176725387573242,52.489803314208984,-5.679040908813477,-41.51456832885742,11.727337837219238,-9.584424018859863,48.728153228759766,16.042003631591797,45.290313720703125,-35.45526123046875,-22.657800674438477,36.88254165649414,-5.424593925476074,21.691320419311523,46.2481575012207,-1.9628125429153442,-42.71356964111328,-23.862234115600586,-7.390776634216309,-43.5657958984375,31.6448917388916,-30.474018096923828,15.254729270935059,-21.143396377563477,-57.93062973022461,-23.531070709228516,-31.60565948486328,-31.787168502807617,-13.249977111816406,-3.0330846309661865,-15.571343421936035,6.166383743286133,18.667024612426758,-28.93266487121582,8.459813117980957,-41.548194885253906,9.437275886535645,-20.605125427246094,18.871553421020508,-37.60637664794922,37.964317321777344,-33.42776870727539,54.73325729370117,-39.53151321411133,73.39469146728516,4.021622180938721,-14.493330955505371,-0.7891164422035217,-0.15047317743301392,17.41022491455078,5.827872276306152,64.90416717529297,-5.563963413238525,-52.7188720703125,-4.848339080810547,54.68889236450195,-26.217161178588867,51.07581329345703,-5.157425880432129,8.379547119140625,-50.285400390625,3.536742925643921,20.869943618774414,-23.397096633911133,14.49925708770752,-43.47844696044922,-15.376530647277832,-61.892147064208984,6.1246771812438965,8.57932186126709,-60.451568603515625,23.108919143676758,5.09451961517334,32.581668853759766,26.606435775756836,-4.285825729370117,-4.95719051361084,18.68451499938965,-7.159130573272705,-2.984830617904663,-44.04917907714844,28.170000076293945,46.380409240722656,-33.68105697631836,-50.17970275878906,-7.3141350746154785,-20.671592712402344,17.260190963745117,-57.789588928222656,38.216407775878906,-1.9158302545547485,68.2715072631836,-12.994868278503418,-27.69451904296875,-54.148712158203125,-3.103807210922241,66.73497009277344,-2.550854444503784,-60.46714782714844,2.7074625492095947,-35.77382278442383,-31.360517501831055,-23.850677490234375,20.392892837524414,27.15534782409668,42.907752990722656,-12.860958099365234,40.59613037109375,-8.525235176086426,61.09025573730469,7.2696428298950195,16.789215087890625,-39.374507904052734,16.510204315185547,-8.84106731414795,-23.085208892822266,21.741769790649414,-48.036163330078125,-12.657780647277832,20.90519142150879,-7.545651435852051,10.802043914794922,-13.02503776550293,39.589534759521484,60.30653381347656,-10.440919876098633,-7.2874040603637695,-37.30329513549805,42.713932037353516,-4.20540189743042,-45.15467071533203,39.52853775024414,28.680561065673828,3.588348150253296,-42.09939956665039,13.511624336242676,-3.2439815998077393,32.81980514526367,4.294259071350098,9.825757026672363,-4.187658309936523,-21.876733779907227,-10.4718017578125,24.38600730895996,-13.32900619506836,33.54270553588867,-5.244832992553711,31.48580551147461,-3.1388070583343506,60.28522491455078,-1.004656434059143,8.85047435760498,-44.08119201660156,-29.840627670288086,-3.349306106567383,-42.347103118896484,7.690019130706787,-11.995124816894531,-15.78354549407959,-24.05258560180664,38.868465423583984,-11.687864303588867,-40.656375885009766,-28.208559036254883,16.708993911743164,-8.91325569152832,9.796399116516113,25.622196197509766,27.073448181152344,18.345626831054688,70.09717559814453,26.21236801147461,70.21099090576172,-33.789833068847656,-5.394924163818359,-0.5548109412193298,-20.133214950561523,34.74674606323242,4.093202590942383,40.460811614990234,-11.837949752807617,-39.09748840332031,5.782050132751465,-12.08530330657959,43.65668487548828,4.867147922515869,-1.5773792266845703,-28.4617862701416,22.847314834594727,56.763885498046875,-23.31377601623535,65.642333984375,1.992965579032898,-35.983009338378906,-13.927606582641602,47.98887252807617,38.45119094848633,-22.51629066467285,-12.348357200622559,-41.23112869262695,3.923734426498413,-5.673589706420898,-47.35580062866211,53.55933380126953,-39.56114196777344,-27.750232696533203,15.790534973144531,-5.957016468048096,10.141758918762207,21.716718673706055,36.33015441894531,-7.146675109863281,-44.84293746948242,14.059935569763184,-28.97000503540039,-5.270643711090088,-20.907018661499023,-3.3641035556793213,18.29907989501953,56.18687057495117,23.537803649902344,1.270039677619934,36.11132049560547,-55.959510803222656,17.6573543548584,-23.773637771606445,-11.603099822998047,-49.18299865722656,-60.76814270019531,-39.25941467285156,6.886632442474365,52.2565803527832,-41.90263366699219,5.340372562408447,48.60502624511719,-9.321038246154785,6.900481700897217,31.8184757232666,-50.945552825927734,-12.72757625579834,40.072391510009766,-55.25397872924805,16.39385223388672,-26.368112564086914,38.692169189453125,43.20058822631836,-2.662492275238037,-2.1356239318847656,-10.259565353393555,32.28188705444336,36.0875129699707,-5.033999443054199,-9.691780090332031,15.10256290435791,-44.21075439453125,-62.33639907836914,-11.981680870056152,19.262601852416992,-5.04791784286499,3.722785234451294,-39.51164627075195,9.508733749389648,-2.6514811515808105,45.68821334838867,-52.58967590332031,55.382720947265625,12.364846229553223,61.192440032958984,-2.194262742996216,45.211917877197266,-39.250789642333984,40.04207992553711,-35.299495697021484,52.04934310913086,-9.65184211730957,-2.8905680179595947,3.540781259536743,-1.9743965864181519,-3.186511278152466,33.879703521728516,-2.3554482460021973,-11.966612815856934,45.85271453857422,19.567630767822266,-21.591169357299805,-9.205413818359375,-37.51652908325195,-20.056804656982422,19.934717178344727,-33.4085693359375,19.23287010192871,2.64205002784729,-24.90781021118164,33.68658447265625,-57.84373474121094,74.08642578125,-42.119956970214844,-27.750736236572266,-36.691715240478516,-15.3687162399292,38.65793228149414,-11.203139305114746,73.23711395263672,37.6185188293457,36.451194763183594,39.2491340637207,3.719486713409424,20.10506820678711,23.18566131591797,63.47932434082031,47.93872833251953,54.55961990356445,5.33705472946167,36.61552429199219,-3.9489128589630127,69.33433532714844,12.529175758361816,40.995479583740234,7.751123905181885,6.872429370880127,7.308270454406738,38.05511474609375,16.731121063232422,54.47456359863281,10.178484916687012,21.601573944091797,-4.727333068847656,-22.9552001953125,17.199159622192383,-21.85858726501465,66.30252838134766,31.201814651489258,53.220611572265625,24.40415382385254,-5.7557597160339355,16.21359634399414,-14.333786964416504,-46.84059143066406,-60.782379150390625,-3.9398741722106934,43.62447738647461,-16.09433937072754,54.21616744995117,-12.548711776733398,0.46247586607933044,21.207881927490234,52.989261627197266,-62.8365364074707,-21.933364868164062,-39.97407531738281,-52.96603012084961,71.40371704101562,-2.5062947273254395,-58.587799072265625,-44.416751861572266,-9.841994285583496,20.856117248535156,-10.99362564086914,3.4777984619140625,-56.8126106262207,33.14360809326172,31.803951263427734,30.364856719970703,-21.158037185668945,-22.038969039916992,35.289344787597656,-38.99414825439453,30.11301040649414,-23.827543258666992,5.560422897338867,-40.95623016357422,11.508673667907715,71.75959014892578,47.9537239074707,2.17698073387146,3.5675106048583984,-56.93751525878906,62.21549606323242,-10.354342460632324,-2.6594810485839844,-47.33042907714844,-15.734853744506836,66.6884765625,-18.866348266601562,2.5731582641601562,19.401611328125,67.46903991699219,-26.016836166381836,-1.9024611711502075,-2.4368185997009277,-3.5089902877807617,-61.502079010009766,0.5582118034362793,-3.9321987628936768,18.363576889038086,-18.302589416503906,37.97585678100586,-2.930537223815918,-26.329561233520508,6.175304889678955,-5.322683811187744,46.74580764770508,5.599133491516113,-0.20040574669837952,17.8829288482666,35.23423767089844,-47.214298248291016,5.420529365539551,-32.939552307128906,21.373998641967773,10.402342796325684,3.8639323711395264,34.54630661010742,9.509925842285156,-59.36723327636719,29.977506637573242,44.16783142089844,20.733556747436523,35.82700729370117,-2.1408920288085938,26.699602127075195,3.880581855773926,7.779956340789795,2.4644615650177,20.630237579345703,-43.46575164794922,-21.835308074951172,-58.54524612426758,-43.41181564331055,1.884075403213501,-57.48623275756836,22.855497360229492,-39.913246154785156,-51.40669631958008,-15.03989028930664,17.281295776367188,18.062192916870117,8.4605073928833,49.86399841308594,34.3540153503418,-62.73646926879883,32.410888671875,48.546958923339844,-57.62107467651367,17.00464630126953,5.586284160614014,-11.409375190734863,15.711660385131836,-40.513221740722656,-6.535419940948486,-3.097710609436035,-23.78053092956543,-60.63727569580078,-28.922029495239258,-2.349276304244995,0.5470222234725952,-32.21370315551758,38.613739013671875,-16.108213424682617,-3.8024206161499023,65.79998016357422,14.723004341125488,23.28669548034668,9.055441856384277,50.67177963256836,-2.129094123840332,28.84645652770996,-23.43980598449707,37.88914489746094,-5.300894737243652,-4.051419734954834,17.84777069091797,55.6314811706543,6.666858673095703,-40.640899658203125,-6.815643787384033,6.889585018157959,27.29109764099121,54.15695571899414,-57.065181732177734,-38.40802764892578,-46.4506721496582,51.25481033325195,-0.6007322072982788,5.023301601409912,-1.203885793685913,-19.58539390563965,39.54140853881836,-5.166694641113281,-62.520992279052734,41.28491973876953,74.59709930419922,-61.84024429321289,2.3813414573669434,-58.55781936645508,-19.16234588623047,1.4797393083572388,-28.069480895996094,-49.55575942993164,-5.448610305786133,18.501296997070312,11.3882417678833,-0.07113032788038254,10.102227210998535,17.690406799316406,-44.43043899536133,-43.25931167602539,-17.042768478393555,-55.06348419189453,-21.667869567871094,-41.532196044921875,-25.78451919555664,24.92186737060547,-7.01990270614624,-62.68400573730469,-42.82514190673828,7.442989349365234,45.908958435058594,52.425880432128906,-13.025433540344238,17.16714859008789,12.627375602722168,-13.030734062194824,-5.989812850952148,-10.702547073364258,17.645288467407227,-56.967376708984375,7.901464939117432,18.56114387512207,-5.735812664031982,-36.426204681396484,-27.885772705078125,63.86823272705078,46.304840087890625,6.373919486999512,56.7994499206543,-38.898651123046875,-41.545501708984375,2.8429503440856934,-14.054610252380371,29.95574951171875,-15.70300006866455,44.1361083984375,-47.60735321044922,3.048186779022217,-28.302431106567383,5.158570289611816,-28.90296173095703,-22.003524780273438,-42.082725524902344,-7.487280368804932,13.452042579650879,6.444950103759766,-9.110301971435547,-27.804229736328125,2.975144863128662,3.2093091011047363,36.402992248535156,-62.782020568847656,-39.65442657470703,-59.25762176513672,15.843487739562988,3.898374557495117,-43.98726272583008,14.52617359161377,-42.93828582763672,-28.979900360107422,54.71207046508789,39.98979568481445,9.476346015930176,56.910552978515625,66.87409973144531,30.09259605407715,-40.7933349609375,50.28861999511719,3.1676206588745117,36.65150833129883,-62.715511322021484,13.470149993896484,-44.93141174316406,-3.737577199935913,7.154973983764648,13.646453857421875,-32.21731948852539,-17.864696502685547,30.20069694519043,-39.578094482421875,11.23995590209961,5.038295745849609,-12.932004928588867,-15.151239395141602,-52.193603515625,-50.884403228759766,6.479925632476807,3.27246356010437,-21.10234260559082,37.08488082885742,57.84763717651367,9.617900848388672,-40.77422332763672,-50.27809524536133,-10.153141021728516,-19.769210815429688,17.875688552856445,-44.65409469604492,-20.56874656677246,7.640376091003418,-48.245235443115234,-14.777201652526855,46.7588005065918,-9.77350902557373,-17.943313598632812,-46.32203674316406,5.871217250823975,-54.158287048339844,34.27131271362305,-39.307796478271484,-5.490140438079834,0.7369687557220459,45.07868957519531],\"xaxis\":\"x\",\"y\":[14.702152252197266,-42.54133605957031,-33.19404220581055,17.0301570892334,-52.42229461669922,-47.58832931518555,-65.51950073242188,23.164493560791016,-42.72110366821289,-72.34286499023438,30.164316177368164,11.825700759887695,-8.846029281616211,13.536567687988281,76.89887237548828,50.80512619018555,50.446224212646484,0.1681559979915619,28.224584579467773,-0.5501099228858948,27.983787536621094,-4.927713394165039,-47.631011962890625,-12.11546516418457,21.734004974365234,-15.890495300292969,-14.72568416595459,47.27586364746094,-58.850032806396484,-45.49180221557617,-58.45973205566406,-2.5686233043670654,-2.7437400817871094,6.627801418304443,33.827945709228516,-42.76778793334961,-13.403912544250488,44.61651611328125,-4.741154670715332,-58.9200553894043,-7.507636070251465,3.663963556289673,47.26436233520508,-5.787381649017334,-22.81610107421875,-11.259085655212402,-2.6151599884033203,-64.85506439208984,-16.758468627929688,-68.9380111694336,-16.886438369750977,-22.321813583374023,45.67243194580078,11.8790922164917,-0.6472293138504028,-47.37793731689453,-22.760042190551758,12.588472366333008,-26.896652221679688,16.486385345458984,-38.42123794555664,43.55509948730469,-48.352664947509766,-19.596139907836914,-13.96353816986084,-26.319347381591797,-62.48136901855469,19.063079833984375,10.538257598876953,30.305747985839844,16.845733642578125,-45.557159423828125,74.57369232177734,-44.13811111450195,-40.084957122802734,-23.374568939208984,-2.901167869567871,17.842296600341797,21.88609504699707,-42.178550720214844,-22.368616104125977,40.411712646484375,-17.755306243896484,47.563438415527344,-45.27133560180664,4.654953956604004,7.128636837005615,50.50547790527344,10.57890796661377,11.088163375854492,-17.803401947021484,-65.0320053100586,-24.936555862426758,-4.538890361785889,-18.734418869018555,-15.041826248168945,4.482398986816406,-11.844194412231445,19.432947158813477,5.864993572235107,-38.868953704833984,72.49549102783203,18.634897232055664,-68.7669448852539,-11.362189292907715,49.78030014038086,48.16840362548828,16.812774658203125,20.556856155395508,4.799242973327637,30.476179122924805,-8.973950386047363,-46.273948669433594,30.545974731445312,21.242897033691406,-44.241390228271484,49.48120880126953,-4.809692859649658,-16.680349349975586,25.329322814941406,-10.403582572937012,18.435373306274414,-0.8078131079673767,4.668580055236816,-1.862091064453125,48.21152114868164,22.377567291259766,-66.65138244628906,-60.445133209228516,21.111604690551758,15.449019432067871,4.753887176513672,-19.712305068969727,-3.3908307552337646,15.01270580291748,-45.21706771850586,-19.992717742919922,47.70835876464844,30.2600154876709,-41.71176528930664,-65.24652862548828,-14.190058708190918,48.249202728271484,47.24831771850586,-29.821491241455078,-2.3337173461914062,-18.05389404296875,28.537372589111328,-39.83566665649414,27.498600006103516,-4.3915839195251465,18.859285354614258,30.674121856689453,-9.18135929107666,3.287475824356079,4.981109619140625,-45.86568069458008,2.531848430633545,-11.448151588439941,-1.864047646522522,3.7771055698394775,-16.977773666381836,28.120161056518555,-68.23384857177734,-29.092073440551758,47.62334442138672,-68.46517181396484,23.021984100341797,13.85161018371582,11.819849014282227,-59.306480407714844,20.339345932006836,-17.83189582824707,4.494293212890625,4.10828161239624,-45.26589584350586,4.720225811004639,2.8235647678375244,-21.89225959777832,8.093514442443848,-40.366188049316406,76.89925384521484,-20.22340202331543,49.43046951293945,-0.9382938146591187,-10.85433578491211,11.266861915588379,0.45943453907966614,-15.914843559265137,12.30165958404541,-10.581296920776367,-27.756954193115234,-35.183807373046875,4.797607898712158,-52.7918815612793,-11.581757545471191,-34.31126403808594,-16.03333282470703,28.210750579833984,23.635881423950195,16.61134910583496,-70.61607360839844,-17.588512420654297,21.16009521484375,41.16166687011719,30.804887771606445,-69.81831359863281,19.11760139465332,-22.678138732910156,17.54241371154785,-14.29241943359375,9.925358772277832,14.141205787658691,24.071697235107422,-48.29905319213867,-11.95322036743164,-56.01310348510742,49.77009582519531,-17.901905059814453,-55.34028625488281,10.239998817443848,8.221725463867188,33.21577835083008,-58.03359603881836,9.501497268676758,28.248319625854492,26.400997161865234,46.97053909301758,22.256877899169922,16.136383056640625,26.404733657836914,25.174076080322266,10.842206001281738,33.21815490722656,-23.4892520904541,-26.27084732055664,-17.464879989624023,-14.423412322998047,-6.918271541595459,4.525658130645752,-63.943214416503906,3.2028563022613525,3.7077908515930176,-8.490861892700195,-47.39979934692383,-4.552508354187012,-49.10467529296875,-59.44793701171875,6.70250940322876,28.704689025878906,-0.05118537321686745,12.006393432617188,17.689607620239258,21.31388282775879,7.669836044311523,-21.372098922729492,-23.77583885192871,31.19599723815918,22.01392936706543,20.005434036254883,-18.0244197845459,-16.452123641967773,-46.640628814697266,3.831082344055176,-41.5390510559082,-52.658485412597656,-38.288246154785156,-7.816651344299316,-16.62810516357422,21.906709671020508,6.41709041595459,-48.41802215576172,44.64774703979492,-17.492158889770508,-7.629114151000977,29.245914459228516,37.23716354370117,-22.580289840698242,5.617927551269531,16.731971740722656,41.77376174926758,-59.84764099121094,-2.3492255210876465,24.481609344482422,-64.35282897949219,-6.048566818237305,11.168734550476074,-44.77280044555664,50.67277908325195,-36.21512985229492,-54.539947509765625,6.072136402130127,12.300620079040527,-15.709110260009766,-12.332378387451172,-71.56270599365234,-16.714319229125977,-5.395725250244141,-3.0692648887634277,-60.00654220581055,-28.77418327331543,11.364497184753418,11.321037292480469,-40.35211181640625,9.82724380493164,-47.359378814697266,-17.51146697998047,15.078484535217285,42.301090240478516,-6.832029819488525,8.688389778137207,30.51656150817871,12.267699241638184,-16.725112915039062,8.27900505065918,14.362587928771973,24.690540313720703,-16.6859188079834,20.11168098449707,5.418972015380859,-22.380775451660156,28.569276809692383,16.818187713623047,-2.399632692337036,46.93607711791992,-67.7502670288086,45.55379104614258,-14.024474143981934,-21.60239601135254,-12.826129913330078,1.5443379878997803,15.741395950317383,-44.87973403930664,5.845491409301758,19.287256240844727,-17.494291305541992,51.45325469970703,47.550743103027344,-22.0717716217041,-12.317450523376465,-0.41416606307029724,-27.240530014038086,-15.911588668823242,8.737771034240723,-46.73115921020508,47.414310455322266,-11.270380020141602,-33.20561218261719,17.837072372436523,20.090404510498047,-15.600577354431152,22.303499221801758,-7.508513450622559,-9.665307998657227,-10.577775001525879,-63.997169494628906,-22.000333786010742,-69.05537414550781,6.730903625488281,-69.78459930419922,26.828134536743164,72.41226196289062,-10.010685920715332,11.944352149963379,-59.63380432128906,-53.90083312988281,-39.94356918334961,19.36360740661621,-4.622209072113037,-15.8904447555542,1.171980381011963,-10.84854507446289,10.629173278808594,32.275917053222656,-68.81290435791016,-13.367569923400879,6.816607475280762,19.121990203857422,52.5723991394043,18.546573638916016,10.204760551452637,-10.198563575744629,19.420612335205078,34.280941009521484,12.090910911560059,-69.17802429199219,-19.949851989746094,18.157602310180664,10.971386909484863,24.603036880493164,76.24346160888672,-14.214439392089844,20.643877029418945,-9.789502143859863,70.62093353271484,-45.40595245361328,-9.620003700256348,45.904422760009766,-33.862857818603516,-50.09686279296875,76.01638793945312,11.181410789489746,-13.537520408630371,3.695392370223999,49.58685302734375,30.326635360717773,15.169943809509277,-7.893823623657227,23.11981964111328,0.3548929989337921,-59.84575653076172,-21.87648582458496,-33.32645034790039,-47.51225280761719,39.23136901855469,27.83530616760254,22.576805114746094,0.46155160665512085,-59.239017486572266,22.423931121826172,14.317609786987305,-12.473773002624512,-2.8101682662963867,22.364225387573242,74.22064208984375,25.3807373046875,-16.1711483001709,37.35260009765625,-9.914690017700195,14.246258735656738,11.748077392578125,-1.030664086341858,-67.60478210449219,70.05315399169922,1.9430272579193115,-52.43410110473633,19.59378433227539,6.513473033905029,18.449501037597656,8.16036605834961,-41.954647064208984,9.983077049255371,-37.763648986816406,28.287979125976562,26.66172981262207,45.07711410522461,24.025314331054688,-48.903072357177734,-2.9390687942504883,16.188119888305664,-40.347007751464844,-0.014398329891264439,-2.344294309616089,28.849388122558594,11.088898658752441,29.956884384155273,-38.00104522705078,5.513155937194824,-0.27724602818489075,73.52176666259766,17.884408950805664,-14.204180717468262,-10.134204864501953,-47.0089225769043,-17.390222549438477,-40.31626892089844,-37.8801383972168,-44.66499328613281,-37.254024505615234,48.32332229614258,12.01485824584961,19.229007720947266,-1.0036323070526123,18.22693634033203,14.813009262084961,-23.965417861938477,-17.68761444091797,15.786994934082031,4.836503028869629,-47.18509292602539,11.190916061401367,20.70952606201172,0.8609955906867981,48.631187438964844,47.47938919067383,-43.292423248291016,12.762811660766602,9.343073844909668,0.3189322054386139,-11.637897491455078,18.942981719970703,-19.658998489379883,-39.50106430053711,-22.27183723449707,17.508075714111328,42.55562210083008,-41.364524841308594,17.463956832885742,-17.83482551574707,24.490354537963867,14.697468757629395,-58.37099838256836,-10.008004188537598,8.882502555847168,11.947667121887207,-51.179935455322266,-9.056449890136719,18.850021362304688,-62.131752014160156,70.57208251953125,-58.28128433227539,8.931801795959473,-24.068742752075195,75.06624603271484,1.3808773756027222,10.023890495300293,-45.31266784667969,-68.76228332519531,9.896531105041504,50.911582946777344,9.522794723510742,-16.673620223999023,-3.4615542888641357,15.411006927490234,-34.56016540527344,-59.57209014892578,11.755992889404297,-36.24561309814453,11.8291654586792,12.194412231445312,69.45501708984375,24.406108856201172,-14.99031925201416,73.12154388427734,-14.206792831420898,-14.146317481994629,-37.48332595825195,44.331138610839844,-1.965597152709961,-68.84954833984375,4.124485492706299,-13.127578735351562,50.981666564941406,-1.602334976196289,1.1226783990859985,-17.407333374023438,-45.4190673828125,-7.472293853759766,24.73186492919922,-26.45963478088379,-45.67482376098633,-31.92025375366211,-23.28590202331543,13.556517601013184,29.428436279296875,-36.5896110534668,-11.436609268188477,10.029863357543945,8.069310188293457,48.370269775390625,4.448544025421143,18.984861373901367,-23.28470802307129,-4.675522327423096,-1.595940351486206,-67.3646240234375,-3.3448750972747803,20.32064437866211,25.65912437438965,18.391050338745117,-59.266597747802734,-59.46083450317383,-68.04035186767578,8.357756614685059,20.956676483154297,-68.43035888671875,24.435474395751953,10.118294715881348,16.95237922668457,-37.685176849365234,8.896350860595703,48.18827819824219,41.109779357910156,-62.54173278808594,-4.717657566070557,49.52093505859375,17.740428924560547,45.60111999511719,8.760825157165527,-55.1844367980957,-60.04255294799805,-0.07236364483833313,41.76217269897461,-42.52633285522461,24.97332191467285,6.582827091217041,24.781028747558594,15.939359664916992,75.35485076904297,-22.25235366821289,8.587756156921387,23.969253540039062,15.045489311218262,8.799126625061035,21.388092041015625,-19.072235107421875,0.613395094871521,-68.41191101074219,45.73146057128906,47.34105682373047,26.95627212524414,27.26665687561035,15.31179141998291,11.454620361328125,-69.14537811279297,-20.402666091918945,10.144947052001953,16.152923583984375,29.400400161743164,-67.12953186035156,-7.656121730804443,-21.88165855407715,-13.050436973571777,-63.94076919555664,12.71316909790039,0.8402685523033142,-37.57526779174805,-20.29193115234375,15.433302879333496,-3.4880006313323975,-69.34500122070312,14.588024139404297,15.780263900756836,-52.963340759277344,-12.49209213256836,-38.99177551269531,-48.380802154541016,-16.737255096435547,-9.721616744995117,-44.86677932739258,-23.95528793334961,12.974045753479004,20.77655601501465,24.904157638549805,-45.36845016479492,-64.6929931640625,-5.599730014801025,-3.172943115234375,-13.062834739685059,-7.462606430053711,-10.648202896118164,-5.975837230682373,-66.79573822021484,19.928939819335938,28.75537872314453,38.509273529052734,18.247703552246094,13.18089485168457,70.109375,-38.34960174560547,2.52237606048584,-16.745420455932617,21.47217559814453,48.24765396118164,-15.433938980102539,-4.016913414001465,-17.291032791137695,-16.304277420043945,-10.433189392089844,5.278914451599121,-68.54428100585938,5.763955116271973,-12.11817455291748,-37.26611328125,0.7163345217704773,36.32590866088867,-69.7541732788086,-47.96650314331055,-19.38266372680664,19.642303466796875,50.51380157470703,-5.444268703460693,15.619302749633789,14.252039909362793,-35.823604583740234,-11.646464347839355,-36.67536544799805,20.36208724975586,32.082977294921875,6.1864237785339355,-68.91362762451172,-2.3670170307159424,10.544169425964355,6.708096981048584,6.8450140953063965,14.452629089355469,0.899044394493103,29.690082550048828,0.1625569760799408,-66.56122589111328,5.952432632446289,-47.466590881347656,11.422150611877441,3.182971239089966,-41.90937423706055,-65.86851501464844,-68.70425415039062,-37.559749603271484,-55.19255065917969,-45.370235443115234,-47.05773162841797,6.368697643280029,12.692638397216797,-39.486419677734375,-23.034351348876953,-3.6581406593322754,-54.356502532958984,-36.17970657348633,22.007686614990234,15.621408462524414,7.748702049255371,-23.46865463256836,-41.830963134765625,-57.1684684753418,39.981605529785156,45.87469482421875,18.595552444458008,17.910120010375977,-44.17323303222656,6.847302436828613,-20.177127838134766,-2.507097005844116,24.414222717285156,50.99296188354492,-15.271509170532227,28.84844207763672,16.799610137939453,23.861112594604492,20.647920608520508,15.976088523864746,50.45610809326172,27.980344772338867,48.600765228271484,28.50899887084961,18.08246421813965,19.054471969604492,76.50845336914062,11.436698913574219,17.75241470336914,0.42405879497528076,-38.839229583740234,-25.430665969848633,2.7388103008270264,16.668142318725586,16.692235946655273,1.045165777206421,-0.07402447611093521,20.802234649658203,11.824094772338867,18.62308120727539,-20.636497497558594,10.604656219482422,-18.163368225097656,-38.532527923583984,-37.804664611816406,28.705432891845703,6.342655181884766,-20.61323356628418,50.51839828491211,2.1566359996795654,16.05095672607422,-13.884322166442871,-19.763425827026367,-14.375426292419434,-47.72818374633789,49.29391860961914,29.618942260742188,29.993410110473633,-57.805824279785156,27.672502517700195,-7.094618320465088,18.625953674316406,-56.20684814453125,-5.2894792556762695,-2.804755926132202,-5.099791049957275,14.821247100830078,46.07560348510742,-1.1265684366226196,18.375530242919922,-34.921630859375,-0.9352483749389648,6.317566394805908,7.508214950561523,-17.764741897583008,15.05180549621582,30.671167373657227,50.56977081298828,-5.197615623474121,23.633569717407227,22.213449478149414,-15.418961524963379,45.96122360229492,19.68515968322754,31.772146224975586,-5.289638996124268,73.17316436767578,-69.34754180908203,1.623017430305481,-9.76984977722168,4.588603973388672,-29.16438102722168,48.782569885253906,-0.7413867115974426,19.1534481048584,23.778669357299805,-10.027162551879883,12.517203330993652,15.270035743713379,11.444353103637695,-58.30748748779297,-23.272319793701172,23.603036880493164,-42.86591720581055,78.54421997070312,4.416522979736328,47.179683685302734,50.50859451293945,32.26569747924805,-22.591665267944336,-68.41287994384766,-38.29804992675781,-6.914208889007568,-3.485107898712158,11.863411903381348,-8.237409591674805,14.678251266479492,28.185251235961914,-1.2918258905410767,28.006572723388672,-43.71695327758789,-66.7422866821289,-15.38477611541748,-66.19865417480469,-62.676513671875,44.757896423339844,0.9553580284118652,44.344032287597656,-34.901329040527344,-16.252286911010742,-38.82682800292969,13.364114761352539,6.723901271820068,-16.45490837097168,-7.817304611206055,8.686772346496582,-63.12135314941406,2.725278377532959,-13.525076866149902,-36.21076965332031,13.818066596984863,-5.2909746170043945,-62.45183181762695,20.979339599609375,22.85407066345215,-64.19490814208984,-4.633273124694824,-66.56493377685547,-59.30949020385742,24.300209045410156,46.620887756347656,9.353242874145508,17.252777099609375,7.615302562713623,12.76093578338623,16.85143280029297,16.6759090423584,15.598628997802734,-17.336406707763672,23.12424087524414,7.916073322296143,-46.66905212402344,6.721048355102539,24.866649627685547,50.480010986328125,-16.766334533691406,-13.212408065795898,44.82105255126953,-10.942525863647461,-47.48798751831055,7.6520490646362305,34.742584228515625,-15.370809555053711,25.889846801757812,8.5094633102417,6.7027812004089355,-15.5503511428833,-17.294231414794922,14.62235164642334,-21.356325149536133,11.366771697998047,5.888569355010986,51.1375617980957,22.3232479095459,-58.894901275634766,36.39386749267578,-51.90714645385742,4.678853511810303,45.67905044555664,0.6401275992393494,-8.099254608154297,39.549713134765625,-14.733084678649902,15.746236801147461,-33.91048812866211,42.228111267089844,24.995820999145508,-38.4373664855957,24.35891342163086,-70.46904754638672,5.273658275604248,15.202041625976562,-21.498722076416016,-11.30526351928711,-63.059181213378906,-6.191439628601074,-8.968234062194824,24.062978744506836,-12.933464050292969,-0.21791498363018036,-12.284162521362305,1.8104537725448608,-49.423892974853516,39.795997619628906,-10.79419994354248,-5.590473175048828,47.508365631103516,-22.647401809692383,28.35897445678711,14.051172256469727,-65.98612213134766,-72.3509750366211,72.90572357177734,-38.57211685180664,9.869601249694824,-17.52788543701172,17.777509689331055,21.148962020874023,-17.810422897338867,-7.0589141845703125,-47.916996002197266,-31.51418113708496,50.39797592163086,-22.075584411621094,-71.67960357666016,-44.55227279663086,26.309722900390625,11.462230682373047,27.380685806274414,14.730433464050293,21.196857452392578,11.167506217956543,14.239441871643066,-37.320884704589844,-21.6649169921875,-61.329193115234375,-11.46702766418457,50.15433120727539,-14.509331703186035,6.570867538452148,24.021224975585938,15.163626670837402,42.173954010009766,-15.232784271240234,-16.46114158630371,-19.878583908081055,-17.589506149291992,-16.560163497924805,-69.48201751708984,0.8685437440872192,-8.453320503234863,49.83029556274414,22.067644119262695,15.754024505615234,14.498726844787598,24.843889236450195,5.754603385925293,12.318127632141113,9.549431800842285,-72.86157989501953,5.642979621887207,16.669599533081055,9.008315086364746,-59.32509231567383,-37.3274040222168,30.33852195739746,52.684593200683594,-11.46328067779541,5.388418197631836,20.038454055786133,-33.93695068359375,22.03217315673828,45.51482009887695,25.054330825805664,-6.296499252319336,7.312953472137451,20.769805908203125,-43.55374526977539,20.4097843170166,46.24372482299805,-5.865913391113281,15.237515449523926,17.329742431640625,22.694969177246094,18.131977081298828,10.274697303771973,-17.66434669494629,21.247451782226562,32.59184265136719,25.78304100036621,17.16480827331543,2.0167696475982666,1.63056480884552,-67.0705337524414,20.542226791381836,22.048107147216797,11.943737030029297,-38.13933563232422,-37.483028411865234,31.921218872070312,6.813359260559082,-1.470788836479187,-67.20423126220703,-53.9809455871582,47.66658020019531,10.097494125366211,-4.819491386413574,-3.8039205074310303,3.9751193523406982,15.856281280517578,3.161046028137207,21.825483322143555,-20.462371826171875,-2.1650784015655518,-33.77972412109375,30.88841438293457,-37.07682418823242,16.48273277282715,5.681278228759766,-15.690088272094727,-38.000709533691406,28.927732467651367,1.3992009162902832,-6.805992603302002,23.04005241394043,-12.396587371826172,23.322084426879883,-55.3740348815918,24.445297241210938,23.844463348388672,-52.82566452026367,-68.45966339111328,18.79085350036621,8.936095237731934,-45.61644744873047,-16.790740966796875,-9.327406883239746,-58.64643859863281,-13.979930877685547,-62.596256256103516,-69.46742248535156,69.59024810791016,31.3251953125,-6.281091690063477,-4.421738147735596,40.37992477416992,-11.373913764953613,17.327302932739258,2.037724494934082,-16.48583221435547,6.12322998046875,-15.930852890014648,-67.883056640625,-1.1023801565170288,-65.50792694091797,-18.249616622924805,-12.29784107208252,13.590782165527344,17.142494201660156,-5.011124610900879,16.792098999023438,13.737289428710938,13.893110275268555,18.783628463745117,48.200992584228516,-16.396303176879883,-20.438770294189453,17.81725311279297,-28.19767951965332,-15.663304328918457,-9.845755577087402,29.903257369995117,-14.939099311828613,0.44525372982025146,18.115829467773438,49.91249465942383,14.234284400939941,-63.67051315307617,-9.731377601623535,-13.589038848876953,24.157859802246094,-68.8478012084961,18.963998794555664,-63.951236724853516,51.045066833496094,-16.631824493408203,-22.555130004882812,-12.118101119995117,-53.085113525390625,-1.055564045906067,29.186359405517578,20.7286376953125,-15.667101860046387,-12.027915000915527,20.037559509277344,-36.30709457397461,-41.648460388183594,3.708078622817993,15.200248718261719,22.854076385498047,-46.38911056518555,-49.18551254272461,-0.46920010447502136,26.248214721679688,6.366477012634277,27.66693115234375,46.57181930541992,-25.78589630126953,30.369140625,24.631650924682617,15.734180450439453,16.146209716796875,-52.7137336730957,12.880651473999023,25.455060958862305,-18.378215789794922,-59.61137008666992,-34.632205963134766,-14.90945816040039,-44.06593322753906,15.773828506469727,-34.231685638427734,-69.23571014404297,-53.05118942260742,-19.85529136657715,-38.96371841430664,3.5434372425079346,26.28181266784668,-17.31822967529297,8.025202751159668,-62.75528335571289,11.690074920654297,4.152201175689697,-45.29715347290039,-12.103846549987793,20.347103118896484,31.705745697021484,-12.363786697387695,-47.61495590209961,-5.452137470245361,-1.6516755819320679,-21.712087631225586,21.680788040161133,17.167072296142578,-46.70196533203125,6.888119220733643,-2.0674657821655273,17.76722526550293,18.480518341064453,-24.16676902770996,74.29811096191406,-44.8038215637207,9.931916236877441,0.9239261746406555,-37.19231033325195,-17.10600471496582,22.478458404541016,1.1675193309783936,29.519729614257812,-10.744412422180176,-16.9608097076416,24.583375930786133,48.05516052246094,-1.7316733598709106,-13.532430648803711,-9.379791259765625,-68.10071563720703,-1.9571986198425293,3.457425355911255,1.99775230884552,12.710342407226562,14.525838851928711,30.56619644165039,14.627056121826172,-5.707794666290283,18.7059326171875,-4.411062240600586,26.644287109375,10.408568382263184,70.66590118408203,16.82306480407715,6.458363056182861,-10.544361114501953,-12.751529693603516,-61.92351150512695,-19.78192901611328,24.91802215576172,-70.32355499267578,-21.595081329345703,19.007976531982422,21.85224723815918,-2.009620189666748,-12.775306701660156,21.81964683532715,16.2755126953125,18.47924041748047,4.418102741241455,-44.44358444213867,21.903406143188477,2.6182801723480225,48.89729309082031,44.28950500488281,49.88566970825195,-15.096039772033691,-69.47474670410156,-12.131916046142578,47.72327423095703,17.691537857055664,10.027060508728027,-70.48477172851562,29.78327751159668,0.9106336236000061,11.624152183532715,-16.69024085998535,18.639375686645508,-46.25627136230469,28.97134780883789,19.0952091217041,-32.36520767211914,69.5058364868164,4.755956649780273,17.226945877075195,-6.051116466522217,44.599361419677734,-16.95907211303711,12.479209899902344,76.46698760986328,12.108019828796387,75.99468994140625,9.584359169006348,22.203319549560547,22.740598678588867,-7.2709197998046875,7.872459888458252,-38.995452880859375,28.770723342895508,-37.13731002807617,28.66419219970703,75.05437469482422,-22.821958541870117,-42.604454040527344,9.645842552185059,-15.572036743164062,28.595108032226562,47.86587142944336,74.49921417236328,16.209163665771484,30.278207778930664,15.10926628112793,48.218528747558594,-0.673892617225647,-5.629425525665283,-9.304289817810059,2.3966236114501953,-15.292642593383789,-3.9172561168670654,-59.021339416503906,30.23414421081543,-8.50268268585205,-10.410335540771484,-15.204425811767578,10.308781623840332,-5.0704240798950195,9.984171867370605,22.683914184570312,24.423948287963867,-16.753795623779297,6.858296871185303,8.035964965820312,-9.465182304382324,-38.71623992919922,-46.70561981201172,72.61775207519531,28.359045028686523,26.486141204833984,-16.649873733520508,-46.60151672363281,-12.271178245544434,-20.226003646850586,-13.028740882873535,-2.304624080657959,-22.654090881347656,2.7913403511047363,-14.159628868103027,-45.84672546386719,44.7593879699707,28.60272216796875,-67.00955200195312,-69.98897552490234,10.143187522888184,11.365716934204102,-63.79140853881836,-7.191309452056885,-16.443984985351562,47.53225326538086,-9.069563865661621,-5.760862350463867,-69.77692413330078,12.562880516052246,-13.009292602539062,-47.51552200317383,49.9893913269043,12.680063247680664,16.157072067260742,-13.964337348937988,11.744210243225098,-21.862205505371094,-44.85969543457031,31.37082290649414,-63.9503288269043,-21.497385025024414,-22.81844711303711,23.086824417114258,22.509414672851562,-18.378644943237305,5.163256645202637,-33.1341438293457,2.213883638381958,-14.962733268737793,-23.376325607299805,-15.336950302124023,-19.47661781311035,-5.8185248374938965,6.009815216064453,-22.557111740112305,-10.505427360534668,27.144651412963867,11.236343383789062,-52.692848205566406,52.08211898803711,-26.23757553100586,45.011295318603516,-17.3817081451416,-2.7517855167388916,5.618407249450684,-63.167518615722656,7.858435153961182,-37.25923156738281,10.105006217956543,10.20595645904541,-11.702616691589355,14.72733211517334,-0.7120856642723083,-52.78825759887695,-11.465889930725098,2.6313893795013428,-38.4033317565918,53.647117614746094,-15.081327438354492,-33.19471740722656,-65.23246765136719,19.823333740234375,49.66657638549805,-8.315491676330566,-0.40038734674453735,11.259369850158691,-64.37635803222656,24.671178817749023,-65.06318664550781,-13.57735824584961,-1.7775800228118896,46.58332061767578,17.328413009643555,15.277595520019531,15.796003341674805,16.924684524536133,14.922233581542969,31.242046356201172,-66.56829071044922,15.528573036193848,-8.318083763122559,9.376769065856934,22.055004119873047,-2.0466957092285156,21.61206817626953,-41.07408142089844,-12.41479778289795,21.17936897277832,26.486495971679688,11.667963981628418,-13.152403831481934,-37.18621826171875,23.01711654663086,-22.66364860534668,50.36687469482422,-40.229312896728516,9.64525032043457,-1.1392263174057007,-17.164785385131836,22.87210464477539,12.166757583618164,-36.068424224853516,15.566512107849121,17.218399047851562,23.913854598999023,-2.2365708351135254,-8.227116584777832,-37.628318786621094,15.26589584350586,49.73230743408203,-45.55219268798828,-11.139592170715332,74.66621398925781,6.591771602630615,-38.73168182373047,11.715456008911133,-36.437198638916016,4.415522575378418,-14.424137115478516,-21.912254333496094,76.43148040771484,-40.71171569824219,-42.12281036376953,-6.098479270935059,20.220430374145508,27.95793342590332,-37.551090240478516,17.949148178100586,4.8917622566223145,43.13343811035156,6.030163764953613,16.80413818359375,7.225612640380859,-2.763296127319336,48.22705078125,48.573482513427734,-25.83525848388672,22.5809268951416,-18.670442581176758,-71.8031997680664,-3.4915146827697754,-14.707829475402832,15.20167350769043,-37.21506118774414,27.089031219482422,-36.72477340698242,21.682130813598633,-19.35630226135254,27.055309295654297,-16.960498809814453,-16.332918167114258,-5.415097236633301,11.357190132141113,46.36308670043945,20.749486923217773,24.06937599182129,-65.59281158447266,17.5360164642334,-15.338238716125488,-35.64917755126953,-51.49885940551758,14.778586387634277,-51.44960021972656,9.32866382598877,-71.43940734863281,-63.17833709716797,-6.922399044036865,9.213111877441406,14.946638107299805,25.075178146362305,21.732913970947266,-17.77067756652832,5.122730731964111,-68.77220916748047,5.741822242736816,-4.620657920837402,-16.722837448120117,-3.066798686981201,13.7843599319458,-14.191859245300293,6.245423793792725,32.05125045776367,-12.02675724029541,3.797098159790039,-47.16943359375,-18.017967224121094,-17.919647216796875,-68.02395629882812,-69.8836441040039,-34.89459228515625,-6.140288352966309,-17.699443817138672,-17.809953689575195,26.307905197143555,-22.09490394592285,-59.8624267578125,10.043828964233398,20.894380569458008,-17.934715270996094,-38.44183349609375,-3.8819541931152344,19.641559600830078,4.993980407714844,23.70958137512207,14.344073295593262,74.63667297363281,3.3169307708740234,-37.9056282043457,20.325197219848633,50.331844329833984,29.37652587890625,-65.03571319580078,25.18545913696289,28.9534912109375,32.11832046508789,20.328908920288086,1.14328134059906,-28.165679931640625,76.32373809814453,21.109920501708984,2.9527056217193604,-47.178863525390625,-0.5200507640838623,-43.31965255737305,-48.934486389160156,1.0376936197280884,-16.768583297729492,28.571796417236328,44.086299896240234,-10.984504699707031,45.25917434692383,-17.821962356567383,-28.220291137695312,8.001529693603516,-13.255958557128906,25.378780364990234,-18.445465087890625,6.5103278160095215,-37.38825988769531,28.240205764770508,-8.178847312927246,9.785269737243652,-16.974580764770508,1.9017502069473267,30.19456672668457,-15.282989501953125,21.45154571533203,-63.02092361450195,9.794020652770996,-68.93163299560547,8.039275169372559,-17.33800506591797,-12.08110523223877,-18.229839324951172,-4.865115165710449,-4.462609767913818,-18.246824264526367,28.889204025268555,11.479728698730469,20.88007354736328,3.960498571395874,18.930240631103516,-15.726760864257812,45.31526565551758,14.251042366027832,18.865530014038086,16.389102935791016,-25.879308700561523,1.2894494533538818,-12.505096435546875,-20.365415573120117,22.905344009399414,21.99638557434082,26.843730926513672,-67.72457885742188,21.390045166015625,-15.94853687286377,3.5931236743927,16.481882095336914,-14.3936185836792,-16.308382034301758,-39.457908630371094,-2.1587398052215576,-23.601961135864258,-51.021400451660156,0.4244690537452698,-10.729270935058594,74.059814453125,-8.588335037231445,-48.84790802001953,26.5899600982666,-37.326210021972656,2.7590296268463135,8.751548767089844,-12.579209327697754,1.5383431911468506,-45.27165222167969,27.988832473754883,-48.23808670043945,9.859262466430664,9.305171966552734,-50.43862533569336,14.151204109191895,49.051631927490234,-38.35307693481445,24.69921112060547,-19.08728790283203,-70.14649963378906,45.944679260253906,50.51130294799805,29.276870727539062,7.284608364105225,19.999038696289062,29.73993492126465,17.10247230529785,-12.014554023742676,-5.229916095733643,-58.586368560791016,46.474185943603516,-66.44608306884766,-17.4580020904541,-20.083589553833008,-45.40970230102539,-13.607274055480957,8.02489948272705,17.363176345825195,-15.78969669342041,-4.033522605895996,21.254167556762695,14.280406951904297,29.05386734008789,8.097648620605469,-10.064348220825195,-25.98735809326172,-3.376436710357666,-18.6431884765625,45.88146209716797,-0.02891157567501068,3.773932695388794,23.0183162689209,19.770599365234375,46.16197204589844,10.536344528198242,4.122389793395996,8.72324275970459,-16.99824333190918,32.47150802612305,-4.575045108795166,16.61908721923828,77.87483215332031,-13.099726676940918,-0.09193970263004303,-40.24115753173828,15.842595100402832,-40.442935943603516,-5.125010967254639,10.442076683044434,-21.859128952026367,23.84549903869629,75.52928924560547,18.79700469970703,9.530016899108887,-41.76804733276367,-0.009413009509444237,-71.4822006225586,-13.114377975463867,34.03628158569336,24.29977798461914,30.738975524902344,9.202750205993652,23.850109100341797,3.7716586589813232,32.41499328613281,-70.93407440185547,17.90378189086914,0.16687904298305511,-10.039785385131836,-30.56928825378418,-45.68537521362305,-13.24225902557373,-19.353593826293945,47.35675048828125,17.268516540527344,-36.397300720214844,-19.802839279174805,-22.40037727355957,4.572078227996826,17.16606903076172,-1.9133561849594116,48.0526123046875,-10.521902084350586,-29.153902053833008,19.753103256225586,16.996417999267578,-57.97611618041992,17.883087158203125,-6.947906494140625,6.566342830657959,-23.368820190429688,74.623046875,-63.385799407958984,-60.47151184082031,-14.825191497802734,26.7977352142334,32.79027557373047,-15.230182647705078,46.166385650634766,9.529434204101562,-59.524898529052734,-10.460294723510742,14.37153434753418,-42.24544143676758,-12.372037887573242,14.753961563110352,-10.363726615905762,-70.39797973632812,17.50358009338379,22.11022186279297,-0.9142618775367737,-40.16033172607422,-33.74393844604492,34.33696746826172,-15.868687629699707,6.512041091918945,-44.15892791748047,30.160655975341797,-12.05960750579834,77.6385269165039,29.932157516479492,-17.170854568481445,3.225539445877075,17.51369285583496,-39.153106689453125,-7.66025447845459,-22.348711013793945,50.48484802246094,73.60810089111328,-20.555801391601562,-13.921637535095215,10.455423355102539,4.294567584991455,20.847576141357422,30.931825637817383,5.80510139465332,-49.300018310546875,-39.91496658325195,-68.58951568603516,-56.34328842163086,45.18665313720703,-67.53395080566406,12.279369354248047,-14.80497932434082,36.54833984375,26.090810775756836,40.77010726928711,6.616015434265137,-25.627050399780273,16.154455184936523,-0.7221368551254272,-5.227146625518799,76.98133850097656,-34.87409973144531,-38.530086517333984,-6.499792098999023,-33.180301666259766,18.302248001098633,48.62092971801758,-36.436344146728516,-67.29158782958984,37.408958435058594,-11.381848335266113,29.456418991088867,20.657129287719727,6.153399467468262,16.6687068939209,-4.335575103759766,-4.842411518096924,-9.667901039123535,-12.501840591430664,-15.794278144836426,18.404949188232422,44.599361419677734,16.20404624938965,-35.865623474121094,17.74541473388672,50.98216247558594,-4.242424488067627,-66.45759582519531,8.76430606842041,5.287599563598633,19.089330673217773,3.870819568634033,7.581466197967529,25.961946487426758,-34.344791412353516,-0.23429319262504578,37.65237045288086,-53.06298065185547,-14.745970726013184,-68.34090423583984,-15.536951065063477,-16.499183654785156,50.60408401489258,2.5712711811065674,-3.895716905593872,-8.558429718017578,1.1099271774291992,2.900728702545166,-1.4409703016281128,14.200606346130371,24.62589454650879,73.01900482177734,29.22298812866211,-26.33887481689453,29.739948272705078,-44.22816848754883,21.674400329589844,-6.89400053024292,18.51897430419922,4.193058013916016,50.536354064941406,6.418039321899414,-33.08127975463867,3.0243992805480957,0.887287437915802,-15.163717269897461,48.70582580566406,-6.832879066467285,44.721290588378906,-36.72449493408203,28.22380828857422,-42.070533752441406,50.82286834716797,20.18726921081543,18.193838119506836,11.894243240356445,24.21250343322754,17.76935386657715,24.586240768432617,-73.42438507080078,3.955495595932007,-23.208744049072266,-14.613128662109375,-43.546756744384766,28.73739242553711,-21.59649085998535,30.069570541381836,-16.536270141601562,2.766387701034546,7.205191135406494,-4.784228324890137,-26.71175193786621,40.18281555175781,26.455928802490234,-1.0634407997131348,36.6641731262207,-5.667387962341309,7.018667221069336,22.654401779174805,-18.914920806884766,28.581100463867188,72.97425079345703,25.808008193969727,-69.889404296875,46.19340133666992,-54.80636978149414,0.35662513971328735,-45.682857513427734,-22.614694595336914,-35.54664611816406,47.98043441772461,-17.272716522216797,2.217550754547119,51.241050720214844,23.57185173034668,27.821002960205078,26.56133270263672,44.65834045410156,-14.704784393310547,-59.402767181396484,-5.02871561050415,17.38629722595215,22.067934036254883,-44.14592742919922,52.8482780456543,74.93738555908203,-55.19753646850586,48.40566635131836,20.397899627685547,14.682839393615723,18.402835845947266,-22.073150634765625,20.664398193359375,17.350324630737305,-17.205270767211914,52.848236083984375,0.13647675514221191,-63.492916107177734,-55.03854751586914,69.98477935791016,-2.8350698947906494,78.14954376220703,77.53892517089844,-47.5111083984375,25.166839599609375,50.441505432128906,21.171985626220703,-4.549373149871826,29.016359329223633,-15.76956844329834,44.8546142578125,22.18522071838379,-38.125614166259766,-23.68954849243164,21.378910064697266,-17.111671447753906,-11.30706787109375,45.935035705566406,-4.605924606323242,34.14065170288086,-71.68505859375,-13.38792896270752,7.670590400695801,8.331189155578613,-18.20167350769043,8.093746185302734,-44.431365966796875,-14.975204467773438,5.572275161743164,15.87816047668457,-17.237775802612305,-45.70118713378906,-60.41973114013672,-24.070934295654297,45.78056716918945,-18.13253402709961,-36.47107696533203,24.39303970336914,-33.83990478515625,-9.791365623474121,-44.93409729003906,47.143043518066406,-5.205852031707764,11.190479278564453,30.95488739013672,-18.283044815063477,-53.2550163269043,-36.9322624206543,8.743416786193848,7.093064308166504,-23.218002319335938,35.741615295410156,-2.6309473514556885,10.780102729797363,4.690631866455078,-46.3511848449707,-22.63545036315918,23.53934097290039,18.550243377685547,3.3526418209075928,16.637601852416992,-9.831686019897461,14.843903541564941,11.945549964904785,0.19916696846485138,14.989690780639648,-63.38302993774414,-4.139672756195068,-3.0970234870910645,30.091148376464844,-10.330244064331055,-12.048238754272461,-7.082272052764893,-36.59696578979492,-1.0913326740264893,17.560861587524414,16.974559783935547,30.127002716064453,-21.39284896850586,-21.11844253540039,44.55311584472656,19.43956184387207,72.38687896728516,20.095617294311523,17.253007888793945,-25.905492782592773,18.55936622619629,24.009552001953125,2.7329258918762207,30.30682945251465,28.902633666992188,-2.9343714714050293,7.79646635055542,-1.1934763193130493,-32.50620651245117,19.18049430847168,-23.704151153564453,-12.27762508392334,42.32202911376953,-45.204246520996094,73.21685028076172,-3.315028190612793,0.8770403265953064,-0.8315591216087341,8.21069049835205,1.2740226984024048,11.32215404510498,2.9983906745910645,-38.125450134277344,-15.94648551940918,-68.98197174072266,-12.586297035217285,-41.01634216308594,15.0113525390625,17.343616485595703,-59.465484619140625,-23.827272415161133,1.8975958824157715,-20.877344131469727,-36.88522720336914,17.696561813354492,20.6256103515625,-2.858142137527466,-20.85822868347168,52.32061767578125,-12.348369598388672,-63.64823913574219,18.652023315429688,-68.62866973876953,-46.165225982666016,-40.13875961303711,-68.00239562988281,72.26886749267578,-15.943609237670898,-50.34670639038086,-15.917923927307129,2.3206520080566406,28.836626052856445,-66.54486083984375,-12.395712852478027,-63.939064025878906,21.816978454589844,-51.001220703125,13.64694595336914,-11.573034286499023,28.971891403198242,-12.192618370056152,18.932140350341797,28.601276397705078,14.175461769104004,70.73226165771484,-21.582162857055664,-33.721412658691406,13.880243301391602,-4.436495304107666,24.66669464111328,20.819303512573242,28.29779052734375,17.443538665771484,-15.80538558959961,-6.293354034423828,-4.647809028625488,-57.00469970703125,13.359819412231445,-12.224059104919434,-53.12446594238281,72.95490264892578,-10.908393859863281,-45.52144241333008,-52.972415924072266,-6.9010233879089355,47.847076416015625,21.765459060668945,-16.863142013549805,47.358272552490234,-5.36648416519165,19.774198532104492,21.810590744018555,9.746621131896973,-5.342776775360107,-21.879016876220703,31.312206268310547,28.661813735961914,-68.4035873413086,-46.16035842895508,24.88884735107422,2.8477556705474854,-54.14338684082031,-33.57504653930664,44.088008880615234,-6.177723407745361,14.626859664916992,-1.5474094152450562,-14.40073013305664,1.3939533233642578,49.09051513671875,3.713109254837036,-3.661705493927002,-15.516674995422363,17.093088150024414,15.767783164978027,20.60715103149414,-58.75212097167969,8.76806640625,17.131298065185547,-41.71355056762695,-20.6580810546875,-1.5290765762329102,20.462366104125977,25.594783782958984,1.0480705499649048,-58.19270324707031,13.807526588439941,-25.25382423400879,4.461523532867432,37.66136169433594,-45.49235916137695,-51.129188537597656,13.030593872070312,-10.338055610656738,1.5816380977630615,-39.155174255371094,24.36513900756836,-12.411580085754395,-3.510012149810791,-65.997802734375,28.92293930053711,-11.115565299987793,-1.5665053129196167,-14.337865829467773,20.709875106811523,44.372406005859375,-46.58330154418945,46.6928825378418,5.615505218505859,20.254953384399414,28.945323944091797,-31.286888122558594,72.9888916015625,14.01619815826416,-37.239627838134766,14.624473571777344,7.154369354248047,21.519859313964844,-12.497298240661621,8.01237964630127,17.051654815673828,-46.98802947998047,28.96759796142578,10.326140403747559,-13.25590705871582,10.355271339416504,52.681732177734375,-15.747660636901855,18.823671340942383,-66.03831481933594,28.111597061157227,5.708280086517334,-22.7525634765625,-69.09135437011719,-46.784873962402344,45.08509826660156,1.5010876655578613,20.65597915649414,-2.369999408721924,-42.54686737060547,-33.613712310791016,-47.96060562133789,-35.97985076904297,10.809874534606934,23.364864349365234,36.729949951171875,-36.806922912597656,46.84807205200195,12.47418212890625,12.68301773071289,7.531797885894775,19.423276901245117,-20.49268341064453,0.7470864057540894,-1.0319017171859741,11.312336921691895,-68.86936950683594,26.218847274780273,-65.22016906738281,44.74602508544922,12.420472145080566,-14.73661994934082,50.074432373046875,50.84675216674805,-46.15977478027344,-3.297011375427246,-70.73307800292969,32.15199661254883,-6.025228977203369,16.323869705200195,46.852783203125,-11.818517684936523,26.76300811767578,-7.085178852081299,24.440858840942383,-46.70661926269531,23.931238174438477,-37.75452423095703,18.036396026611328,13.880437850952148,30.0628719329834,-11.446617126464844,-1.862298846244812,-17.103628158569336,23.281404495239258,-52.35606384277344,27.315160751342773,-18.16692352294922,53.58543395996094,20.626760482788086,22.06489372253418,12.020589828491211,-4.186214923858643,14.42032527923584,14.187226295471191,-11.997983932495117,21.216325759887695,-16.82956886291504,-14.616708755493164,-16.57996940612793,27.17661476135254,-2.2079834938049316,-2.6925787925720215,7.68170690536499,-4.91867208480835,49.335693359375,-2.963465452194214,26.641963958740234,3.8865647315979004,33.40861129760742,25.630443572998047,8.985448837280273,45.35017776489258,-4.369089603424072,-22.380855560302734,47.512691497802734,36.6721305847168,12.323784828186035,-68.63905334472656,-21.984725952148438,25.784257888793945,-22.43388557434082,23.795276641845703,20.993850708007812,-59.75078582763672,-38.99209976196289,26.64332389831543,-16.097219467163086,-22.072797775268555,35.93890380859375,-38.21717071533203,47.10212707519531,26.89354133605957,74.51538848876953,7.713922500610352,-70.41361236572266,28.27207374572754,-13.696050643920898,17.141067504882812,29.659448623657227,5.655745029449463,46.29397201538086,-1.859183430671692,-8.238080978393555,-38.47673797607422,-17.734813690185547,19.409854888916016,-60.78486251831055,50.463932037353516,23.15825843811035,13.484516143798828,70.73799896240234,-46.436885833740234,-20.12000846862793,71.58792114257812,9.32119083404541,-27.391786575317383,-61.14133071899414,21.049182891845703,-14.80148696899414,22.649702072143555,-66.1562728881836,16.39392852783203,-38.2668571472168,-16.885406494140625,14.80333423614502,40.69938278198242,-47.9726676940918,12.101069450378418,-44.18495178222656,0.6958109140396118,-21.759742736816406,70.12388610839844,-31.032535552978516,-64.5267333984375,10.631102561950684,-52.35639572143555,16.747722625732422,-17.301488876342773,-16.82921028137207,-48.6615104675293,40.789398193359375,10.253116607666016,35.98014831542969,3.3262205123901367,22.62976837158203,-17.81943702697754,49.74201965332031,10.243977546691895,49.60500717163086,24.199907302856445,-69.56843566894531,-7.491290092468262,22.225297927856445,8.425686836242676,25.147066116333008,28.64588737487793,-13.576684951782227,-19.437252044677734,9.82028865814209,-12.914573669433594,22.831769943237305,-28.640260696411133,47.52078628540039,71.00542449951172,-42.317623138427734,-15.564119338989258,12.764991760253906,-53.26655197143555,-2.2454183101654053,20.645124435424805,-21.540929794311523,45.90388870239258,-12.315102577209473,19.279499053955078,-8.957648277282715,-23.501005172729492,26.756765365600586,-39.635986328125,-22.473573684692383,-2.444927215576172,14.810823440551758,31.0024471282959,42.711822509765625,-4.153855800628662,-13.619178771972656,14.450080871582031,-59.280853271484375,-12.788580894470215,42.20257568359375,12.571111679077148,10.560004234313965,-33.426815032958984,-18.683828353881836,-46.783267974853516,4.771207809448242,14.895742416381836,-19.907047271728516,-45.11550521850586,-2.2097201347351074,23.21261978149414,-2.913818120956421,48.44068145751953,49.26533126831055,16.0640869140625,-63.823909759521484,-68.9568099975586,-3.188270330429077,19.139301300048828,-4.183512210845947,-1.3514587879180908,16.01444435119629,12.44835090637207,72.24700164794922,-43.81441116333008,-42.54481887817383,-58.5115966796875,-45.82268142700195,8.197071075439453,-6.159296989440918,-26.555511474609375,30.873342514038086,24.612043380737305,-11.27930736541748,-15.883313179016113,27.61598777770996,2.619494676589966,-1.599323034286499,-15.932342529296875,18.25586700439453,69.95648193359375,4.5375566482543945,10.268712997436523,-68.40827941894531,-36.613624572753906,-17.838661193847656,24.732635498046875,-18.191238403320312,21.0689697265625,-14.245777130126953,18.095905303955078,-19.515928268432617,-56.12266159057617,-57.81421661376953,47.35778045654297,28.340579986572266,45.1635627746582,30.91817855834961,21.245744705200195,2.1628665924072266,50.573848724365234,50.217220306396484,12.343640327453613,2.3361711502075195,-37.11915588378906,32.763275146484375,-56.38975143432617,12.733535766601562,24.539676666259766,31.14439582824707,-1.5139102935791016,19.05883026123047,24.709861755371094,-4.811999797821045,7.26516580581665,9.304084777832031,11.985172271728516,3.6671674251556396,-12.981159210205078,-48.04511260986328,-68.26953125,-17.606224060058594,-36.74064636230469,-47.734073638916016,-40.32192611694336,13.744501113891602,-11.273416519165039,-15.235209465026855,-54.94017028808594,-40.277530670166016,17.230472564697266,8.021559715270996,48.553924560546875,-12.753931999206543,-19.822954177856445,18.603073120117188,21.507137298583984,-30.284637451171875,6.808526992797852,17.832548141479492,-19.462251663208008,17.02914047241211,52.2494010925293,-23.131263732910156,-35.69233703613281,44.14727783203125,16.199146270751953,26.093969345092773,21.57423210144043,18.494840621948242,42.58708572387695,21.305747985839844,-57.944793701171875,-65.65523529052734,-0.42076900601387024,50.99409484863281,-9.639569282531738,-37.35081481933594,-1.3726074695587158,25.09978675842285,12.137229919433594,18.887746810913086,-14.1290864944458,-2.9328198432922363,1.3597400188446045,6.725691318511963,-8.880790710449219,30.163055419921875,76.88317108154297,5.117806434631348,25.870407104492188,18.009578704833984,9.723029136657715,-57.1994514465332,-0.3691171407699585,13.65457534790039,13.929990768432617,-2.211920976638794,11.322285652160645,-2.0560202598571777,19.617618560791016,-44.434452056884766,11.292612075805664,-10.0155668258667,7.576014041900635,-13.581626892089844,32.450374603271484,2.038729190826416,17.915075302124023,29.7215576171875,-2.1370465755462646,22.193784713745117,-13.421926498413086,-52.7237434387207,76.62651062011719,-38.074501037597656,-9.776040077209473,18.74528694152832,27.990806579589844,-13.134366035461426,11.312019348144531,-66.76789855957031,12.069866180419922,48.852867126464844,35.46336364746094,22.036460876464844,5.21044921875,5.169491767883301,23.127044677734375,-13.240890502929688,14.554471015930176,-37.53102493286133,19.648738861083984,-37.179805755615234,24.889699935913086,6.74380350112915,13.217975616455078,23.02386474609375,-63.46147537231445,14.706266403198242,11.050427436828613,30.06144905090332,50.11207962036133,-43.746910095214844,-34.07204818725586,-16.126060485839844,-6.853183269500732,-15.743889808654785,47.9416618347168,-39.208709716796875,17.57785415649414,12.481109619140625,-47.81318664550781,31.009809494018555,25.373872756958008,-14.167182922363281,-4.284887313842773,-13.541522979736328,-16.244400024414062,25.99873161315918,24.133541107177734,44.14189147949219,-11.182238578796387,-47.04829406738281,51.01676559448242,11.455047607421875,-45.98745346069336,-13.2799072265625,-2.4918012619018555,-61.792144775390625,29.616558074951172,8.126872062683105,-33.00157165527344,-1.3029862642288208,-17.564027786254883,22.66069221496582,14.419848442077637,6.355881214141846,-60.44658660888672,-71.47539520263672,28.95271873474121,20.63286018371582,50.475093841552734,-46.834144592285156,15.599513053894043,-4.33620023727417,-49.13417053222656,-49.305545806884766,73.61776733398438,7.476978302001953,47.547603607177734,45.673500061035156,48.208858489990234,-38.92356872558594,-42.77437210083008,74.00374603271484,-27.26100730895996,-1.942507028579712,-52.44559860229492,-63.941898345947266,9.310935020446777,42.538238525390625,26.950071334838867,31.006315231323242,5.388732433319092,-51.56125259399414,-16.565853118896484,-62.59384536743164,30.394506454467773,32.77817153930664,-13.582181930541992,18.42449378967285,-53.08444595336914,-14.019869804382324,48.35453796386719,-36.92647171020508,-59.7336540222168,-19.188024520874023,44.60835647583008,23.588993072509766,-25.51529312133789,14.052900314331055,-70.31488037109375,-16.152023315429688,37.24445724487305,28.78032684326172,0.2768431603908539,-36.58531188964844,-17.29538917541504,0.8523197174072266,39.39896011352539,-2.020622968673706,-4.872723579406738,40.61867904663086,32.423248291015625,14.66549015045166,-12.326091766357422,-62.965354919433594,-47.17198944091797,11.384078979492188,30.731700897216797,6.790043830871582,6.400685787200928,-41.91633987426758,0.030671505257487297,-61.7686653137207,-43.33497619628906,46.988590240478516,8.377890586853027,75.98263549804688,-13.53416919708252,49.27421951293945,28.40218734741211,7.962642669677734,-34.01158905029297,-69.63973236083984,-19.93258285522461,-16.77680206298828,-43.5192756652832,23.04012107849121,-17.443761825561523,19.234621047973633,1.115090250968933,-42.116844177246094,3.885906457901001,28.177732467651367,14.701621055603027,-17.361343383789062,-63.123146057128906,14.791363716125488,35.7442512512207,18.106595993041992,-3.2962393760681152,-25.770347595214844,-46.55083465576172,20.47642707824707,-2.5482065677642822,10.299022674560547,-1.0752190351486206,-0.4769976735115051,-29.636838912963867,-26.299230575561523,-34.36838912963867,-21.663246154785156,21.278221130371094,47.702857971191406,-13.340222358703613,-22.428260803222656,-48.580665588378906,46.97816848754883,-4.021993160247803,-3.511556625366211,11.380711555480957,-66.51148223876953,-17.0972900390625,-24.602582931518555,-41.92045593261719,-19.55035972595215,70.52196502685547,-27.421337127685547,12.848343849182129,34.51490783691406,-58.24091339111328,9.784777641296387,-13.045931816101074,-68.37494659423828,2.284318447113037,20.52820587158203,44.14015579223633,-38.22138595581055,-11.328303337097168,44.6624870300293,-59.29206466674805,-15.291129112243652,31.949893951416016,21.97569465637207,23.915130615234375,-19.48629379272461,49.73056411743164,2.831906795501709,22.777006149291992,-17.581024169921875,0.6225282549858093,23.344022750854492,0.6821103692054749,-17.172277450561523,-12.296459197998047,-15.558111190795898,10.495664596557617,-1.7844927310943604,1.7428605556488037,28.69789695739746,2.9763364791870117,-41.09771728515625,-16.242826461791992,-7.582038402557373,-3.4376120567321777,19.680673599243164,-52.645938873291016,-18.228910446166992,-36.23346710205078,16.64158821105957,19.349870681762695,17.6224365234375,71.18358612060547,28.738563537597656,-20.315876007080078,-3.075457811355591,27.445911407470703,10.007004737854004,-16.44305992126465,-14.035179138183594,30.140718460083008,42.90414810180664,46.83992385864258,-11.449820518493652,73.2010498046875,-34.890987396240234,-58.28089904785156,24.390295028686523,-18.056499481201172,-20.18943977355957,0.5393186807632446,25.803647994995117,-38.30384826660156,26.03612518310547,35.69765090942383,-17.330718994140625,46.852783203125,-18.34195327758789,21.373998641967773,16.612110137939453,16.816787719726562,-18.808809280395508,32.424415588378906,-1.4708999395370483,14.1449556350708,16.55788230895996,20.91119956970215,-17.31967544555664,-2.095039129257202,5.280665397644043,-1.0135822296142578,0.6973835229873657,3.091684341430664,-69.24676513671875,-1.3304471969604492,4.215734958648682,-47.0225715637207,21.85690689086914,17.04648780822754,-65.44298553466797,14.134969711303711,26.087352752685547,76.29324340820312,-63.73015594482422,-52.25566101074219,70.110107421875,-8.573979377746582,19.601926803588867,-33.50728225708008,-4.788022994995117,12.955805778503418,-58.56736373901367,13.062902450561523,-20.59691619873047,29.424474716186523,-17.419830322265625,14.032888412475586,-16.142871856689453,-12.776586532592773,21.696758270263672,-41.84551239013672,27.645143508911133,-33.09584045410156,-19.42827606201172,-3.5100786685943604,71.7917709350586,-25.11469078063965,69.98196411132812,-46.61112976074219,-66.86582946777344,-16.255064010620117,-45.52334976196289,-1.4821076393127441,-45.78563690185547,-10.766190528869629,-13.06850528717041,-12.513193130493164,32.14531707763672,-0.3391989469528198,-28.096891403198242,-34.006500244140625,-54.09445571899414,-27.29912757873535,-40.3323860168457,-18.205360412597656,-50.65969467163086,7.067209720611572,-47.6729736328125,0.7982402443885803,-46.30156326293945,11.722579956054688,-10.324247360229492,-15.079681396484375,0.870023250579834,-16.783740997314453,-4.56709098815918,-40.247703552246094,19.634550094604492,-52.541297912597656,-32.860748291015625,-45.771610260009766,1.7370414733886719,33.82930374145508,-39.19852066040039,3.0473382472991943,44.901485443115234,-51.266441345214844,4.098575115203857,1.1670889854431152,75.00446319580078,-15.6698637008667,-16.653575897216797,70.44405364990234,16.393739700317383,21.718273162841797,0.9204829335212708,-70.1856689453125,48.031455993652344,3.581975221633911,-3.7546920776367188,-14.948637008666992,-16.953868865966797,-2.0579283237457275,47.703582763671875,-12.47965145111084,29.90321159362793,-13.22956657409668,23.91744613647461,-44.52267074584961,-15.15810489654541,4.225839614868164,76.43524169921875,-5.078409194946289,51.66762924194336,-35.42225646972656,-4.172451019287109,19.02618980407715,14.094648361206055,-36.504329681396484,-26.252573013305664,6.51312780380249,-24.903850555419922,19.049488067626953,6.415036678314209,23.822595596313477,27.306072235107422,11.537367820739746,-14.191190719604492,10.905829429626465,21.626911163330078,14.584851264953613,2.098982572555542,-0.3878808617591858,-3.886352062225342,-7.086325645446777,15.235416412353516,-0.9457224607467651,-13.153919219970703,-0.8496940732002258,-67.01228332519531,8.08169937133789,-10.738737106323242,-65.95653533935547,-16.904470443725586,-38.55617904663086,-35.50773620605469,10.868891716003418,29.023393630981445,-14.056329727172852,-51.965354919433594,-11.676493644714355,-62.8759765625,-71.30166625976562,-9.159465789794922,-38.80972671508789,29.654748916625977,19.008302688598633,-69.92278289794922,-34.27914047241211,-0.5932601094245911,-20.203983306884766,-5.781949520111084,-46.764625549316406,-16.160686492919922,-14.999235153198242,47.079105377197266,-44.521793365478516,-12.693473815917969,-16.971534729003906,-4.858849048614502,-5.771803379058838,-69.14706420898438,-5.285810947418213,46.173805236816406,11.085415840148926,-18.817699432373047,-13.381256103515625,15.869743347167969,11.213430404663086,-14.833121299743652,50.63167190551758,-68.8216781616211,11.923073768615723,-20.94518280029297,-47.287635803222656,73.6076889038086,6.209240436553955,-44.254947662353516,33.10696792602539,10.037702560424805,75.31729888916016,-36.509517669677734,-6.999990463256836,-52.603885650634766,11.35860538482666,20.62796401977539,-13.184972763061523,-7.1260905265808105,-44.72043991088867,20.12565040588379,-69.17533111572266,-27.868608474731445,16.18076515197754,-63.703277587890625,-21.400842666625977,19.22694206237793,-65.3873291015625,6.641565322875977,0.28513503074645996,28.94968032836914,-40.6053352355957,69.70449829101562,-6.681092739105225,-1.1955015659332275,21.274978637695312,3.407108783721924,-16.22713279724121,-47.66877365112305,-36.50621795654297,21.512908935546875,-15.02271556854248,19.44489097595215,17.48248291015625,27.579273223876953,7.835971355438232,25.434125900268555,-11.917984008789062,-17.115848541259766,-20.39724349975586,72.1968002319336,22.66799545288086,-41.19078063964844,-17.047740936279297,17.50505256652832,-16.27438735961914,1.3877636194229126,11.079675674438477,-3.6489336490631104,-5.2132568359375,-51.3488883972168,-42.588294982910156,-25.237197875976562,42.31502151489258,12.10582447052002,6.615082263946533,20.4001522064209,-37.21340560913086,-38.81817626953125,-46.27935028076172,7.417574882507324,-0.06748524308204651,-21.226268768310547,10.951333045959473,-20.473356246948242,-13.184370994567871,-71.57904052734375,48.762413024902344,-18.57672119140625,25.19053077697754,50.01557540893555,-11.452142715454102,-3.8531243801116943,71.78947448730469,50.97970962524414,-19.875469207763672,-11.732695579528809,-3.9231460094451904,-13.31695556640625,-0.7208712697029114,-38.001216888427734,16.63017463684082,14.753900527954102,21.98946189880371,30.504783630371094,-51.644508361816406,-1.5709530115127563,44.718910217285156,-38.66180419921875,1.3978025913238525,49.22296905517578,19.302942276000977,48.80168914794922,18.578842163085938,-21.023893356323242,-59.68239974975586,77.80471801757812,-68.71910858154297,29.20620346069336,10.115126609802246,-52.23286056518555,-33.75288009643555,9.905170440673828,37.65373611450195,7.594417572021484,12.9092435836792,16.435867309570312,-49.831607818603516,-14.469770431518555,17.40747833251953,-2.5210511684417725,17.173852920532227,18.25358772277832,-69.83802032470703,14.914528846740723,-13.254693031311035,16.417577743530273,23.7924861907959,-9.7269926071167,25.65932273864746,24.47479248046875,22.34834098815918,-16.616233825683594,2.335218906402588,46.852806091308594,-16.907184600830078,44.188262939453125,50.4752082824707,-36.34319305419922,71.81819915771484,22.530569076538086,2.078045606613159,19.625648498535156,11.298376083374023,-17.697126388549805,-19.61951446533203,-45.84745788574219,16.654743194580078,27.833742141723633,-15.967334747314453,29.052946090698242,-65.79573822021484,26.87781524658203,-5.903414726257324,-60.80281448364258,18.734661102294922,69.7959213256836,-40.66768264770508,-16.309114456176758,6.5397844314575195,-2.718796491622925,28.78091049194336,-9.298318862915039,20.261716842651367,-7.894167900085449,22.156295776367188,7.855097770690918,-7.041436195373535,-13.678226470947266,25.179370880126953,-39.777984619140625,4.336684703826904,1.0459665060043335,-10.108946800231934,-67.10659790039062,4.174257755279541,-25.880481719970703,-65.38045501708984,-69.6634292602539,52.67683410644531,-47.60375213623047,-55.31246566772461,76.39579010009766,-25.4818172454834,-15.358261108398438,-1.9325836896896362,3.2058393955230713,-19.738725662231445,31.3142032623291,-4.07274055480957,-11.611788749694824,5.831749439239502,10.868622779846191,-11.95923137664795,25.576560974121094,15.749296188354492,-70.2578353881836,72.05484771728516,23.81878089904785,48.640342712402344,-6.845994472503662,51.049312591552734,12.095645904541016,46.351226806640625,-35.80525207519531,-44.969120025634766,-4.694424152374268,-11.55631160736084,7.012076377868652,48.82412338256836,6.865879058837891,12.150191307067871,9.826273918151855,-67.84001922607422,-37.21687316894531,-8.38950252532959,-41.68184280395508,-0.15836010873317719,69.65106964111328,21.02964210510254,25.65891456604004,22.99444007873535,10.815752029418945,15.013185501098633,72.97732543945312,27.585622787475586,11.701631546020508,-4.966248989105225,17.365982055664062,12.45596981048584,28.96986198425293,-70.98411560058594,10.660599708557129,27.732051849365234,21.096435546875,50.56904602050781,29.44743537902832,29.40445899963379,21.28012466430664,28.711305618286133,24.018083572387695,16.73405647277832,-68.47854614257812,25.356590270996094,-47.23998260498047,-8.132122993469238,47.7444953918457,14.79605484008789,6.095057010650635,12.692559242248535,16.87130355834961,27.269519805908203,6.514700412750244,-70.5482406616211,50.27607727050781,16.489112854003906,0.3857497572898865,10.67990779876709,16.09292984008789,19.83334732055664,-49.06614303588867,-20.478858947753906,20.16619110107422,-2.5567030906677246,-64.16326904296875,-37.90391159057617,77.68154907226562,-62.030921936035156,-2.3279001712799072,20.65960693359375,16.88983726501465,-27.296415328979492,21.65811538696289,17.618099212646484,21.175601959228516,1.8389655351638794,-32.46697998046875,-59.65102767944336,-3.5568888187408447,10.740903854370117,-67.01447296142578,20.1304874420166,8.052488327026367,-33.68583679199219,-13.00452709197998,-65.59259796142578,-68.6812515258789,-7.891445159912109,-17.034992218017578,14.112762451171875,-7.760613918304443,-16.678117752075195,-14.864234924316406,11.362283706665039,15.563041687011719,-38.357486724853516,29.935754776000977,18.202402114868164,4.1961469650268555,-0.553314208984375,-55.28371810913086,-57.835777282714844,-19.266050338745117,-2.632354736328125,-34.78643035888672,-16.3978328704834,-63.20469665527344,28.42745018005371,21.319093704223633,-69.20136260986328,-15.242329597473145,-10.03294563293457,-67.1060791015625,16.802919387817383,21.681577682495117,-37.22757339477539,-3.7470486164093018,45.29401779174805,-16.47066307067871,-8.43040657043457,10.38902473449707,-13.671463966369629,20.615089416503906,4.821457862854004,9.817540168762207,19.816816329956055,47.72895431518555,20.824201583862305,47.969635009765625,-38.086971282958984,73.01746368408203,0.5957571864128113,-41.16867446899414,-23.266944885253906,23.127452850341797,0.45780178904533386,6.689000129699707,-20.672170639038086,13.356001853942871,-40.12277603149414,-7.476565837860107,-69.11676025390625,50.61384582519531,-7.839568138122559,-15.385936737060547,-36.95603942871094,3.409471273422241,-60.12367630004883,5.055214881896973,-69.03761291503906,-42.40841293334961,-6.682772159576416,25.339244842529297,19.515727996826172,-67.47216796875,-25.91709327697754,26.64671516418457,17.94029998779297,-16.066255569458008,0.01590757817029953,18.916622161865234,17.603971481323242,-46.96086120605469,-0.4561636447906494,5.288143157958984,14.62762451171875,-15.276593208312988,-47.624366760253906,72.92201232910156,-44.619529724121094,-40.416236877441406,24.262792587280273,-4.3150458335876465,-21.543304443359375,70.10395050048828,28.772310256958008,16.419687271118164,46.642513275146484,-13.393714904785156,-41.53020477294922,24.585371017456055,9.667149543762207,-26.562026977539062,-63.17066955566406,-5.505916118621826,25.550691604614258,-18.140806198120117,7.212793350219727,-21.361928939819336,-10.887279510498047,-44.5944709777832,-4.807345390319824,13.345874786376953,-11.643363952636719,-44.3172607421875,-69.56776428222656,-3.753856658935547,-20.439231872558594,5.183112621307373,22.851076126098633,42.19395065307617,8.960687637329102,41.66468048095703,12.202727317810059,-10.852023124694824,-4.567052364349365,1.802577018737793,-12.122706413269043,16.81494903564453,-15.037749290466309,31.910385131835938,-32.71868133544922,-17.600215911865234,29.883960723876953,-64.47415924072266,74.42059326171875,50.699771881103516,-33.834590911865234,-65.77253723144531,3.113508701324463,-20.815309524536133,-5.775401592254639,44.08685302734375,-38.47211837768555,-39.37306213378906,5.731823444366455,-32.361942291259766,-20.1678409576416,22.40899085998535,6.104038715362549,29.00235939025879,-61.056419372558594,-54.21403503417969,-52.91458511352539,-15.622445106506348,-0.48498430848121643,50.9404182434082,-48.84394454956055,-45.36008834838867,-22.0335636138916,-47.070987701416016,-13.018125534057617,0.2656288743019104,-15.496292114257812,-47.30849838256836,0.08851689845323563,-3.5878074169158936,-33.69144058227539,-37.85185241699219,12.832201957702637,45.808685302734375,71.2654800415039,39.04851531982422,27.5681209564209,26.16545295715332,28.61871910095215,15.887687683105469,10.558358192443848,-2.4854259490966797,-36.44960403442383,14.573731422424316,18.860076904296875,-37.39499282836914,17.842567443847656,18.5957088470459,-5.277337551116943,-12.426857948303223,23.230993270874023,-69.63941955566406,-17.245044708251953,20.591842651367188,-64.0247573852539,-59.20642852783203,40.52178192138672,12.340621948242188,-8.656583786010742,28.51505470275879,23.041589736938477,-39.746917724609375,-0.2553628981113434,15.293209075927734,7.03848934173584,-19.453367233276367,-8.667048454284668,0.634206235408783,-22.425426483154297,77.26707458496094,36.88359832763672,-15.7753324508667,-32.755428314208984,23.298816680908203,49.768863677978516,70.66387176513672,72.88969421386719,-20.286277770996094,28.145790100097656,-64.73961639404297,-9.780219078063965,49.897422790527344,20.95325469970703,11.948165893554688,28.183095932006836,27.722301483154297,-13.49320125579834,-14.339489936828613,19.463459014892578,14.676228523254395,-73.4136962890625,9.541987419128418,77.07620239257812,-65.6837387084961,-20.562910079956055,19.69624137878418,4.021828651428223,34.049991607666016,-53.18630599975586,15.058951377868652,-20.784208297729492,-35.046836853027344,-12.72990894317627,6.37261438369751,-14.508309364318848,70.35582733154297,-52.68525314331055,-69.41974639892578,-16.734092712402344,44.64741134643555,-23.358497619628906,7.974156856536865,-51.09702682495117,-2.382631778717041,10.012191772460938,16.4442081451416,47.80078125,-68.90956115722656,-19.69102668762207,-3.08099365234375,-29.972492218017578,18.410200119018555,3.4001529216766357,47.27586364746094,-17.66429901123047,3.3247532844543457,-23.327360153198242,-15.959553718566895,44.73516082763672,3.388852119445801,-15.99166202545166,-16.88421630859375,1.9467602968215942,1.0052930116653442,-19.959444046020508,6.475273609161377,3.502631187438965,3.855269193649292,-19.377859115600586,26.56076431274414,76.0733871459961,-51.17292785644531,16.80634117126465,-9.968962669372559,19.81864356994629,10.872749328613281,4.9716339111328125,14.824814796447754,-23.56103515625,13.547540664672852,23.866147994995117,-37.8766975402832,-4.239442825317383,19.732629776000977,-45.370052337646484,44.84886932373047,21.820146560668945,11.135781288146973,-1.389843225479126,74.51615905761719,-17.720962524414062,4.837589263916016,25.03528594970703,28.257293701171875,19.419464111328125,30.87579917907715,5.129295349121094,11.526811599731445,17.160377502441406,-2.3481414318084717,18.356382369995117,6.592034339904785,28.80246925354004,6.119681358337402,46.2420768737793,-41.40858459472656,-47.01443099975586,29.729402542114258,20.24522590637207,9.308797836303711,-55.980010986328125,-71.38774871826172,-19.988454818725586,-9.381978988647461,47.086524963378906,-70.01544189453125,26.298540115356445,-71.26345825195312,27.242576599121094,-17.232938766479492,29.603395462036133,-16.556777954101562,14.1884126663208,48.065982818603516,-15.210731506347656,-58.49116897583008,3.8131461143493652,30.332691192626953,8.502243041992188,-47.13084030151367,-3.0055999755859375,29.271512985229492,13.000409126281738,-11.13200569152832,-12.805174827575684,15.648136138916016,9.086885452270508,19.184755325317383,-19.623554229736328,-0.11310486495494843,-51.94516372680664,11.8119535446167,28.367595672607422,36.18400955200195,-15.464630126953125,14.111908912658691,10.695456504821777,28.963193893432617,50.56666564941406,24.364166259765625,-11.323396682739258,-39.414947509765625,28.630653381347656,-69.85587310791016,-41.03657150268555,0.8190211653709412,-34.11077880859375,16.375062942504883,-13.373281478881836,-62.52822494506836,-0.052561789751052856,30.53407096862793,-51.67963790893555,5.461502552032471,16.08439826965332,-71.40873718261719,17.201263427734375,78.24630737304688,-51.92330551147461,-71.6504898071289,-63.670589447021484,-70.2215805053711,22.068866729736328,-33.63700485229492,-11.80223274230957,-2.442422389984131,-60.40431213378906,-40.76636505126953,28.744911193847656,-70.22625732421875,17.531017303466797,-71.82611083984375,-12.650733947753906,23.082868576049805,0.13344775140285492,15.769278526306152,44.49859619140625,73.94449615478516,-5.349876880645752,-35.59477996826172,-25.9522762298584,48.85953903198242,6.392707347869873,47.14191436767578,-47.642250061035156,-11.539926528930664,-37.194862365722656,21.287240982055664,-19.89305877685547,-7.044268608093262,14.91079044342041,-34.93147277832031,-55.26261520385742,70.52483367919922,44.82004928588867,-10.388782501220703,-16.47193717956543,29.228797912597656,-9.475906372070312,27.05209732055664,13.753249168395996,-16.547718048095703,24.128042221069336,45.285980224609375,75.75680541992188,11.446517944335938,10.068984031677246,-66.97262573242188,19.989587783813477,-14.374682426452637,-20.18030548095703,-11.102313041687012,16.702898025512695,-20.355417251586914,-4.453022003173828,29.321880340576172,73.07003021240234,28.405317306518555,-19.40392303466797,2.817619800567627,-10.46760082244873,-6.628870010375977,13.70042610168457,52.07847213745117,14.996444702148438,-41.22751998901367,-67.5163345336914,12.707387924194336,-5.822953224182129,47.44293975830078,-42.60848617553711,45.47610092163086,-7.364273548126221,-49.12049102783203,11.89572811126709,-16.750255584716797,-40.450050354003906,25.209260940551758,-18.281898498535156,23.337797164916992,13.102855682373047,13.250564575195312,-68.36085510253906,-37.34269714355469,-16.813953399658203,8.442902565002441,-51.28718185424805,-15.7326078414917,-21.0031681060791,-3.2066237926483154,-18.75914192199707,-15.904498100280762,-65.6804428100586,16.634828567504883,18.902156829833984,-55.895267486572266,-19.568571090698242,-22.467548370361328,-0.41633689403533936,-34.1144905090332,-58.69424819946289,5.321036338806152,18.106597900390625,7.359952449798584,23.33262062072754,-19.586933135986328,-9.87140941619873,25.44379425048828,-63.160037994384766,-2.77224063873291,12.99854850769043,32.085609436035156,25.660419464111328,-9.294425964355469,22.409944534301758,10.247617721557617,11.040338516235352,-66.43486022949219,-12.310535430908203,-45.3799934387207,28.8373966217041,-20.811691284179688,-69.45306396484375,-38.37101364135742,4.586707592010498,15.83226203918457,-46.68232727050781,-20.787521362304688,20.06475067138672,-67.36886596679688,-62.838077545166016,24.93155860900879,5.732835292816162,5.24766206741333,45.851539611816406,11.710474014282227,74.54518127441406,-14.084532737731934,51.099185943603516,5.47913122177124,12.913285255432129,-33.4653205871582,39.56174087524414,6.530152320861816,-29.219558715820312,24.786746978759766,-61.97883224487305,-13.529016494750977,19.366300582885742,8.540680885314941,11.196121215820312,-69.02994537353516,-52.219661712646484,11.997871398925781,-23.19929313659668,-13.925312042236328,49.75016403198242,-42.983314514160156,37.76472091674805,28.31696319580078,28.485904693603516,13.355026245117188,50.58208465576172,-22.72132110595703,1.5804170370101929,-58.79715347290039,20.69809341430664,77.18809509277344,72.00780487060547,49.18227005004883,-10.552488327026367,-14.346678733825684,-1.6984989643096924,-65.5711441040039,-3.0664749145507812,-60.15011215209961,13.694365501403809,25.05974578857422,18.513486862182617,-15.701677322387695,18.876977920532227,17.499629974365234,-55.807865142822266,11.494781494140625,21.701435089111328,-23.746191024780273,44.022491455078125,-18.088218688964844,-58.80396270751953,-2.3696095943450928,25.410215377807617,-45.10846710205078,-32.7110710144043,-47.49812316894531,27.46611785888672,22.22186279296875,32.24951171875,17.407747268676758,-65.40397644042969,-35.22093963623047,5.473430156707764,25.07317543029785,22.83765411376953,-11.793106079101562,-0.016263708472251892,49.57510757446289,11.563521385192871,-70.88240051269531,-17.245059967041016,10.141520500183105,19.94291877746582,-46.15365982055664,-16.77589988708496,-13.51032829284668,7.962851524353027,-3.0480406284332275,-61.218318939208984,73.61428833007812,-70.07872772216797,0.868520975112915,-3.272071123123169,21.293224334716797,21.25206756591797,31.31877899169922,-34.47496032714844,49.89573287963867,-63.49304962158203,8.426393508911133,30.030290603637695,44.535194396972656,13.780129432678223,42.88918685913086,-1.7728354930877686,28.380430221557617,-40.731876373291016,15.00329303741455,0.5293409824371338,20.309293746948242,8.070239067077637,-18.04052734375,47.67588424682617,49.86702346801758,-5.197431564331055,-20.785812377929688,-4.241695404052734,77.83512115478516,11.496598243713379,-1.9661887884140015,20.94879722595215,-15.251418113708496,-63.17641830444336,-16.707815170288086,-59.39780044555664,1.3909343481063843,22.68388557434082,3.5439162254333496,33.304176330566406,76.68953704833984,-53.14505386352539,-1.113039493560791,-5.8883161544799805,15.210626602172852,8.387285232543945,18.050580978393555,-26.07853126525879,-31.370176315307617,19.686389923095703,-16.85638427734375,-43.15692901611328,36.85411071777344,12.308919906616211,18.665224075317383,23.00212287902832,39.355628967285156,22.814748764038086,-46.71149444580078,30.025930404663086,69.38760375976562,-58.18838882446289,-2.8291573524475098,26.67706871032715,-26.152009963989258,-12.018835067749023,76.8927993774414,16.06157875061035,-20.004436492919922,-16.10125160217285,71.79178619384766,22.853750228881836,44.77880096435547,-67.09973907470703,-15.697444915771484,-1.21303391456604,-38.837257385253906,-37.39464569091797,-47.39198303222656,78.20696258544922,48.755287170410156,28.550819396972656,10.964879035949707,3.3098554611206055,-6.6760334968566895,-1.6830919981002808,0.2843171954154968,2.0235085487365723,-46.938453674316406,1.6574721336364746,-17.659378051757812,-46.11532211303711,15.506643295288086,-13.267723083496094,15.582412719726562,20.530914306640625,16.510347366333008,-12.007420539855957,20.4882755279541,-12.84951400756836,-15.848238945007324,-11.899392127990723,-14.29951000213623,-55.46504211425781,-47.2332649230957,-26.74064826965332,-10.38632583618164,-13.344381332397461,-18.354450225830078,2.449716806411743,19.075740814208984,14.632193565368652,-0.024365702643990517,23.423267364501953,-42.53382110595703,-57.87664794921875,-1.7145509719848633,-15.694537162780762,30.083078384399414,-44.1246452331543,0.8836966753005981,-52.66630935668945,-19.064525604248047,-22.362709045410156,34.37521743774414,10.351469993591309,-54.789756774902344,45.68568801879883,-15.913527488708496,45.17985534667969,-46.867530822753906,-52.21092987060547,-7.0527143478393555,-43.896663665771484,36.45206069946289,-17.203243255615234,27.9525203704834,-25.09097671508789,9.333560943603516,-24.438976287841797,-4.5929131507873535,22.814807891845703,19.736066818237305,-9.355759620666504,11.8832426071167,-25.799978256225586,-61.94090270996094,-0.022883811965584755,1.104017972946167,5.414295196533203,9.964301109313965,-54.6702766418457,14.740830421447754,23.5026912689209,-51.95332336425781,-46.94193649291992,-16.1884708404541,-10.962459564208984,-9.768255233764648,-5.29681396484375,-17.87981605529785,43.81342697143555,18.86945152282715,-20.001142501831055,-62.3846435546875,-63.656917572021484,28.242334365844727,-16.4481258392334,-7.673299312591553,-71.20338439941406,9.588167190551758,-16.501859664916992,27.242542266845703,44.849403381347656,41.95637512207031,-62.873592376708984,0.7581692337989807,12.03637409210205,-2.5729427337646484,-48.6852912902832,44.85237503051758,-19.94096565246582,-16.51998519897461,49.7301139831543,-37.56781768798828,14.078226089477539,29.5626220703125,9.629918098449707,6.7412028312683105,14.396742820739746,-69.96712493896484,30.139909744262695,41.89582443237305,-6.9078521728515625,18.975046157836914,30.765119552612305,41.940399169921875,-34.3240966796875,-21.124210357666016,-41.29450607299805,-69.23020935058594,30.667646408081055,-42.52614974975586,78.25483703613281,29.20794677734375,-51.8581428527832,-66.60614013671875,-11.498552322387695,-52.95323181152344,21.22110366821289,-51.69026184082031,21.48238182067871,-0.40994977951049805,70.54006958007812,-41.062992095947266,-12.946575164794922,-23.951635360717773,7.194238185882568,39.37654495239258,-63.359962463378906,19.316730499267578,9.371037483215332,10.841156959533691,4.218083381652832,7.8194780349731445,11.4127836227417,27.672224044799805,18.359060287475586,20.342567443847656,-49.225830078125,27.851686477661133,21.022193908691406,30.39385986328125,13.0186767578125,-16.17139434814453,-13.245750427246094,-44.074989318847656,10.991894721984863,22.097023010253906,12.561290740966797,-66.44139862060547,-19.07278060913086,-45.23496627807617,-6.983868598937988,-62.76031494140625,19.050514221191406,50.22664260864258,26.696409225463867,-71.93791961669922,25.587060928344727,-59.269195556640625,10.270661354064941,17.418903350830078,14.904875755310059,18.058183670043945,-10.159728050231934,-26.915363311767578,-16.72306251525879,-1.4269354343414307,3.6765010356903076,9.944215774536133,-71.27401733398438,-13.003080368041992,49.3565788269043,19.78154182434082,76.92391204833984,70.91918182373047,-52.33622360229492,9.620814323425293,12.499213218688965,24.208629608154297,-3.033477544784546,-33.2618293762207,9.071441650390625,-22.917869567871094,7.866424560546875,7.535304546356201,-38.10944747924805,-48.861053466796875,-2.9358601570129395,69.67346954345703,24.50251007080078,28.365318298339844,-11.819555282592773,-17.055309295654297,50.702911376953125,-66.9739761352539,26.307743072509766,-55.44694519042969,17.52284049987793,18.609853744506836,46.1505241394043,-52.49679946899414,51.990169525146484,18.065547943115234,-11.034615516662598,-44.93927764892578,-17.416263580322266,7.300056457519531,24.469465255737305,43.05010223388672,72.78273010253906,34.3574104309082,9.463410377502441,15.33975887298584,12.63104248046875,8.224441528320312,-49.59402847290039,12.074140548706055,20.840784072875977,-40.53736114501953,-22.481462478637695,16.13779067993164,10.999401092529297,-47.443206787109375,-24.695173263549805,-50.650020599365234,-46.36466598510742,31.96150016784668,-70.56653594970703,-63.61835861206055,46.61437225341797,-70.0191650390625,20.92019271850586,-19.78871726989746,18.052640914916992,-60.122901916503906,29.529499053955078,33.28294372558594,-69.41336822509766,48.3425178527832,-15.958826065063477,-59.839752197265625,-15.686128616333008,29.976764678955078,-46.8185920715332,21.690475463867188,15.327229499816895,29.785165786743164,-53.16546630859375,28.131256103515625,-71.17142486572266,5.538708686828613,3.307352304458618,-12.184959411621094,69.97518920898438,15.36900520324707,-36.529056549072266,-44.03215789794922,7.9763946533203125,0.07173343002796173,-19.8222713470459,6.019986629486084,-11.921377182006836,-3.1497139930725098,30.06343650817871,48.835479736328125,-58.68968200683594,-52.9290657043457,-65.56167602539062,14.066544532775879,19.35755157470703,15.067082405090332,-12.065669059753418,-16.0589542388916,7.2756805419921875,-46.437747955322266,-17.5098819732666,47.32861328125,-59.673484802246094,-6.6661601066589355,-2.9378533363342285,-69.50419616699219,24.261688232421875,23.084707260131836,-1.2042049169540405,-69.16934204101562,-40.473716735839844,28.709552764892578,-7.933061599731445,10.237032890319824,-13.280505180358887,25.49140739440918,-11.794045448303223,28.73824119567871,6.011873245239258,13.889215469360352,-47.24655532836914,-19.8126163482666,28.576940536499023,32.095916748046875,-20.366416931152344,-24.726797103881836,-62.270748138427734,29.80432891845703,-0.9993919134140015,-7.478184700012207,-70.79474639892578,-47.62977600097656,-6.005755424499512,25.293479919433594,-21.37717056274414,-53.14668655395508,34.6212043762207,31.668216705322266,-3.880125045776367,21.832035064697266,-5.310817718505859,-21.536062240600586,28.457307815551758,-72.79486083984375,11.953689575195312,-4.130295276641846,10.682395935058594,11.592123031616211,8.346055030822754,-23.97426986694336,20.770832061767578,-21.967803955078125,-63.809410095214844,29.234516143798828,-11.838125228881836,-45.93537139892578,52.24775314331055,-43.549102783203125,-45.77104949951172,-46.14666748046875,1.1456170082092285,-14.70094108581543,-68.75502014160156,6.82462215423584,50.91082763671875,-1.6553412675857544,20.69213104248047,-4.635921001434326,-43.98693084716797,12.604677200317383,-14.608022689819336,-9.482213973999023,27.144580841064453,20.222719192504883,47.720394134521484,-2.8155815601348877,0.8378860354423523,47.705589294433594,45.198307037353516,-24.868589401245117,-47.265235900878906,24.68767738342285,-66.88455963134766,-61.05778884887695,75.40592193603516,19.678590774536133,49.80926513671875,18.742122650146484,-10.514810562133789,14.627290725708008,14.455255508422852,42.57123947143555,39.603179931640625,45.66217041015625,17.62883758544922,-16.631868362426758,10.549840927124023,15.905794143676758,-16.615354537963867,69.76778411865234,46.1880989074707,-2.184020757675171,46.23031997680664,21.682777404785156,-12.795402526855469,-32.8475341796875,8.370308876037598,-66.05146789550781,3.390338897705078,2.9743685722351074,47.07317352294922,70.26405334472656,29.12236785888672,13.674657821655273,-6.69263219833374,22.34706687927246,-63.645729064941406,45.84579086303711,7.733332633972168,-6.137343406677246,5.583542823791504,21.826791763305664,29.511070251464844,19.622875213623047,-60.47745132446289,13.21412181854248,18.3693904876709,-19.463802337646484,-14.176421165466309,32.013771057128906,-15.437685012817383,-17.986661911010742,12.585816383361816,-8.993647575378418,1.6979105472564697,-39.591609954833984,-3.3484115600585938,6.7677764892578125,-59.405147552490234,-21.19186019897461,-19.491636276245117,41.627418518066406,-0.3067172169685364,21.458370208740234,16.27261734008789,48.6279411315918,29.353471755981445,-18.01409339904785,-66.31108856201172,4.125722885131836,-1.9292241334915161,31.660005569458008,15.766677856445312,-9.936680793762207,-4.243033409118652,-34.89735412597656,42.59892272949219,18.996335983276367,-45.47264099121094,-36.310359954833984,22.0355224609375,3.160337448120117,33.55643081665039,19.191783905029297,22.4669132232666,-25.309955596923828,-68.43140411376953,2.9900450706481934,-49.0025520324707,27.575284957885742,-14.863471984863281,-38.639774322509766,44.995479583740234,18.003551483154297,28.185319900512695],\"yaxis\":\"y\",\"type\":\"scattergl\"}],                        {\"template\":{\"data\":{\"histogram2dcontour\":[{\"type\":\"histogram2dcontour\",\"colorbar\":{\"outlinewidth\":0,\"ticks\":\"\"},\"colorscale\":[[0.0,\"#0d0887\"],[0.1111111111111111,\"#46039f\"],[0.2222222222222222,\"#7201a8\"],[0.3333333333333333,\"#9c179e\"],[0.4444444444444444,\"#bd3786\"],[0.5555555555555556,\"#d8576b\"],[0.6666666666666666,\"#ed7953\"],[0.7777777777777778,\"#fb9f3a\"],[0.8888888888888888,\"#fdca26\"],[1.0,\"#f0f921\"]]}],\"choropleth\":[{\"type\":\"choropleth\",\"colorbar\":{\"outlinewidth\":0,\"ticks\":\"\"}}],\"histogram2d\":[{\"type\":\"histogram2d\",\"colorbar\":{\"outlinewidth\":0,\"ticks\":\"\"},\"colorscale\":[[0.0,\"#0d0887\"],[0.1111111111111111,\"#46039f\"],[0.2222222222222222,\"#7201a8\"],[0.3333333333333333,\"#9c179e\"],[0.4444444444444444,\"#bd3786\"],[0.5555555555555556,\"#d8576b\"],[0.6666666666666666,\"#ed7953\"],[0.7777777777777778,\"#fb9f3a\"],[0.8888888888888888,\"#fdca26\"],[1.0,\"#f0f921\"]]}],\"heatmap\":[{\"type\":\"heatmap\",\"colorbar\":{\"outlinewidth\":0,\"ticks\":\"\"},\"colorscale\":[[0.0,\"#0d0887\"],[0.1111111111111111,\"#46039f\"],[0.2222222222222222,\"#7201a8\"],[0.3333333333333333,\"#9c179e\"],[0.4444444444444444,\"#bd3786\"],[0.5555555555555556,\"#d8576b\"],[0.6666666666666666,\"#ed7953\"],[0.7777777777777778,\"#fb9f3a\"],[0.8888888888888888,\"#fdca26\"],[1.0,\"#f0f921\"]]}],\"heatmapgl\":[{\"type\":\"heatmapgl\",\"colorbar\":{\"outlinewidth\":0,\"ticks\":\"\"},\"colorscale\":[[0.0,\"#0d0887\"],[0.1111111111111111,\"#46039f\"],[0.2222222222222222,\"#7201a8\"],[0.3333333333333333,\"#9c179e\"],[0.4444444444444444,\"#bd3786\"],[0.5555555555555556,\"#d8576b\"],[0.6666666666666666,\"#ed7953\"],[0.7777777777777778,\"#fb9f3a\"],[0.8888888888888888,\"#fdca26\"],[1.0,\"#f0f921\"]]}],\"contourcarpet\":[{\"type\":\"contourcarpet\",\"colorbar\":{\"outlinewidth\":0,\"ticks\":\"\"}}],\"contour\":[{\"type\":\"contour\",\"colorbar\":{\"outlinewidth\":0,\"ticks\":\"\"},\"colorscale\":[[0.0,\"#0d0887\"],[0.1111111111111111,\"#46039f\"],[0.2222222222222222,\"#7201a8\"],[0.3333333333333333,\"#9c179e\"],[0.4444444444444444,\"#bd3786\"],[0.5555555555555556,\"#d8576b\"],[0.6666666666666666,\"#ed7953\"],[0.7777777777777778,\"#fb9f3a\"],[0.8888888888888888,\"#fdca26\"],[1.0,\"#f0f921\"]]}],\"surface\":[{\"type\":\"surface\",\"colorbar\":{\"outlinewidth\":0,\"ticks\":\"\"},\"colorscale\":[[0.0,\"#0d0887\"],[0.1111111111111111,\"#46039f\"],[0.2222222222222222,\"#7201a8\"],[0.3333333333333333,\"#9c179e\"],[0.4444444444444444,\"#bd3786\"],[0.5555555555555556,\"#d8576b\"],[0.6666666666666666,\"#ed7953\"],[0.7777777777777778,\"#fb9f3a\"],[0.8888888888888888,\"#fdca26\"],[1.0,\"#f0f921\"]]}],\"mesh3d\":[{\"type\":\"mesh3d\",\"colorbar\":{\"outlinewidth\":0,\"ticks\":\"\"}}],\"scatter\":[{\"fillpattern\":{\"fillmode\":\"overlay\",\"size\":10,\"solidity\":0.2},\"type\":\"scatter\"}],\"parcoords\":[{\"type\":\"parcoords\",\"line\":{\"colorbar\":{\"outlinewidth\":0,\"ticks\":\"\"}}}],\"scatterpolargl\":[{\"type\":\"scatterpolargl\",\"marker\":{\"colorbar\":{\"outlinewidth\":0,\"ticks\":\"\"}}}],\"bar\":[{\"error_x\":{\"color\":\"#2a3f5f\"},\"error_y\":{\"color\":\"#2a3f5f\"},\"marker\":{\"line\":{\"color\":\"#E5ECF6\",\"width\":0.5},\"pattern\":{\"fillmode\":\"overlay\",\"size\":10,\"solidity\":0.2}},\"type\":\"bar\"}],\"scattergeo\":[{\"type\":\"scattergeo\",\"marker\":{\"colorbar\":{\"outlinewidth\":0,\"ticks\":\"\"}}}],\"scatterpolar\":[{\"type\":\"scatterpolar\",\"marker\":{\"colorbar\":{\"outlinewidth\":0,\"ticks\":\"\"}}}],\"histogram\":[{\"marker\":{\"pattern\":{\"fillmode\":\"overlay\",\"size\":10,\"solidity\":0.2}},\"type\":\"histogram\"}],\"scattergl\":[{\"type\":\"scattergl\",\"marker\":{\"colorbar\":{\"outlinewidth\":0,\"ticks\":\"\"}}}],\"scatter3d\":[{\"type\":\"scatter3d\",\"line\":{\"colorbar\":{\"outlinewidth\":0,\"ticks\":\"\"}},\"marker\":{\"colorbar\":{\"outlinewidth\":0,\"ticks\":\"\"}}}],\"scattermapbox\":[{\"type\":\"scattermapbox\",\"marker\":{\"colorbar\":{\"outlinewidth\":0,\"ticks\":\"\"}}}],\"scatterternary\":[{\"type\":\"scatterternary\",\"marker\":{\"colorbar\":{\"outlinewidth\":0,\"ticks\":\"\"}}}],\"scattercarpet\":[{\"type\":\"scattercarpet\",\"marker\":{\"colorbar\":{\"outlinewidth\":0,\"ticks\":\"\"}}}],\"carpet\":[{\"aaxis\":{\"endlinecolor\":\"#2a3f5f\",\"gridcolor\":\"white\",\"linecolor\":\"white\",\"minorgridcolor\":\"white\",\"startlinecolor\":\"#2a3f5f\"},\"baxis\":{\"endlinecolor\":\"#2a3f5f\",\"gridcolor\":\"white\",\"linecolor\":\"white\",\"minorgridcolor\":\"white\",\"startlinecolor\":\"#2a3f5f\"},\"type\":\"carpet\"}],\"table\":[{\"cells\":{\"fill\":{\"color\":\"#EBF0F8\"},\"line\":{\"color\":\"white\"}},\"header\":{\"fill\":{\"color\":\"#C8D4E3\"},\"line\":{\"color\":\"white\"}},\"type\":\"table\"}],\"barpolar\":[{\"marker\":{\"line\":{\"color\":\"#E5ECF6\",\"width\":0.5},\"pattern\":{\"fillmode\":\"overlay\",\"size\":10,\"solidity\":0.2}},\"type\":\"barpolar\"}],\"pie\":[{\"automargin\":true,\"type\":\"pie\"}]},\"layout\":{\"autotypenumbers\":\"strict\",\"colorway\":[\"#636efa\",\"#EF553B\",\"#00cc96\",\"#ab63fa\",\"#FFA15A\",\"#19d3f3\",\"#FF6692\",\"#B6E880\",\"#FF97FF\",\"#FECB52\"],\"font\":{\"color\":\"#2a3f5f\"},\"hovermode\":\"closest\",\"hoverlabel\":{\"align\":\"left\"},\"paper_bgcolor\":\"white\",\"plot_bgcolor\":\"#E5ECF6\",\"polar\":{\"bgcolor\":\"#E5ECF6\",\"angularaxis\":{\"gridcolor\":\"white\",\"linecolor\":\"white\",\"ticks\":\"\"},\"radialaxis\":{\"gridcolor\":\"white\",\"linecolor\":\"white\",\"ticks\":\"\"}},\"ternary\":{\"bgcolor\":\"#E5ECF6\",\"aaxis\":{\"gridcolor\":\"white\",\"linecolor\":\"white\",\"ticks\":\"\"},\"baxis\":{\"gridcolor\":\"white\",\"linecolor\":\"white\",\"ticks\":\"\"},\"caxis\":{\"gridcolor\":\"white\",\"linecolor\":\"white\",\"ticks\":\"\"}},\"coloraxis\":{\"colorbar\":{\"outlinewidth\":0,\"ticks\":\"\"}},\"colorscale\":{\"sequential\":[[0.0,\"#0d0887\"],[0.1111111111111111,\"#46039f\"],[0.2222222222222222,\"#7201a8\"],[0.3333333333333333,\"#9c179e\"],[0.4444444444444444,\"#bd3786\"],[0.5555555555555556,\"#d8576b\"],[0.6666666666666666,\"#ed7953\"],[0.7777777777777778,\"#fb9f3a\"],[0.8888888888888888,\"#fdca26\"],[1.0,\"#f0f921\"]],\"sequentialminus\":[[0.0,\"#0d0887\"],[0.1111111111111111,\"#46039f\"],[0.2222222222222222,\"#7201a8\"],[0.3333333333333333,\"#9c179e\"],[0.4444444444444444,\"#bd3786\"],[0.5555555555555556,\"#d8576b\"],[0.6666666666666666,\"#ed7953\"],[0.7777777777777778,\"#fb9f3a\"],[0.8888888888888888,\"#fdca26\"],[1.0,\"#f0f921\"]],\"diverging\":[[0,\"#8e0152\"],[0.1,\"#c51b7d\"],[0.2,\"#de77ae\"],[0.3,\"#f1b6da\"],[0.4,\"#fde0ef\"],[0.5,\"#f7f7f7\"],[0.6,\"#e6f5d0\"],[0.7,\"#b8e186\"],[0.8,\"#7fbc41\"],[0.9,\"#4d9221\"],[1,\"#276419\"]]},\"xaxis\":{\"gridcolor\":\"white\",\"linecolor\":\"white\",\"ticks\":\"\",\"title\":{\"standoff\":15},\"zerolinecolor\":\"white\",\"automargin\":true,\"zerolinewidth\":2},\"yaxis\":{\"gridcolor\":\"white\",\"linecolor\":\"white\",\"ticks\":\"\",\"title\":{\"standoff\":15},\"zerolinecolor\":\"white\",\"automargin\":true,\"zerolinewidth\":2},\"scene\":{\"xaxis\":{\"backgroundcolor\":\"#E5ECF6\",\"gridcolor\":\"white\",\"linecolor\":\"white\",\"showbackground\":true,\"ticks\":\"\",\"zerolinecolor\":\"white\",\"gridwidth\":2},\"yaxis\":{\"backgroundcolor\":\"#E5ECF6\",\"gridcolor\":\"white\",\"linecolor\":\"white\",\"showbackground\":true,\"ticks\":\"\",\"zerolinecolor\":\"white\",\"gridwidth\":2},\"zaxis\":{\"backgroundcolor\":\"#E5ECF6\",\"gridcolor\":\"white\",\"linecolor\":\"white\",\"showbackground\":true,\"ticks\":\"\",\"zerolinecolor\":\"white\",\"gridwidth\":2}},\"shapedefaults\":{\"line\":{\"color\":\"#2a3f5f\"}},\"annotationdefaults\":{\"arrowcolor\":\"#2a3f5f\",\"arrowhead\":0,\"arrowwidth\":1},\"geo\":{\"bgcolor\":\"white\",\"landcolor\":\"#E5ECF6\",\"subunitcolor\":\"white\",\"showland\":true,\"showlakes\":true,\"lakecolor\":\"white\"},\"title\":{\"x\":0.05},\"mapbox\":{\"style\":\"light\"}}},\"xaxis\":{\"anchor\":\"y\",\"domain\":[0.0,1.0],\"title\":{\"text\":\"x_tsne\"}},\"yaxis\":{\"anchor\":\"x\",\"domain\":[0.0,1.0],\"title\":{\"text\":\"y_tsne\"}},\"legend\":{\"tracegroupgap\":0},\"margin\":{\"t\":60}},                        {\"responsive\": true}                    ).then(function(){\n",
              "                            \n",
              "var gd = document.getElementById('889e0975-221d-4886-adbb-26dd790085f6');\n",
              "var x = new MutationObserver(function (mutations, observer) {{\n",
              "        var display = window.getComputedStyle(gd).display;\n",
              "        if (!display || display === 'none') {{\n",
              "            console.log([gd, 'removed!']);\n",
              "            Plotly.purge(gd);\n",
              "            observer.disconnect();\n",
              "        }}\n",
              "}});\n",
              "\n",
              "// Listen for the removal of the full notebook cells\n",
              "var notebookContainer = gd.closest('#notebook-container');\n",
              "if (notebookContainer) {{\n",
              "    x.observe(notebookContainer, {childList: true});\n",
              "}}\n",
              "\n",
              "// Listen for the clearing of the current output cell\n",
              "var outputEl = gd.closest('.output');\n",
              "if (outputEl) {{\n",
              "    x.observe(outputEl, {childList: true});\n",
              "}}\n",
              "\n",
              "                        })                };                            </script>        </div>\n",
              "</body>\n",
              "</html>"
            ]
          },
          "metadata": {}
        }
      ]
    },
    {
      "cell_type": "markdown",
      "source": [
        "### 1.3.3 Clustering"
      ],
      "metadata": {
        "tags": [],
        "cell_id": "75015b8bec9f4985ae3535276edb9cf6",
        "deepnote_cell_height": 61.866668701171875,
        "deepnote_cell_type": "markdown",
        "id": "5FIt0yfNbo4N"
      }
    },
    {
      "cell_type": "markdown",
      "source": [
        "#### 1.3.3.1 Método del Codo [1 puntos]"
      ],
      "metadata": {
        "tags": [],
        "cell_id": "01eb144ba7b844c98b0f68dc07f1ba38",
        "deepnote_cell_height": 53.866668701171875,
        "deepnote_cell_type": "markdown",
        "id": "RFPFAZHybo4N"
      }
    },
    {
      "cell_type": "markdown",
      "source": [
        "Utilizando la clase creada para escalamiento, aplique el método del codo para visualizar cual es el número de clusters que mejor se ajustan a los datos. Realice esto utilizando el algoritmo K-means dentro de un pipeline para un $k \\in [1,20]$, donde k representa el número de clusters del k-means. Para la realización de esta sección y la próxima (1.3.3.2), considere los mismos pasos utilizados para el t-sne, pero **permutando el algoritmo de reducción de dimensionalidad por k-means.**\n",
        "\n",
        "A través del grafico obtenido, comente y justifique que valor de k escogería para realizar el k-means."
      ],
      "metadata": {
        "tags": [],
        "cell_id": "de1f59f512af42618d3a5b084f84b460",
        "deepnote_cell_height": 223.06666564941406,
        "deepnote_cell_type": "markdown",
        "id": "_FfNBlG2bo4N"
      }
    },
    {
      "cell_type": "markdown",
      "source": [
        "**Respuesta:**"
      ],
      "metadata": {
        "tags": [],
        "cell_id": "a268dbe1c26b4dccbaa8c976005c9141",
        "deepnote_cell_height": 52.26666259765625,
        "deepnote_cell_type": "markdown",
        "id": "fMWqSdzEbo4N"
      }
    },
    {
      "cell_type": "code",
      "source": [],
      "metadata": {
        "tags": [],
        "cell_id": "36239002cba54f98a3778e66878b1041",
        "deepnote_cell_height": 65.86666870117188,
        "deepnote_cell_type": "code",
        "id": "EFKEutLwbo4N"
      },
      "outputs": [],
      "execution_count": null
    },
    {
      "cell_type": "markdown",
      "source": [
        "#### 1.3.3.2 Segmentación de Clientes con K-Means 🎁 [1 punto]"
      ],
      "metadata": {
        "tags": [],
        "cell_id": "3bb5d86bc1e54cf18a851e71c2c3a3c1",
        "deepnote_cell_height": 53.866668701171875,
        "deepnote_cell_type": "markdown",
        "id": "tOmkdvHjbo4O"
      }
    },
    {
      "cell_type": "markdown",
      "source": [
        "En base a la elección de k realizada en la sección anterior, utilice este valor escogido y entrene un modelo de K-means utilizando el mismo pipeline de scikit-learn utilizado anteriormente.\n",
        "\n",
        "Una vez ajustado los datos, genere una tabla con los promedios (o medianas) para cada uno de los atributos, agrupando estos por el clúster que pertenecen. ¿Es posible observar agrupaciones coherentes?, ¿Qué tipo de clientes posee el retail?, Justifique su respuesta y no decepcione a Mr. Lepin.\n"
      ],
      "metadata": {
        "tags": [],
        "cell_id": "f8c3b4d105754ccb8a1ce6dfd606a40e",
        "deepnote_cell_height": 200.6666717529297,
        "deepnote_cell_type": "markdown",
        "id": "3dx6CvA6bo4O"
      }
    },
    {
      "cell_type": "markdown",
      "source": [
        "**Respuesta:**"
      ],
      "metadata": {
        "tags": [],
        "cell_id": "dbce893901024a828d2b875798e27674",
        "deepnote_cell_height": 52.26666259765625,
        "deepnote_cell_type": "markdown",
        "id": "YBFLTu5tbo4O"
      }
    },
    {
      "cell_type": "code",
      "source": [],
      "metadata": {
        "tags": [],
        "cell_id": "375d5f6e310c442d82a9c940805fc6d2",
        "deepnote_cell_height": 65.86666870117188,
        "deepnote_cell_type": "code",
        "id": "z1dUoYs_bo4V"
      },
      "outputs": [],
      "execution_count": null
    },
    {
      "cell_type": "markdown",
      "source": [
        "**Respuesta Esperada:**\n",
        "\n",
        "|         | Length  | Recency   | Frequency | Monetary | Periodicity |       |\n",
        "|---------|---------|-----------|----------|-------------|-------|-------|\n",
        "| Cluster |         |           |          |             |       |       |\n",
        "|    0    |   258.8 |      45.2 |     76.1 |      1107.7 | 107.6 |   449 |\n",
        "|    1    |    76.1 |     217.6 |     45.5 |       791.7 |  14.1 |   466 |\n",
        "|    2    |   368.5 |       4.8 |   2715.0 |    226621.6 |   4.2 |     4 |\n",
        "|    3    |    85.3 |      45.7 |     65.8 |      1047.0 |  10.5 |   987 |\n",
        "|    4    |   347.2 |      15.9 |   1658.0 |     35829.3 |   8.0 |    25 |\n",
        "|    5    |   298.0 |      29.8 |    183.8 |      3639.9 |  32.0 |  1188 |"
      ],
      "metadata": {
        "tags": [],
        "cell_id": "18e50ee0240543d692bcde6d9c29fe73",
        "deepnote_cell_height": 261.4666748046875,
        "deepnote_cell_type": "markdown",
        "id": "1RyR_4UTbo4V"
      }
    },
    {
      "cell_type": "markdown",
      "source": [
        "#### 1.3.3.3 Plot de K-Means 📈 [0.5 puntos]\n",
        "\n"
      ],
      "metadata": {
        "tags": [],
        "cell_id": "f79d1fa6b1a64b6f97bffc62b037a663",
        "deepnote_cell_height": 53.866668701171875,
        "deepnote_cell_type": "markdown",
        "id": "f6FsFlCibo4V"
      }
    },
    {
      "cell_type": "markdown",
      "source": [
        "Por último, Mr. Lepin, impaciente de no entender lo que usted intenta explicarle, le solicita que por favor muestre algún resultado \"visual\" de los grupos encontrados.\n",
        "\n",
        "Para esto, grafique nuevamente las características encontradas usando `T-SNE` (no calcule de nuevo, simplemente utilice las proyecciones encontradas) y agregue las labels calculadas con kmeans como el argumento `color`.   \n",
        "\n",
        "Comente: ¿Se separan bien los distintos clusters en la visualización?\n"
      ],
      "metadata": {
        "tags": [],
        "cell_id": "2d0348435e814f16b8957dfbc6384a88",
        "owner_user_id": "d50c3174-babb-4861-9c71-7e3af66458b8",
        "deepnote_cell_height": 192.26666259765625,
        "deepnote_cell_type": "markdown",
        "id": "5WcR3vJjbo4V"
      }
    },
    {
      "cell_type": "markdown",
      "source": [
        "**Respuesta:**"
      ],
      "metadata": {
        "tags": [],
        "cell_id": "e805388b96c04ea8a06a262229c2f799",
        "deepnote_cell_height": 52.26666259765625,
        "deepnote_cell_type": "markdown",
        "id": "oCdU8l5Dbo4V"
      }
    },
    {
      "cell_type": "code",
      "source": [],
      "metadata": {
        "tags": [],
        "cell_id": "9e2d26de81ed4a729e25c6c5361310e1",
        "deepnote_cell_height": 65.86666870117188,
        "deepnote_cell_type": "code",
        "id": "0U6v6n-Cbo4V"
      },
      "outputs": [],
      "execution_count": null
    },
    {
      "cell_type": "markdown",
      "source": [
        "# Conclusión\n",
        "Eso ha sido todo para el lab de hoy, recuerden que el laboratorio tiene un plazo de entrega de una semana. Cualquier duda del laboratorio, no duden en contactarnos por correo, Discord o U-cursos.\n",
        "\n",
        "![Gracias Totales!](https://i.pinimg.com/originals/65/ae/27/65ae270df87c3c4adcea997e48f60852.gif \"bruno\")\n"
      ],
      "metadata": {
        "id": "Rg4ZMq8ezAH6",
        "cell_id": "94721075d5ff44bd83601c871797ae2a",
        "deepnote_cell_height": 514.4666748046875,
        "deepnote_cell_type": "markdown"
      }
    },
    {
      "cell_type": "markdown",
      "source": [
        "<br>\n",
        "<center>\n",
        "<img src=\"https://i.kym-cdn.com/photos/images/original/001/194/195/b18.png\" width=100 height=50 />\n",
        "</center>\n",
        "<br>"
      ],
      "metadata": {
        "id": "wCL1lACBzAH7",
        "cell_id": "7e31a91f8cb744cabd0ed0287ac5257e",
        "deepnote_cell_height": 171.28334045410156,
        "deepnote_cell_type": "markdown"
      }
    },
    {
      "cell_type": "markdown",
      "source": [
        "<a style='text-decoration:none;line-height:16px;display:flex;color:#5B5B62;padding:10px;justify-content:end;' href='https://deepnote.com?utm_source=created-in-deepnote-cell&projectId=87110296-876e-426f-b91d-aaf681223468' target=\"_blank\">\n",
        "<img alt='Created in deepnote.com' style='display:inline;max-height:16px;margin:0px;margin-right:7.5px;' src='data:image/svg+xml;base64,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' > </img>\n",
        "Created in <span style='font-weight:600;margin-left:4px;'>Deepnote</span></a>"
      ],
      "metadata": {
        "created_in_deepnote_cell": true,
        "deepnote_cell_type": "markdown",
        "id": "MP2B1jvgbo4V"
      }
    }
  ],
  "nbformat": 4,
  "nbformat_minor": 0,
  "metadata": {
    "toc": {
      "sideBar": true,
      "nav_menu": {},
      "toc_cell": false,
      "title_cell": "Tabla de Contenidos",
      "toc_position": {
        "top": "150px",
        "left": "10px",
        "width": "241.867px",
        "height": "calc(100% - 180px)"
      },
      "skip_h1_title": true,
      "title_sidebar": "Contenidos",
      "base_numbering": 1,
      "number_sections": true,
      "toc_window_display": true,
      "toc_section_display": true
    },
    "colab": {
      "provenance": [],
      "collapsed_sections": [
        "Rcjs-dd1V-1u",
        "dkyp81nkBghF",
        "THmFfYs1AhAW"
      ],
      "include_colab_link": true
    },
    "deepnote": {},
    "kernelspec": {
      "name": "python3",
      "language": "python",
      "display_name": "Python 3"
    },
    "varInspector": {
      "cols": {
        "lenVar": 40,
        "lenName": 16,
        "lenType": 16
      },
      "kernels_config": {
        "r": {
          "library": "var_list.r",
          "varRefreshCmd": "cat(var_dic_list()) ",
          "delete_cmd_prefix": "rm(",
          "delete_cmd_postfix": ") "
        },
        "python": {
          "library": "var_list.py",
          "varRefreshCmd": "print(var_dic_list())",
          "delete_cmd_prefix": "del ",
          "delete_cmd_postfix": ""
        }
      },
      "window_display": false,
      "types_to_exclude": [
        "module",
        "function",
        "builtin_function_or_method",
        "instance",
        "_Feature"
      ]
    },
    "language_info": {
      "name": "python",
      "version": "3.8.3",
      "mimetype": "text/x-python",
      "file_extension": ".py",
      "pygments_lexer": "ipython3",
      "codemirror_mode": {
        "name": "ipython",
        "version": 3
      },
      "nbconvert_exporter": "python"
    },
    "deepnote_notebook_id": "33c253a4f84d40a091bd5023e95abb64",
    "deepnote_execution_queue": []
  }
}